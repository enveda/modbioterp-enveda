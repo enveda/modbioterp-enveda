{
  "cells": [
    {
      "cell_type": "markdown",
      "metadata": {
        "id": "1CWE57Ehi26Q"
      },
      "source": [
        "# Setup"
      ]
    },
    {
      "cell_type": "code",
      "execution_count": 1,
      "metadata": {
        "colab": {
          "base_uri": "https://localhost:8080/"
        },
        "collapsed": true,
        "id": "7uNeZOG-i301",
        "outputId": "3fbb05df-e143-43a3-a7d5-467d21a5dbed"
      },
      "outputs": [
        {
          "name": "stdout",
          "output_type": "stream",
          "text": [
            "Requirement already satisfied: biopandas in /home/antonio.gomes/modbioterp-enveda/.venv/lib/python3.10/site-packages (0.5.1)\n",
            "Requirement already satisfied: numpy>=1.16.2 in /home/antonio.gomes/modbioterp-enveda/.venv/lib/python3.10/site-packages (from biopandas) (1.26.4)\n",
            "Requirement already satisfied: pandas>=0.24.2 in /home/antonio.gomes/modbioterp-enveda/.venv/lib/python3.10/site-packages (from biopandas) (2.2.3)\n",
            "Requirement already satisfied: mmtf-python==1.1.3 in /home/antonio.gomes/modbioterp-enveda/.venv/lib/python3.10/site-packages (from biopandas) (1.1.3)\n",
            "Requirement already satisfied: looseversion==1.1.2 in /home/antonio.gomes/modbioterp-enveda/.venv/lib/python3.10/site-packages (from biopandas) (1.1.2)\n",
            "Requirement already satisfied: setuptools in /home/antonio.gomes/modbioterp-enveda/.venv/lib/python3.10/site-packages (from biopandas) (75.8.0)\n",
            "Requirement already satisfied: msgpack>=1.0.0 in /home/antonio.gomes/modbioterp-enveda/.venv/lib/python3.10/site-packages (from mmtf-python==1.1.3->biopandas) (1.1.0)\n",
            "Requirement already satisfied: python-dateutil>=2.8.2 in /home/antonio.gomes/modbioterp-enveda/.venv/lib/python3.10/site-packages (from pandas>=0.24.2->biopandas) (2.9.0.post0)\n",
            "Requirement already satisfied: pytz>=2020.1 in /home/antonio.gomes/modbioterp-enveda/.venv/lib/python3.10/site-packages (from pandas>=0.24.2->biopandas) (2025.1)\n",
            "Requirement already satisfied: tzdata>=2022.7 in /home/antonio.gomes/modbioterp-enveda/.venv/lib/python3.10/site-packages (from pandas>=0.24.2->biopandas) (2025.1)\n",
            "Requirement already satisfied: six>=1.5 in /home/antonio.gomes/modbioterp-enveda/.venv/lib/python3.10/site-packages (from python-dateutil>=2.8.2->pandas>=0.24.2->biopandas) (1.17.0)\n"
          ]
        }
      ],
      "source": [
        "# installation of required libraries\n",
        "!pip install biopandas"
      ]
    },
    {
      "cell_type": "code",
      "execution_count": 2,
      "metadata": {
        "id": "E6mQ3tFZue4V"
      },
      "outputs": [],
      "source": [
        "!rm -rf /content/*"
      ]
    },
    {
      "cell_type": "code",
      "execution_count": 3,
      "metadata": {
        "id": "W4hz-LYKifJV"
      },
      "outputs": [],
      "source": [
        "from biopandas.pdb import PandasPdb\n",
        "import pandas as pd"
      ]
    },
    {
      "cell_type": "markdown",
      "metadata": {
        "id": "cFytzjsaabxm"
      },
      "source": [
        "Note: Why is `biopandas` useful for protein analysis?\n",
        "\n",
        "If you work with PDB files and want to analyze protein structures efficiently in Python, biopandas makes it easier by converting structural data into Pandas DataFrames.\n",
        "Key Benefits for a Computational Protein Workshop\n",
        "\n",
        "- **Easy Data Handling**: Instead of looping through PDB files manually, you can use biopandas to extract atomic coordinates, residue information, and chain details into a structured DataFrame.\n",
        "- **Fast Filtering**: Need only backbone atoms, a specific chain, or only hydrophobic residues? Use simple pandas filtering instead of complex parsing.\n",
        "- **Compatible with ML & Visualization**: Since biopandas works with DataFrames, it’s easier to integrate protein structural data into machine learning pipelines or use matplotlib for visualization.\n",
        "- **No Complex Parsing**: Unlike `Bio.PDB` (which requires object-oriented access), biopandas lets you query PDB data like a spreadsheet, making it more beginner-friendly.\n"
      ]
    },
    {
      "cell_type": "code",
      "execution_count": 4,
      "metadata": {
        "colab": {
          "base_uri": "https://localhost:8080/"
        },
        "id": "1RlRcUb8ifJY",
        "outputId": "308e8fba-c404-422d-a470-f83520063444"
      },
      "outputs": [
        {
          "name": "stdout",
          "output_type": "stream",
          "text": [
            "/content/cotb2_pp_mg.pdb: No such file or directory\n"
          ]
        }
      ],
      "source": [
        "PDB_FILE_LOCATION = 'https://github.com/enveda/modbioterp-enveda/raw/refs/heads/main/workshop_data/cotb2_pp_mg.pdb'\n",
        "!wget $PDB_FILE_LOCATION -O /content/cotb2_pp_mg.pdb"
      ]
    },
    {
      "cell_type": "code",
      "execution_count": 5,
      "metadata": {
        "colab": {
          "base_uri": "https://localhost:8080/"
        },
        "id": "WSLXUORPifJa",
        "outputId": "4afcf0d9-69b4-429b-8c1b-82518a065bc5"
      },
      "outputs": [
        {
          "name": "stdout",
          "output_type": "stream",
          "text": [
            "ls: cannot access '/content': No such file or directory\n"
          ]
        }
      ],
      "source": [
        "!ls /content"
      ]
    },
    {
      "cell_type": "code",
      "execution_count": 6,
      "metadata": {
        "id": "p-AtABntvaJV"
      },
      "outputs": [
        {
          "ename": "FileNotFoundError",
          "evalue": "[Errno 2] No such file or directory: '/content/cotb2_pp_mg.pdb'",
          "output_type": "error",
          "traceback": [
            "\u001b[0;31m---------------------------------------------------------------------------\u001b[0m",
            "\u001b[0;31mFileNotFoundError\u001b[0m                         Traceback (most recent call last)",
            "Cell \u001b[0;32mIn[6], line 1\u001b[0m\n\u001b[0;32m----> 1\u001b[0m pdb_file \u001b[38;5;241m=\u001b[39m \u001b[43mPandasPdb\u001b[49m\u001b[43m(\u001b[49m\u001b[43m)\u001b[49m\u001b[38;5;241;43m.\u001b[39;49m\u001b[43mread_pdb\u001b[49m\u001b[43m(\u001b[49m\u001b[38;5;124;43m'\u001b[39;49m\u001b[38;5;124;43m/content/cotb2_pp_mg.pdb\u001b[39;49m\u001b[38;5;124;43m'\u001b[39;49m\u001b[43m)\u001b[49m\n",
            "File \u001b[0;32m~/modbioterp-enveda/.venv/lib/python3.10/site-packages/biopandas/pdb/pandas_pdb.py:96\u001b[0m, in \u001b[0;36mPandasPdb.read_pdb\u001b[0;34m(self, path)\u001b[0m\n\u001b[1;32m     83\u001b[0m \u001b[38;5;28;01mdef\u001b[39;00m\u001b[38;5;250m \u001b[39m\u001b[38;5;21mread_pdb\u001b[39m(\u001b[38;5;28mself\u001b[39m, path):\n\u001b[1;32m     84\u001b[0m \u001b[38;5;250m    \u001b[39m\u001b[38;5;124;03m\"\"\"Read PDB files (unzipped or gzipped) from local drive\u001b[39;00m\n\u001b[1;32m     85\u001b[0m \n\u001b[1;32m     86\u001b[0m \u001b[38;5;124;03m    Attributes\u001b[39;00m\n\u001b[0;32m   (...)\u001b[0m\n\u001b[1;32m     94\u001b[0m \n\u001b[1;32m     95\u001b[0m \u001b[38;5;124;03m    \"\"\"\u001b[39;00m\n\u001b[0;32m---> 96\u001b[0m     \u001b[38;5;28mself\u001b[39m\u001b[38;5;241m.\u001b[39mpdb_path, \u001b[38;5;28mself\u001b[39m\u001b[38;5;241m.\u001b[39mpdb_text \u001b[38;5;241m=\u001b[39m \u001b[38;5;28;43mself\u001b[39;49m\u001b[38;5;241;43m.\u001b[39;49m\u001b[43m_read_pdb\u001b[49m\u001b[43m(\u001b[49m\u001b[43mpath\u001b[49m\u001b[38;5;241;43m=\u001b[39;49m\u001b[38;5;28;43mstr\u001b[39;49m\u001b[43m(\u001b[49m\u001b[43mpath\u001b[49m\u001b[43m)\u001b[49m\u001b[43m)\u001b[49m\n\u001b[1;32m     97\u001b[0m     \u001b[38;5;28mself\u001b[39m\u001b[38;5;241m.\u001b[39m_df \u001b[38;5;241m=\u001b[39m \u001b[38;5;28mself\u001b[39m\u001b[38;5;241m.\u001b[39m_construct_df(pdb_lines\u001b[38;5;241m=\u001b[39m\u001b[38;5;28mself\u001b[39m\u001b[38;5;241m.\u001b[39mpdb_text\u001b[38;5;241m.\u001b[39msplitlines(\u001b[38;5;28;01mTrue\u001b[39;00m))\n\u001b[1;32m     98\u001b[0m     \u001b[38;5;28mself\u001b[39m\u001b[38;5;241m.\u001b[39mheader, \u001b[38;5;28mself\u001b[39m\u001b[38;5;241m.\u001b[39mcode \u001b[38;5;241m=\u001b[39m \u001b[38;5;28mself\u001b[39m\u001b[38;5;241m.\u001b[39m_parse_header_code()\n",
            "File \u001b[0;32m~/modbioterp-enveda/.venv/lib/python3.10/site-packages/biopandas/pdb/pandas_pdb.py:426\u001b[0m, in \u001b[0;36mPandasPdb._read_pdb\u001b[0;34m(path)\u001b[0m\n\u001b[1;32m    421\u001b[0m     allowed_formats \u001b[38;5;241m=\u001b[39m \u001b[38;5;124m\"\u001b[39m\u001b[38;5;124m, \u001b[39m\u001b[38;5;124m\"\u001b[39m\u001b[38;5;241m.\u001b[39mjoin((\u001b[38;5;124m\"\u001b[39m\u001b[38;5;124m.pdb\u001b[39m\u001b[38;5;124m\"\u001b[39m, \u001b[38;5;124m\"\u001b[39m\u001b[38;5;124m.pdb.gz\u001b[39m\u001b[38;5;124m\"\u001b[39m, \u001b[38;5;124m\"\u001b[39m\u001b[38;5;124m.ent\u001b[39m\u001b[38;5;124m\"\u001b[39m, \u001b[38;5;124m\"\u001b[39m\u001b[38;5;124m.ent.gz\u001b[39m\u001b[38;5;124m\"\u001b[39m))\n\u001b[1;32m    422\u001b[0m     \u001b[38;5;28;01mraise\u001b[39;00m \u001b[38;5;167;01mValueError\u001b[39;00m(\n\u001b[1;32m    423\u001b[0m         \u001b[38;5;124mf\u001b[39m\u001b[38;5;124m\"\u001b[39m\u001b[38;5;124mWrong file format; allowed file formats are \u001b[39m\u001b[38;5;132;01m{\u001b[39;00mallowed_formats\u001b[38;5;132;01m}\u001b[39;00m\u001b[38;5;124m\"\u001b[39m\n\u001b[1;32m    424\u001b[0m     )\n\u001b[0;32m--> 426\u001b[0m \u001b[38;5;28;01mwith\u001b[39;00m \u001b[43mopenf\u001b[49m\u001b[43m(\u001b[49m\u001b[43mpath\u001b[49m\u001b[43m,\u001b[49m\u001b[43m \u001b[49m\u001b[43mr_mode\u001b[49m\u001b[43m)\u001b[49m \u001b[38;5;28;01mas\u001b[39;00m f:\n\u001b[1;32m    427\u001b[0m     txt \u001b[38;5;241m=\u001b[39m f\u001b[38;5;241m.\u001b[39mread()\n\u001b[1;32m    429\u001b[0m \u001b[38;5;28;01mif\u001b[39;00m path\u001b[38;5;241m.\u001b[39mendswith(\u001b[38;5;124m\"\u001b[39m\u001b[38;5;124m.gz\u001b[39m\u001b[38;5;124m\"\u001b[39m):\n",
            "\u001b[0;31mFileNotFoundError\u001b[0m: [Errno 2] No such file or directory: '/content/cotb2_pp_mg.pdb'"
          ]
        }
      ],
      "source": [
        "pdb_file = PandasPdb().read_pdb('/content/cotb2_pp_mg.pdb')"
      ]
    },
    {
      "cell_type": "code",
      "execution_count": null,
      "metadata": {
        "colab": {
          "base_uri": "https://localhost:8080/",
          "height": 255
        },
        "id": "r98ipYTjifJZ",
        "outputId": "e50b75c4-23c3-4d10-af5b-d0c4243c203c"
      },
      "outputs": [],
      "source": [
        "display(\n",
        "    pdb_file.df[\"ATOM\"].head(3),\n",
        "    pdb_file.df[\"HETATM\"].head(3)\n",
        ")"
      ]
    },
    {
      "cell_type": "markdown",
      "metadata": {
        "id": "aGu-rU6xifJc"
      },
      "source": [
        "## Extract the sequence from the protein file and write it into a fasta file"
      ]
    }
  ],
  "metadata": {
    "colab": {
      "provenance": []
    },
    "kernelspec": {
      "display_name": ".venv",
      "language": "python",
      "name": "python3"
    },
    "language_info": {
      "codemirror_mode": {
        "name": "ipython",
        "version": 3
      },
      "file_extension": ".py",
      "mimetype": "text/x-python",
      "name": "python",
      "nbconvert_exporter": "python",
      "pygments_lexer": "ipython3",
      "version": "3.10.16"
    }
  },
  "nbformat": 4,
  "nbformat_minor": 0
}
