{
  "cells": [
    {
      "cell_type": "markdown",
      "metadata": {
        "id": "1CWE57Ehi26Q"
      },
      "source": [
        "# Setup"
      ]
    },
    {
      "cell_type": "code",
      "execution_count": null,
      "metadata": {
        "colab": {
          "base_uri": "https://localhost:8080/"
        },
        "collapsed": true,
        "id": "7uNeZOG-i301",
        "outputId": "3fbb05df-e143-43a3-a7d5-467d21a5dbed"
      },
      "outputs": [],
      "source": [
        "# installation of required libraries\n",
        "!pip install biopandas ifeatureomegacli biopython"
      ]
    },
    {
      "cell_type": "code",
      "execution_count": null,
      "metadata": {
        "id": "E6mQ3tFZue4V"
      },
      "outputs": [],
      "source": [
        "!rm -rf /content/*"
      ]
    },
    {
      "cell_type": "markdown",
      "metadata": {
        "id": "3KXXn9HxifJS"
      },
      "source": [
        "# Data exploration"
      ]
    },
    {
      "cell_type": "markdown",
      "metadata": {
        "id": "4Uu_w8K6ifJV"
      },
      "source": [
        "# Load the protein data"
      ]
    },
    {
      "cell_type": "code",
      "execution_count": null,
      "metadata": {
        "id": "W4hz-LYKifJV"
      },
      "outputs": [],
      "source": [
        "from biopandas.pdb import PandasPdb\n",
        "import pandas as pd"
      ]
    },
    {
      "cell_type": "markdown",
      "metadata": {
        "id": "cFytzjsaabxm"
      },
      "source": [
        "Note: Why is `biopandas` useful for protein analysis?\n",
        "\n",
        "If you work with PDB files and want to analyze protein structures efficiently in Python, biopandas makes it easier by converting structural data into Pandas DataFrames.\n",
        "Key Benefits for a Computational Protein Workshop\n",
        "\n",
        "- **Easy Data Handling**: Instead of looping through PDB files manually, you can use biopandas to extract atomic coordinates, residue information, and chain details into a structured DataFrame.\n",
        "- **Fast Filtering**: Need only backbone atoms, a specific chain, or only hydrophobic residues? Use simple pandas filtering instead of complex parsing.\n",
        "- **Compatible with ML & Visualization**: Since biopandas works with DataFrames, it’s easier to integrate protein structural data into machine learning pipelines or use matplotlib for visualization.\n",
        "- **No Complex Parsing**: Unlike `Bio.PDB` (which requires object-oriented access), biopandas lets you query PDB data like a spreadsheet, making it more beginner-friendly.\n"
      ]
    },
    {
      "cell_type": "code",
      "execution_count": null,
      "metadata": {
        "colab": {
          "base_uri": "https://localhost:8080/"
        },
        "id": "1RlRcUb8ifJY",
        "outputId": "308e8fba-c404-422d-a470-f83520063444"
      },
      "outputs": [],
      "source": [
        "PDB_FILE_LOCATION = 'https://github.com/enveda/modbioterp-enveda/raw/refs/heads/main/workshop_data/cotb2_pp_mg.pdb'\n",
        "!wget $PDB_FILE_LOCATION -O /content/cotb2_pp_mg.pdb"
      ]
    },
    {
      "cell_type": "code",
      "execution_count": null,
      "metadata": {
        "colab": {
          "base_uri": "https://localhost:8080/"
        },
        "id": "WSLXUORPifJa",
        "outputId": "4afcf0d9-69b4-429b-8c1b-82518a065bc5"
      },
      "outputs": [],
      "source": [
        "!ls /content"
      ]
    },
    {
      "cell_type": "code",
      "execution_count": null,
      "metadata": {
        "id": "p-AtABntvaJV"
      },
      "outputs": [],
      "source": [
        "pdb_file = PandasPdb().read_pdb('/content/cotb2_pp_mg.pdb')"
      ]
    },
    {
      "cell_type": "code",
      "execution_count": null,
      "metadata": {
        "colab": {
          "base_uri": "https://localhost:8080/",
          "height": 255
        },
        "id": "r98ipYTjifJZ",
        "outputId": "e50b75c4-23c3-4d10-af5b-d0c4243c203c"
      },
      "outputs": [],
      "source": [
        "display(\n",
        "    pdb_file.df[\"ATOM\"].head(3),\n",
        "    pdb_file.df[\"HETATM\"].head(3)\n",
        ")"
      ]
    },
    {
      "cell_type": "code",
      "execution_count": null,
      "metadata": {
        "colab": {
          "base_uri": "https://localhost:8080/",
          "height": 644
        },
        "id": "sf-kcnGbzBYZ",
        "outputId": "f97c56c5-537a-442c-df60-e470825cc1ec"
      },
      "outputs": [],
      "source": [
        "%matplotlib inline\n",
        "from matplotlib import pyplot as plt\n",
        "\n",
        "pdb_file.df[\"ATOM\"].groupby(\"residue_name\").size().plot(kind=\"bar\", figsize=(10, 5), color='green')\n",
        "_ = plt.xticks(rotation=90)"
      ]
    },
    {
      "cell_type": "markdown",
      "metadata": {
        "id": "aGu-rU6xifJc"
      },
      "source": [
        "# Extract the sequence from the protein file and write it into a fasta file"
      ]
    },
    {
      "cell_type": "code",
      "execution_count": null,
      "metadata": {
        "id": "JKAwWA-uphRg"
      },
      "outputs": [],
      "source": [
        "# the mapping of 3 letter AA to 1 letter\n",
        "aa_dict = {\n",
        "    'ALA': 'A', 'CYS': 'C', 'ASP': 'D', 'GLU': 'E', 'PHE': 'F',\n",
        "    'GLY': 'G', 'HIS': 'H', 'ILE': 'I', 'LYS': 'K', 'LEU': 'L',\n",
        "    'MET': 'M', 'ASN': 'N', 'PRO': 'P', 'GLN': 'Q', 'ARG': 'R',\n",
        "    'SER': 'S', 'THR': 'T', 'VAL': 'V', 'TRP': 'W', 'TYR': 'Y',\n",
        "    'HSE': 'H', 'HSP': 'H', 'HSD': 'H', 'HIE': 'H', 'HID': 'H',\n",
        "}"
      ]
    },
    {
      "cell_type": "code",
      "execution_count": null,
      "metadata": {
        "colab": {
          "base_uri": "https://localhost:8080/",
          "height": 258
        },
        "id": "x1wr9lFOofnB",
        "outputId": "ee492454-de5d-4ac5-fd7b-84b147ecbc1c"
      },
      "outputs": [],
      "source": [
        "grouped_amino_acids = pdb_file.df[\"ATOM\"].groupby([\"residue_number\"]).first()\n",
        "grouped_amino_acids.head()"
      ]
    },
    {
      "cell_type": "code",
      "execution_count": null,
      "metadata": {
        "colab": {
          "base_uri": "https://localhost:8080/",
          "height": 162
        },
        "id": "lp7iqgGbq2w6",
        "outputId": "b5fc9f10-9026-4147-b2c3-1883ddb53eaa"
      },
      "outputs": [],
      "source": [
        "sequence = \"\".join(grouped_amino_acids['residue_name'].map(aa_dict))\n",
        "display(sequence)"
      ]
    },
    {
      "cell_type": "markdown",
      "metadata": {
        "id": "TVlL-sjSycWQ"
      },
      "source": [
        "### Answer 🏗"
      ]
    },
    {
      "cell_type": "markdown",
      "metadata": {
        "id": "VqzRSYdGxoGC"
      },
      "source": [
        "there are Mg and Pop (lipids) in the pandas dataframe. If you do\n",
        "\n",
        "```python\n",
        "set(aa_dict.keys()) - set(grouped_amino_acids[\"residue_name\"])\n",
        "```\n",
        "you should see\n",
        "```python\n",
        "['MG', 'POP']\n",
        "```\n",
        "\n",
        "indicating that you must get rid of these somehow. One easy way is to simply do\n",
        "```python\n",
        "sequence = \"\".join(grouped_amino_acids['residue_name'].map(aa_dict).dropna())\n",
        "```"
      ]
    },
    {
      "cell_type": "code",
      "execution_count": null,
      "metadata": {
        "colab": {
          "base_uri": "https://localhost:8080/",
          "height": 53
        },
        "id": "ydHg-lfvyicD",
        "outputId": "0842484a-139c-4a0b-ffbe-d89797b5fd9c"
      },
      "outputs": [],
      "source": [
        "sequence = \"\".join(grouped_amino_acids['residue_name'].map(aa_dict).dropna())\n",
        "display(sequence)"
      ]
    },
    {
      "cell_type": "markdown",
      "metadata": {
        "id": "l_CHu8-g1sQv"
      },
      "source": [
        "---"
      ]
    },
    {
      "cell_type": "code",
      "execution_count": null,
      "metadata": {
        "id": "whm5hUwO4BzN"
      },
      "outputs": [],
      "source": [
        "# how to write a fasta file\n",
        "\n",
        "fasta_location = \"cotb2_mg.fasta\"\n",
        "with open(fasta_location, \"w\") as f:\n",
        "    f.write(f\">cotb2_mg\\n{sequence}\")"
      ]
    },
    {
      "cell_type": "markdown",
      "metadata": {
        "id": "3iB6TK-ty9FL"
      },
      "source": [
        "# Find the amino acid composition (AAC)"
      ]
    },
    {
      "cell_type": "code",
      "execution_count": null,
      "metadata": {
        "colab": {
          "base_uri": "https://localhost:8080/",
          "height": 638
        },
        "id": "gtYLK7lMy4Rt",
        "outputId": "80af9671-1c38-4d28-be85-bc3877197946"
      },
      "outputs": [
        {
          "data": {
            "application/vnd.google.colaboratory.intrinsic+json": {
              "summary": "{\n  \"name\": \"_ = plt\",\n  \"rows\": 5,\n  \"fields\": [\n    {\n      \"column\": \"aa\",\n      \"properties\": {\n        \"dtype\": \"string\",\n        \"num_unique_values\": 5,\n        \"samples\": [\n          \"VAL\",\n          \"ARG\",\n          \"ALA\"\n        ],\n        \"semantic_type\": \"\",\n        \"description\": \"\"\n      }\n    },\n    {\n      \"column\": \"frequency\",\n      \"properties\": {\n        \"dtype\": \"number\",\n        \"std\": 0.005813088679867185,\n        \"min\": 0.0705,\n        \"max\": 0.0865,\n        \"num_unique_values\": 4,\n        \"samples\": [\n          0.0801,\n          0.0705,\n          0.0865\n        ],\n        \"semantic_type\": \"\",\n        \"description\": \"\"\n      }\n    }\n  ]\n}",
              "type": "dataframe"
            },
            "text/html": [
              "\n",
              "  <div id=\"df-f142aad3-f320-4326-9ad5-529a8b467773\" class=\"colab-df-container\">\n",
              "    <div>\n",
              "<style scoped>\n",
              "    .dataframe tbody tr th:only-of-type {\n",
              "        vertical-align: middle;\n",
              "    }\n",
              "\n",
              "    .dataframe tbody tr th {\n",
              "        vertical-align: top;\n",
              "    }\n",
              "\n",
              "    .dataframe thead th {\n",
              "        text-align: right;\n",
              "    }\n",
              "</style>\n",
              "<table border=\"1\" class=\"dataframe\">\n",
              "  <thead>\n",
              "    <tr style=\"text-align: right;\">\n",
              "      <th></th>\n",
              "      <th>aa</th>\n",
              "      <th>frequency</th>\n",
              "    </tr>\n",
              "  </thead>\n",
              "  <tbody>\n",
              "    <tr>\n",
              "      <th>0</th>\n",
              "      <td>ASP</td>\n",
              "      <td>0.0865</td>\n",
              "    </tr>\n",
              "    <tr>\n",
              "      <th>1</th>\n",
              "      <td>VAL</td>\n",
              "      <td>0.0801</td>\n",
              "    </tr>\n",
              "    <tr>\n",
              "      <th>2</th>\n",
              "      <td>ALA</td>\n",
              "      <td>0.0769</td>\n",
              "    </tr>\n",
              "    <tr>\n",
              "      <th>3</th>\n",
              "      <td>THR</td>\n",
              "      <td>0.0769</td>\n",
              "    </tr>\n",
              "    <tr>\n",
              "      <th>4</th>\n",
              "      <td>ARG</td>\n",
              "      <td>0.0705</td>\n",
              "    </tr>\n",
              "  </tbody>\n",
              "</table>\n",
              "</div>\n",
              "    <div class=\"colab-df-buttons\">\n",
              "\n",
              "  <div class=\"colab-df-container\">\n",
              "    <button class=\"colab-df-convert\" onclick=\"convertToInteractive('df-f142aad3-f320-4326-9ad5-529a8b467773')\"\n",
              "            title=\"Convert this dataframe to an interactive table.\"\n",
              "            style=\"display:none;\">\n",
              "\n",
              "  <svg xmlns=\"http://www.w3.org/2000/svg\" height=\"24px\" viewBox=\"0 -960 960 960\">\n",
              "    <path d=\"M120-120v-720h720v720H120Zm60-500h600v-160H180v160Zm220 220h160v-160H400v160Zm0 220h160v-160H400v160ZM180-400h160v-160H180v160Zm440 0h160v-160H620v160ZM180-180h160v-160H180v160Zm440 0h160v-160H620v160Z\"/>\n",
              "  </svg>\n",
              "    </button>\n",
              "\n",
              "  <style>\n",
              "    .colab-df-container {\n",
              "      display:flex;\n",
              "      gap: 12px;\n",
              "    }\n",
              "\n",
              "    .colab-df-convert {\n",
              "      background-color: #E8F0FE;\n",
              "      border: none;\n",
              "      border-radius: 50%;\n",
              "      cursor: pointer;\n",
              "      display: none;\n",
              "      fill: #1967D2;\n",
              "      height: 32px;\n",
              "      padding: 0 0 0 0;\n",
              "      width: 32px;\n",
              "    }\n",
              "\n",
              "    .colab-df-convert:hover {\n",
              "      background-color: #E2EBFA;\n",
              "      box-shadow: 0px 1px 2px rgba(60, 64, 67, 0.3), 0px 1px 3px 1px rgba(60, 64, 67, 0.15);\n",
              "      fill: #174EA6;\n",
              "    }\n",
              "\n",
              "    .colab-df-buttons div {\n",
              "      margin-bottom: 4px;\n",
              "    }\n",
              "\n",
              "    [theme=dark] .colab-df-convert {\n",
              "      background-color: #3B4455;\n",
              "      fill: #D2E3FC;\n",
              "    }\n",
              "\n",
              "    [theme=dark] .colab-df-convert:hover {\n",
              "      background-color: #434B5C;\n",
              "      box-shadow: 0px 1px 3px 1px rgba(0, 0, 0, 0.15);\n",
              "      filter: drop-shadow(0px 1px 2px rgba(0, 0, 0, 0.3));\n",
              "      fill: #FFFFFF;\n",
              "    }\n",
              "  </style>\n",
              "\n",
              "    <script>\n",
              "      const buttonEl =\n",
              "        document.querySelector('#df-f142aad3-f320-4326-9ad5-529a8b467773 button.colab-df-convert');\n",
              "      buttonEl.style.display =\n",
              "        google.colab.kernel.accessAllowed ? 'block' : 'none';\n",
              "\n",
              "      async function convertToInteractive(key) {\n",
              "        const element = document.querySelector('#df-f142aad3-f320-4326-9ad5-529a8b467773');\n",
              "        const dataTable =\n",
              "          await google.colab.kernel.invokeFunction('convertToInteractive',\n",
              "                                                    [key], {});\n",
              "        if (!dataTable) return;\n",
              "\n",
              "        const docLinkHtml = 'Like what you see? Visit the ' +\n",
              "          '<a target=\"_blank\" href=https://colab.research.google.com/notebooks/data_table.ipynb>data table notebook</a>'\n",
              "          + ' to learn more about interactive tables.';\n",
              "        element.innerHTML = '';\n",
              "        dataTable['output_type'] = 'display_data';\n",
              "        await google.colab.output.renderOutput(dataTable, element);\n",
              "        const docLink = document.createElement('div');\n",
              "        docLink.innerHTML = docLinkHtml;\n",
              "        element.appendChild(docLink);\n",
              "      }\n",
              "    </script>\n",
              "  </div>\n",
              "\n",
              "\n",
              "<div id=\"df-3f00642f-6b60-4f31-8a79-44ad35e2f60d\">\n",
              "  <button class=\"colab-df-quickchart\" onclick=\"quickchart('df-3f00642f-6b60-4f31-8a79-44ad35e2f60d')\"\n",
              "            title=\"Suggest charts\"\n",
              "            style=\"display:none;\">\n",
              "\n",
              "<svg xmlns=\"http://www.w3.org/2000/svg\" height=\"24px\"viewBox=\"0 0 24 24\"\n",
              "     width=\"24px\">\n",
              "    <g>\n",
              "        <path d=\"M19 3H5c-1.1 0-2 .9-2 2v14c0 1.1.9 2 2 2h14c1.1 0 2-.9 2-2V5c0-1.1-.9-2-2-2zM9 17H7v-7h2v7zm4 0h-2V7h2v10zm4 0h-2v-4h2v4z\"/>\n",
              "    </g>\n",
              "</svg>\n",
              "  </button>\n",
              "\n",
              "<style>\n",
              "  .colab-df-quickchart {\n",
              "      --bg-color: #E8F0FE;\n",
              "      --fill-color: #1967D2;\n",
              "      --hover-bg-color: #E2EBFA;\n",
              "      --hover-fill-color: #174EA6;\n",
              "      --disabled-fill-color: #AAA;\n",
              "      --disabled-bg-color: #DDD;\n",
              "  }\n",
              "\n",
              "  [theme=dark] .colab-df-quickchart {\n",
              "      --bg-color: #3B4455;\n",
              "      --fill-color: #D2E3FC;\n",
              "      --hover-bg-color: #434B5C;\n",
              "      --hover-fill-color: #FFFFFF;\n",
              "      --disabled-bg-color: #3B4455;\n",
              "      --disabled-fill-color: #666;\n",
              "  }\n",
              "\n",
              "  .colab-df-quickchart {\n",
              "    background-color: var(--bg-color);\n",
              "    border: none;\n",
              "    border-radius: 50%;\n",
              "    cursor: pointer;\n",
              "    display: none;\n",
              "    fill: var(--fill-color);\n",
              "    height: 32px;\n",
              "    padding: 0;\n",
              "    width: 32px;\n",
              "  }\n",
              "\n",
              "  .colab-df-quickchart:hover {\n",
              "    background-color: var(--hover-bg-color);\n",
              "    box-shadow: 0 1px 2px rgba(60, 64, 67, 0.3), 0 1px 3px 1px rgba(60, 64, 67, 0.15);\n",
              "    fill: var(--button-hover-fill-color);\n",
              "  }\n",
              "\n",
              "  .colab-df-quickchart-complete:disabled,\n",
              "  .colab-df-quickchart-complete:disabled:hover {\n",
              "    background-color: var(--disabled-bg-color);\n",
              "    fill: var(--disabled-fill-color);\n",
              "    box-shadow: none;\n",
              "  }\n",
              "\n",
              "  .colab-df-spinner {\n",
              "    border: 2px solid var(--fill-color);\n",
              "    border-color: transparent;\n",
              "    border-bottom-color: var(--fill-color);\n",
              "    animation:\n",
              "      spin 1s steps(1) infinite;\n",
              "  }\n",
              "\n",
              "  @keyframes spin {\n",
              "    0% {\n",
              "      border-color: transparent;\n",
              "      border-bottom-color: var(--fill-color);\n",
              "      border-left-color: var(--fill-color);\n",
              "    }\n",
              "    20% {\n",
              "      border-color: transparent;\n",
              "      border-left-color: var(--fill-color);\n",
              "      border-top-color: var(--fill-color);\n",
              "    }\n",
              "    30% {\n",
              "      border-color: transparent;\n",
              "      border-left-color: var(--fill-color);\n",
              "      border-top-color: var(--fill-color);\n",
              "      border-right-color: var(--fill-color);\n",
              "    }\n",
              "    40% {\n",
              "      border-color: transparent;\n",
              "      border-right-color: var(--fill-color);\n",
              "      border-top-color: var(--fill-color);\n",
              "    }\n",
              "    60% {\n",
              "      border-color: transparent;\n",
              "      border-right-color: var(--fill-color);\n",
              "    }\n",
              "    80% {\n",
              "      border-color: transparent;\n",
              "      border-right-color: var(--fill-color);\n",
              "      border-bottom-color: var(--fill-color);\n",
              "    }\n",
              "    90% {\n",
              "      border-color: transparent;\n",
              "      border-bottom-color: var(--fill-color);\n",
              "    }\n",
              "  }\n",
              "</style>\n",
              "\n",
              "  <script>\n",
              "    async function quickchart(key) {\n",
              "      const quickchartButtonEl =\n",
              "        document.querySelector('#' + key + ' button');\n",
              "      quickchartButtonEl.disabled = true;  // To prevent multiple clicks.\n",
              "      quickchartButtonEl.classList.add('colab-df-spinner');\n",
              "      try {\n",
              "        const charts = await google.colab.kernel.invokeFunction(\n",
              "            'suggestCharts', [key], {});\n",
              "      } catch (error) {\n",
              "        console.error('Error during call to suggestCharts:', error);\n",
              "      }\n",
              "      quickchartButtonEl.classList.remove('colab-df-spinner');\n",
              "      quickchartButtonEl.classList.add('colab-df-quickchart-complete');\n",
              "    }\n",
              "    (() => {\n",
              "      let quickchartButtonEl =\n",
              "        document.querySelector('#df-3f00642f-6b60-4f31-8a79-44ad35e2f60d button');\n",
              "      quickchartButtonEl.style.display =\n",
              "        google.colab.kernel.accessAllowed ? 'block' : 'none';\n",
              "    })();\n",
              "  </script>\n",
              "</div>\n",
              "\n",
              "    </div>\n",
              "  </div>\n"
            ],
            "text/plain": [
              "    aa  frequency\n",
              "0  ASP     0.0865\n",
              "1  VAL     0.0801\n",
              "2  ALA     0.0769\n",
              "3  THR     0.0769\n",
              "4  ARG     0.0705"
            ]
          },
          "metadata": {},
          "output_type": "display_data"
        },
        {
          "data": {
            "image/png": "[encoded data removed]",
            "text/plain": [
              "<Figure size 1000x500 with 1 Axes>"
            ]
          },
          "metadata": {},
          "output_type": "display_data"
        }
      ],
      "source": [
        "# get raw counts\n",
        "aac = pdb_file.df[\"ATOM\"].groupby([\"residue_number\"]).first().residue_name.value_counts().to_dict()\n",
        "\n",
        "# normalize to length of sequence\n",
        "aac = {k:round(v/sum(aac.values()),4) for k,v in aac.items()}\n",
        "\n",
        "counts = pd.DataFrame(aac.items(), columns = [\"aa\", \"frequency\"]).sort_values(by = \"frequency\", ascending = False)\n",
        "display(counts.head())\n",
        "\n",
        "# plot it\n",
        "counts.plot(kind = \"bar\", figsize = (10,5), color = \"green\")\n",
        "_ = plt.xticks(rotation = 90)"
      ]
    },
    {
      "cell_type": "markdown",
      "metadata": {
        "id": "rcNUDTQ9_M5h"
      },
      "source": [
        "# Find Dipeptide composition (DC)"
      ]
    },
    {
      "cell_type": "code",
      "execution_count": null,
      "metadata": {},
      "outputs": [],
      "source": [
        "unique_sequence_list = list(set(aa_dict.values()))\n",
        "dipeptides = []\n",
        "for first_aa in unique_sequence_list:\n",
        "  for second_aa in unique_sequence_list:\n",
        "    dipeptides.append(first_aa + second_aa)"
      ]
    },
    {
      "cell_type": "code",
      "execution_count": null,
      "metadata": {},
      "outputs": [],
      "source": [
        "from collections import Counter\n",
        "\n",
        "# Generate dipeptides (two consecutive amino acids)\n",
        "dipeptides_in_protein = [sequence[i:i+2] for i in range(len(sequence)-1)]\n",
        "\n",
        "# Count dipeptide occurrences\n",
        "dipeptide_counts = Counter(dipeptides_in_protein)"
      ]
    },
    {
      "cell_type": "code",
      "execution_count": null,
      "metadata": {},
      "outputs": [],
      "source": [
        "dipeptides_dictionary = {}\n",
        "for current_peptide in dipeptides:\n",
        "  dipeptides_dictionary[current_peptide] = 0\n",
        "  if current_peptide in dipeptide_counts:\n",
        "    dipeptides_dictionary[current_peptide] = dipeptide_counts[current_peptide]\n",
        "    \n",
        "# Normalize to get relative frequencies\n",
        "total_dipeptides = sum(dipeptides_dictionary.values())\n",
        "dipeptide_freq = {dp: count / total_dipeptides for dp, count in dipeptide_counts.items()}\n",
        "\n",
        "pd.DataFrame(dipeptide_freq.items(), columns = [\"dipeptide\", \"frequency\"]).sort_values(by = \"frequency\", ascending = False)"
      ]
    },
    {
      "cell_type": "markdown",
      "metadata": {
        "id": "C__Zaao8ifJd"
      },
      "source": [
        "# Protein Feature extraction\n",
        "\n",
        "**Other packages you could use to featurize proteins:**\n",
        "\n",
        "1. [propy](https://github.com/MartinThoma/propy3):\n",
        "\n",
        "- Computes AAC, DC, Pseudo-AAC\n",
        "- good for classical ML features\n",
        "\n",
        "2. [biovec](https://github.com/kyu999/biovec)\n",
        "-\tConverts protein sequences into word embeddings (like Word2Vec).\n",
        "-\tTrains on k-mers from protein sequences.\n",
        "-\tUseful for deep learning models\n",
        "\n",
        "3. [fair-esm](https://github.com/facebookresearch/esm)\n",
        "\n",
        "- evolutionary scale modeling\n",
        "- Extracts deep learning embeddings for proteins.\n",
        "- Uses pre-trained transformers\n",
        "- Great for deep learning tasks"
      ]
    },
    {
      "cell_type": "code",
      "execution_count": null,
      "metadata": {
        "id": "9O5gGIififJe"
      },
      "outputs": [],
      "source": [
        "import iFeatureOmegaCLI\n",
        "\n",
        "protein_features = iFeatureOmegaCLI.iProtein(fasta_location)"
      ]
    },
    {
      "cell_type": "code",
      "execution_count": null,
      "metadata": {
        "colab": {
          "base_uri": "https://localhost:8080/"
        },
        "collapsed": true,
        "id": "PpmNGMnMifJe",
        "outputId": "60ce5515-b3ee-48ee-818a-261fdc226e7c"
      },
      "outputs": [
        {
          "name": "stdout",
          "output_type": "stream",
          "text": [
            "Help on iProtein in module iFeatureOmegaCLI.iFeatureOmegaCLI object:\n",
            "\n",
            "class iProtein(Sequence)\n",
            " |  iProtein(file)\n",
            " |  \n",
            " |  # Running examples:\n",
            " |  # import iFeatureOmegaCLI\n",
            " |  >>> import iFeatureOmegaCLI\n",
            " |  \n",
            " |  # create a instance\n",
            " |  >>> protein = iFeatureOmegaCLI.iProtein(\"./data_examples/peptide_sequences.txt\")\n",
            " |  \n",
            " |  # display available feature descriptor methods\n",
            " |  >>> protein.display_feature_types()\n",
            " |  \n",
            " |  # import parameters for feature descriptors (optimal)\n",
            " |  >>> protein.import_parameters('parameters/Protein_parameters_setting.json')\n",
            " |  \n",
            " |  # calculate feature descriptors. Take \"AAC\" as an example.\n",
            " |  >>> protein.get_descriptor(\"AAC\")\n",
            " |  \n",
            " |  # display the feature descriptors\n",
            " |  >>> print(protein.encodings)\n",
            " |  \n",
            " |  # save feature descriptors\n",
            " |  >>> protein.to_csv(\"AAC.csv\", \"index=False\", header=False)\n",
            " |  \n",
            " |  Method resolution order:\n",
            " |      iProtein\n",
            " |      Sequence\n",
            " |      builtins.object\n",
            " |  \n",
            " |  Methods defined here:\n",
            " |  \n",
            " |  CalculateContent(self, myDistance, j, myLabelSets)\n",
            " |  \n",
            " |  CalculateDistance(self, sequence1, sequence2)\n",
            " |  \n",
            " |  CalculateKSCTriad(self, sequence, gap, features, AADict)\n",
            " |  \n",
            " |  Count(self, seq1, seq2)\n",
            " |  \n",
            " |  Count1(self, aaSet, sequence)\n",
            " |  \n",
            " |  Rvalue(self, aa1, aa2, AADict, Matrix)\n",
            " |  \n",
            " |  Sim(self, a, b)\n",
            " |  \n",
            " |  __init__(self, file)\n",
            " |      Initialize self.  See help(type(self)) for accurate signature.\n",
            " |  \n",
            " |  add_samples_label(self, file)\n",
            " |  \n",
            " |  display_feature_types(self)\n",
            " |  \n",
            " |  gapModel(self, fastas, myDict, gDict, gNames, ktuple, glValue, ttype)\n",
            " |  \n",
            " |  generateGroupPairs(self, groupKey)\n",
            " |  \n",
            " |  generatePropertyPairs(self, myPropertyName)\n",
            " |  \n",
            " |  get_descriptor(self, descriptor='AAC')\n",
            " |  \n",
            " |  import_parameters(self, file)\n",
            " |  \n",
            " |  lambdaModel(self, fastas, myDict, gDict, gNames, ktuple, glValue, ttype)\n",
            " |  \n",
            " |  to_arff(self, file='encode.arff')\n",
            " |  \n",
            " |  to_csv(self, file='encode.csv', index=False, header=False)\n",
            " |  \n",
            " |  to_svm(self, file='encode.svm')\n",
            " |  \n",
            " |  to_tsv(self, file='encode.tsv', index=False, header=False)\n",
            " |  \n",
            " |  ----------------------------------------------------------------------\n",
            " |  Methods inherited from Sequence:\n",
            " |  \n",
            " |  check_sequence_type(self)\n",
            " |      Specify sequence type (Protein, DNA or RNA)\n",
            " |      :return:\n",
            " |  \n",
            " |  read_fasta(self, file)\n",
            " |      read fasta sequence\n",
            " |      :param file:\n",
            " |      :return:\n",
            " |  \n",
            " |  sequence_with_equal_length(self)\n",
            " |      Check if fasta sequence is in equal length\n",
            " |      :return:\n",
            " |  \n",
            " |  ----------------------------------------------------------------------\n",
            " |  Data descriptors inherited from Sequence:\n",
            " |  \n",
            " |  __dict__\n",
            " |      dictionary for instance variables\n",
            " |  \n",
            " |  __weakref__\n",
            " |      list of weak references to the object\n",
            "\n"
          ]
        }
      ],
      "source": [
        "help(protein_features)"
      ]
    },
    {
      "cell_type": "code",
      "execution_count": null,
      "metadata": {
        "colab": {
          "base_uri": "https://localhost:8080/"
        },
        "collapsed": true,
        "id": "C55ep4pDifJe",
        "outputId": "370dc392-2640-4849-efd4-77bca98440a2"
      },
      "outputs": [
        {
          "name": "stdout",
          "output_type": "stream",
          "text": [
            "\n",
            "        ----- Available feature types ------        \n",
            "        \n",
            "        AAC                                                Amino acid composition\n",
            "        EAAC                                               Enhanced amino acid composition\n",
            "        CKSAAP type 1                                      Composition of k-spaced amino acid pairs type 1 - normalized\n",
            "        CKSAAP type 2                                      Composition of k-spaced amino acid pairs type 2 - raw count\n",
            "        DPC type 1                                         Dipeptide composition type 1 - normalized\n",
            "        DPC type 2                                         Dipeptide composition type 2 - raw count\n",
            "        TPC type 1                                         Tripeptide composition type 1 - normalized\n",
            "        TPC type 2                                         Tripeptide composition type 1 - raw count\n",
            "        CTDC                                               Composition\n",
            "        CTDT                                               Transition\n",
            "        CTDD                                               Distribution\n",
            "        CTriad                                             Conjoint triad\n",
            "        KSCTriad                                           Conjoint k-spaced triad\n",
            "        ASDC                                               Adaptive skip dipeptide composition\n",
            "        DistancePair                                       PseAAC of distance-pairs and reduced alphabe\n",
            "        GAAC                                               Grouped amino acid composition\n",
            "        EGAAC                                              Enhanced grouped amino acid composition\n",
            "        CKSAAGP type 1                                     Composition of k-spaced amino acid group pairs type 1- normalized\n",
            "        CKSAAGP type 2                                     Composition of k-spaced amino acid group pairs type 2- raw count\n",
            "        GDPC type 1                                        Grouped dipeptide composition type 1 - normalized\n",
            "        GDPC type 2                                        Grouped dipeptide composition type 2 - raw count\n",
            "        GTPC type 1                                        Grouped tripeptide composition type 1 - normalized\n",
            "        GTPC type 2                                        Grouped tripeptide composition type 1 - raw count\n",
            "        Moran                                              Moran\n",
            "        Geary                                              Geary\n",
            "        NMBroto                                            Normalized Moreau-Broto\n",
            "        AC                                                 Auto covariance\n",
            "        CC                                                 Cross covariance\n",
            "        ACC                                                Auto-cross covariance\n",
            "        SOCNumber                                          Sequence-order-coupling number\n",
            "        QSOrder                                            Quasi-sequence-order descriptors\n",
            "        PAAC                                               Pseudo-amino acid composition\n",
            "        APAAC                                              Amphiphilic PAAC\n",
            "        PseKRAAC type 1                                    Pseudo K-tuple reduced amino acids composition type 1\n",
            "        PseKRAAC type 2                                    Pseudo K-tuple reduced amino acids composition type 2\n",
            "        PseKRAAC type 3A                                   Pseudo K-tuple reduced amino acids composition type 3A\n",
            "        PseKRAAC type 3B                                   Pseudo K-tuple reduced amino acids composition type 3B\n",
            "        PseKRAAC type 4                                    Pseudo K-tuple reduced amino acids composition type 4\n",
            "        PseKRAAC type 5                                    Pseudo K-tuple reduced amino acids composition type 5\n",
            "        PseKRAAC type 6A                                   Pseudo K-tuple reduced amino acids composition type 6A\n",
            "        PseKRAAC type 6B                                   Pseudo K-tuple reduced amino acids composition type 6B\n",
            "        PseKRAAC type 6C                                   Pseudo K-tuple reduced amino acids composition type 6C\n",
            "        PseKRAAC type 7                                    Pseudo K-tuple reduced amino acids composition type 7\n",
            "        PseKRAAC type 8                                    Pseudo K-tuple reduced amino acids composition type 8\n",
            "        PseKRAAC type 9                                    Pseudo K-tuple reduced amino acids composition type 9\n",
            "        PseKRAAC type 10                                   Pseudo K-tuple reduced amino acids composition type 10\n",
            "        PseKRAAC type 11                                   Pseudo K-tuple reduced amino acids composition type 11\n",
            "        PseKRAAC type 12                                   Pseudo K-tuple reduced amino acids composition type 12\n",
            "        PseKRAAC type 13                                   Pseudo K-tuple reduced amino acids composition type 13\n",
            "        PseKRAAC type 14                                   Pseudo K-tuple reduced amino acids composition type 14\n",
            "        PseKRAAC type 15                                   Pseudo K-tuple reduced amino acids composition type 15\n",
            "        PseKRAAC type 16                                   Pseudo K-tuple reduced amino acids composition type 16\n",
            "        binary                                             Binary\n",
            "        binary_6bit                                        Binary\n",
            "        binary_5bit type 1                                 Binary\n",
            "        binary_5bit type 2                                 Binary\n",
            "        binary_3bit type 1                                 Binary\n",
            "        binary_3bit type 2                                 Binary\n",
            "        binary_3bit type 3                                 Binary\n",
            "        binary_3bit type 4                                 Binary\n",
            "        binary_3bit type 5                                 Binary\n",
            "        binary_3bit type 6                                 Binary\n",
            "        binary_3bit type 7                                 Binary\n",
            "        AESNN3                                             Learn from alignments\n",
            "        OPF_10bit                                          Overlapping property features - 10 bit\n",
            "        OPF_7bit type 1                                    Overlapping property features - 7 bit type 1\n",
            "        OPF_7bit type 2                                    Overlapping property features - 7 bit type 2\n",
            "        OPF_7bit type 3                                    Overlapping property features - 7 bit type 3\n",
            "        AAIndex                                            AAIndex\n",
            "        BLOSUM62                                           BLOSUM62\n",
            "        ZScale                                             Z-Scales index\n",
            "        KNN                                                K-nearest neighbor\n",
            "\n",
            "        Note: the first column is the names of availables feature types while the second column is description.  \n",
            "        \n",
            "        \n"
          ]
        }
      ],
      "source": [
        "protein_features.display_feature_types()"
      ]
    },
    {
      "cell_type": "markdown",
      "metadata": {},
      "source": [
        "# Now generate Features using the help docs"
      ]
    },
    {
      "cell_type": "code",
      "execution_count": null,
      "metadata": {
        "id": "81-3fbCnifJe"
      },
      "outputs": [],
      "source": [
        "descriptor_blocks = [\"AAC\", \"DistancePair\", \"BLOSUM62\"]\n",
        "protein_features = []\n",
        "protein_features_names = []\n",
        "\n",
        "PF = iFeatureOmegaCLI.iProtein(fasta_location)\n",
        "\n",
        "for current_descriptor_block in descriptor_blocks:\n",
        "    PF.get_descriptor(current_descriptor_block)\n",
        "    current_features_table = PF.encodings.reset_index(drop=True)\n",
        "    protein_features += current_features_table.values[0].tolist()\n",
        "    protein_features_names += current_features_table.columns.tolist()"
      ]
    },
    {
      "cell_type": "markdown",
      "metadata": {
        "id": "m3Pex-vIifJe"
      },
      "source": [
        "# Plot energies of the Small molecules"
      ]
    },
    {
      "cell_type": "code",
      "execution_count": null,
      "metadata": {},
      "outputs": [],
      "source": [
        "energies = 'https://github.com/enveda/enzyme-ml/raw/refs/heads/main/workshop_data/cotb2_ml_data/lig_1_energy.txt'"
      ]
    }
  ],
  "metadata": {
    "colab": {
      "provenance": []
    },
    "kernelspec": {
      "display_name": ".venv",
      "language": "python",
      "name": "python3"
    },
    "language_info": {
      "codemirror_mode": {
        "name": "ipython",
        "version": 3
      },
      "file_extension": ".py",
      "mimetype": "text/x-python",
      "name": "python",
      "nbconvert_exporter": "python",
      "pygments_lexer": "ipython3",
      "version": "3.10.12"
    }
  },
  "nbformat": 4,
  "nbformat_minor": 0
}
