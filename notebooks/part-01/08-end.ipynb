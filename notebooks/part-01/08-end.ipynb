{
  "cells": [
    {
      "cell_type": "markdown",
      "metadata": {
        "id": "1CWE57Ehi26Q"
      },
      "source": [
        "# Setup"
      ]
    },
    {
      "cell_type": "code",
      "execution_count": null,
      "metadata": {
        "colab": {
          "base_uri": "https://localhost:8080/"
        },
        "collapsed": true,
        "id": "7uNeZOG-i301",
        "outputId": "3fbb05df-e143-43a3-a7d5-467d21a5dbed"
      },
      "outputs": [],
      "source": [
        "# installation of required libraries\n",
        "!pip install biopandas ifeatureomegacli rdkit biopython"
      ]
    },
    {
      "cell_type": "code",
      "execution_count": null,
      "metadata": {
        "id": "E6mQ3tFZue4V"
      },
      "outputs": [],
      "source": [
        "!rm -rf /content/*"
      ]
    },
    {
      "cell_type": "markdown",
      "metadata": {
        "id": "3KXXn9HxifJS"
      },
      "source": [
        "# Data exploration"
      ]
    },
    {
      "cell_type": "markdown",
      "metadata": {
        "id": "4Uu_w8K6ifJV"
      },
      "source": [
        "# Load the protein data"
      ]
    },
    {
      "cell_type": "code",
      "execution_count": null,
      "metadata": {
        "id": "W4hz-LYKifJV"
      },
      "outputs": [],
      "source": [
        "from biopandas.pdb import PandasPdb\n",
        "import pandas as pd"
      ]
    },
    {
      "cell_type": "markdown",
      "metadata": {
        "id": "cFytzjsaabxm"
      },
      "source": [
        "Note: Why is `biopandas` useful for protein analysis?\n",
        "\n",
        "If you work with PDB files and want to analyze protein structures efficiently in Python, biopandas makes it easier by converting structural data into Pandas DataFrames.\n",
        "Key Benefits for a Computational Protein Workshop\n",
        "\n",
        "- **Easy Data Handling**: Instead of looping through PDB files manually, you can use biopandas to extract atomic coordinates, residue information, and chain details into a structured DataFrame.\n",
        "- **Fast Filtering**: Need only backbone atoms, a specific chain, or only hydrophobic residues? Use simple pandas filtering instead of complex parsing.\n",
        "- **Compatible with ML & Visualization**: Since biopandas works with DataFrames, it’s easier to integrate protein structural data into machine learning pipelines or use matplotlib for visualization.\n",
        "- **No Complex Parsing**: Unlike `Bio.PDB` (which requires object-oriented access), biopandas lets you query PDB data like a spreadsheet, making it more beginner-friendly.\n"
      ]
    },
    {
      "cell_type": "code",
      "execution_count": null,
      "metadata": {
        "colab": {
          "base_uri": "https://localhost:8080/"
        },
        "id": "1RlRcUb8ifJY",
        "outputId": "308e8fba-c404-422d-a470-f83520063444"
      },
      "outputs": [],
      "source": [
        "PDB_FILE_LOCATION = 'https://github.com/enveda/modbioterp-enveda/raw/refs/heads/main/workshop_data/cotb2_pp_mg.pdb'\n",
        "!wget $PDB_FILE_LOCATION -O /content/cotb2_pp_mg.pdb"
      ]
    },
    {
      "cell_type": "code",
      "execution_count": null,
      "metadata": {
        "colab": {
          "base_uri": "https://localhost:8080/"
        },
        "id": "WSLXUORPifJa",
        "outputId": "4afcf0d9-69b4-429b-8c1b-82518a065bc5"
      },
      "outputs": [],
      "source": [
        "!ls /content"
      ]
    },
    {
      "cell_type": "code",
      "execution_count": null,
      "metadata": {
        "id": "p-AtABntvaJV"
      },
      "outputs": [],
      "source": [
        "pdb_file = PandasPdb().read_pdb('/content/cotb2_pp_mg.pdb')"
      ]
    },
    {
      "cell_type": "code",
      "execution_count": null,
      "metadata": {
        "colab": {
          "base_uri": "https://localhost:8080/",
          "height": 255
        },
        "id": "r98ipYTjifJZ",
        "outputId": "e50b75c4-23c3-4d10-af5b-d0c4243c203c"
      },
      "outputs": [],
      "source": [
        "display(\n",
        "    pdb_file.df[\"ATOM\"].head(3),\n",
        "    pdb_file.df[\"HETATM\"].head(3)\n",
        ")"
      ]
    },
    {
      "cell_type": "code",
      "execution_count": null,
      "metadata": {
        "colab": {
          "base_uri": "https://localhost:8080/",
          "height": 644
        },
        "id": "sf-kcnGbzBYZ",
        "outputId": "f97c56c5-537a-442c-df60-e470825cc1ec"
      },
      "outputs": [],
      "source": [
        "%matplotlib inline\n",
        "from matplotlib import pyplot as plt\n",
        "\n",
        "pdb_file.df[\"ATOM\"].groupby(\"residue_name\").size().plot(kind=\"bar\", figsize=(10, 5), color='green')\n",
        "_ = plt.xticks(rotation=90)"
      ]
    },
    {
      "cell_type": "markdown",
      "metadata": {
        "id": "aGu-rU6xifJc"
      },
      "source": [
        "# Extract the sequence from the protein file and write it into a fasta file"
      ]
    },
    {
      "cell_type": "code",
      "execution_count": null,
      "metadata": {
        "id": "JKAwWA-uphRg"
      },
      "outputs": [],
      "source": [
        "# the mapping of 3 letter AA to 1 letter\n",
        "aa_dict = {\n",
        "    'ALA': 'A', 'CYS': 'C', 'ASP': 'D', 'GLU': 'E', 'PHE': 'F',\n",
        "    'GLY': 'G', 'HIS': 'H', 'ILE': 'I', 'LYS': 'K', 'LEU': 'L',\n",
        "    'MET': 'M', 'ASN': 'N', 'PRO': 'P', 'GLN': 'Q', 'ARG': 'R',\n",
        "    'SER': 'S', 'THR': 'T', 'VAL': 'V', 'TRP': 'W', 'TYR': 'Y',\n",
        "    'HSE': 'H', 'HSP': 'H', 'HSD': 'H', 'HIE': 'H', 'HID': 'H',\n",
        "}"
      ]
    },
    {
      "cell_type": "code",
      "execution_count": null,
      "metadata": {
        "colab": {
          "base_uri": "https://localhost:8080/",
          "height": 258
        },
        "id": "x1wr9lFOofnB",
        "outputId": "ee492454-de5d-4ac5-fd7b-84b147ecbc1c"
      },
      "outputs": [],
      "source": [
        "grouped_amino_acids = pdb_file.df[\"ATOM\"].groupby([\"residue_number\"]).first()\n",
        "grouped_amino_acids.head()"
      ]
    },
    {
      "cell_type": "code",
      "execution_count": null,
      "metadata": {
        "colab": {
          "base_uri": "https://localhost:8080/",
          "height": 162
        },
        "id": "lp7iqgGbq2w6",
        "outputId": "b5fc9f10-9026-4147-b2c3-1883ddb53eaa"
      },
      "outputs": [],
      "source": [
        "sequence = \"\".join(grouped_amino_acids['residue_name'].map(aa_dict))\n",
        "display(sequence)"
      ]
    },
    {
      "cell_type": "markdown",
      "metadata": {
        "id": "TVlL-sjSycWQ"
      },
      "source": [
        "### Answer 🏗"
      ]
    },
    {
      "cell_type": "markdown",
      "metadata": {
        "id": "VqzRSYdGxoGC"
      },
      "source": [
        "there are Mg and Pop (lipids) in the pandas dataframe. If you do\n",
        "\n",
        "```python\n",
        "set(aa_dict.keys()) - set(grouped_amino_acids[\"residue_name\"])\n",
        "```\n",
        "you should see\n",
        "```python\n",
        "['MG', 'POP']\n",
        "```\n",
        "\n",
        "indicating that you must get rid of these somehow. One easy way is to simply do\n",
        "```python\n",
        "sequence = \"\".join(grouped_amino_acids['residue_name'].map(aa_dict).dropna())\n",
        "```"
      ]
    },
    {
      "cell_type": "code",
      "execution_count": null,
      "metadata": {
        "colab": {
          "base_uri": "https://localhost:8080/",
          "height": 53
        },
        "id": "ydHg-lfvyicD",
        "outputId": "0842484a-139c-4a0b-ffbe-d89797b5fd9c"
      },
      "outputs": [],
      "source": [
        "sequence = \"\".join(grouped_amino_acids['residue_name'].map(aa_dict).dropna())\n",
        "display(sequence)"
      ]
    },
    {
      "cell_type": "markdown",
      "metadata": {
        "id": "l_CHu8-g1sQv"
      },
      "source": [
        "---"
      ]
    },
    {
      "cell_type": "code",
      "execution_count": null,
      "metadata": {
        "id": "whm5hUwO4BzN"
      },
      "outputs": [],
      "source": [
        "# how to write a fasta file\n",
        "\n",
        "fasta_location = \"cotb2_mg.fasta\"\n",
        "with open(fasta_location, \"w\") as f:\n",
        "    f.write(f\">cotb2_mg\\n{sequence}\")"
      ]
    },
    {
      "cell_type": "markdown",
      "metadata": {
        "id": "3iB6TK-ty9FL"
      },
      "source": [
        "# Find the amino acid composition (AAC)"
      ]
    },
    {
      "cell_type": "code",
      "execution_count": null,
      "metadata": {
        "colab": {
          "base_uri": "https://localhost:8080/",
          "height": 638
        },
        "id": "gtYLK7lMy4Rt",
        "outputId": "80af9671-1c38-4d28-be85-bc3877197946"
      },
      "outputs": [
        {
          "data": {
            "application/vnd.google.colaboratory.intrinsic+json": {
              "summary": "{\n  \"name\": \"_ = plt\",\n  \"rows\": 5,\n  \"fields\": [\n    {\n      \"column\": \"aa\",\n      \"properties\": {\n        \"dtype\": \"string\",\n        \"num_unique_values\": 5,\n        \"samples\": [\n          \"VAL\",\n          \"ARG\",\n          \"ALA\"\n        ],\n        \"semantic_type\": \"\",\n        \"description\": \"\"\n      }\n    },\n    {\n      \"column\": \"frequency\",\n      \"properties\": {\n        \"dtype\": \"number\",\n        \"std\": 0.005813088679867185,\n        \"min\": 0.0705,\n        \"max\": 0.0865,\n        \"num_unique_values\": 4,\n        \"samples\": [\n          0.0801,\n          0.0705,\n          0.0865\n        ],\n        \"semantic_type\": \"\",\n        \"description\": \"\"\n      }\n    }\n  ]\n}",
              "type": "dataframe"
            },
            "text/html": [
              "\n",
              "  <div id=\"df-f142aad3-f320-4326-9ad5-529a8b467773\" class=\"colab-df-container\">\n",
              "    <div>\n",
              "<style scoped>\n",
              "    .dataframe tbody tr th:only-of-type {\n",
              "        vertical-align: middle;\n",
              "    }\n",
              "\n",
              "    .dataframe tbody tr th {\n",
              "        vertical-align: top;\n",
              "    }\n",
              "\n",
              "    .dataframe thead th {\n",
              "        text-align: right;\n",
              "    }\n",
              "</style>\n",
              "<table border=\"1\" class=\"dataframe\">\n",
              "  <thead>\n",
              "    <tr style=\"text-align: right;\">\n",
              "      <th></th>\n",
              "      <th>aa</th>\n",
              "      <th>frequency</th>\n",
              "    </tr>\n",
              "  </thead>\n",
              "  <tbody>\n",
              "    <tr>\n",
              "      <th>0</th>\n",
              "      <td>ASP</td>\n",
              "      <td>0.0865</td>\n",
              "    </tr>\n",
              "    <tr>\n",
              "      <th>1</th>\n",
              "      <td>VAL</td>\n",
              "      <td>0.0801</td>\n",
              "    </tr>\n",
              "    <tr>\n",
              "      <th>2</th>\n",
              "      <td>ALA</td>\n",
              "      <td>0.0769</td>\n",
              "    </tr>\n",
              "    <tr>\n",
              "      <th>3</th>\n",
              "      <td>THR</td>\n",
              "      <td>0.0769</td>\n",
              "    </tr>\n",
              "    <tr>\n",
              "      <th>4</th>\n",
              "      <td>ARG</td>\n",
              "      <td>0.0705</td>\n",
              "    </tr>\n",
              "  </tbody>\n",
              "</table>\n",
              "</div>\n",
              "    <div class=\"colab-df-buttons\">\n",
              "\n",
              "  <div class=\"colab-df-container\">\n",
              "    <button class=\"colab-df-convert\" onclick=\"convertToInteractive('df-f142aad3-f320-4326-9ad5-529a8b467773')\"\n",
              "            title=\"Convert this dataframe to an interactive table.\"\n",
              "            style=\"display:none;\">\n",
              "\n",
              "  <svg xmlns=\"http://www.w3.org/2000/svg\" height=\"24px\" viewBox=\"0 -960 960 960\">\n",
              "    <path d=\"M120-120v-720h720v720H120Zm60-500h600v-160H180v160Zm220 220h160v-160H400v160Zm0 220h160v-160H400v160ZM180-400h160v-160H180v160Zm440 0h160v-160H620v160ZM180-180h160v-160H180v160Zm440 0h160v-160H620v160Z\"/>\n",
              "  </svg>\n",
              "    </button>\n",
              "\n",
              "  <style>\n",
              "    .colab-df-container {\n",
              "      display:flex;\n",
              "      gap: 12px;\n",
              "    }\n",
              "\n",
              "    .colab-df-convert {\n",
              "      background-color: #E8F0FE;\n",
              "      border: none;\n",
              "      border-radius: 50%;\n",
              "      cursor: pointer;\n",
              "      display: none;\n",
              "      fill: #1967D2;\n",
              "      height: 32px;\n",
              "      padding: 0 0 0 0;\n",
              "      width: 32px;\n",
              "    }\n",
              "\n",
              "    .colab-df-convert:hover {\n",
              "      background-color: #E2EBFA;\n",
              "      box-shadow: 0px 1px 2px rgba(60, 64, 67, 0.3), 0px 1px 3px 1px rgba(60, 64, 67, 0.15);\n",
              "      fill: #174EA6;\n",
              "    }\n",
              "\n",
              "    .colab-df-buttons div {\n",
              "      margin-bottom: 4px;\n",
              "    }\n",
              "\n",
              "    [theme=dark] .colab-df-convert {\n",
              "      background-color: #3B4455;\n",
              "      fill: #D2E3FC;\n",
              "    }\n",
              "\n",
              "    [theme=dark] .colab-df-convert:hover {\n",
              "      background-color: #434B5C;\n",
              "      box-shadow: 0px 1px 3px 1px rgba(0, 0, 0, 0.15);\n",
              "      filter: drop-shadow(0px 1px 2px rgba(0, 0, 0, 0.3));\n",
              "      fill: #FFFFFF;\n",
              "    }\n",
              "  </style>\n",
              "\n",
              "    <script>\n",
              "      const buttonEl =\n",
              "        document.querySelector('#df-f142aad3-f320-4326-9ad5-529a8b467773 button.colab-df-convert');\n",
              "      buttonEl.style.display =\n",
              "        google.colab.kernel.accessAllowed ? 'block' : 'none';\n",
              "\n",
              "      async function convertToInteractive(key) {\n",
              "        const element = document.querySelector('#df-f142aad3-f320-4326-9ad5-529a8b467773');\n",
              "        const dataTable =\n",
              "          await google.colab.kernel.invokeFunction('convertToInteractive',\n",
              "                                                    [key], {});\n",
              "        if (!dataTable) return;\n",
              "\n",
              "        const docLinkHtml = 'Like what you see? Visit the ' +\n",
              "          '<a target=\"_blank\" href=https://colab.research.google.com/notebooks/data_table.ipynb>data table notebook</a>'\n",
              "          + ' to learn more about interactive tables.';\n",
              "        element.innerHTML = '';\n",
              "        dataTable['output_type'] = 'display_data';\n",
              "        await google.colab.output.renderOutput(dataTable, element);\n",
              "        const docLink = document.createElement('div');\n",
              "        docLink.innerHTML = docLinkHtml;\n",
              "        element.appendChild(docLink);\n",
              "      }\n",
              "    </script>\n",
              "  </div>\n",
              "\n",
              "\n",
              "<div id=\"df-3f00642f-6b60-4f31-8a79-44ad35e2f60d\">\n",
              "  <button class=\"colab-df-quickchart\" onclick=\"quickchart('df-3f00642f-6b60-4f31-8a79-44ad35e2f60d')\"\n",
              "            title=\"Suggest charts\"\n",
              "            style=\"display:none;\">\n",
              "\n",
              "<svg xmlns=\"http://www.w3.org/2000/svg\" height=\"24px\"viewBox=\"0 0 24 24\"\n",
              "     width=\"24px\">\n",
              "    <g>\n",
              "        <path d=\"M19 3H5c-1.1 0-2 .9-2 2v14c0 1.1.9 2 2 2h14c1.1 0 2-.9 2-2V5c0-1.1-.9-2-2-2zM9 17H7v-7h2v7zm4 0h-2V7h2v10zm4 0h-2v-4h2v4z\"/>\n",
              "    </g>\n",
              "</svg>\n",
              "  </button>\n",
              "\n",
              "<style>\n",
              "  .colab-df-quickchart {\n",
              "      --bg-color: #E8F0FE;\n",
              "      --fill-color: #1967D2;\n",
              "      --hover-bg-color: #E2EBFA;\n",
              "      --hover-fill-color: #174EA6;\n",
              "      --disabled-fill-color: #AAA;\n",
              "      --disabled-bg-color: #DDD;\n",
              "  }\n",
              "\n",
              "  [theme=dark] .colab-df-quickchart {\n",
              "      --bg-color: #3B4455;\n",
              "      --fill-color: #D2E3FC;\n",
              "      --hover-bg-color: #434B5C;\n",
              "      --hover-fill-color: #FFFFFF;\n",
              "      --disabled-bg-color: #3B4455;\n",
              "      --disabled-fill-color: #666;\n",
              "  }\n",
              "\n",
              "  .colab-df-quickchart {\n",
              "    background-color: var(--bg-color);\n",
              "    border: none;\n",
              "    border-radius: 50%;\n",
              "    cursor: pointer;\n",
              "    display: none;\n",
              "    fill: var(--fill-color);\n",
              "    height: 32px;\n",
              "    padding: 0;\n",
              "    width: 32px;\n",
              "  }\n",
              "\n",
              "  .colab-df-quickchart:hover {\n",
              "    background-color: var(--hover-bg-color);\n",
              "    box-shadow: 0 1px 2px rgba(60, 64, 67, 0.3), 0 1px 3px 1px rgba(60, 64, 67, 0.15);\n",
              "    fill: var(--button-hover-fill-color);\n",
              "  }\n",
              "\n",
              "  .colab-df-quickchart-complete:disabled,\n",
              "  .colab-df-quickchart-complete:disabled:hover {\n",
              "    background-color: var(--disabled-bg-color);\n",
              "    fill: var(--disabled-fill-color);\n",
              "    box-shadow: none;\n",
              "  }\n",
              "\n",
              "  .colab-df-spinner {\n",
              "    border: 2px solid var(--fill-color);\n",
              "    border-color: transparent;\n",
              "    border-bottom-color: var(--fill-color);\n",
              "    animation:\n",
              "      spin 1s steps(1) infinite;\n",
              "  }\n",
              "\n",
              "  @keyframes spin {\n",
              "    0% {\n",
              "      border-color: transparent;\n",
              "      border-bottom-color: var(--fill-color);\n",
              "      border-left-color: var(--fill-color);\n",
              "    }\n",
              "    20% {\n",
              "      border-color: transparent;\n",
              "      border-left-color: var(--fill-color);\n",
              "      border-top-color: var(--fill-color);\n",
              "    }\n",
              "    30% {\n",
              "      border-color: transparent;\n",
              "      border-left-color: var(--fill-color);\n",
              "      border-top-color: var(--fill-color);\n",
              "      border-right-color: var(--fill-color);\n",
              "    }\n",
              "    40% {\n",
              "      border-color: transparent;\n",
              "      border-right-color: var(--fill-color);\n",
              "      border-top-color: var(--fill-color);\n",
              "    }\n",
              "    60% {\n",
              "      border-color: transparent;\n",
              "      border-right-color: var(--fill-color);\n",
              "    }\n",
              "    80% {\n",
              "      border-color: transparent;\n",
              "      border-right-color: var(--fill-color);\n",
              "      border-bottom-color: var(--fill-color);\n",
              "    }\n",
              "    90% {\n",
              "      border-color: transparent;\n",
              "      border-bottom-color: var(--fill-color);\n",
              "    }\n",
              "  }\n",
              "</style>\n",
              "\n",
              "  <script>\n",
              "    async function quickchart(key) {\n",
              "      const quickchartButtonEl =\n",
              "        document.querySelector('#' + key + ' button');\n",
              "      quickchartButtonEl.disabled = true;  // To prevent multiple clicks.\n",
              "      quickchartButtonEl.classList.add('colab-df-spinner');\n",
              "      try {\n",
              "        const charts = await google.colab.kernel.invokeFunction(\n",
              "            'suggestCharts', [key], {});\n",
              "      } catch (error) {\n",
              "        console.error('Error during call to suggestCharts:', error);\n",
              "      }\n",
              "      quickchartButtonEl.classList.remove('colab-df-spinner');\n",
              "      quickchartButtonEl.classList.add('colab-df-quickchart-complete');\n",
              "    }\n",
              "    (() => {\n",
              "      let quickchartButtonEl =\n",
              "        document.querySelector('#df-3f00642f-6b60-4f31-8a79-44ad35e2f60d button');\n",
              "      quickchartButtonEl.style.display =\n",
              "        google.colab.kernel.accessAllowed ? 'block' : 'none';\n",
              "    })();\n",
              "  </script>\n",
              "</div>\n",
              "\n",
              "    </div>\n",
              "  </div>\n"
            ],
            "text/plain": [
              "    aa  frequency\n",
              "0  ASP     0.0865\n",
              "1  VAL     0.0801\n",
              "2  ALA     0.0769\n",
              "3  THR     0.0769\n",
              "4  ARG     0.0705"
            ]
          },
          "metadata": {},
          "output_type": "display_data"
        },
        {
          "data": {
            "image/png": "[encoded data removed]",
            "text/plain": [
              "<Figure size 1000x500 with 1 Axes>"
            ]
          },
          "metadata": {},
          "output_type": "display_data"
        }
      ],
      "source": [
        "# get raw counts\n",
        "aac = pdb_file.df[\"ATOM\"].groupby([\"residue_number\"]).first().residue_name.value_counts().to_dict()\n",
        "\n",
        "# normalize to length of sequence\n",
        "aac = {k:round(v/sum(aac.values()),4) for k,v in aac.items()}\n",
        "\n",
        "counts = pd.DataFrame(aac.items(), columns = [\"aa\", \"frequency\"]).sort_values(by = \"frequency\", ascending = False)\n",
        "display(counts.head())\n",
        "\n",
        "# plot it\n",
        "counts.plot(kind = \"bar\", figsize = (10,5), color = \"green\")\n",
        "_ = plt.xticks(rotation = 90)"
      ]
    },
    {
      "cell_type": "markdown",
      "metadata": {
        "id": "rcNUDTQ9_M5h"
      },
      "source": [
        "# Find Dipeptide composition (DC)"
      ]
    },
    {
      "cell_type": "code",
      "execution_count": null,
      "metadata": {},
      "outputs": [],
      "source": [
        "unique_sequence_list = list(set(aa_dict.values()))\n",
        "dipeptides = []\n",
        "for first_aa in unique_sequence_list:\n",
        "  for second_aa in unique_sequence_list:\n",
        "    dipeptides.append(first_aa + second_aa)"
      ]
    },
    {
      "cell_type": "code",
      "execution_count": null,
      "metadata": {},
      "outputs": [],
      "source": [
        "from collections import Counter\n",
        "\n",
        "# Generate dipeptides (two consecutive amino acids)\n",
        "dipeptides_in_protein = [sequence[i:i+2] for i in range(len(sequence)-1)]\n",
        "\n",
        "# Count dipeptide occurrences\n",
        "dipeptide_counts = Counter(dipeptides_in_protein)"
      ]
    },
    {
      "cell_type": "code",
      "execution_count": null,
      "metadata": {},
      "outputs": [],
      "source": [
        "dipeptides_dictionary = {}\n",
        "for current_peptide in dipeptides:\n",
        "  dipeptides_dictionary[current_peptide] = 0\n",
        "  if current_peptide in dipeptide_counts:\n",
        "    dipeptides_dictionary[current_peptide] = dipeptide_counts[current_peptide]\n",
        "    \n",
        "# Normalize to get relative frequencies\n",
        "total_dipeptides = sum(dipeptides_dictionary.values())\n",
        "dipeptide_freq = {dp: count / total_dipeptides for dp, count in dipeptide_counts.items()}\n",
        "\n",
        "pd.DataFrame(dipeptide_freq.items(), columns = [\"dipeptide\", \"frequency\"]).sort_values(by = \"frequency\", ascending = False)"
      ]
    },
    {
      "cell_type": "markdown",
      "metadata": {
        "id": "C__Zaao8ifJd"
      },
      "source": [
        "# Protein Feature extraction\n",
        "\n",
        "**Other packages you could use to featurize proteins:**\n",
        "\n",
        "1. [propy](https://github.com/MartinThoma/propy3):\n",
        "\n",
        "- Computes AAC, DC, Pseudo-AAC\n",
        "- good for classical ML features\n",
        "\n",
        "2. [biovec](https://github.com/kyu999/biovec)\n",
        "-\tConverts protein sequences into word embeddings (like Word2Vec).\n",
        "-\tTrains on k-mers from protein sequences.\n",
        "-\tUseful for deep learning models\n",
        "\n",
        "3. [fair-esm](https://github.com/facebookresearch/esm)\n",
        "\n",
        "- evolutionary scale modeling\n",
        "- Extracts deep learning embeddings for proteins.\n",
        "- Uses pre-trained transformers\n",
        "- Great for deep learning tasks"
      ]
    },
    {
      "cell_type": "code",
      "execution_count": null,
      "metadata": {},
      "outputs": [],
      "source": [
        "unique_sequence_list = list(set(aa_dict.values()))\n",
        "dipeptides = []\n",
        "for first_aa in unique_sequence_list:\n",
        "  for second_aa in unique_sequence_list:\n",
        "    dipeptides.append(first_aa + second_aa)"
      ]
    },
    {
      "cell_type": "code",
      "execution_count": null,
      "metadata": {},
      "outputs": [],
      "source": [
        "from collections import Counter\n",
        "\n",
        "# Generate dipeptides (two consecutive amino acids)\n",
        "dipeptides_in_protein = [sequence[i:i+2] for i in range(len(sequence)-1)]\n",
        "\n",
        "# Count dipeptide occurrences\n",
        "dipeptide_counts = Counter(dipeptides_in_protein)"
      ]
    },
    {
      "cell_type": "code",
      "execution_count": null,
      "metadata": {},
      "outputs": [],
      "source": [
        "dipeptides_dictionary = {}\n",
        "for current_peptide in dipeptides:\n",
        "  dipeptides_dictionary[current_peptide] = 0\n",
        "  if current_peptide in dipeptide_counts:\n",
        "    dipeptides_dictionary[current_peptide] = dipeptide_counts[current_peptide]\n",
        "    \n",
        "# Normalize to get relative frequencies\n",
        "total_dipeptides = sum(dipeptides_dictionary.values())\n",
        "dipeptide_freq = {dp: count / total_dipeptides for dp, count in dipeptide_counts.items()}\n",
        "\n",
        "pd.DataFrame(dipeptide_freq.items(), columns = [\"dipeptide\", \"frequency\"]).sort_values(by = \"frequency\", ascending = False)"
      ]
    },
    {
      "cell_type": "code",
      "execution_count": null,
      "metadata": {
        "id": "9O5gGIififJe"
      },
      "outputs": [],
      "source": [
        "import iFeatureOmegaCLI\n",
        "\n",
        "protein_features = iFeatureOmegaCLI.iProtein(fasta_location)"
      ]
    },
    {
      "cell_type": "code",
      "execution_count": null,
      "metadata": {
        "colab": {
          "base_uri": "https://localhost:8080/"
        },
        "collapsed": true,
        "id": "PpmNGMnMifJe",
        "outputId": "60ce5515-b3ee-48ee-818a-261fdc226e7c"
      },
      "outputs": [
        {
          "name": "stdout",
          "output_type": "stream",
          "text": [
            "Help on iProtein in module iFeatureOmegaCLI.iFeatureOmegaCLI object:\n",
            "\n",
            "class iProtein(Sequence)\n",
            " |  iProtein(file)\n",
            " |  \n",
            " |  # Running examples:\n",
            " |  # import iFeatureOmegaCLI\n",
            " |  >>> import iFeatureOmegaCLI\n",
            " |  \n",
            " |  # create a instance\n",
            " |  >>> protein = iFeatureOmegaCLI.iProtein(\"./data_examples/peptide_sequences.txt\")\n",
            " |  \n",
            " |  # display available feature descriptor methods\n",
            " |  >>> protein.display_feature_types()\n",
            " |  \n",
            " |  # import parameters for feature descriptors (optimal)\n",
            " |  >>> protein.import_parameters('parameters/Protein_parameters_setting.json')\n",
            " |  \n",
            " |  # calculate feature descriptors. Take \"AAC\" as an example.\n",
            " |  >>> protein.get_descriptor(\"AAC\")\n",
            " |  \n",
            " |  # display the feature descriptors\n",
            " |  >>> print(protein.encodings)\n",
            " |  \n",
            " |  # save feature descriptors\n",
            " |  >>> protein.to_csv(\"AAC.csv\", \"index=False\", header=False)\n",
            " |  \n",
            " |  Method resolution order:\n",
            " |      iProtein\n",
            " |      Sequence\n",
            " |      builtins.object\n",
            " |  \n",
            " |  Methods defined here:\n",
            " |  \n",
            " |  CalculateContent(self, myDistance, j, myLabelSets)\n",
            " |  \n",
            " |  CalculateDistance(self, sequence1, sequence2)\n",
            " |  \n",
            " |  CalculateKSCTriad(self, sequence, gap, features, AADict)\n",
            " |  \n",
            " |  Count(self, seq1, seq2)\n",
            " |  \n",
            " |  Count1(self, aaSet, sequence)\n",
            " |  \n",
            " |  Rvalue(self, aa1, aa2, AADict, Matrix)\n",
            " |  \n",
            " |  Sim(self, a, b)\n",
            " |  \n",
            " |  __init__(self, file)\n",
            " |      Initialize self.  See help(type(self)) for accurate signature.\n",
            " |  \n",
            " |  add_samples_label(self, file)\n",
            " |  \n",
            " |  display_feature_types(self)\n",
            " |  \n",
            " |  gapModel(self, fastas, myDict, gDict, gNames, ktuple, glValue, ttype)\n",
            " |  \n",
            " |  generateGroupPairs(self, groupKey)\n",
            " |  \n",
            " |  generatePropertyPairs(self, myPropertyName)\n",
            " |  \n",
            " |  get_descriptor(self, descriptor='AAC')\n",
            " |  \n",
            " |  import_parameters(self, file)\n",
            " |  \n",
            " |  lambdaModel(self, fastas, myDict, gDict, gNames, ktuple, glValue, ttype)\n",
            " |  \n",
            " |  to_arff(self, file='encode.arff')\n",
            " |  \n",
            " |  to_csv(self, file='encode.csv', index=False, header=False)\n",
            " |  \n",
            " |  to_svm(self, file='encode.svm')\n",
            " |  \n",
            " |  to_tsv(self, file='encode.tsv', index=False, header=False)\n",
            " |  \n",
            " |  ----------------------------------------------------------------------\n",
            " |  Methods inherited from Sequence:\n",
            " |  \n",
            " |  check_sequence_type(self)\n",
            " |      Specify sequence type (Protein, DNA or RNA)\n",
            " |      :return:\n",
            " |  \n",
            " |  read_fasta(self, file)\n",
            " |      read fasta sequence\n",
            " |      :param file:\n",
            " |      :return:\n",
            " |  \n",
            " |  sequence_with_equal_length(self)\n",
            " |      Check if fasta sequence is in equal length\n",
            " |      :return:\n",
            " |  \n",
            " |  ----------------------------------------------------------------------\n",
            " |  Data descriptors inherited from Sequence:\n",
            " |  \n",
            " |  __dict__\n",
            " |      dictionary for instance variables\n",
            " |  \n",
            " |  __weakref__\n",
            " |      list of weak references to the object\n",
            "\n"
          ]
        }
      ],
      "source": [
        "help(protein_features)"
      ]
    },
    {
      "cell_type": "code",
      "execution_count": null,
      "metadata": {
        "colab": {
          "base_uri": "https://localhost:8080/"
        },
        "collapsed": true,
        "id": "C55ep4pDifJe",
        "outputId": "370dc392-2640-4849-efd4-77bca98440a2"
      },
      "outputs": [
        {
          "name": "stdout",
          "output_type": "stream",
          "text": [
            "\n",
            "        ----- Available feature types ------        \n",
            "        \n",
            "        AAC                                                Amino acid composition\n",
            "        EAAC                                               Enhanced amino acid composition\n",
            "        CKSAAP type 1                                      Composition of k-spaced amino acid pairs type 1 - normalized\n",
            "        CKSAAP type 2                                      Composition of k-spaced amino acid pairs type 2 - raw count\n",
            "        DPC type 1                                         Dipeptide composition type 1 - normalized\n",
            "        DPC type 2                                         Dipeptide composition type 2 - raw count\n",
            "        TPC type 1                                         Tripeptide composition type 1 - normalized\n",
            "        TPC type 2                                         Tripeptide composition type 1 - raw count\n",
            "        CTDC                                               Composition\n",
            "        CTDT                                               Transition\n",
            "        CTDD                                               Distribution\n",
            "        CTriad                                             Conjoint triad\n",
            "        KSCTriad                                           Conjoint k-spaced triad\n",
            "        ASDC                                               Adaptive skip dipeptide composition\n",
            "        DistancePair                                       PseAAC of distance-pairs and reduced alphabe\n",
            "        GAAC                                               Grouped amino acid composition\n",
            "        EGAAC                                              Enhanced grouped amino acid composition\n",
            "        CKSAAGP type 1                                     Composition of k-spaced amino acid group pairs type 1- normalized\n",
            "        CKSAAGP type 2                                     Composition of k-spaced amino acid group pairs type 2- raw count\n",
            "        GDPC type 1                                        Grouped dipeptide composition type 1 - normalized\n",
            "        GDPC type 2                                        Grouped dipeptide composition type 2 - raw count\n",
            "        GTPC type 1                                        Grouped tripeptide composition type 1 - normalized\n",
            "        GTPC type 2                                        Grouped tripeptide composition type 1 - raw count\n",
            "        Moran                                              Moran\n",
            "        Geary                                              Geary\n",
            "        NMBroto                                            Normalized Moreau-Broto\n",
            "        AC                                                 Auto covariance\n",
            "        CC                                                 Cross covariance\n",
            "        ACC                                                Auto-cross covariance\n",
            "        SOCNumber                                          Sequence-order-coupling number\n",
            "        QSOrder                                            Quasi-sequence-order descriptors\n",
            "        PAAC                                               Pseudo-amino acid composition\n",
            "        APAAC                                              Amphiphilic PAAC\n",
            "        PseKRAAC type 1                                    Pseudo K-tuple reduced amino acids composition type 1\n",
            "        PseKRAAC type 2                                    Pseudo K-tuple reduced amino acids composition type 2\n",
            "        PseKRAAC type 3A                                   Pseudo K-tuple reduced amino acids composition type 3A\n",
            "        PseKRAAC type 3B                                   Pseudo K-tuple reduced amino acids composition type 3B\n",
            "        PseKRAAC type 4                                    Pseudo K-tuple reduced amino acids composition type 4\n",
            "        PseKRAAC type 5                                    Pseudo K-tuple reduced amino acids composition type 5\n",
            "        PseKRAAC type 6A                                   Pseudo K-tuple reduced amino acids composition type 6A\n",
            "        PseKRAAC type 6B                                   Pseudo K-tuple reduced amino acids composition type 6B\n",
            "        PseKRAAC type 6C                                   Pseudo K-tuple reduced amino acids composition type 6C\n",
            "        PseKRAAC type 7                                    Pseudo K-tuple reduced amino acids composition type 7\n",
            "        PseKRAAC type 8                                    Pseudo K-tuple reduced amino acids composition type 8\n",
            "        PseKRAAC type 9                                    Pseudo K-tuple reduced amino acids composition type 9\n",
            "        PseKRAAC type 10                                   Pseudo K-tuple reduced amino acids composition type 10\n",
            "        PseKRAAC type 11                                   Pseudo K-tuple reduced amino acids composition type 11\n",
            "        PseKRAAC type 12                                   Pseudo K-tuple reduced amino acids composition type 12\n",
            "        PseKRAAC type 13                                   Pseudo K-tuple reduced amino acids composition type 13\n",
            "        PseKRAAC type 14                                   Pseudo K-tuple reduced amino acids composition type 14\n",
            "        PseKRAAC type 15                                   Pseudo K-tuple reduced amino acids composition type 15\n",
            "        PseKRAAC type 16                                   Pseudo K-tuple reduced amino acids composition type 16\n",
            "        binary                                             Binary\n",
            "        binary_6bit                                        Binary\n",
            "        binary_5bit type 1                                 Binary\n",
            "        binary_5bit type 2                                 Binary\n",
            "        binary_3bit type 1                                 Binary\n",
            "        binary_3bit type 2                                 Binary\n",
            "        binary_3bit type 3                                 Binary\n",
            "        binary_3bit type 4                                 Binary\n",
            "        binary_3bit type 5                                 Binary\n",
            "        binary_3bit type 6                                 Binary\n",
            "        binary_3bit type 7                                 Binary\n",
            "        AESNN3                                             Learn from alignments\n",
            "        OPF_10bit                                          Overlapping property features - 10 bit\n",
            "        OPF_7bit type 1                                    Overlapping property features - 7 bit type 1\n",
            "        OPF_7bit type 2                                    Overlapping property features - 7 bit type 2\n",
            "        OPF_7bit type 3                                    Overlapping property features - 7 bit type 3\n",
            "        AAIndex                                            AAIndex\n",
            "        BLOSUM62                                           BLOSUM62\n",
            "        ZScale                                             Z-Scales index\n",
            "        KNN                                                K-nearest neighbor\n",
            "\n",
            "        Note: the first column is the names of availables feature types while the second column is description.  \n",
            "        \n",
            "        \n"
          ]
        }
      ],
      "source": [
        "protein_features.display_feature_types()"
      ]
    },
    {
      "cell_type": "markdown",
      "metadata": {},
      "source": [
        "# Now generate Features using the help docs"
      ]
    },
    {
      "cell_type": "code",
      "execution_count": null,
      "metadata": {
        "id": "81-3fbCnifJe"
      },
      "outputs": [],
      "source": [
        "descriptor_blocks = [\"AAC\", \"DistancePair\", \"BLOSUM62\"]\n",
        "protein_features = []\n",
        "protein_features_names = []\n",
        "\n",
        "PF = iFeatureOmegaCLI.iProtein(fasta_location)\n",
        "\n",
        "for current_descriptor_block in descriptor_blocks:\n",
        "    PF.get_descriptor(current_descriptor_block)\n",
        "    current_features_table = PF.encodings.reset_index(drop=True)\n",
        "    protein_features += current_features_table.values[0].tolist()\n",
        "    protein_features_names += current_features_table.columns.tolist()"
      ]
    },
    {
      "cell_type": "markdown",
      "metadata": {
        "id": "m3Pex-vIifJe"
      },
      "source": [
        "# Plot energies of the Small molecules"
      ]
    },
    {
      "cell_type": "code",
      "execution_count": null,
      "metadata": {
        "colab": {
          "base_uri": "https://localhost:8080/",
          "height": 655
        },
        "id": "Vwf8UCXoI3Pb",
        "outputId": "ef90c50b-33c6-4509-8831-96cc7eeb5a43"
      },
      "outputs": [
        {
          "data": {
            "application/vnd.google.colaboratory.intrinsic+json": {
              "summary": "{\n  \"name\": \"loaded_ligands\",\n  \"rows\": 5,\n  \"fields\": [\n    {\n      \"column\": \"ligand\",\n      \"properties\": {\n        \"dtype\": \"string\",\n        \"num_unique_values\": 5,\n        \"samples\": [\n          \"lig_1_cotb2_100_10.pdb\",\n          \"lig_1_cotb2_100_13.pdb\",\n          \"lig_1_cotb2_100_11.pdb\"\n        ],\n        \"semantic_type\": \"\",\n        \"description\": \"\"\n      }\n    },\n    {\n      \"column\": \"energy\",\n      \"properties\": {\n        \"dtype\": \"number\",\n        \"std\": 16.009236956597984,\n        \"min\": -44.423028,\n        \"max\": -0.501766505,\n        \"num_unique_values\": 5,\n        \"samples\": [\n          -44.423028,\n          -28.6344827,\n          -29.6927815\n        ],\n        \"semantic_type\": \"\",\n        \"description\": \"\"\n      }\n    }\n  ]\n}",
              "type": "dataframe"
            },
            "text/html": [
              "\n",
              "  <div id=\"df-db1b5978-eafb-4f7c-984f-61eb6e876861\" class=\"colab-df-container\">\n",
              "    <div>\n",
              "<style scoped>\n",
              "    .dataframe tbody tr th:only-of-type {\n",
              "        vertical-align: middle;\n",
              "    }\n",
              "\n",
              "    .dataframe tbody tr th {\n",
              "        vertical-align: top;\n",
              "    }\n",
              "\n",
              "    .dataframe thead th {\n",
              "        text-align: right;\n",
              "    }\n",
              "</style>\n",
              "<table border=\"1\" class=\"dataframe\">\n",
              "  <thead>\n",
              "    <tr style=\"text-align: right;\">\n",
              "      <th></th>\n",
              "      <th>ligand</th>\n",
              "      <th>energy</th>\n",
              "    </tr>\n",
              "  </thead>\n",
              "  <tbody>\n",
              "    <tr>\n",
              "      <th>0</th>\n",
              "      <td>lig_1_cotb2_100_100.pdb</td>\n",
              "      <td>-21.457340</td>\n",
              "    </tr>\n",
              "    <tr>\n",
              "      <th>1</th>\n",
              "      <td>lig_1_cotb2_100_10.pdb</td>\n",
              "      <td>-44.423028</td>\n",
              "    </tr>\n",
              "    <tr>\n",
              "      <th>2</th>\n",
              "      <td>lig_1_cotb2_100_11.pdb</td>\n",
              "      <td>-29.692781</td>\n",
              "    </tr>\n",
              "    <tr>\n",
              "      <th>3</th>\n",
              "      <td>lig_1_cotb2_100_12.pdb</td>\n",
              "      <td>-0.501767</td>\n",
              "    </tr>\n",
              "    <tr>\n",
              "      <th>4</th>\n",
              "      <td>lig_1_cotb2_100_13.pdb</td>\n",
              "      <td>-28.634483</td>\n",
              "    </tr>\n",
              "  </tbody>\n",
              "</table>\n",
              "</div>\n",
              "    <div class=\"colab-df-buttons\">\n",
              "\n",
              "  <div class=\"colab-df-container\">\n",
              "    <button class=\"colab-df-convert\" onclick=\"convertToInteractive('df-db1b5978-eafb-4f7c-984f-61eb6e876861')\"\n",
              "            title=\"Convert this dataframe to an interactive table.\"\n",
              "            style=\"display:none;\">\n",
              "\n",
              "  <svg xmlns=\"http://www.w3.org/2000/svg\" height=\"24px\" viewBox=\"0 -960 960 960\">\n",
              "    <path d=\"M120-120v-720h720v720H120Zm60-500h600v-160H180v160Zm220 220h160v-160H400v160Zm0 220h160v-160H400v160ZM180-400h160v-160H180v160Zm440 0h160v-160H620v160ZM180-180h160v-160H180v160Zm440 0h160v-160H620v160Z\"/>\n",
              "  </svg>\n",
              "    </button>\n",
              "\n",
              "  <style>\n",
              "    .colab-df-container {\n",
              "      display:flex;\n",
              "      gap: 12px;\n",
              "    }\n",
              "\n",
              "    .colab-df-convert {\n",
              "      background-color: #E8F0FE;\n",
              "      border: none;\n",
              "      border-radius: 50%;\n",
              "      cursor: pointer;\n",
              "      display: none;\n",
              "      fill: #1967D2;\n",
              "      height: 32px;\n",
              "      padding: 0 0 0 0;\n",
              "      width: 32px;\n",
              "    }\n",
              "\n",
              "    .colab-df-convert:hover {\n",
              "      background-color: #E2EBFA;\n",
              "      box-shadow: 0px 1px 2px rgba(60, 64, 67, 0.3), 0px 1px 3px 1px rgba(60, 64, 67, 0.15);\n",
              "      fill: #174EA6;\n",
              "    }\n",
              "\n",
              "    .colab-df-buttons div {\n",
              "      margin-bottom: 4px;\n",
              "    }\n",
              "\n",
              "    [theme=dark] .colab-df-convert {\n",
              "      background-color: #3B4455;\n",
              "      fill: #D2E3FC;\n",
              "    }\n",
              "\n",
              "    [theme=dark] .colab-df-convert:hover {\n",
              "      background-color: #434B5C;\n",
              "      box-shadow: 0px 1px 3px 1px rgba(0, 0, 0, 0.15);\n",
              "      filter: drop-shadow(0px 1px 2px rgba(0, 0, 0, 0.3));\n",
              "      fill: #FFFFFF;\n",
              "    }\n",
              "  </style>\n",
              "\n",
              "    <script>\n",
              "      const buttonEl =\n",
              "        document.querySelector('#df-db1b5978-eafb-4f7c-984f-61eb6e876861 button.colab-df-convert');\n",
              "      buttonEl.style.display =\n",
              "        google.colab.kernel.accessAllowed ? 'block' : 'none';\n",
              "\n",
              "      async function convertToInteractive(key) {\n",
              "        const element = document.querySelector('#df-db1b5978-eafb-4f7c-984f-61eb6e876861');\n",
              "        const dataTable =\n",
              "          await google.colab.kernel.invokeFunction('convertToInteractive',\n",
              "                                                    [key], {});\n",
              "        if (!dataTable) return;\n",
              "\n",
              "        const docLinkHtml = 'Like what you see? Visit the ' +\n",
              "          '<a target=\"_blank\" href=https://colab.research.google.com/notebooks/data_table.ipynb>data table notebook</a>'\n",
              "          + ' to learn more about interactive tables.';\n",
              "        element.innerHTML = '';\n",
              "        dataTable['output_type'] = 'display_data';\n",
              "        await google.colab.output.renderOutput(dataTable, element);\n",
              "        const docLink = document.createElement('div');\n",
              "        docLink.innerHTML = docLinkHtml;\n",
              "        element.appendChild(docLink);\n",
              "      }\n",
              "    </script>\n",
              "  </div>\n",
              "\n",
              "\n",
              "<div id=\"df-99133dc7-bef0-403e-9886-87c1021e726d\">\n",
              "  <button class=\"colab-df-quickchart\" onclick=\"quickchart('df-99133dc7-bef0-403e-9886-87c1021e726d')\"\n",
              "            title=\"Suggest charts\"\n",
              "            style=\"display:none;\">\n",
              "\n",
              "<svg xmlns=\"http://www.w3.org/2000/svg\" height=\"24px\"viewBox=\"0 0 24 24\"\n",
              "     width=\"24px\">\n",
              "    <g>\n",
              "        <path d=\"M19 3H5c-1.1 0-2 .9-2 2v14c0 1.1.9 2 2 2h14c1.1 0 2-.9 2-2V5c0-1.1-.9-2-2-2zM9 17H7v-7h2v7zm4 0h-2V7h2v10zm4 0h-2v-4h2v4z\"/>\n",
              "    </g>\n",
              "</svg>\n",
              "  </button>\n",
              "\n",
              "<style>\n",
              "  .colab-df-quickchart {\n",
              "      --bg-color: #E8F0FE;\n",
              "      --fill-color: #1967D2;\n",
              "      --hover-bg-color: #E2EBFA;\n",
              "      --hover-fill-color: #174EA6;\n",
              "      --disabled-fill-color: #AAA;\n",
              "      --disabled-bg-color: #DDD;\n",
              "  }\n",
              "\n",
              "  [theme=dark] .colab-df-quickchart {\n",
              "      --bg-color: #3B4455;\n",
              "      --fill-color: #D2E3FC;\n",
              "      --hover-bg-color: #434B5C;\n",
              "      --hover-fill-color: #FFFFFF;\n",
              "      --disabled-bg-color: #3B4455;\n",
              "      --disabled-fill-color: #666;\n",
              "  }\n",
              "\n",
              "  .colab-df-quickchart {\n",
              "    background-color: var(--bg-color);\n",
              "    border: none;\n",
              "    border-radius: 50%;\n",
              "    cursor: pointer;\n",
              "    display: none;\n",
              "    fill: var(--fill-color);\n",
              "    height: 32px;\n",
              "    padding: 0;\n",
              "    width: 32px;\n",
              "  }\n",
              "\n",
              "  .colab-df-quickchart:hover {\n",
              "    background-color: var(--hover-bg-color);\n",
              "    box-shadow: 0 1px 2px rgba(60, 64, 67, 0.3), 0 1px 3px 1px rgba(60, 64, 67, 0.15);\n",
              "    fill: var(--button-hover-fill-color);\n",
              "  }\n",
              "\n",
              "  .colab-df-quickchart-complete:disabled,\n",
              "  .colab-df-quickchart-complete:disabled:hover {\n",
              "    background-color: var(--disabled-bg-color);\n",
              "    fill: var(--disabled-fill-color);\n",
              "    box-shadow: none;\n",
              "  }\n",
              "\n",
              "  .colab-df-spinner {\n",
              "    border: 2px solid var(--fill-color);\n",
              "    border-color: transparent;\n",
              "    border-bottom-color: var(--fill-color);\n",
              "    animation:\n",
              "      spin 1s steps(1) infinite;\n",
              "  }\n",
              "\n",
              "  @keyframes spin {\n",
              "    0% {\n",
              "      border-color: transparent;\n",
              "      border-bottom-color: var(--fill-color);\n",
              "      border-left-color: var(--fill-color);\n",
              "    }\n",
              "    20% {\n",
              "      border-color: transparent;\n",
              "      border-left-color: var(--fill-color);\n",
              "      border-top-color: var(--fill-color);\n",
              "    }\n",
              "    30% {\n",
              "      border-color: transparent;\n",
              "      border-left-color: var(--fill-color);\n",
              "      border-top-color: var(--fill-color);\n",
              "      border-right-color: var(--fill-color);\n",
              "    }\n",
              "    40% {\n",
              "      border-color: transparent;\n",
              "      border-right-color: var(--fill-color);\n",
              "      border-top-color: var(--fill-color);\n",
              "    }\n",
              "    60% {\n",
              "      border-color: transparent;\n",
              "      border-right-color: var(--fill-color);\n",
              "    }\n",
              "    80% {\n",
              "      border-color: transparent;\n",
              "      border-right-color: var(--fill-color);\n",
              "      border-bottom-color: var(--fill-color);\n",
              "    }\n",
              "    90% {\n",
              "      border-color: transparent;\n",
              "      border-bottom-color: var(--fill-color);\n",
              "    }\n",
              "  }\n",
              "</style>\n",
              "\n",
              "  <script>\n",
              "    async function quickchart(key) {\n",
              "      const quickchartButtonEl =\n",
              "        document.querySelector('#' + key + ' button');\n",
              "      quickchartButtonEl.disabled = true;  // To prevent multiple clicks.\n",
              "      quickchartButtonEl.classList.add('colab-df-spinner');\n",
              "      try {\n",
              "        const charts = await google.colab.kernel.invokeFunction(\n",
              "            'suggestCharts', [key], {});\n",
              "      } catch (error) {\n",
              "        console.error('Error during call to suggestCharts:', error);\n",
              "      }\n",
              "      quickchartButtonEl.classList.remove('colab-df-spinner');\n",
              "      quickchartButtonEl.classList.add('colab-df-quickchart-complete');\n",
              "    }\n",
              "    (() => {\n",
              "      let quickchartButtonEl =\n",
              "        document.querySelector('#df-99133dc7-bef0-403e-9886-87c1021e726d button');\n",
              "      quickchartButtonEl.style.display =\n",
              "        google.colab.kernel.accessAllowed ? 'block' : 'none';\n",
              "    })();\n",
              "  </script>\n",
              "</div>\n",
              "\n",
              "    </div>\n",
              "  </div>\n"
            ],
            "text/plain": [
              "                    ligand     energy\n",
              "0  lig_1_cotb2_100_100.pdb -21.457340\n",
              "1   lig_1_cotb2_100_10.pdb -44.423028\n",
              "2   lig_1_cotb2_100_11.pdb -29.692781\n",
              "3   lig_1_cotb2_100_12.pdb  -0.501767\n",
              "4   lig_1_cotb2_100_13.pdb -28.634483"
            ]
          },
          "metadata": {},
          "output_type": "display_data"
        },
        {
          "data": {
            "text/plain": [
              "(10000, 2)"
            ]
          },
          "metadata": {},
          "output_type": "display_data"
        },
        {
          "data": {
            "text/plain": [
              "<AxesSubplot:>"
            ]
          },
          "execution_count": 34,
          "metadata": {},
          "output_type": "execute_result"
        },
        {
          "data": {
            "image/png": "[encoded data removed]",
            "text/plain": [
              "<Figure size 640x480 with 1 Axes>"
            ]
          },
          "metadata": {},
          "output_type": "display_data"
        }
      ],
      "source": [
        "%matplotlib inline\n",
        "\n",
        "energies = 'https://github.com/enveda/enzyme-ml/raw/refs/heads/main/workshop_data/cotb2_ml_data/lig_1_energy.txt'\n",
        "loaded_ligands = pd.read_csv(energies, header = None, sep=\" \")\n",
        "loaded_ligands.columns = [\"ligand\", \"energy\"]\n",
        "display(loaded_ligands.head(5), loaded_ligands.shape)\n",
        "loaded_ligands.energy.hist()"
      ]
    },
    {
      "cell_type": "code",
      "execution_count": null,
      "metadata": {
        "colab": {
          "base_uri": "https://localhost:8080/"
        },
        "id": "SrJEitVpRctI",
        "outputId": "99f427c1-61e9-431c-9e8f-5aaf86c75c56"
      },
      "outputs": [
        {
          "name": "stdout",
          "output_type": "stream",
          "text": [
            "--2025-03-11 16:19:26--  https://github.com/enveda/enzyme-ml/raw/refs/heads/main/workshop_data/cotb2_ml_data/lig_1_pdbs.tar\n",
            "Resolving github.com (github.com)... 140.82.113.4\n",
            "Connecting to github.com (github.com)|140.82.113.4|:443... connected.\n",
            "HTTP request sent, awaiting response... 302 Found\n",
            "Location: https://raw.githubusercontent.com/enveda/enzyme-ml/refs/heads/main/workshop_data/cotb2_ml_data/lig_1_pdbs.tar [following]\n",
            "--2025-03-11 16:19:27--  https://raw.githubusercontent.com/enveda/enzyme-ml/refs/heads/main/workshop_data/cotb2_ml_data/lig_1_pdbs.tar\n",
            "Resolving raw.githubusercontent.com (raw.githubusercontent.com)... 185.199.109.133, 185.199.108.133, 185.199.110.133, ...\n",
            "Connecting to raw.githubusercontent.com (raw.githubusercontent.com)|185.199.109.133|:443... connected.\n",
            "HTTP request sent, awaiting response... 200 OK\n",
            "Length: 51210240 (49M) [application/octet-stream]\n",
            "Saving to: ‘/content/lig_1_pdbs.tar’\n",
            "\n",
            "/content/lig_1_pdbs 100%[===================>]  48.84M   173MB/s    in 0.3s    \n",
            "\n",
            "2025-03-11 16:19:28 (173 MB/s) - ‘/content/lig_1_pdbs.tar’ saved [51210240/51210240]\n",
            "\n",
            "Number of files: 10000\n"
          ]
        }
      ],
      "source": [
        "import os\n",
        "\n",
        "# get ligands\n",
        "!wget \"https://github.com/enveda/enzyme-ml/raw/refs/heads/main/workshop_data/cotb2_ml_data/lig_1_pdbs.tar\" -O /content/lig_1_pdbs.tar\n",
        "!mkdir -p ligands\n",
        "!tar -xf /content/lig_1_pdbs.tar -C ligands\n",
        "\n",
        "files = os.listdir(\"/content/ligands\")\n",
        "print(f\"Number of files: {len(files)}\")"
      ]
    },
    {
      "cell_type": "markdown",
      "metadata": {},
      "source": [
        "# Generate 3d descriptors using rdkit for all 10000 molecules"
      ]
    },
    {
      "cell_type": "code",
      "execution_count": null,
      "metadata": {
        "colab": {
          "base_uri": "https://localhost:8080/"
        },
        "id": "ZL54XC9Dg_Pr",
        "outputId": "e3a06232-080a-4aaa-d32e-ea684fb1904f"
      },
      "outputs": [
        {
          "name": "stderr",
          "output_type": "stream",
          "text": [
            "10000it [00:45, 220.91it/s]\n"
          ]
        }
      ],
      "source": [
        "from rdkit import Chem\n",
        "from tqdm import tqdm\n",
        "\n",
        "for idx, row in tqdm(loaded_ligands.iterrows()):\n",
        "  file_name = row[\"ligand\"]\n",
        "  file_path = \"/content/ligands/\" + file_name\n",
        "\n",
        "  try:\n",
        "    mol = Chem.MolFromPDBFile(file_path, removeHs=True)\n",
        "    loaded_ligands.loc[idx, \"mol\"] = mol\n",
        "\n",
        "    descriptors = Chem.Descriptors3D.CalcMolDescriptors3D(mol)\n",
        "    for k,v in descriptors.items():\n",
        "      loaded_ligands.loc[idx, k] = v\n",
        "  except Exception as e:\n",
        "    loaded_ligands.loc[idx, \"mol\"] = None\n",
        "    continue"
      ]
    },
    {
      "cell_type": "code",
      "execution_count": null,
      "metadata": {
        "colab": {
          "base_uri": "https://localhost:8080/",
          "height": 400
        },
        "id": "TduXJJIKAgNr",
        "outputId": "3d06df22-b7d9-4cb6-ea67-8ba69de3a89f"
      },
      "outputs": [
        {
          "data": {
            "application/vnd.google.colaboratory.intrinsic+json": {
              "summary": "{\n  \"name\": \"loaded_ligands\",\n  \"rows\": 10000,\n  \"fields\": [\n    {\n      \"column\": \"ligand\",\n      \"properties\": {\n        \"dtype\": \"string\",\n        \"num_unique_values\": 10000,\n        \"samples\": [\n          \"lig_1_cotb2_65_99.pdb\",\n          \"lig_1_cotb2_51_79.pdb\",\n          \"lig_1_cotb2_24_8.pdb\"\n        ],\n        \"semantic_type\": \"\",\n        \"description\": \"\"\n      }\n    },\n    {\n      \"column\": \"energy\",\n      \"properties\": {\n        \"dtype\": \"number\",\n        \"std\": 16.413197508951615,\n        \"min\": -48.7248803,\n        \"max\": 38.8366852,\n        \"num_unique_values\": 9999,\n        \"samples\": [\n          3.37353718,\n          -44.257902,\n          -44.6658752\n        ],\n        \"semantic_type\": \"\",\n        \"description\": \"\"\n      }\n    },\n    {\n      \"column\": \"mol\",\n      \"properties\": {\n        \"dtype\": \"string\",\n        \"num_unique_values\": 10000,\n        \"samples\": [\n          \"<rdkit.Chem.rdchem.Mol object at 0x7f4326bda3b0>\",\n          \"<rdkit.Chem.rdchem.Mol object at 0x7f4326baaf80>\",\n          \"<rdkit.Chem.rdchem.Mol object at 0x7f4327559540>\"\n        ],\n        \"semantic_type\": \"\",\n        \"description\": \"\"\n      }\n    },\n    {\n      \"column\": \"PMI1\",\n      \"properties\": {\n        \"dtype\": \"number\",\n        \"std\": 33.01343681646542,\n        \"min\": 602.984581117089,\n        \"max\": 925.5166601621901,\n        \"num_unique_values\": 10000,\n        \"samples\": [\n          785.2499432646819,\n          791.7015353069522,\n          845.1246392858003\n        ],\n        \"semantic_type\": \"\",\n        \"description\": \"\"\n      }\n    },\n    {\n      \"column\": \"PMI2\",\n      \"properties\": {\n        \"dtype\": \"number\",\n        \"std\": 52.2606481021144,\n        \"min\": 1283.3780427796155,\n        \"max\": 1892.6129445010338,\n        \"num_unique_values\": 10000,\n        \"samples\": [\n          1603.0482629733567,\n          1606.737004594618,\n          1591.5249123903561\n        ],\n        \"semantic_type\": \"\",\n        \"description\": \"\"\n      }\n    },\n    {\n      \"column\": \"PMI3\",\n      \"properties\": {\n        \"dtype\": \"number\",\n        \"std\": 37.43343673581345,\n        \"min\": 1825.077394261196,\n        \"max\": 2302.6763492386235,\n        \"num_unique_values\": 10000,\n        \"samples\": [\n          2081.0672432215606,\n          2086.8809238776303,\n          2089.6416143006436\n        ],\n        \"semantic_type\": \"\",\n        \"description\": \"\"\n      }\n    },\n    {\n      \"column\": \"NPR1\",\n      \"properties\": {\n        \"dtype\": \"number\",\n        \"std\": 0.017879057328454174,\n        \"min\": 0.2745279688881437,\n        \"max\": 0.5071109110618542,\n        \"num_unique_values\": 10000,\n        \"samples\": [\n          0.37733040382159355,\n          0.37937072798379545,\n          0.40443520721549403\n        ],\n        \"semantic_type\": \"\",\n        \"description\": \"\"\n      }\n    },\n    {\n      \"column\": \"NPR2\",\n      \"properties\": {\n        \"dtype\": \"number\",\n        \"std\": 0.021688257648561585,\n        \"min\": 0.6965023791244437,\n        \"max\": 0.8616724271501488,\n        \"num_unique_values\": 10000,\n        \"samples\": [\n          0.7703010405813631,\n          0.7699227043626151,\n          0.7616257742469413\n        ],\n        \"semantic_type\": \"\",\n        \"description\": \"\"\n      }\n    },\n    {\n      \"column\": \"RadiusOfGyration\",\n      \"properties\": {\n        \"dtype\": \"number\",\n        \"std\": 0.023725154726091775,\n        \"min\": 2.8976562641210575,\n        \"max\": 3.168206141493954,\n        \"num_unique_values\": 10000,\n        \"samples\": [\n          3.050024686785338,\n          3.0554635785752713,\n          3.069387108202548\n        ],\n        \"semantic_type\": \"\",\n        \"description\": \"\"\n      }\n    },\n    {\n      \"column\": \"InertialShapeFactor\",\n      \"properties\": {\n        \"dtype\": \"number\",\n        \"std\": 5.873708408010746e-05,\n        \"min\": 0.0007597821355706759,\n        \"max\": 0.001429012373009298,\n        \"num_unique_values\": 10000,\n        \"samples\": [\n          0.0009809628732717016,\n          0.0009724911093725578,\n          0.0009011993484068547\n        ],\n        \"semantic_type\": \"\",\n        \"description\": \"\"\n      }\n    },\n    {\n      \"column\": \"Eccentricity\",\n      \"properties\": {\n        \"dtype\": \"number\",\n        \"std\": 0.007769995681821482,\n        \"min\": 0.8618808060758844,\n        \"max\": 0.9615791149448651,\n        \"num_unique_values\": 10000,\n        \"samples\": [\n          0.9260787041887062,\n          0.925244751808431,\n          0.9145666532104483\n        ],\n        \"semantic_type\": \"\",\n        \"description\": \"\"\n      }\n    },\n    {\n      \"column\": \"Asphericity\",\n      \"properties\": {\n        \"dtype\": \"number\",\n        \"std\": 0.017029845017568615,\n        \"min\": 0.1512588580257764,\n        \"max\": 0.39014425117663226,\n        \"num_unique_values\": 10000,\n        \"samples\": [\n          0.25796339084274117,\n          0.25572115041738097,\n          0.22980624786477347\n        ],\n        \"semantic_type\": \"\",\n        \"description\": \"\"\n      }\n    },\n    {\n      \"column\": \"SpherocityIndex\",\n      \"properties\": {\n        \"dtype\": \"number\",\n        \"std\": 0.022033267124770144,\n        \"min\": 0.1344982904790049,\n        \"max\": 0.3144399467505015,\n        \"num_unique_values\": 10000,\n        \"samples\": [\n          0.20622455233793424,\n          0.20838490003213497,\n          0.22999488410107183\n        ],\n        \"semantic_type\": \"\",\n        \"description\": \"\"\n      }\n    },\n    {\n      \"column\": \"PBF\",\n      \"properties\": {\n        \"dtype\": \"number\",\n        \"std\": 0.032004561429132855,\n        \"min\": 0.5063248595431068,\n        \"max\": 0.7369027064635558,\n        \"num_unique_values\": 10000,\n        \"samples\": [\n          0.6559701245199551,\n          0.6620538752899191,\n          0.6498990893395484\n        ],\n        \"semantic_type\": \"\",\n        \"description\": \"\"\n      }\n    },\n    {\n      \"column\": \"smiles\",\n      \"properties\": {\n        \"dtype\": \"category\",\n        \"num_unique_values\": 1,\n        \"samples\": [\n          \"CC1CCCC(C)CCC2(C)CCC(C(C)C)C2CC1\"\n        ],\n        \"semantic_type\": \"\",\n        \"description\": \"\"\n      }\n    }\n  ]\n}",
              "type": "dataframe",
              "variable_name": "loaded_ligands"
            },
            "text/html": [
              "\n",
              "  <div id=\"df-008305b8-936b-4a85-ac1b-c3762bb92479\" class=\"colab-df-container\">\n",
              "    <div>\n",
              "<style scoped>\n",
              "    .dataframe tbody tr th:only-of-type {\n",
              "        vertical-align: middle;\n",
              "    }\n",
              "\n",
              "    .dataframe tbody tr th {\n",
              "        vertical-align: top;\n",
              "    }\n",
              "\n",
              "    .dataframe thead th {\n",
              "        text-align: right;\n",
              "    }\n",
              "</style>\n",
              "<table border=\"1\" class=\"dataframe\">\n",
              "  <thead>\n",
              "    <tr style=\"text-align: right;\">\n",
              "      <th></th>\n",
              "      <th>ligand</th>\n",
              "      <th>energy</th>\n",
              "      <th>mol</th>\n",
              "      <th>PMI1</th>\n",
              "      <th>PMI2</th>\n",
              "      <th>PMI3</th>\n",
              "      <th>NPR1</th>\n",
              "      <th>NPR2</th>\n",
              "      <th>RadiusOfGyration</th>\n",
              "      <th>InertialShapeFactor</th>\n",
              "      <th>Eccentricity</th>\n",
              "      <th>Asphericity</th>\n",
              "      <th>SpherocityIndex</th>\n",
              "      <th>PBF</th>\n",
              "      <th>smiles</th>\n",
              "    </tr>\n",
              "  </thead>\n",
              "  <tbody>\n",
              "    <tr>\n",
              "      <th>0</th>\n",
              "      <td>lig_1_cotb2_100_100.pdb</td>\n",
              "      <td>-21.457340</td>\n",
              "      <td>&lt;rdkit.Chem.rdchem.Mol object at 0x7f43275a97e0&gt;</td>\n",
              "      <td>858.038436</td>\n",
              "      <td>1583.425000</td>\n",
              "      <td>2184.329171</td>\n",
              "      <td>0.392816</td>\n",
              "      <td>0.724902</td>\n",
              "      <td>3.102941</td>\n",
              "      <td>0.000845</td>\n",
              "      <td>0.919617</td>\n",
              "      <td>0.247343</td>\n",
              "      <td>0.166761</td>\n",
              "      <td>0.576983</td>\n",
              "      <td>CC1CCCC(C)CCC2(C)CCC(C(C)C)C2CC1</td>\n",
              "    </tr>\n",
              "    <tr>\n",
              "      <th>1</th>\n",
              "      <td>lig_1_cotb2_100_10.pdb</td>\n",
              "      <td>-44.423028</td>\n",
              "      <td>&lt;rdkit.Chem.rdchem.Mol object at 0x7f43275a98c0&gt;</td>\n",
              "      <td>849.158235</td>\n",
              "      <td>1572.291482</td>\n",
              "      <td>2074.488795</td>\n",
              "      <td>0.409334</td>\n",
              "      <td>0.757918</td>\n",
              "      <td>3.059078</td>\n",
              "      <td>0.000893</td>\n",
              "      <td>0.912385</td>\n",
              "      <td>0.225252</td>\n",
              "      <td>0.231516</td>\n",
              "      <td>0.650322</td>\n",
              "      <td>CC1CCCC(C)CCC2(C)CCC(C(C)C)C2CC1</td>\n",
              "    </tr>\n",
              "    <tr>\n",
              "      <th>2</th>\n",
              "      <td>lig_1_cotb2_100_11.pdb</td>\n",
              "      <td>-29.692781</td>\n",
              "      <td>&lt;rdkit.Chem.rdchem.Mol object at 0x7f43275a9930&gt;</td>\n",
              "      <td>790.542596</td>\n",
              "      <td>1615.008980</td>\n",
              "      <td>2102.130286</td>\n",
              "      <td>0.376067</td>\n",
              "      <td>0.768273</td>\n",
              "      <td>3.063071</td>\n",
              "      <td>0.000972</td>\n",
              "      <td>0.926592</td>\n",
              "      <td>0.259586</td>\n",
              "      <td>0.201936</td>\n",
              "      <td>0.651273</td>\n",
              "      <td>CC1CCCC(C)CCC2(C)CCC(C(C)C)C2CC1</td>\n",
              "    </tr>\n",
              "    <tr>\n",
              "      <th>3</th>\n",
              "      <td>lig_1_cotb2_100_12.pdb</td>\n",
              "      <td>-0.501767</td>\n",
              "      <td>&lt;rdkit.Chem.rdchem.Mol object at 0x7f43275a99a0&gt;</td>\n",
              "      <td>882.532834</td>\n",
              "      <td>1438.458730</td>\n",
              "      <td>2037.900117</td>\n",
              "      <td>0.433060</td>\n",
              "      <td>0.705853</td>\n",
              "      <td>3.012094</td>\n",
              "      <td>0.000800</td>\n",
              "      <td>0.901365</td>\n",
              "      <td>0.210870</td>\n",
              "      <td>0.194837</td>\n",
              "      <td>0.590767</td>\n",
              "      <td>CC1CCCC(C)CCC2(C)CCC(C(C)C)C2CC1</td>\n",
              "    </tr>\n",
              "    <tr>\n",
              "      <th>4</th>\n",
              "      <td>lig_1_cotb2_100_13.pdb</td>\n",
              "      <td>-28.634483</td>\n",
              "      <td>&lt;rdkit.Chem.rdchem.Mol object at 0x7f43275a9a10&gt;</td>\n",
              "      <td>776.232018</td>\n",
              "      <td>1621.679340</td>\n",
              "      <td>2083.545226</td>\n",
              "      <td>0.372553</td>\n",
              "      <td>0.778327</td>\n",
              "      <td>3.054148</td>\n",
              "      <td>0.001003</td>\n",
              "      <td>0.928011</td>\n",
              "      <td>0.262621</td>\n",
              "      <td>0.210445</td>\n",
              "      <td>0.667377</td>\n",
              "      <td>CC1CCCC(C)CCC2(C)CCC(C(C)C)C2CC1</td>\n",
              "    </tr>\n",
              "  </tbody>\n",
              "</table>\n",
              "</div>\n",
              "    <div class=\"colab-df-buttons\">\n",
              "\n",
              "  <div class=\"colab-df-container\">\n",
              "    <button class=\"colab-df-convert\" onclick=\"convertToInteractive('df-008305b8-936b-4a85-ac1b-c3762bb92479')\"\n",
              "            title=\"Convert this dataframe to an interactive table.\"\n",
              "            style=\"display:none;\">\n",
              "\n",
              "  <svg xmlns=\"http://www.w3.org/2000/svg\" height=\"24px\" viewBox=\"0 -960 960 960\">\n",
              "    <path d=\"M120-120v-720h720v720H120Zm60-500h600v-160H180v160Zm220 220h160v-160H400v160Zm0 220h160v-160H400v160ZM180-400h160v-160H180v160Zm440 0h160v-160H620v160ZM180-180h160v-160H180v160Zm440 0h160v-160H620v160Z\"/>\n",
              "  </svg>\n",
              "    </button>\n",
              "\n",
              "  <style>\n",
              "    .colab-df-container {\n",
              "      display:flex;\n",
              "      gap: 12px;\n",
              "    }\n",
              "\n",
              "    .colab-df-convert {\n",
              "      background-color: #E8F0FE;\n",
              "      border: none;\n",
              "      border-radius: 50%;\n",
              "      cursor: pointer;\n",
              "      display: none;\n",
              "      fill: #1967D2;\n",
              "      height: 32px;\n",
              "      padding: 0 0 0 0;\n",
              "      width: 32px;\n",
              "    }\n",
              "\n",
              "    .colab-df-convert:hover {\n",
              "      background-color: #E2EBFA;\n",
              "      box-shadow: 0px 1px 2px rgba(60, 64, 67, 0.3), 0px 1px 3px 1px rgba(60, 64, 67, 0.15);\n",
              "      fill: #174EA6;\n",
              "    }\n",
              "\n",
              "    .colab-df-buttons div {\n",
              "      margin-bottom: 4px;\n",
              "    }\n",
              "\n",
              "    [theme=dark] .colab-df-convert {\n",
              "      background-color: #3B4455;\n",
              "      fill: #D2E3FC;\n",
              "    }\n",
              "\n",
              "    [theme=dark] .colab-df-convert:hover {\n",
              "      background-color: #434B5C;\n",
              "      box-shadow: 0px 1px 3px 1px rgba(0, 0, 0, 0.15);\n",
              "      filter: drop-shadow(0px 1px 2px rgba(0, 0, 0, 0.3));\n",
              "      fill: #FFFFFF;\n",
              "    }\n",
              "  </style>\n",
              "\n",
              "    <script>\n",
              "      const buttonEl =\n",
              "        document.querySelector('#df-008305b8-936b-4a85-ac1b-c3762bb92479 button.colab-df-convert');\n",
              "      buttonEl.style.display =\n",
              "        google.colab.kernel.accessAllowed ? 'block' : 'none';\n",
              "\n",
              "      async function convertToInteractive(key) {\n",
              "        const element = document.querySelector('#df-008305b8-936b-4a85-ac1b-c3762bb92479');\n",
              "        const dataTable =\n",
              "          await google.colab.kernel.invokeFunction('convertToInteractive',\n",
              "                                                    [key], {});\n",
              "        if (!dataTable) return;\n",
              "\n",
              "        const docLinkHtml = 'Like what you see? Visit the ' +\n",
              "          '<a target=\"_blank\" href=https://colab.research.google.com/notebooks/data_table.ipynb>data table notebook</a>'\n",
              "          + ' to learn more about interactive tables.';\n",
              "        element.innerHTML = '';\n",
              "        dataTable['output_type'] = 'display_data';\n",
              "        await google.colab.output.renderOutput(dataTable, element);\n",
              "        const docLink = document.createElement('div');\n",
              "        docLink.innerHTML = docLinkHtml;\n",
              "        element.appendChild(docLink);\n",
              "      }\n",
              "    </script>\n",
              "  </div>\n",
              "\n",
              "\n",
              "<div id=\"df-85224c09-16ca-40dc-9845-3a4130c611bf\">\n",
              "  <button class=\"colab-df-quickchart\" onclick=\"quickchart('df-85224c09-16ca-40dc-9845-3a4130c611bf')\"\n",
              "            title=\"Suggest charts\"\n",
              "            style=\"display:none;\">\n",
              "\n",
              "<svg xmlns=\"http://www.w3.org/2000/svg\" height=\"24px\"viewBox=\"0 0 24 24\"\n",
              "     width=\"24px\">\n",
              "    <g>\n",
              "        <path d=\"M19 3H5c-1.1 0-2 .9-2 2v14c0 1.1.9 2 2 2h14c1.1 0 2-.9 2-2V5c0-1.1-.9-2-2-2zM9 17H7v-7h2v7zm4 0h-2V7h2v10zm4 0h-2v-4h2v4z\"/>\n",
              "    </g>\n",
              "</svg>\n",
              "  </button>\n",
              "\n",
              "<style>\n",
              "  .colab-df-quickchart {\n",
              "      --bg-color: #E8F0FE;\n",
              "      --fill-color: #1967D2;\n",
              "      --hover-bg-color: #E2EBFA;\n",
              "      --hover-fill-color: #174EA6;\n",
              "      --disabled-fill-color: #AAA;\n",
              "      --disabled-bg-color: #DDD;\n",
              "  }\n",
              "\n",
              "  [theme=dark] .colab-df-quickchart {\n",
              "      --bg-color: #3B4455;\n",
              "      --fill-color: #D2E3FC;\n",
              "      --hover-bg-color: #434B5C;\n",
              "      --hover-fill-color: #FFFFFF;\n",
              "      --disabled-bg-color: #3B4455;\n",
              "      --disabled-fill-color: #666;\n",
              "  }\n",
              "\n",
              "  .colab-df-quickchart {\n",
              "    background-color: var(--bg-color);\n",
              "    border: none;\n",
              "    border-radius: 50%;\n",
              "    cursor: pointer;\n",
              "    display: none;\n",
              "    fill: var(--fill-color);\n",
              "    height: 32px;\n",
              "    padding: 0;\n",
              "    width: 32px;\n",
              "  }\n",
              "\n",
              "  .colab-df-quickchart:hover {\n",
              "    background-color: var(--hover-bg-color);\n",
              "    box-shadow: 0 1px 2px rgba(60, 64, 67, 0.3), 0 1px 3px 1px rgba(60, 64, 67, 0.15);\n",
              "    fill: var(--button-hover-fill-color);\n",
              "  }\n",
              "\n",
              "  .colab-df-quickchart-complete:disabled,\n",
              "  .colab-df-quickchart-complete:disabled:hover {\n",
              "    background-color: var(--disabled-bg-color);\n",
              "    fill: var(--disabled-fill-color);\n",
              "    box-shadow: none;\n",
              "  }\n",
              "\n",
              "  .colab-df-spinner {\n",
              "    border: 2px solid var(--fill-color);\n",
              "    border-color: transparent;\n",
              "    border-bottom-color: var(--fill-color);\n",
              "    animation:\n",
              "      spin 1s steps(1) infinite;\n",
              "  }\n",
              "\n",
              "  @keyframes spin {\n",
              "    0% {\n",
              "      border-color: transparent;\n",
              "      border-bottom-color: var(--fill-color);\n",
              "      border-left-color: var(--fill-color);\n",
              "    }\n",
              "    20% {\n",
              "      border-color: transparent;\n",
              "      border-left-color: var(--fill-color);\n",
              "      border-top-color: var(--fill-color);\n",
              "    }\n",
              "    30% {\n",
              "      border-color: transparent;\n",
              "      border-left-color: var(--fill-color);\n",
              "      border-top-color: var(--fill-color);\n",
              "      border-right-color: var(--fill-color);\n",
              "    }\n",
              "    40% {\n",
              "      border-color: transparent;\n",
              "      border-right-color: var(--fill-color);\n",
              "      border-top-color: var(--fill-color);\n",
              "    }\n",
              "    60% {\n",
              "      border-color: transparent;\n",
              "      border-right-color: var(--fill-color);\n",
              "    }\n",
              "    80% {\n",
              "      border-color: transparent;\n",
              "      border-right-color: var(--fill-color);\n",
              "      border-bottom-color: var(--fill-color);\n",
              "    }\n",
              "    90% {\n",
              "      border-color: transparent;\n",
              "      border-bottom-color: var(--fill-color);\n",
              "    }\n",
              "  }\n",
              "</style>\n",
              "\n",
              "  <script>\n",
              "    async function quickchart(key) {\n",
              "      const quickchartButtonEl =\n",
              "        document.querySelector('#' + key + ' button');\n",
              "      quickchartButtonEl.disabled = true;  // To prevent multiple clicks.\n",
              "      quickchartButtonEl.classList.add('colab-df-spinner');\n",
              "      try {\n",
              "        const charts = await google.colab.kernel.invokeFunction(\n",
              "            'suggestCharts', [key], {});\n",
              "      } catch (error) {\n",
              "        console.error('Error during call to suggestCharts:', error);\n",
              "      }\n",
              "      quickchartButtonEl.classList.remove('colab-df-spinner');\n",
              "      quickchartButtonEl.classList.add('colab-df-quickchart-complete');\n",
              "    }\n",
              "    (() => {\n",
              "      let quickchartButtonEl =\n",
              "        document.querySelector('#df-85224c09-16ca-40dc-9845-3a4130c611bf button');\n",
              "      quickchartButtonEl.style.display =\n",
              "        google.colab.kernel.accessAllowed ? 'block' : 'none';\n",
              "    })();\n",
              "  </script>\n",
              "</div>\n",
              "\n",
              "    </div>\n",
              "  </div>\n"
            ],
            "text/plain": [
              "                    ligand     energy  \\\n",
              "0  lig_1_cotb2_100_100.pdb -21.457340   \n",
              "1   lig_1_cotb2_100_10.pdb -44.423028   \n",
              "2   lig_1_cotb2_100_11.pdb -29.692781   \n",
              "3   lig_1_cotb2_100_12.pdb  -0.501767   \n",
              "4   lig_1_cotb2_100_13.pdb -28.634483   \n",
              "\n",
              "                                                mol        PMI1         PMI2  \\\n",
              "0  <rdkit.Chem.rdchem.Mol object at 0x7f43275a97e0>  858.038436  1583.425000   \n",
              "1  <rdkit.Chem.rdchem.Mol object at 0x7f43275a98c0>  849.158235  1572.291482   \n",
              "2  <rdkit.Chem.rdchem.Mol object at 0x7f43275a9930>  790.542596  1615.008980   \n",
              "3  <rdkit.Chem.rdchem.Mol object at 0x7f43275a99a0>  882.532834  1438.458730   \n",
              "4  <rdkit.Chem.rdchem.Mol object at 0x7f43275a9a10>  776.232018  1621.679340   \n",
              "\n",
              "          PMI3      NPR1      NPR2  RadiusOfGyration  InertialShapeFactor  \\\n",
              "0  2184.329171  0.392816  0.724902          3.102941             0.000845   \n",
              "1  2074.488795  0.409334  0.757918          3.059078             0.000893   \n",
              "2  2102.130286  0.376067  0.768273          3.063071             0.000972   \n",
              "3  2037.900117  0.433060  0.705853          3.012094             0.000800   \n",
              "4  2083.545226  0.372553  0.778327          3.054148             0.001003   \n",
              "\n",
              "   Eccentricity  Asphericity  SpherocityIndex       PBF  \\\n",
              "0      0.919617     0.247343         0.166761  0.576983   \n",
              "1      0.912385     0.225252         0.231516  0.650322   \n",
              "2      0.926592     0.259586         0.201936  0.651273   \n",
              "3      0.901365     0.210870         0.194837  0.590767   \n",
              "4      0.928011     0.262621         0.210445  0.667377   \n",
              "\n",
              "                             smiles  \n",
              "0  CC1CCCC(C)CCC2(C)CCC(C(C)C)C2CC1  \n",
              "1  CC1CCCC(C)CCC2(C)CCC(C(C)C)C2CC1  \n",
              "2  CC1CCCC(C)CCC2(C)CCC(C(C)C)C2CC1  \n",
              "3  CC1CCCC(C)CCC2(C)CCC(C(C)C)C2CC1  \n",
              "4  CC1CCCC(C)CCC2(C)CCC(C(C)C)C2CC1  "
            ]
          },
          "execution_count": 39,
          "metadata": {},
          "output_type": "execute_result"
        }
      ],
      "source": [
        "loaded_ligands = loaded_ligands.dropna(subset = [\"mol\"])\n",
        "loaded_ligands[\"smiles\"] = loaded_ligands[\"mol\"].apply(lambda x: Chem.MolToSmiles(x))\n",
        "loaded_ligands.head(5)"
      ]
    },
    {
      "cell_type": "code",
      "execution_count": null,
      "metadata": {
        "colab": {
          "base_uri": "https://localhost:8080/",
          "height": 147
        },
        "id": "ZRwqOh0dnQol",
        "outputId": "b9321680-dec0-43dc-a4ba-b71ff80fc320"
      },
      "outputs": [
        {
          "data": {
            "text/html": [
              "<div>\n",
              "<style scoped>\n",
              "    .dataframe tbody tr th:only-of-type {\n",
              "        vertical-align: middle;\n",
              "    }\n",
              "\n",
              "    .dataframe tbody tr th {\n",
              "        vertical-align: top;\n",
              "    }\n",
              "\n",
              "    .dataframe thead th {\n",
              "        text-align: right;\n",
              "    }\n",
              "</style>\n",
              "<table border=\"1\" class=\"dataframe\">\n",
              "  <thead>\n",
              "    <tr style=\"text-align: right;\">\n",
              "      <th></th>\n",
              "      <th>count</th>\n",
              "    </tr>\n",
              "    <tr>\n",
              "      <th>smiles</th>\n",
              "      <th></th>\n",
              "    </tr>\n",
              "  </thead>\n",
              "  <tbody>\n",
              "    <tr>\n",
              "      <th>CC1CCCC(C)CCC2(C)CCC(C(C)C)C2CC1</th>\n",
              "      <td>10000</td>\n",
              "    </tr>\n",
              "  </tbody>\n",
              "</table>\n",
              "</div><br><label><b>dtype:</b> int64</label>"
            ],
            "text/plain": [
              "smiles\n",
              "CC1CCCC(C)CCC2(C)CCC(C(C)C)C2CC1    10000\n",
              "Name: count, dtype: int64"
            ]
          },
          "execution_count": 40,
          "metadata": {},
          "output_type": "execute_result"
        }
      ],
      "source": [
        "loaded_ligands.smiles.value_counts()"
      ]
    },
    {
      "cell_type": "markdown",
      "metadata": {},
      "source": [
        "# Plot the distribution of the descriptors"
      ]
    },
    {
      "cell_type": "code",
      "execution_count": null,
      "metadata": {
        "colab": {
          "base_uri": "https://localhost:8080/",
          "height": 1000
        },
        "id": "i1IVAMpHDRyy",
        "outputId": "d509760a-2d7a-4ff0-958e-2f82b39010c6"
      },
      "outputs": [
        {
          "data": {
            "image/png": "[encoded data removed]",
            "text/plain": [
              "<Figure size 640x480 with 1 Axes>"
            ]
          },
          "metadata": {},
          "output_type": "display_data"
        },
        {
          "data": {
            "image/png": "[encoded data removed]",
            "text/plain": [
              "<Figure size 640x480 with 1 Axes>"
            ]
          },
          "metadata": {},
          "output_type": "display_data"
        },
        {
          "data": {
            "image/png": "[encoded data removed]",
            "text/plain": [
              "<Figure size 640x480 with 1 Axes>"
            ]
          },
          "metadata": {},
          "output_type": "display_data"
        },
        {
          "data": {
            "image/png": "[encoded data removed]",
            "text/plain": [
              "<Figure size 640x480 with 1 Axes>"
            ]
          },
          "metadata": {},
          "output_type": "display_data"
        },
        {
          "data": {
            "image/png": "[encoded data removed]",
            "text/plain": [
              "<Figure size 640x480 with 1 Axes>"
            ]
          },
          "metadata": {},
          "output_type": "display_data"
        },
        {
          "data": {
            "image/png": "[encoded data removed]",
            "text/plain": [
              "<Figure size 640x480 with 1 Axes>"
            ]
          },
          "metadata": {},
          "output_type": "display_data"
        },
        {
          "data": {
            "image/png": "[encoded data removed]",
            "text/plain": [
              "<Figure size 640x480 with 1 Axes>"
            ]
          },
          "metadata": {},
          "output_type": "display_data"
        },
        {
          "data": {
            "image/png": "[encoded data removed]",
            "text/plain": [
              "<Figure size 640x480 with 1 Axes>"
            ]
          },
          "metadata": {},
          "output_type": "display_data"
        },
        {
          "data": {
            "image/png": "[encoded data removed]",
            "text/plain": [
              "<Figure size 640x480 with 1 Axes>"
            ]
          },
          "metadata": {},
          "output_type": "display_data"
        },
        {
          "data": {
            "image/png": "[encoded data removed]",
            "text/plain": [
              "<Figure size 640x480 with 1 Axes>"
            ]
          },
          "metadata": {},
          "output_type": "display_data"
        },
        {
          "data": {
            "image/png": "[encoded data removed]",
            "text/plain": [
              "<Figure size 640x480 with 1 Axes>"
            ]
          },
          "metadata": {},
          "output_type": "display_data"
        }
      ],
      "source": [
        "%matplotlib inline\n",
        "\n",
        "for col in descriptors.keys():\n",
        "  loaded_ligands[col].hist()\n",
        "  plt.title(col)\n",
        "  plt.show()"
      ]
    }
  ],
  "metadata": {
    "colab": {
      "provenance": []
    },
    "kernelspec": {
      "display_name": ".venv",
      "language": "python",
      "name": "python3"
    },
    "language_info": {
      "codemirror_mode": {
        "name": "ipython",
        "version": 3
      },
      "file_extension": ".py",
      "mimetype": "text/x-python",
      "name": "python",
      "nbconvert_exporter": "python",
      "pygments_lexer": "ipython3",
      "version": "3.10.12"
    }
  },
  "nbformat": 4,
  "nbformat_minor": 0
}
