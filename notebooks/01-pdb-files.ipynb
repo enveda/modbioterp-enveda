{
  "cells": [
    {
      "cell_type": "markdown",
      "metadata": {
        "id": "1CWE57Ehi26Q"
      },
      "source": [
        "# Setup"
      ]
    },
    {
      "cell_type": "code",
      "execution_count": null,
      "metadata": {
        "colab": {
          "base_uri": "https://localhost:8080/"
        },
        "collapsed": true,
        "id": "7uNeZOG-i301",
        "outputId": "3fbb05df-e143-43a3-a7d5-467d21a5dbed"
      },
      "outputs": [
        {
          "name": "stdout",
          "output_type": "stream",
          "text": [
            "Requirement already satisfied: biopandas in /usr/local/lib/python3.11/dist-packages (0.5.1)\n",
            "Requirement already satisfied: ifeatureomegacli in /usr/local/lib/python3.11/dist-packages (1.0.2)\n",
            "Requirement already satisfied: Biopython in /usr/local/lib/python3.11/dist-packages (1.85)\n",
            "Requirement already satisfied: rdkit in /usr/local/lib/python3.11/dist-packages (2024.9.5)\n",
            "Requirement already satisfied: numpy>=1.16.2 in /usr/local/lib/python3.11/dist-packages (from biopandas) (1.26.4)\n",
            "Requirement already satisfied: pandas>=0.24.2 in /usr/local/lib/python3.11/dist-packages (from biopandas) (2.2.2)\n",
            "Requirement already satisfied: mmtf-python==1.1.3 in /usr/local/lib/python3.11/dist-packages (from biopandas) (1.1.3)\n",
            "Requirement already satisfied: looseversion==1.1.2 in /usr/local/lib/python3.11/dist-packages (from biopandas) (1.1.2)\n",
            "Requirement already satisfied: setuptools in /usr/local/lib/python3.11/dist-packages (from biopandas) (75.1.0)\n",
            "Requirement already satisfied: msgpack>=1.0.0 in /usr/local/lib/python3.11/dist-packages (from mmtf-python==1.1.3->biopandas) (1.1.0)\n",
            "Requirement already satisfied: networkx in /usr/local/lib/python3.11/dist-packages (from ifeatureomegacli) (3.4.2)\n",
            "Requirement already satisfied: scikit-learn>=1.0.1 in /usr/local/lib/python3.11/dist-packages (from ifeatureomegacli) (1.6.1)\n",
            "Requirement already satisfied: scipy>=1.7.3 in /usr/local/lib/python3.11/dist-packages (from ifeatureomegacli) (1.13.1)\n",
            "Requirement already satisfied: matplotlib==3.4.3 in /usr/local/lib/python3.11/dist-packages (from ifeatureomegacli) (3.4.3)\n",
            "Requirement already satisfied: cycler>=0.10 in /usr/local/lib/python3.11/dist-packages (from matplotlib==3.4.3->ifeatureomegacli) (0.12.1)\n",
            "Requirement already satisfied: kiwisolver>=1.0.1 in /usr/local/lib/python3.11/dist-packages (from matplotlib==3.4.3->ifeatureomegacli) (1.4.8)\n",
            "Requirement already satisfied: pillow>=6.2.0 in /usr/local/lib/python3.11/dist-packages (from matplotlib==3.4.3->ifeatureomegacli) (11.1.0)\n",
            "Requirement already satisfied: pyparsing>=2.2.1 in /usr/local/lib/python3.11/dist-packages (from matplotlib==3.4.3->ifeatureomegacli) (3.2.1)\n",
            "Requirement already satisfied: python-dateutil>=2.7 in /usr/local/lib/python3.11/dist-packages (from matplotlib==3.4.3->ifeatureomegacli) (2.8.2)\n",
            "Requirement already satisfied: pytz>=2020.1 in /usr/local/lib/python3.11/dist-packages (from pandas>=0.24.2->biopandas) (2025.1)\n",
            "Requirement already satisfied: tzdata>=2022.7 in /usr/local/lib/python3.11/dist-packages (from pandas>=0.24.2->biopandas) (2025.1)\n",
            "Requirement already satisfied: joblib>=1.2.0 in /usr/local/lib/python3.11/dist-packages (from scikit-learn>=1.0.1->ifeatureomegacli) (1.4.2)\n",
            "Requirement already satisfied: threadpoolctl>=3.1.0 in /usr/local/lib/python3.11/dist-packages (from scikit-learn>=1.0.1->ifeatureomegacli) (3.5.0)\n",
            "Requirement already satisfied: six>=1.5 in /usr/local/lib/python3.11/dist-packages (from python-dateutil>=2.7->matplotlib==3.4.3->ifeatureomegacli) (1.17.0)\n"
          ]
        }
      ],
      "source": [
        "# installation of required libraries\n",
        "!pip install biopandas ifeatureomegacli Biopython rdkit"
      ]
    },
    {
      "cell_type": "code",
      "execution_count": null,
      "metadata": {
        "id": "E6mQ3tFZue4V"
      },
      "outputs": [],
      "source": [
        "!rm -rf /content/*"
      ]
    }
  ],
  "metadata": {
    "colab": {
      "provenance": []
    },
    "kernelspec": {
      "display_name": ".venv",
      "language": "python",
      "name": "python3"
    },
    "language_info": {
      "codemirror_mode": {
        "name": "ipython",
        "version": 3
      },
      "file_extension": ".py",
      "mimetype": "text/x-python",
      "name": "python",
      "nbconvert_exporter": "python",
      "pygments_lexer": "ipython3",
      "version": "3.10.12"
    }
  },
  "nbformat": 4,
  "nbformat_minor": 0
}
