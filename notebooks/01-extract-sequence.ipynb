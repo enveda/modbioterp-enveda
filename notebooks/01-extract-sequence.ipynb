{
  "cells": [
    {
      "cell_type": "markdown",
      "metadata": {
        "id": "1CWE57Ehi26Q"
      },
      "source": [
        "# Setup"
      ]
    },
    {
      "cell_type": "code",
      "execution_count": null,
      "metadata": {
        "colab": {
          "base_uri": "https://localhost:8080/"
        },
        "collapsed": true,
        "id": "7uNeZOG-i301",
        "outputId": "3fbb05df-e143-43a3-a7d5-467d21a5dbed"
      },
      "outputs": [],
      "source": [
        "# installation of required libraries\n",
        "!pip install biopandas"
      ]
    },
    {
      "cell_type": "code",
      "execution_count": null,
      "metadata": {
        "id": "E6mQ3tFZue4V"
      },
      "outputs": [],
      "source": [
        "!rm -rf /content/*"
      ]
    },
    {
      "cell_type": "code",
      "execution_count": null,
      "metadata": {
        "id": "W4hz-LYKifJV"
      },
      "outputs": [],
      "source": [
        "from biopandas.pdb import PandasPdb\n",
        "import pandas as pd"
      ]
    },
    {
      "cell_type": "markdown",
      "metadata": {
        "id": "cFytzjsaabxm"
      },
      "source": [
        "Note: Why is `biopandas` useful for protein analysis?\n",
        "\n",
        "If you work with PDB files and want to analyze protein structures efficiently in Python, biopandas makes it easier by converting structural data into Pandas DataFrames.\n",
        "Key Benefits for a Computational Protein Workshop\n",
        "\n",
        "- **Easy Data Handling**: Instead of looping through PDB files manually, you can use biopandas to extract atomic coordinates, residue information, and chain details into a structured DataFrame.\n",
        "- **Fast Filtering**: Need only backbone atoms, a specific chain, or only hydrophobic residues? Use simple pandas filtering instead of complex parsing.\n",
        "- **Compatible with ML & Visualization**: Since biopandas works with DataFrames, it’s easier to integrate protein structural data into machine learning pipelines or use matplotlib for visualization.\n",
        "- **No Complex Parsing**: Unlike `Bio.PDB` (which requires object-oriented access), biopandas lets you query PDB data like a spreadsheet, making it more beginner-friendly.\n"
      ]
    },
    {
      "cell_type": "code",
      "execution_count": null,
      "metadata": {
        "colab": {
          "base_uri": "https://localhost:8080/"
        },
        "id": "1RlRcUb8ifJY",
        "outputId": "308e8fba-c404-422d-a470-f83520063444"
      },
      "outputs": [],
      "source": [
        "PDB_FILE_LOCATION = 'https://github.com/enveda/enzyme-ml/raw/refs/heads/main/workshop_data/cotb2_ml_data/cotb2_pp_mg.pdb'\n",
        "!wget $PDB_FILE_LOCATION -O /content/cotb2_pp_mg.pdb"
      ]
    },
    {
      "cell_type": "code",
      "execution_count": null,
      "metadata": {
        "colab": {
          "base_uri": "https://localhost:8080/"
        },
        "id": "WSLXUORPifJa",
        "outputId": "4afcf0d9-69b4-429b-8c1b-82518a065bc5"
      },
      "outputs": [],
      "source": [
        "!ls /content"
      ]
    },
    {
      "cell_type": "code",
      "execution_count": null,
      "metadata": {
        "id": "p-AtABntvaJV"
      },
      "outputs": [],
      "source": [
        "pdb_file = PandasPdb().read_pdb('/content/cotb2_pp_mg.pdb')"
      ]
    },
    {
      "cell_type": "code",
      "execution_count": null,
      "metadata": {
        "colab": {
          "base_uri": "https://localhost:8080/",
          "height": 255
        },
        "id": "r98ipYTjifJZ",
        "outputId": "e50b75c4-23c3-4d10-af5b-d0c4243c203c"
      },
      "outputs": [],
      "source": [
        "display(\n",
        "    pdb_file.df[\"ATOM\"].head(3),\n",
        "    pdb_file.df[\"HETATM\"].head(3)\n",
        ")"
      ]
    },
    {
      "cell_type": "markdown",
      "metadata": {
        "id": "aGu-rU6xifJc"
      },
      "source": [
        "## Extract the sequence from the protein file and write it into a fasta file"
      ]
    }
  ],
  "metadata": {
    "colab": {
      "provenance": []
    },
    "kernelspec": {
      "display_name": ".venv",
      "language": "python",
      "name": "python3"
    },
    "language_info": {
      "codemirror_mode": {
        "name": "ipython",
        "version": 3
      },
      "file_extension": ".py",
      "mimetype": "text/x-python",
      "name": "python",
      "nbconvert_exporter": "python",
      "pygments_lexer": "ipython3",
      "version": "3.10.12"
    }
  },
  "nbformat": 4,
  "nbformat_minor": 0
}
