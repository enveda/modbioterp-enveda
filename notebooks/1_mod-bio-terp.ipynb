{
  "cells": [
    {
      "cell_type": "markdown",
      "source": [
        "# Setup"
      ],
      "metadata": {
        "id": "1CWE57Ehi26Q"
      }
    },
    {
      "cell_type": "code",
      "source": [
        "# installation of required libraries\n",
        "!pip install biopandas ifeatureomegacli Biopython rdkit"
      ],
      "metadata": {
        "colab": {
          "base_uri": "https://localhost:8080/"
        },
        "collapsed": true,
        "id": "7uNeZOG-i301",
        "outputId": "3fbb05df-e143-43a3-a7d5-467d21a5dbed"
      },
      "execution_count": null,
      "outputs": [
        {
          "output_type": "stream",
          "name": "stdout",
          "text": [
            "Requirement already satisfied: biopandas in /usr/local/lib/python3.11/dist-packages (0.5.1)\n",
            "Requirement already satisfied: ifeatureomegacli in /usr/local/lib/python3.11/dist-packages (1.0.2)\n",
            "Requirement already satisfied: Biopython in /usr/local/lib/python3.11/dist-packages (1.85)\n",
            "Requirement already satisfied: rdkit in /usr/local/lib/python3.11/dist-packages (2024.9.5)\n",
            "Requirement already satisfied: numpy>=1.16.2 in /usr/local/lib/python3.11/dist-packages (from biopandas) (1.26.4)\n",
            "Requirement already satisfied: pandas>=0.24.2 in /usr/local/lib/python3.11/dist-packages (from biopandas) (2.2.2)\n",
            "Requirement already satisfied: mmtf-python==1.1.3 in /usr/local/lib/python3.11/dist-packages (from biopandas) (1.1.3)\n",
            "Requirement already satisfied: looseversion==1.1.2 in /usr/local/lib/python3.11/dist-packages (from biopandas) (1.1.2)\n",
            "Requirement already satisfied: setuptools in /usr/local/lib/python3.11/dist-packages (from biopandas) (75.1.0)\n",
            "Requirement already satisfied: msgpack>=1.0.0 in /usr/local/lib/python3.11/dist-packages (from mmtf-python==1.1.3->biopandas) (1.1.0)\n",
            "Requirement already satisfied: networkx in /usr/local/lib/python3.11/dist-packages (from ifeatureomegacli) (3.4.2)\n",
            "Requirement already satisfied: scikit-learn>=1.0.1 in /usr/local/lib/python3.11/dist-packages (from ifeatureomegacli) (1.6.1)\n",
            "Requirement already satisfied: scipy>=1.7.3 in /usr/local/lib/python3.11/dist-packages (from ifeatureomegacli) (1.13.1)\n",
            "Requirement already satisfied: matplotlib==3.4.3 in /usr/local/lib/python3.11/dist-packages (from ifeatureomegacli) (3.4.3)\n",
            "Requirement already satisfied: cycler>=0.10 in /usr/local/lib/python3.11/dist-packages (from matplotlib==3.4.3->ifeatureomegacli) (0.12.1)\n",
            "Requirement already satisfied: kiwisolver>=1.0.1 in /usr/local/lib/python3.11/dist-packages (from matplotlib==3.4.3->ifeatureomegacli) (1.4.8)\n",
            "Requirement already satisfied: pillow>=6.2.0 in /usr/local/lib/python3.11/dist-packages (from matplotlib==3.4.3->ifeatureomegacli) (11.1.0)\n",
            "Requirement already satisfied: pyparsing>=2.2.1 in /usr/local/lib/python3.11/dist-packages (from matplotlib==3.4.3->ifeatureomegacli) (3.2.1)\n",
            "Requirement already satisfied: python-dateutil>=2.7 in /usr/local/lib/python3.11/dist-packages (from matplotlib==3.4.3->ifeatureomegacli) (2.8.2)\n",
            "Requirement already satisfied: pytz>=2020.1 in /usr/local/lib/python3.11/dist-packages (from pandas>=0.24.2->biopandas) (2025.1)\n",
            "Requirement already satisfied: tzdata>=2022.7 in /usr/local/lib/python3.11/dist-packages (from pandas>=0.24.2->biopandas) (2025.1)\n",
            "Requirement already satisfied: joblib>=1.2.0 in /usr/local/lib/python3.11/dist-packages (from scikit-learn>=1.0.1->ifeatureomegacli) (1.4.2)\n",
            "Requirement already satisfied: threadpoolctl>=3.1.0 in /usr/local/lib/python3.11/dist-packages (from scikit-learn>=1.0.1->ifeatureomegacli) (3.5.0)\n",
            "Requirement already satisfied: six>=1.5 in /usr/local/lib/python3.11/dist-packages (from python-dateutil>=2.7->matplotlib==3.4.3->ifeatureomegacli) (1.17.0)\n"
          ]
        }
      ]
    },
    {
      "cell_type": "code",
      "source": [
        "!rm -rf /content/*"
      ],
      "metadata": {
        "id": "E6mQ3tFZue4V"
      },
      "execution_count": null,
      "outputs": []
    },
    {
      "cell_type": "markdown",
      "metadata": {
        "id": "3KXXn9HxifJS"
      },
      "source": [
        "# Data exploration"
      ]
    },
    {
      "cell_type": "markdown",
      "metadata": {
        "id": "4Uu_w8K6ifJV"
      },
      "source": [
        "## 1. Load the protein data"
      ]
    },
    {
      "cell_type": "code",
      "execution_count": null,
      "metadata": {
        "id": "W4hz-LYKifJV"
      },
      "outputs": [],
      "source": [
        "from biopandas.pdb import PandasPdb\n",
        "import pandas as pd"
      ]
    },
    {
      "cell_type": "markdown",
      "source": [
        "Note: Why is `biopandas` useful for protein analysis?\n",
        "\n",
        "If you work with PDB files and want to analyze protein structures efficiently in Python, biopandas makes it easier by converting structural data into Pandas DataFrames.\n",
        "Key Benefits for a Computational Protein Workshop\n",
        "\n",
        "- **Easy Data Handling**: Instead of looping through PDB files manually, you can use biopandas to extract atomic coordinates, residue information, and chain details into a structured DataFrame.\n",
        "- **Fast Filtering**: Need only backbone atoms, a specific chain, or only hydrophobic residues? Use simple pandas filtering instead of complex parsing.\n",
        "- **Compatible with ML & Visualization**: Since biopandas works with DataFrames, it’s easier to integrate protein structural data into machine learning pipelines or use matplotlib for visualization.\n",
        "- **No Complex Parsing**: Unlike `Bio.PDB` (which requires object-oriented access), biopandas lets you query PDB data like a spreadsheet, making it more beginner-friendly.\n"
      ],
      "metadata": {
        "id": "cFytzjsaabxm"
      }
    },
    {
      "cell_type": "code",
      "execution_count": null,
      "metadata": {
        "id": "1RlRcUb8ifJY",
        "colab": {
          "base_uri": "https://localhost:8080/"
        },
        "outputId": "308e8fba-c404-422d-a470-f83520063444"
      },
      "outputs": [
        {
          "output_type": "stream",
          "name": "stdout",
          "text": [
            "--2025-03-11 16:09:50--  https://github.com/enveda/enzyme-ml/raw/refs/heads/main/workshop_data/cotb2_ml_data/cotb2_pp_mg.pdb\n",
            "Resolving github.com (github.com)... 140.82.114.4\n",
            "Connecting to github.com (github.com)|140.82.114.4|:443... connected.\n",
            "HTTP request sent, awaiting response... 302 Found\n",
            "Location: https://raw.githubusercontent.com/enveda/enzyme-ml/refs/heads/main/workshop_data/cotb2_ml_data/cotb2_pp_mg.pdb [following]\n",
            "--2025-03-11 16:09:50--  https://raw.githubusercontent.com/enveda/enzyme-ml/refs/heads/main/workshop_data/cotb2_ml_data/cotb2_pp_mg.pdb\n",
            "Resolving raw.githubusercontent.com (raw.githubusercontent.com)... 185.199.109.133, 185.199.110.133, 185.199.111.133, ...\n",
            "Connecting to raw.githubusercontent.com (raw.githubusercontent.com)|185.199.109.133|:443... connected.\n",
            "HTTP request sent, awaiting response... 200 OK\n",
            "Length: 379404 (371K) [text/plain]\n",
            "Saving to: ‘/content/cotb2_pp_mg.pdb’\n",
            "\n",
            "/content/cotb2_pp_m 100%[===================>] 370.51K  --.-KB/s    in 0.04s   \n",
            "\n",
            "2025-03-11 16:09:51 (8.60 MB/s) - ‘/content/cotb2_pp_mg.pdb’ saved [379404/379404]\n",
            "\n"
          ]
        }
      ],
      "source": [
        "PDB_FILE_LOCATION = 'https://github.com/enveda/enzyme-ml/raw/refs/heads/main/workshop_data/cotb2_ml_data/cotb2_pp_mg.pdb'\n",
        "!wget $PDB_FILE_LOCATION -O /content/cotb2_pp_mg.pdb"
      ]
    },
    {
      "cell_type": "code",
      "execution_count": null,
      "metadata": {
        "colab": {
          "base_uri": "https://localhost:8080/"
        },
        "id": "WSLXUORPifJa",
        "outputId": "4afcf0d9-69b4-429b-8c1b-82518a065bc5"
      },
      "outputs": [
        {
          "output_type": "stream",
          "name": "stdout",
          "text": [
            "cotb2_pp_mg.pdb\n"
          ]
        }
      ],
      "source": [
        "!ls /content"
      ]
    },
    {
      "cell_type": "code",
      "source": [
        "pdb_file = PandasPdb().read_pdb('/content/cotb2_pp_mg.pdb')"
      ],
      "metadata": {
        "id": "p-AtABntvaJV"
      },
      "execution_count": null,
      "outputs": []
    },
    {
      "cell_type": "code",
      "execution_count": null,
      "metadata": {
        "colab": {
          "base_uri": "https://localhost:8080/",
          "height": 255
        },
        "id": "r98ipYTjifJZ",
        "outputId": "e50b75c4-23c3-4d10-af5b-d0c4243c203c"
      },
      "outputs": [
        {
          "output_type": "display_data",
          "data": {
            "text/plain": [
              "  record_name  atom_number blank_1 atom_name alt_loc residue_name blank_2  \\\n",
              "0        ATOM            1                 N                  MET           \n",
              "1        ATOM            2               HT1                  MET           \n",
              "2        ATOM            3               HT2                  MET           \n",
              "\n",
              "  chain_id  residue_number insertion  ... x_coord  y_coord  z_coord  \\\n",
              "0                        1            ... -18.379   -5.699   -9.533   \n",
              "1                        1            ... -18.233   -5.102  -10.372   \n",
              "2                        1            ... -17.858   -6.592   -9.648   \n",
              "\n",
              "   occupancy  b_factor  blank_4 segment_id element_symbol charge  line_idx  \n",
              "0        1.0       0.0                PEP1                   NaN         2  \n",
              "1        1.0       0.0                PEP1                   NaN         3  \n",
              "2        1.0       0.0                PEP1                   NaN         4  \n",
              "\n",
              "[3 rows x 21 columns]"
            ],
            "text/html": [
              "\n",
              "  <div id=\"df-402ec02f-b13f-475a-aead-ec5b10aa6ea5\" class=\"colab-df-container\">\n",
              "    <div>\n",
              "<style scoped>\n",
              "    .dataframe tbody tr th:only-of-type {\n",
              "        vertical-align: middle;\n",
              "    }\n",
              "\n",
              "    .dataframe tbody tr th {\n",
              "        vertical-align: top;\n",
              "    }\n",
              "\n",
              "    .dataframe thead th {\n",
              "        text-align: right;\n",
              "    }\n",
              "</style>\n",
              "<table border=\"1\" class=\"dataframe\">\n",
              "  <thead>\n",
              "    <tr style=\"text-align: right;\">\n",
              "      <th></th>\n",
              "      <th>record_name</th>\n",
              "      <th>atom_number</th>\n",
              "      <th>blank_1</th>\n",
              "      <th>atom_name</th>\n",
              "      <th>alt_loc</th>\n",
              "      <th>residue_name</th>\n",
              "      <th>blank_2</th>\n",
              "      <th>chain_id</th>\n",
              "      <th>residue_number</th>\n",
              "      <th>insertion</th>\n",
              "      <th>...</th>\n",
              "      <th>x_coord</th>\n",
              "      <th>y_coord</th>\n",
              "      <th>z_coord</th>\n",
              "      <th>occupancy</th>\n",
              "      <th>b_factor</th>\n",
              "      <th>blank_4</th>\n",
              "      <th>segment_id</th>\n",
              "      <th>element_symbol</th>\n",
              "      <th>charge</th>\n",
              "      <th>line_idx</th>\n",
              "    </tr>\n",
              "  </thead>\n",
              "  <tbody>\n",
              "    <tr>\n",
              "      <th>0</th>\n",
              "      <td>ATOM</td>\n",
              "      <td>1</td>\n",
              "      <td></td>\n",
              "      <td>N</td>\n",
              "      <td></td>\n",
              "      <td>MET</td>\n",
              "      <td></td>\n",
              "      <td></td>\n",
              "      <td>1</td>\n",
              "      <td></td>\n",
              "      <td>...</td>\n",
              "      <td>-18.379</td>\n",
              "      <td>-5.699</td>\n",
              "      <td>-9.533</td>\n",
              "      <td>1.0</td>\n",
              "      <td>0.0</td>\n",
              "      <td></td>\n",
              "      <td>PEP1</td>\n",
              "      <td></td>\n",
              "      <td>NaN</td>\n",
              "      <td>2</td>\n",
              "    </tr>\n",
              "    <tr>\n",
              "      <th>1</th>\n",
              "      <td>ATOM</td>\n",
              "      <td>2</td>\n",
              "      <td></td>\n",
              "      <td>HT1</td>\n",
              "      <td></td>\n",
              "      <td>MET</td>\n",
              "      <td></td>\n",
              "      <td></td>\n",
              "      <td>1</td>\n",
              "      <td></td>\n",
              "      <td>...</td>\n",
              "      <td>-18.233</td>\n",
              "      <td>-5.102</td>\n",
              "      <td>-10.372</td>\n",
              "      <td>1.0</td>\n",
              "      <td>0.0</td>\n",
              "      <td></td>\n",
              "      <td>PEP1</td>\n",
              "      <td></td>\n",
              "      <td>NaN</td>\n",
              "      <td>3</td>\n",
              "    </tr>\n",
              "    <tr>\n",
              "      <th>2</th>\n",
              "      <td>ATOM</td>\n",
              "      <td>3</td>\n",
              "      <td></td>\n",
              "      <td>HT2</td>\n",
              "      <td></td>\n",
              "      <td>MET</td>\n",
              "      <td></td>\n",
              "      <td></td>\n",
              "      <td>1</td>\n",
              "      <td></td>\n",
              "      <td>...</td>\n",
              "      <td>-17.858</td>\n",
              "      <td>-6.592</td>\n",
              "      <td>-9.648</td>\n",
              "      <td>1.0</td>\n",
              "      <td>0.0</td>\n",
              "      <td></td>\n",
              "      <td>PEP1</td>\n",
              "      <td></td>\n",
              "      <td>NaN</td>\n",
              "      <td>4</td>\n",
              "    </tr>\n",
              "  </tbody>\n",
              "</table>\n",
              "<p>3 rows × 21 columns</p>\n",
              "</div>\n",
              "    <div class=\"colab-df-buttons\">\n",
              "\n",
              "  <div class=\"colab-df-container\">\n",
              "    <button class=\"colab-df-convert\" onclick=\"convertToInteractive('df-402ec02f-b13f-475a-aead-ec5b10aa6ea5')\"\n",
              "            title=\"Convert this dataframe to an interactive table.\"\n",
              "            style=\"display:none;\">\n",
              "\n",
              "  <svg xmlns=\"http://www.w3.org/2000/svg\" height=\"24px\" viewBox=\"0 -960 960 960\">\n",
              "    <path d=\"M120-120v-720h720v720H120Zm60-500h600v-160H180v160Zm220 220h160v-160H400v160Zm0 220h160v-160H400v160ZM180-400h160v-160H180v160Zm440 0h160v-160H620v160ZM180-180h160v-160H180v160Zm440 0h160v-160H620v160Z\"/>\n",
              "  </svg>\n",
              "    </button>\n",
              "\n",
              "  <style>\n",
              "    .colab-df-container {\n",
              "      display:flex;\n",
              "      gap: 12px;\n",
              "    }\n",
              "\n",
              "    .colab-df-convert {\n",
              "      background-color: #E8F0FE;\n",
              "      border: none;\n",
              "      border-radius: 50%;\n",
              "      cursor: pointer;\n",
              "      display: none;\n",
              "      fill: #1967D2;\n",
              "      height: 32px;\n",
              "      padding: 0 0 0 0;\n",
              "      width: 32px;\n",
              "    }\n",
              "\n",
              "    .colab-df-convert:hover {\n",
              "      background-color: #E2EBFA;\n",
              "      box-shadow: 0px 1px 2px rgba(60, 64, 67, 0.3), 0px 1px 3px 1px rgba(60, 64, 67, 0.15);\n",
              "      fill: #174EA6;\n",
              "    }\n",
              "\n",
              "    .colab-df-buttons div {\n",
              "      margin-bottom: 4px;\n",
              "    }\n",
              "\n",
              "    [theme=dark] .colab-df-convert {\n",
              "      background-color: #3B4455;\n",
              "      fill: #D2E3FC;\n",
              "    }\n",
              "\n",
              "    [theme=dark] .colab-df-convert:hover {\n",
              "      background-color: #434B5C;\n",
              "      box-shadow: 0px 1px 3px 1px rgba(0, 0, 0, 0.15);\n",
              "      filter: drop-shadow(0px 1px 2px rgba(0, 0, 0, 0.3));\n",
              "      fill: #FFFFFF;\n",
              "    }\n",
              "  </style>\n",
              "\n",
              "    <script>\n",
              "      const buttonEl =\n",
              "        document.querySelector('#df-402ec02f-b13f-475a-aead-ec5b10aa6ea5 button.colab-df-convert');\n",
              "      buttonEl.style.display =\n",
              "        google.colab.kernel.accessAllowed ? 'block' : 'none';\n",
              "\n",
              "      async function convertToInteractive(key) {\n",
              "        const element = document.querySelector('#df-402ec02f-b13f-475a-aead-ec5b10aa6ea5');\n",
              "        const dataTable =\n",
              "          await google.colab.kernel.invokeFunction('convertToInteractive',\n",
              "                                                    [key], {});\n",
              "        if (!dataTable) return;\n",
              "\n",
              "        const docLinkHtml = 'Like what you see? Visit the ' +\n",
              "          '<a target=\"_blank\" href=https://colab.research.google.com/notebooks/data_table.ipynb>data table notebook</a>'\n",
              "          + ' to learn more about interactive tables.';\n",
              "        element.innerHTML = '';\n",
              "        dataTable['output_type'] = 'display_data';\n",
              "        await google.colab.output.renderOutput(dataTable, element);\n",
              "        const docLink = document.createElement('div');\n",
              "        docLink.innerHTML = docLinkHtml;\n",
              "        element.appendChild(docLink);\n",
              "      }\n",
              "    </script>\n",
              "  </div>\n",
              "\n",
              "\n",
              "<div id=\"df-38343a65-00b1-4a5d-a748-6976b0af2175\">\n",
              "  <button class=\"colab-df-quickchart\" onclick=\"quickchart('df-38343a65-00b1-4a5d-a748-6976b0af2175')\"\n",
              "            title=\"Suggest charts\"\n",
              "            style=\"display:none;\">\n",
              "\n",
              "<svg xmlns=\"http://www.w3.org/2000/svg\" height=\"24px\"viewBox=\"0 0 24 24\"\n",
              "     width=\"24px\">\n",
              "    <g>\n",
              "        <path d=\"M19 3H5c-1.1 0-2 .9-2 2v14c0 1.1.9 2 2 2h14c1.1 0 2-.9 2-2V5c0-1.1-.9-2-2-2zM9 17H7v-7h2v7zm4 0h-2V7h2v10zm4 0h-2v-4h2v4z\"/>\n",
              "    </g>\n",
              "</svg>\n",
              "  </button>\n",
              "\n",
              "<style>\n",
              "  .colab-df-quickchart {\n",
              "      --bg-color: #E8F0FE;\n",
              "      --fill-color: #1967D2;\n",
              "      --hover-bg-color: #E2EBFA;\n",
              "      --hover-fill-color: #174EA6;\n",
              "      --disabled-fill-color: #AAA;\n",
              "      --disabled-bg-color: #DDD;\n",
              "  }\n",
              "\n",
              "  [theme=dark] .colab-df-quickchart {\n",
              "      --bg-color: #3B4455;\n",
              "      --fill-color: #D2E3FC;\n",
              "      --hover-bg-color: #434B5C;\n",
              "      --hover-fill-color: #FFFFFF;\n",
              "      --disabled-bg-color: #3B4455;\n",
              "      --disabled-fill-color: #666;\n",
              "  }\n",
              "\n",
              "  .colab-df-quickchart {\n",
              "    background-color: var(--bg-color);\n",
              "    border: none;\n",
              "    border-radius: 50%;\n",
              "    cursor: pointer;\n",
              "    display: none;\n",
              "    fill: var(--fill-color);\n",
              "    height: 32px;\n",
              "    padding: 0;\n",
              "    width: 32px;\n",
              "  }\n",
              "\n",
              "  .colab-df-quickchart:hover {\n",
              "    background-color: var(--hover-bg-color);\n",
              "    box-shadow: 0 1px 2px rgba(60, 64, 67, 0.3), 0 1px 3px 1px rgba(60, 64, 67, 0.15);\n",
              "    fill: var(--button-hover-fill-color);\n",
              "  }\n",
              "\n",
              "  .colab-df-quickchart-complete:disabled,\n",
              "  .colab-df-quickchart-complete:disabled:hover {\n",
              "    background-color: var(--disabled-bg-color);\n",
              "    fill: var(--disabled-fill-color);\n",
              "    box-shadow: none;\n",
              "  }\n",
              "\n",
              "  .colab-df-spinner {\n",
              "    border: 2px solid var(--fill-color);\n",
              "    border-color: transparent;\n",
              "    border-bottom-color: var(--fill-color);\n",
              "    animation:\n",
              "      spin 1s steps(1) infinite;\n",
              "  }\n",
              "\n",
              "  @keyframes spin {\n",
              "    0% {\n",
              "      border-color: transparent;\n",
              "      border-bottom-color: var(--fill-color);\n",
              "      border-left-color: var(--fill-color);\n",
              "    }\n",
              "    20% {\n",
              "      border-color: transparent;\n",
              "      border-left-color: var(--fill-color);\n",
              "      border-top-color: var(--fill-color);\n",
              "    }\n",
              "    30% {\n",
              "      border-color: transparent;\n",
              "      border-left-color: var(--fill-color);\n",
              "      border-top-color: var(--fill-color);\n",
              "      border-right-color: var(--fill-color);\n",
              "    }\n",
              "    40% {\n",
              "      border-color: transparent;\n",
              "      border-right-color: var(--fill-color);\n",
              "      border-top-color: var(--fill-color);\n",
              "    }\n",
              "    60% {\n",
              "      border-color: transparent;\n",
              "      border-right-color: var(--fill-color);\n",
              "    }\n",
              "    80% {\n",
              "      border-color: transparent;\n",
              "      border-right-color: var(--fill-color);\n",
              "      border-bottom-color: var(--fill-color);\n",
              "    }\n",
              "    90% {\n",
              "      border-color: transparent;\n",
              "      border-bottom-color: var(--fill-color);\n",
              "    }\n",
              "  }\n",
              "</style>\n",
              "\n",
              "  <script>\n",
              "    async function quickchart(key) {\n",
              "      const quickchartButtonEl =\n",
              "        document.querySelector('#' + key + ' button');\n",
              "      quickchartButtonEl.disabled = true;  // To prevent multiple clicks.\n",
              "      quickchartButtonEl.classList.add('colab-df-spinner');\n",
              "      try {\n",
              "        const charts = await google.colab.kernel.invokeFunction(\n",
              "            'suggestCharts', [key], {});\n",
              "      } catch (error) {\n",
              "        console.error('Error during call to suggestCharts:', error);\n",
              "      }\n",
              "      quickchartButtonEl.classList.remove('colab-df-spinner');\n",
              "      quickchartButtonEl.classList.add('colab-df-quickchart-complete');\n",
              "    }\n",
              "    (() => {\n",
              "      let quickchartButtonEl =\n",
              "        document.querySelector('#df-38343a65-00b1-4a5d-a748-6976b0af2175 button');\n",
              "      quickchartButtonEl.style.display =\n",
              "        google.colab.kernel.accessAllowed ? 'block' : 'none';\n",
              "    })();\n",
              "  </script>\n",
              "</div>\n",
              "\n",
              "    </div>\n",
              "  </div>\n"
            ],
            "application/vnd.google.colaboratory.intrinsic+json": {
              "type": "dataframe"
            }
          },
          "metadata": {}
        },
        {
          "output_type": "display_data",
          "data": {
            "text/plain": [
              "Empty DataFrame\n",
              "Columns: [record_name, atom_number, blank_1, atom_name, alt_loc, residue_name, blank_2, chain_id, residue_number, insertion, blank_3, x_coord, y_coord, z_coord, occupancy, b_factor, blank_4, segment_id, element_symbol, charge, line_idx]\n",
              "Index: []\n",
              "\n",
              "[0 rows x 21 columns]"
            ],
            "text/html": [
              "\n",
              "  <div id=\"df-90150d01-4fcc-4a28-a551-fa5c7237df25\" class=\"colab-df-container\">\n",
              "    <div>\n",
              "<style scoped>\n",
              "    .dataframe tbody tr th:only-of-type {\n",
              "        vertical-align: middle;\n",
              "    }\n",
              "\n",
              "    .dataframe tbody tr th {\n",
              "        vertical-align: top;\n",
              "    }\n",
              "\n",
              "    .dataframe thead th {\n",
              "        text-align: right;\n",
              "    }\n",
              "</style>\n",
              "<table border=\"1\" class=\"dataframe\">\n",
              "  <thead>\n",
              "    <tr style=\"text-align: right;\">\n",
              "      <th></th>\n",
              "      <th>record_name</th>\n",
              "      <th>atom_number</th>\n",
              "      <th>blank_1</th>\n",
              "      <th>atom_name</th>\n",
              "      <th>alt_loc</th>\n",
              "      <th>residue_name</th>\n",
              "      <th>blank_2</th>\n",
              "      <th>chain_id</th>\n",
              "      <th>residue_number</th>\n",
              "      <th>insertion</th>\n",
              "      <th>...</th>\n",
              "      <th>x_coord</th>\n",
              "      <th>y_coord</th>\n",
              "      <th>z_coord</th>\n",
              "      <th>occupancy</th>\n",
              "      <th>b_factor</th>\n",
              "      <th>blank_4</th>\n",
              "      <th>segment_id</th>\n",
              "      <th>element_symbol</th>\n",
              "      <th>charge</th>\n",
              "      <th>line_idx</th>\n",
              "    </tr>\n",
              "  </thead>\n",
              "  <tbody>\n",
              "  </tbody>\n",
              "</table>\n",
              "<p>0 rows × 21 columns</p>\n",
              "</div>\n",
              "    <div class=\"colab-df-buttons\">\n",
              "\n",
              "  <div class=\"colab-df-container\">\n",
              "    <button class=\"colab-df-convert\" onclick=\"convertToInteractive('df-90150d01-4fcc-4a28-a551-fa5c7237df25')\"\n",
              "            title=\"Convert this dataframe to an interactive table.\"\n",
              "            style=\"display:none;\">\n",
              "\n",
              "  <svg xmlns=\"http://www.w3.org/2000/svg\" height=\"24px\" viewBox=\"0 -960 960 960\">\n",
              "    <path d=\"M120-120v-720h720v720H120Zm60-500h600v-160H180v160Zm220 220h160v-160H400v160Zm0 220h160v-160H400v160ZM180-400h160v-160H180v160Zm440 0h160v-160H620v160ZM180-180h160v-160H180v160Zm440 0h160v-160H620v160Z\"/>\n",
              "  </svg>\n",
              "    </button>\n",
              "\n",
              "  <style>\n",
              "    .colab-df-container {\n",
              "      display:flex;\n",
              "      gap: 12px;\n",
              "    }\n",
              "\n",
              "    .colab-df-convert {\n",
              "      background-color: #E8F0FE;\n",
              "      border: none;\n",
              "      border-radius: 50%;\n",
              "      cursor: pointer;\n",
              "      display: none;\n",
              "      fill: #1967D2;\n",
              "      height: 32px;\n",
              "      padding: 0 0 0 0;\n",
              "      width: 32px;\n",
              "    }\n",
              "\n",
              "    .colab-df-convert:hover {\n",
              "      background-color: #E2EBFA;\n",
              "      box-shadow: 0px 1px 2px rgba(60, 64, 67, 0.3), 0px 1px 3px 1px rgba(60, 64, 67, 0.15);\n",
              "      fill: #174EA6;\n",
              "    }\n",
              "\n",
              "    .colab-df-buttons div {\n",
              "      margin-bottom: 4px;\n",
              "    }\n",
              "\n",
              "    [theme=dark] .colab-df-convert {\n",
              "      background-color: #3B4455;\n",
              "      fill: #D2E3FC;\n",
              "    }\n",
              "\n",
              "    [theme=dark] .colab-df-convert:hover {\n",
              "      background-color: #434B5C;\n",
              "      box-shadow: 0px 1px 3px 1px rgba(0, 0, 0, 0.15);\n",
              "      filter: drop-shadow(0px 1px 2px rgba(0, 0, 0, 0.3));\n",
              "      fill: #FFFFFF;\n",
              "    }\n",
              "  </style>\n",
              "\n",
              "    <script>\n",
              "      const buttonEl =\n",
              "        document.querySelector('#df-90150d01-4fcc-4a28-a551-fa5c7237df25 button.colab-df-convert');\n",
              "      buttonEl.style.display =\n",
              "        google.colab.kernel.accessAllowed ? 'block' : 'none';\n",
              "\n",
              "      async function convertToInteractive(key) {\n",
              "        const element = document.querySelector('#df-90150d01-4fcc-4a28-a551-fa5c7237df25');\n",
              "        const dataTable =\n",
              "          await google.colab.kernel.invokeFunction('convertToInteractive',\n",
              "                                                    [key], {});\n",
              "        if (!dataTable) return;\n",
              "\n",
              "        const docLinkHtml = 'Like what you see? Visit the ' +\n",
              "          '<a target=\"_blank\" href=https://colab.research.google.com/notebooks/data_table.ipynb>data table notebook</a>'\n",
              "          + ' to learn more about interactive tables.';\n",
              "        element.innerHTML = '';\n",
              "        dataTable['output_type'] = 'display_data';\n",
              "        await google.colab.output.renderOutput(dataTable, element);\n",
              "        const docLink = document.createElement('div');\n",
              "        docLink.innerHTML = docLinkHtml;\n",
              "        element.appendChild(docLink);\n",
              "      }\n",
              "    </script>\n",
              "  </div>\n",
              "\n",
              "\n",
              "    </div>\n",
              "  </div>\n"
            ],
            "application/vnd.google.colaboratory.intrinsic+json": {
              "type": "dataframe"
            }
          },
          "metadata": {}
        }
      ],
      "source": [
        "display(\n",
        "    pdb_file.df[\"ATOM\"].head(3),\n",
        "    pdb_file.df[\"HETATM\"].head(3)\n",
        ")"
      ]
    },
    {
      "cell_type": "markdown",
      "metadata": {
        "id": "mvOgHzA7ifJb"
      },
      "source": [
        "### Excercise 🚧\n",
        "Plot the distribution of amino acids."
      ]
    },
    {
      "cell_type": "markdown",
      "source": [
        "### Answer"
      ],
      "metadata": {
        "id": "_HQ2684mzCHc"
      }
    },
    {
      "cell_type": "code",
      "source": [
        "%matplotlib inline\n",
        "from matplotlib import pyplot as plt\n",
        "\n",
        "pdb_file.df[\"ATOM\"].groupby(\"residue_name\").size().plot(kind=\"bar\", figsize=(10, 5), color='green')\n",
        "_ = plt.xticks(rotation=90)"
      ],
      "metadata": {
        "colab": {
          "base_uri": "https://localhost:8080/",
          "height": 644
        },
        "id": "sf-kcnGbzBYZ",
        "outputId": "f97c56c5-537a-442c-df60-e470825cc1ec"
      },
      "execution_count": null,
      "outputs": [
        {
          "output_type": "stream",
          "name": "stderr",
          "text": [
            "/usr/local/lib/python3.11/dist-packages/IPython/core/pylabtools.py:151: MatplotlibDeprecationWarning: savefig() got unexpected keyword argument \"orientation\" which is no longer supported as of 3.3 and will become an error two minor releases later\n",
            "  fig.canvas.print_figure(bytes_io, **kw)\n",
            "/usr/local/lib/python3.11/dist-packages/IPython/core/pylabtools.py:151: MatplotlibDeprecationWarning: savefig() got unexpected keyword argument \"facecolor\" which is no longer supported as of 3.3 and will become an error two minor releases later\n",
            "  fig.canvas.print_figure(bytes_io, **kw)\n",
            "/usr/local/lib/python3.11/dist-packages/IPython/core/pylabtools.py:151: MatplotlibDeprecationWarning: savefig() got unexpected keyword argument \"edgecolor\" which is no longer supported as of 3.3 and will become an error two minor releases later\n",
            "  fig.canvas.print_figure(bytes_io, **kw)\n",
            "/usr/local/lib/python3.11/dist-packages/IPython/core/pylabtools.py:151: MatplotlibDeprecationWarning: savefig() got unexpected keyword argument \"bbox_inches_restore\" which is no longer supported as of 3.3 and will become an error two minor releases later\n",
            "  fig.canvas.print_figure(bytes_io, **kw)\n"
          ]
        },
        {
          "output_type": "display_data",
          "data": {
            "text/plain": [
              "<Figure size 1000x500 with 1 Axes>"
            ],
            "image/png": "[encoded data removed]"
          },
          "metadata": {}
        }
      ]
    },
    {
      "cell_type": "markdown",
      "metadata": {
        "id": "aGu-rU6xifJc"
      },
      "source": [
        "## 3. Extract the sequence from the protein file and write it into a fasta file"
      ]
    },
    {
      "cell_type": "code",
      "source": [
        "# the mapping of 3 letter AA to 1 letter\n",
        "aa_dict = {\n",
        "    'ALA': 'A', 'CYS': 'C', 'ASP': 'D', 'GLU': 'E', 'PHE': 'F',\n",
        "    'GLY': 'G', 'HIS': 'H', 'ILE': 'I', 'LYS': 'K', 'LEU': 'L',\n",
        "    'MET': 'M', 'ASN': 'N', 'PRO': 'P', 'GLN': 'Q', 'ARG': 'R',\n",
        "    'SER': 'S', 'THR': 'T', 'VAL': 'V', 'TRP': 'W', 'TYR': 'Y',\n",
        "    'HSE': 'H', 'HSP': 'H', 'HSD': 'H', 'HIE': 'H', 'HID': 'H',\n",
        "}"
      ],
      "metadata": {
        "id": "JKAwWA-uphRg"
      },
      "execution_count": null,
      "outputs": []
    },
    {
      "cell_type": "code",
      "source": [
        "grouped_amino_acids = pdb_file.df[\"ATOM\"].groupby([\"residue_number\"]).first()\n",
        "grouped_amino_acids.head()"
      ],
      "metadata": {
        "colab": {
          "base_uri": "https://localhost:8080/",
          "height": 258
        },
        "id": "x1wr9lFOofnB",
        "outputId": "ee492454-de5d-4ac5-fd7b-84b147ecbc1c"
      },
      "execution_count": null,
      "outputs": [
        {
          "output_type": "execute_result",
          "data": {
            "text/plain": [
              "               record_name  atom_number blank_1 atom_name alt_loc  \\\n",
              "residue_number                                                      \n",
              "1                     ATOM            1                 N           \n",
              "2                     ATOM           20                 N           \n",
              "3                     ATOM           34                 N           \n",
              "4                     ATOM           48                 N           \n",
              "5                     ATOM           55                 N           \n",
              "\n",
              "               residue_name blank_2 chain_id insertion blank_3  x_coord  \\\n",
              "residue_number                                                            \n",
              "1                       MET                                     -18.379   \n",
              "2                       THR                                     -21.840   \n",
              "3                       THR                                     -21.694   \n",
              "4                       GLY                                     -21.695   \n",
              "5                       LEU                                     -20.546   \n",
              "\n",
              "                y_coord  z_coord  occupancy  b_factor blank_4 segment_id  \\\n",
              "residue_number                                                             \n",
              "1                -5.699   -9.533        1.0       0.0               PEP1   \n",
              "2                -4.420   -9.394        1.0       0.0               PEP1   \n",
              "3                -2.311  -12.404        1.0       0.0               PEP1   \n",
              "4                -1.638  -15.612        1.0       0.0               PEP1   \n",
              "5                 1.834  -15.993        1.0       0.0               PEP1   \n",
              "\n",
              "               element_symbol  charge  line_idx  \n",
              "residue_number                                   \n",
              "1                                 NaN         2  \n",
              "2                                 NaN        21  \n",
              "3                                 NaN        35  \n",
              "4                                 NaN        49  \n",
              "5                                 NaN        56  "
            ],
            "text/html": [
              "\n",
              "  <div id=\"df-8a763ec6-8c09-4ad2-812e-f390200111f8\" class=\"colab-df-container\">\n",
              "    <div>\n",
              "<style scoped>\n",
              "    .dataframe tbody tr th:only-of-type {\n",
              "        vertical-align: middle;\n",
              "    }\n",
              "\n",
              "    .dataframe tbody tr th {\n",
              "        vertical-align: top;\n",
              "    }\n",
              "\n",
              "    .dataframe thead th {\n",
              "        text-align: right;\n",
              "    }\n",
              "</style>\n",
              "<table border=\"1\" class=\"dataframe\">\n",
              "  <thead>\n",
              "    <tr style=\"text-align: right;\">\n",
              "      <th></th>\n",
              "      <th>record_name</th>\n",
              "      <th>atom_number</th>\n",
              "      <th>blank_1</th>\n",
              "      <th>atom_name</th>\n",
              "      <th>alt_loc</th>\n",
              "      <th>residue_name</th>\n",
              "      <th>blank_2</th>\n",
              "      <th>chain_id</th>\n",
              "      <th>insertion</th>\n",
              "      <th>blank_3</th>\n",
              "      <th>x_coord</th>\n",
              "      <th>y_coord</th>\n",
              "      <th>z_coord</th>\n",
              "      <th>occupancy</th>\n",
              "      <th>b_factor</th>\n",
              "      <th>blank_4</th>\n",
              "      <th>segment_id</th>\n",
              "      <th>element_symbol</th>\n",
              "      <th>charge</th>\n",
              "      <th>line_idx</th>\n",
              "    </tr>\n",
              "    <tr>\n",
              "      <th>residue_number</th>\n",
              "      <th></th>\n",
              "      <th></th>\n",
              "      <th></th>\n",
              "      <th></th>\n",
              "      <th></th>\n",
              "      <th></th>\n",
              "      <th></th>\n",
              "      <th></th>\n",
              "      <th></th>\n",
              "      <th></th>\n",
              "      <th></th>\n",
              "      <th></th>\n",
              "      <th></th>\n",
              "      <th></th>\n",
              "      <th></th>\n",
              "      <th></th>\n",
              "      <th></th>\n",
              "      <th></th>\n",
              "      <th></th>\n",
              "      <th></th>\n",
              "    </tr>\n",
              "  </thead>\n",
              "  <tbody>\n",
              "    <tr>\n",
              "      <th>1</th>\n",
              "      <td>ATOM</td>\n",
              "      <td>1</td>\n",
              "      <td></td>\n",
              "      <td>N</td>\n",
              "      <td></td>\n",
              "      <td>MET</td>\n",
              "      <td></td>\n",
              "      <td></td>\n",
              "      <td></td>\n",
              "      <td></td>\n",
              "      <td>-18.379</td>\n",
              "      <td>-5.699</td>\n",
              "      <td>-9.533</td>\n",
              "      <td>1.0</td>\n",
              "      <td>0.0</td>\n",
              "      <td></td>\n",
              "      <td>PEP1</td>\n",
              "      <td></td>\n",
              "      <td>NaN</td>\n",
              "      <td>2</td>\n",
              "    </tr>\n",
              "    <tr>\n",
              "      <th>2</th>\n",
              "      <td>ATOM</td>\n",
              "      <td>20</td>\n",
              "      <td></td>\n",
              "      <td>N</td>\n",
              "      <td></td>\n",
              "      <td>THR</td>\n",
              "      <td></td>\n",
              "      <td></td>\n",
              "      <td></td>\n",
              "      <td></td>\n",
              "      <td>-21.840</td>\n",
              "      <td>-4.420</td>\n",
              "      <td>-9.394</td>\n",
              "      <td>1.0</td>\n",
              "      <td>0.0</td>\n",
              "      <td></td>\n",
              "      <td>PEP1</td>\n",
              "      <td></td>\n",
              "      <td>NaN</td>\n",
              "      <td>21</td>\n",
              "    </tr>\n",
              "    <tr>\n",
              "      <th>3</th>\n",
              "      <td>ATOM</td>\n",
              "      <td>34</td>\n",
              "      <td></td>\n",
              "      <td>N</td>\n",
              "      <td></td>\n",
              "      <td>THR</td>\n",
              "      <td></td>\n",
              "      <td></td>\n",
              "      <td></td>\n",
              "      <td></td>\n",
              "      <td>-21.694</td>\n",
              "      <td>-2.311</td>\n",
              "      <td>-12.404</td>\n",
              "      <td>1.0</td>\n",
              "      <td>0.0</td>\n",
              "      <td></td>\n",
              "      <td>PEP1</td>\n",
              "      <td></td>\n",
              "      <td>NaN</td>\n",
              "      <td>35</td>\n",
              "    </tr>\n",
              "    <tr>\n",
              "      <th>4</th>\n",
              "      <td>ATOM</td>\n",
              "      <td>48</td>\n",
              "      <td></td>\n",
              "      <td>N</td>\n",
              "      <td></td>\n",
              "      <td>GLY</td>\n",
              "      <td></td>\n",
              "      <td></td>\n",
              "      <td></td>\n",
              "      <td></td>\n",
              "      <td>-21.695</td>\n",
              "      <td>-1.638</td>\n",
              "      <td>-15.612</td>\n",
              "      <td>1.0</td>\n",
              "      <td>0.0</td>\n",
              "      <td></td>\n",
              "      <td>PEP1</td>\n",
              "      <td></td>\n",
              "      <td>NaN</td>\n",
              "      <td>49</td>\n",
              "    </tr>\n",
              "    <tr>\n",
              "      <th>5</th>\n",
              "      <td>ATOM</td>\n",
              "      <td>55</td>\n",
              "      <td></td>\n",
              "      <td>N</td>\n",
              "      <td></td>\n",
              "      <td>LEU</td>\n",
              "      <td></td>\n",
              "      <td></td>\n",
              "      <td></td>\n",
              "      <td></td>\n",
              "      <td>-20.546</td>\n",
              "      <td>1.834</td>\n",
              "      <td>-15.993</td>\n",
              "      <td>1.0</td>\n",
              "      <td>0.0</td>\n",
              "      <td></td>\n",
              "      <td>PEP1</td>\n",
              "      <td></td>\n",
              "      <td>NaN</td>\n",
              "      <td>56</td>\n",
              "    </tr>\n",
              "  </tbody>\n",
              "</table>\n",
              "</div>\n",
              "    <div class=\"colab-df-buttons\">\n",
              "\n",
              "  <div class=\"colab-df-container\">\n",
              "    <button class=\"colab-df-convert\" onclick=\"convertToInteractive('df-8a763ec6-8c09-4ad2-812e-f390200111f8')\"\n",
              "            title=\"Convert this dataframe to an interactive table.\"\n",
              "            style=\"display:none;\">\n",
              "\n",
              "  <svg xmlns=\"http://www.w3.org/2000/svg\" height=\"24px\" viewBox=\"0 -960 960 960\">\n",
              "    <path d=\"M120-120v-720h720v720H120Zm60-500h600v-160H180v160Zm220 220h160v-160H400v160Zm0 220h160v-160H400v160ZM180-400h160v-160H180v160Zm440 0h160v-160H620v160ZM180-180h160v-160H180v160Zm440 0h160v-160H620v160Z\"/>\n",
              "  </svg>\n",
              "    </button>\n",
              "\n",
              "  <style>\n",
              "    .colab-df-container {\n",
              "      display:flex;\n",
              "      gap: 12px;\n",
              "    }\n",
              "\n",
              "    .colab-df-convert {\n",
              "      background-color: #E8F0FE;\n",
              "      border: none;\n",
              "      border-radius: 50%;\n",
              "      cursor: pointer;\n",
              "      display: none;\n",
              "      fill: #1967D2;\n",
              "      height: 32px;\n",
              "      padding: 0 0 0 0;\n",
              "      width: 32px;\n",
              "    }\n",
              "\n",
              "    .colab-df-convert:hover {\n",
              "      background-color: #E2EBFA;\n",
              "      box-shadow: 0px 1px 2px rgba(60, 64, 67, 0.3), 0px 1px 3px 1px rgba(60, 64, 67, 0.15);\n",
              "      fill: #174EA6;\n",
              "    }\n",
              "\n",
              "    .colab-df-buttons div {\n",
              "      margin-bottom: 4px;\n",
              "    }\n",
              "\n",
              "    [theme=dark] .colab-df-convert {\n",
              "      background-color: #3B4455;\n",
              "      fill: #D2E3FC;\n",
              "    }\n",
              "\n",
              "    [theme=dark] .colab-df-convert:hover {\n",
              "      background-color: #434B5C;\n",
              "      box-shadow: 0px 1px 3px 1px rgba(0, 0, 0, 0.15);\n",
              "      filter: drop-shadow(0px 1px 2px rgba(0, 0, 0, 0.3));\n",
              "      fill: #FFFFFF;\n",
              "    }\n",
              "  </style>\n",
              "\n",
              "    <script>\n",
              "      const buttonEl =\n",
              "        document.querySelector('#df-8a763ec6-8c09-4ad2-812e-f390200111f8 button.colab-df-convert');\n",
              "      buttonEl.style.display =\n",
              "        google.colab.kernel.accessAllowed ? 'block' : 'none';\n",
              "\n",
              "      async function convertToInteractive(key) {\n",
              "        const element = document.querySelector('#df-8a763ec6-8c09-4ad2-812e-f390200111f8');\n",
              "        const dataTable =\n",
              "          await google.colab.kernel.invokeFunction('convertToInteractive',\n",
              "                                                    [key], {});\n",
              "        if (!dataTable) return;\n",
              "\n",
              "        const docLinkHtml = 'Like what you see? Visit the ' +\n",
              "          '<a target=\"_blank\" href=https://colab.research.google.com/notebooks/data_table.ipynb>data table notebook</a>'\n",
              "          + ' to learn more about interactive tables.';\n",
              "        element.innerHTML = '';\n",
              "        dataTable['output_type'] = 'display_data';\n",
              "        await google.colab.output.renderOutput(dataTable, element);\n",
              "        const docLink = document.createElement('div');\n",
              "        docLink.innerHTML = docLinkHtml;\n",
              "        element.appendChild(docLink);\n",
              "      }\n",
              "    </script>\n",
              "  </div>\n",
              "\n",
              "\n",
              "<div id=\"df-29252f06-b560-4fb4-8261-450f65da849d\">\n",
              "  <button class=\"colab-df-quickchart\" onclick=\"quickchart('df-29252f06-b560-4fb4-8261-450f65da849d')\"\n",
              "            title=\"Suggest charts\"\n",
              "            style=\"display:none;\">\n",
              "\n",
              "<svg xmlns=\"http://www.w3.org/2000/svg\" height=\"24px\"viewBox=\"0 0 24 24\"\n",
              "     width=\"24px\">\n",
              "    <g>\n",
              "        <path d=\"M19 3H5c-1.1 0-2 .9-2 2v14c0 1.1.9 2 2 2h14c1.1 0 2-.9 2-2V5c0-1.1-.9-2-2-2zM9 17H7v-7h2v7zm4 0h-2V7h2v10zm4 0h-2v-4h2v4z\"/>\n",
              "    </g>\n",
              "</svg>\n",
              "  </button>\n",
              "\n",
              "<style>\n",
              "  .colab-df-quickchart {\n",
              "      --bg-color: #E8F0FE;\n",
              "      --fill-color: #1967D2;\n",
              "      --hover-bg-color: #E2EBFA;\n",
              "      --hover-fill-color: #174EA6;\n",
              "      --disabled-fill-color: #AAA;\n",
              "      --disabled-bg-color: #DDD;\n",
              "  }\n",
              "\n",
              "  [theme=dark] .colab-df-quickchart {\n",
              "      --bg-color: #3B4455;\n",
              "      --fill-color: #D2E3FC;\n",
              "      --hover-bg-color: #434B5C;\n",
              "      --hover-fill-color: #FFFFFF;\n",
              "      --disabled-bg-color: #3B4455;\n",
              "      --disabled-fill-color: #666;\n",
              "  }\n",
              "\n",
              "  .colab-df-quickchart {\n",
              "    background-color: var(--bg-color);\n",
              "    border: none;\n",
              "    border-radius: 50%;\n",
              "    cursor: pointer;\n",
              "    display: none;\n",
              "    fill: var(--fill-color);\n",
              "    height: 32px;\n",
              "    padding: 0;\n",
              "    width: 32px;\n",
              "  }\n",
              "\n",
              "  .colab-df-quickchart:hover {\n",
              "    background-color: var(--hover-bg-color);\n",
              "    box-shadow: 0 1px 2px rgba(60, 64, 67, 0.3), 0 1px 3px 1px rgba(60, 64, 67, 0.15);\n",
              "    fill: var(--button-hover-fill-color);\n",
              "  }\n",
              "\n",
              "  .colab-df-quickchart-complete:disabled,\n",
              "  .colab-df-quickchart-complete:disabled:hover {\n",
              "    background-color: var(--disabled-bg-color);\n",
              "    fill: var(--disabled-fill-color);\n",
              "    box-shadow: none;\n",
              "  }\n",
              "\n",
              "  .colab-df-spinner {\n",
              "    border: 2px solid var(--fill-color);\n",
              "    border-color: transparent;\n",
              "    border-bottom-color: var(--fill-color);\n",
              "    animation:\n",
              "      spin 1s steps(1) infinite;\n",
              "  }\n",
              "\n",
              "  @keyframes spin {\n",
              "    0% {\n",
              "      border-color: transparent;\n",
              "      border-bottom-color: var(--fill-color);\n",
              "      border-left-color: var(--fill-color);\n",
              "    }\n",
              "    20% {\n",
              "      border-color: transparent;\n",
              "      border-left-color: var(--fill-color);\n",
              "      border-top-color: var(--fill-color);\n",
              "    }\n",
              "    30% {\n",
              "      border-color: transparent;\n",
              "      border-left-color: var(--fill-color);\n",
              "      border-top-color: var(--fill-color);\n",
              "      border-right-color: var(--fill-color);\n",
              "    }\n",
              "    40% {\n",
              "      border-color: transparent;\n",
              "      border-right-color: var(--fill-color);\n",
              "      border-top-color: var(--fill-color);\n",
              "    }\n",
              "    60% {\n",
              "      border-color: transparent;\n",
              "      border-right-color: var(--fill-color);\n",
              "    }\n",
              "    80% {\n",
              "      border-color: transparent;\n",
              "      border-right-color: var(--fill-color);\n",
              "      border-bottom-color: var(--fill-color);\n",
              "    }\n",
              "    90% {\n",
              "      border-color: transparent;\n",
              "      border-bottom-color: var(--fill-color);\n",
              "    }\n",
              "  }\n",
              "</style>\n",
              "\n",
              "  <script>\n",
              "    async function quickchart(key) {\n",
              "      const quickchartButtonEl =\n",
              "        document.querySelector('#' + key + ' button');\n",
              "      quickchartButtonEl.disabled = true;  // To prevent multiple clicks.\n",
              "      quickchartButtonEl.classList.add('colab-df-spinner');\n",
              "      try {\n",
              "        const charts = await google.colab.kernel.invokeFunction(\n",
              "            'suggestCharts', [key], {});\n",
              "      } catch (error) {\n",
              "        console.error('Error during call to suggestCharts:', error);\n",
              "      }\n",
              "      quickchartButtonEl.classList.remove('colab-df-spinner');\n",
              "      quickchartButtonEl.classList.add('colab-df-quickchart-complete');\n",
              "    }\n",
              "    (() => {\n",
              "      let quickchartButtonEl =\n",
              "        document.querySelector('#df-29252f06-b560-4fb4-8261-450f65da849d button');\n",
              "      quickchartButtonEl.style.display =\n",
              "        google.colab.kernel.accessAllowed ? 'block' : 'none';\n",
              "    })();\n",
              "  </script>\n",
              "</div>\n",
              "\n",
              "    </div>\n",
              "  </div>\n"
            ],
            "application/vnd.google.colaboratory.intrinsic+json": {
              "type": "dataframe",
              "variable_name": "grouped_amino_acids",
              "summary": "{\n  \"name\": \"grouped_amino_acids\",\n  \"rows\": 312,\n  \"fields\": [\n    {\n      \"column\": \"residue_number\",\n      \"properties\": {\n        \"dtype\": \"number\",\n        \"std\": 90,\n        \"min\": 1,\n        \"max\": 312,\n        \"num_unique_values\": 312,\n        \"samples\": [\n          229,\n          10,\n          58\n        ],\n        \"semantic_type\": \"\",\n        \"description\": \"\"\n      }\n    },\n    {\n      \"column\": \"record_name\",\n      \"properties\": {\n        \"dtype\": \"category\",\n        \"num_unique_values\": 1,\n        \"samples\": [\n          \"ATOM\"\n        ],\n        \"semantic_type\": \"\",\n        \"description\": \"\"\n      }\n    },\n    {\n      \"column\": \"atom_number\",\n      \"properties\": {\n        \"dtype\": \"number\",\n        \"std\": 1443,\n        \"min\": 1,\n        \"max\": 4925,\n        \"num_unique_values\": 312,\n        \"samples\": [\n          3634\n        ],\n        \"semantic_type\": \"\",\n        \"description\": \"\"\n      }\n    },\n    {\n      \"column\": \"blank_1\",\n      \"properties\": {\n        \"dtype\": \"object\",\n        \"num_unique_values\": 1,\n        \"samples\": [\n          \"\"\n        ],\n        \"semantic_type\": \"\",\n        \"description\": \"\"\n      }\n    },\n    {\n      \"column\": \"atom_name\",\n      \"properties\": {\n        \"dtype\": \"category\",\n        \"num_unique_values\": 3,\n        \"samples\": [\n          \"N\"\n        ],\n        \"semantic_type\": \"\",\n        \"description\": \"\"\n      }\n    },\n    {\n      \"column\": \"alt_loc\",\n      \"properties\": {\n        \"dtype\": \"object\",\n        \"num_unique_values\": 1,\n        \"samples\": [\n          \"\"\n        ],\n        \"semantic_type\": \"\",\n        \"description\": \"\"\n      }\n    },\n    {\n      \"column\": \"residue_name\",\n      \"properties\": {\n        \"dtype\": \"category\",\n        \"num_unique_values\": 23,\n        \"samples\": [\n          \"PHE\"\n        ],\n        \"semantic_type\": \"\",\n        \"description\": \"\"\n      }\n    },\n    {\n      \"column\": \"blank_2\",\n      \"properties\": {\n        \"dtype\": \"object\",\n        \"num_unique_values\": 1,\n        \"samples\": [\n          \"\"\n        ],\n        \"semantic_type\": \"\",\n        \"description\": \"\"\n      }\n    },\n    {\n      \"column\": \"chain_id\",\n      \"properties\": {\n        \"dtype\": \"object\",\n        \"num_unique_values\": 1,\n        \"samples\": [\n          \"\"\n        ],\n        \"semantic_type\": \"\",\n        \"description\": \"\"\n      }\n    },\n    {\n      \"column\": \"insertion\",\n      \"properties\": {\n        \"dtype\": \"object\",\n        \"num_unique_values\": 1,\n        \"samples\": [\n          \"\"\n        ],\n        \"semantic_type\": \"\",\n        \"description\": \"\"\n      }\n    },\n    {\n      \"column\": \"blank_3\",\n      \"properties\": {\n        \"dtype\": \"object\",\n        \"num_unique_values\": 1,\n        \"samples\": [\n          \"\"\n        ],\n        \"semantic_type\": \"\",\n        \"description\": \"\"\n      }\n    },\n    {\n      \"column\": \"x_coord\",\n      \"properties\": {\n        \"dtype\": \"number\",\n        \"std\": 11.165793703373735,\n        \"min\": -22.328,\n        \"max\": 25.365,\n        \"num_unique_values\": 310,\n        \"samples\": [\n          0.303\n        ],\n        \"semantic_type\": \"\",\n        \"description\": \"\"\n      }\n    },\n    {\n      \"column\": \"y_coord\",\n      \"properties\": {\n        \"dtype\": \"number\",\n        \"std\": 12.249493428037676,\n        \"min\": -22.209,\n        \"max\": 28.61,\n        \"num_unique_values\": 310,\n        \"samples\": [\n          4.876\n        ],\n        \"semantic_type\": \"\",\n        \"description\": \"\"\n      }\n    },\n    {\n      \"column\": \"z_coord\",\n      \"properties\": {\n        \"dtype\": \"number\",\n        \"std\": 8.031000260237866,\n        \"min\": -20.188,\n        \"max\": 18.063,\n        \"num_unique_values\": 311,\n        \"samples\": [\n          -13.17\n        ],\n        \"semantic_type\": \"\",\n        \"description\": \"\"\n      }\n    },\n    {\n      \"column\": \"occupancy\",\n      \"properties\": {\n        \"dtype\": \"number\",\n        \"std\": 0.0,\n        \"min\": 1.0,\n        \"max\": 1.0,\n        \"num_unique_values\": 1,\n        \"samples\": [\n          1.0\n        ],\n        \"semantic_type\": \"\",\n        \"description\": \"\"\n      }\n    },\n    {\n      \"column\": \"b_factor\",\n      \"properties\": {\n        \"dtype\": \"number\",\n        \"std\": 7.5386902167734196,\n        \"min\": 0.0,\n        \"max\": 45.64,\n        \"num_unique_values\": 270,\n        \"samples\": [\n          23.78\n        ],\n        \"semantic_type\": \"\",\n        \"description\": \"\"\n      }\n    },\n    {\n      \"column\": \"blank_4\",\n      \"properties\": {\n        \"dtype\": \"object\",\n        \"num_unique_values\": 1,\n        \"samples\": [\n          \"\"\n        ],\n        \"semantic_type\": \"\",\n        \"description\": \"\"\n      }\n    },\n    {\n      \"column\": \"segment_id\",\n      \"properties\": {\n        \"dtype\": \"category\",\n        \"num_unique_values\": 3,\n        \"samples\": [\n          \"PEP1\"\n        ],\n        \"semantic_type\": \"\",\n        \"description\": \"\"\n      }\n    },\n    {\n      \"column\": \"element_symbol\",\n      \"properties\": {\n        \"dtype\": \"object\",\n        \"num_unique_values\": 1,\n        \"samples\": [\n          \"\"\n        ],\n        \"semantic_type\": \"\",\n        \"description\": \"\"\n      }\n    },\n    {\n      \"column\": \"charge\",\n      \"properties\": {\n        \"dtype\": \"number\",\n        \"std\": null,\n        \"min\": null,\n        \"max\": null,\n        \"num_unique_values\": 0,\n        \"samples\": [],\n        \"semantic_type\": \"\",\n        \"description\": \"\"\n      }\n    },\n    {\n      \"column\": \"line_idx\",\n      \"properties\": {\n        \"dtype\": \"number\",\n        \"std\": 1443,\n        \"min\": 2,\n        \"max\": 4926,\n        \"num_unique_values\": 312,\n        \"samples\": [],\n        \"semantic_type\": \"\",\n        \"description\": \"\"\n      }\n    }\n  ]\n}"
            }
          },
          "metadata": {},
          "execution_count": 15
        }
      ]
    },
    {
      "cell_type": "code",
      "source": [
        "sequence = \"\".join(grouped_amino_acids['residue_name'].map(aa_dict))\n",
        "display(sequence)"
      ],
      "metadata": {
        "colab": {
          "base_uri": "https://localhost:8080/",
          "height": 162
        },
        "id": "lp7iqgGbq2w6",
        "outputId": "b5fc9f10-9026-4147-b2c3-1883ddb53eaa"
      },
      "execution_count": null,
      "outputs": [
        {
          "output_type": "error",
          "ename": "TypeError",
          "evalue": "sequence item 308: expected str instance, float found",
          "traceback": [
            "\u001b[0;31m---------------------------------------------------------------------------\u001b[0m",
            "\u001b[0;31mTypeError\u001b[0m                                 Traceback (most recent call last)",
            "\u001b[0;32m<ipython-input-16-2d045c3b65fc>\u001b[0m in \u001b[0;36m<cell line: 0>\u001b[0;34m()\u001b[0m\n\u001b[0;32m----> 1\u001b[0;31m \u001b[0msequence\u001b[0m \u001b[0;34m=\u001b[0m \u001b[0;34m\"\"\u001b[0m\u001b[0;34m.\u001b[0m\u001b[0mjoin\u001b[0m\u001b[0;34m(\u001b[0m\u001b[0mgrouped_amino_acids\u001b[0m\u001b[0;34m[\u001b[0m\u001b[0;34m'residue_name'\u001b[0m\u001b[0;34m]\u001b[0m\u001b[0;34m.\u001b[0m\u001b[0mmap\u001b[0m\u001b[0;34m(\u001b[0m\u001b[0maa_dict\u001b[0m\u001b[0;34m)\u001b[0m\u001b[0;34m)\u001b[0m\u001b[0;34m\u001b[0m\u001b[0;34m\u001b[0m\u001b[0m\n\u001b[0m\u001b[1;32m      2\u001b[0m \u001b[0mdisplay\u001b[0m\u001b[0;34m(\u001b[0m\u001b[0msequence\u001b[0m\u001b[0;34m)\u001b[0m\u001b[0;34m\u001b[0m\u001b[0;34m\u001b[0m\u001b[0m\n",
            "\u001b[0;31mTypeError\u001b[0m: sequence item 308: expected str instance, float found"
          ]
        }
      ]
    },
    {
      "cell_type": "markdown",
      "source": [
        "---\n",
        "\n",
        "### Excercise 🚧\n",
        "\n",
        "Clearly we have something in the original protein that is preventing us from making a sequence. Can you figure out what it could be?"
      ],
      "metadata": {
        "id": "pGR4DnbJxfYq"
      }
    },
    {
      "cell_type": "markdown",
      "source": [
        "### Answer 🏗"
      ],
      "metadata": {
        "id": "TVlL-sjSycWQ"
      }
    },
    {
      "cell_type": "markdown",
      "source": [
        "there are Mg and Pop (lipids) in the pandas dataframe. If you do\n",
        "\n",
        "```python\n",
        "set(aa_dict.keys()) - set(grouped_amino_acids[\"residue_name\"])\n",
        "```\n",
        "you should see\n",
        "```python\n",
        "['MG', 'POP']\n",
        "```\n",
        "\n",
        "indicating that you must get rid of these somehow. One easy way is to simply do\n",
        "```python\n",
        "sequence = \"\".join(grouped_amino_acids['residue_name'].map(aa_dict).dropna())\n",
        "```"
      ],
      "metadata": {
        "id": "VqzRSYdGxoGC"
      }
    },
    {
      "cell_type": "code",
      "source": [
        "sequence = \"\".join(grouped_amino_acids['residue_name'].map(aa_dict).dropna())\n",
        "display(sequence)"
      ],
      "metadata": {
        "colab": {
          "base_uri": "https://localhost:8080/",
          "height": 53
        },
        "id": "ydHg-lfvyicD",
        "outputId": "0842484a-139c-4a0b-ffbe-d89797b5fd9c"
      },
      "execution_count": null,
      "outputs": [
        {
          "output_type": "display_data",
          "data": {
            "text/plain": [
              "'MTTGLSTAGAQDIGRSSVRPYLEECTRRFQEMFDRHVVTRPTKVELTDAELREVIDDCNAAVAPLGKTVSDERWISYVGVVLWSQSPRHIKDMEAFKAVCVLNCVTFVWDDMDPALHDFGLFLPQLRKICEKYYGPEDAEVAYEAARAFVTSDHMFRDSPIKAALCTTSPEQYFRFRVTDIGVDFWMKMSYPIYRHPEFTEHAKTSLAARMTTRGLTIVNDFYSYDREVSLGQITNCFRLCDVSDETAFKEFFQARLDDMIEDIECIKAFDQLTQDVFLDLIYGNFVWTTSNKRYKTAVNDVNSRIQA'"
            ],
            "application/vnd.google.colaboratory.intrinsic+json": {
              "type": "string"
            }
          },
          "metadata": {}
        }
      ]
    },
    {
      "cell_type": "markdown",
      "source": [
        "---"
      ],
      "metadata": {
        "id": "l_CHu8-g1sQv"
      }
    },
    {
      "cell_type": "code",
      "source": [
        "# how to write a fasta file\n",
        "\n",
        "fasta_location = \"cotb2_mg.fasta\"\n",
        "with open(fasta_location, \"w\") as f:\n",
        "    f.write(f\">cotb2_mg\\n{sequence}\")"
      ],
      "metadata": {
        "id": "whm5hUwO4BzN"
      },
      "execution_count": null,
      "outputs": []
    },
    {
      "cell_type": "markdown",
      "source": [
        "# Alternative way to generate a sequence"
      ],
      "metadata": {
        "id": "T5rdNsb-yXEg"
      }
    },
    {
      "cell_type": "code",
      "source": [
        "from Bio.PDB.PDBParser import PDBParser\n",
        "from Bio.PDB.PDBExceptions import PDBConstructionWarning\n",
        "from Bio.SeqUtils import seq1\n",
        "import warnings\n",
        "\n",
        "warnings.filterwarnings(\"ignore\", category=PDBConstructionWarning)\n",
        "\n",
        "PDB_FILE_LOCATION = \"/content/cotb2_pp_mg.pdb\"\n",
        "parser = PDBParser(PERMISSIVE=True)\n",
        "structure = parser.get_structure(\"cotb_mg\", PDB_FILE_LOCATION)\n",
        "\n",
        "chains = {}\n",
        "for chain in structure.get_chains():\n",
        "    # get the sequence of the chain\n",
        "    seq = \"\".join(\n",
        "        seq1(residue.resname)\n",
        "        for residue in chain.get_residues()\n",
        "    )\n",
        "    chains[chain.id] = seq"
      ],
      "metadata": {
        "id": "BKWQBjtO59eW"
      },
      "execution_count": null,
      "outputs": []
    },
    {
      "cell_type": "code",
      "source": [
        "chains[' ']"
      ],
      "metadata": {
        "colab": {
          "base_uri": "https://localhost:8080/",
          "height": 53
        },
        "id": "LmP6hF1F4sIj",
        "outputId": "7c49e2fc-a6c2-4ce8-b21c-e41c6d4cd353"
      },
      "execution_count": null,
      "outputs": [
        {
          "output_type": "execute_result",
          "data": {
            "text/plain": [
              "'MTTGLSTAGAQDIGRSSVRPYLEECTRRFQEMFDRXVVTRPTKVELTDAELREVIDDCNAAVAPLGKTVSDERWISYVGVVLWSQSPRXIKDMEAFKAVCVLNCVTFVWDDMDPALXDFGLFLPQLRKICEKYYGPEDAEVAYEAARAFVTSDXMFRDSPIKAALCTTSPEQYFRFRVTDIGVDFWMKMSYPIYRXPEFTEXAKTSLAARMTTRGLTIVNDFYSYDREVSLGQITNCFRLCDVSDETAFKEFFQARLDDMIEDIECIKAFDQLTQDVFLDLIYGNFVWTTSNKRYKTAVNDVNSRIQAX'"
            ],
            "application/vnd.google.colaboratory.intrinsic+json": {
              "type": "string"
            }
          },
          "metadata": {},
          "execution_count": 21
        }
      ]
    },
    {
      "cell_type": "markdown",
      "source": [
        "#### Exercise 🚧\n",
        "- Examine the sequences and figure out what is different between them and why.\n",
        "- Can you get them to match each other?"
      ],
      "metadata": {
        "id": "W3vBTFUP02mj"
      }
    },
    {
      "cell_type": "markdown",
      "source": [
        "### Answer 🏗"
      ],
      "metadata": {
        "id": "sELk9GQW3F5B"
      }
    },
    {
      "cell_type": "code",
      "source": [
        "set(chains[\" \"]) - set(sequence)"
      ],
      "metadata": {
        "colab": {
          "base_uri": "https://localhost:8080/"
        },
        "id": "zkAyLB8X3Nhb",
        "outputId": "1217f0c5-09fb-4e52-b7a4-62b6b8d96c15"
      },
      "execution_count": null,
      "outputs": [
        {
          "output_type": "execute_result",
          "data": {
            "text/plain": [
              "{'X'}"
            ]
          },
          "metadata": {},
          "execution_count": 22
        }
      ]
    },
    {
      "cell_type": "code",
      "source": [
        "for chain in structure.get_chains():\n",
        "  for residue in chain.get_residues():\n",
        "    if seq1(residue.resname) == \"X\":\n",
        "      print(residue)"
      ],
      "metadata": {
        "collapsed": true,
        "id": "l8gL6cjP000e",
        "colab": {
          "base_uri": "https://localhost:8080/"
        },
        "outputId": "82768385-2e6e-44a2-de52-02cf1b8b99a3"
      },
      "execution_count": null,
      "outputs": [
        {
          "output_type": "stream",
          "name": "stdout",
          "text": [
            "<Residue HSP het=  resseq=36 icode= >\n",
            "<Residue HSP het=  resseq=89 icode= >\n",
            "<Residue HSP het=  resseq=117 icode= >\n",
            "<Residue HSE het=  resseq=154 icode= >\n",
            "<Residue HSP het=  resseq=196 icode= >\n",
            "<Residue HSP het=  resseq=202 icode= >\n",
            "<Residue POP het=  resseq=309 icode= >\n"
          ]
        }
      ]
    },
    {
      "cell_type": "code",
      "source": [
        "chains = {}\n",
        "for chain in structure.get_chains():\n",
        "  seq = \"\".join(\n",
        "      seq1(residue.resname)\n",
        "      for residue in chain.get_residues()\n",
        "      if seq1(residue.resname) != \"X\"\n",
        "  )\n",
        "  chains[chain.id] = seq"
      ],
      "metadata": {
        "id": "h83-0vNe3UFF"
      },
      "execution_count": null,
      "outputs": []
    },
    {
      "cell_type": "code",
      "source": [
        "set(chains[' ']) - set(sequence), set(sequence) - set(chains[' '])"
      ],
      "metadata": {
        "colab": {
          "base_uri": "https://localhost:8080/"
        },
        "id": "W1Dm2LWG3grI",
        "outputId": "e2da2655-b6f4-46f5-9307-f994cb500053"
      },
      "execution_count": null,
      "outputs": [
        {
          "output_type": "execute_result",
          "data": {
            "text/plain": [
              "(set(), {'H'})"
            ]
          },
          "metadata": {},
          "execution_count": 25
        }
      ]
    },
    {
      "cell_type": "markdown",
      "source": [
        "**sometimes you can't lol**"
      ],
      "metadata": {
        "id": "oyiHtLWs4xmj"
      }
    },
    {
      "cell_type": "markdown",
      "source": [
        "### exercise 🚧  Find the amino acid composition (AAC)"
      ],
      "metadata": {
        "id": "3iB6TK-ty9FL"
      }
    },
    {
      "cell_type": "code",
      "source": [
        "import warnings\n",
        "from matplotlib.cbook import MatplotlibDeprecationWarning\n",
        "\n",
        "warnings.filterwarnings('ignore', category=MatplotlibDeprecationWarning)"
      ],
      "metadata": {
        "id": "mBDAolgJ53oA"
      },
      "execution_count": null,
      "outputs": []
    },
    {
      "cell_type": "code",
      "source": [
        "# get raw counts\n",
        "aac = pdb_file.df[\"ATOM\"].groupby([\"residue_number\"]).first().residue_name.value_counts().to_dict()\n",
        "\n",
        "# normalize to length of sequence\n",
        "aac = {k:round(v/sum(aac.values()),4) for k,v in aac.items()}\n",
        "\n",
        "counts = pd.DataFrame(aac.items(), columns = [\"aa\", \"frequency\"]).sort_values(by = \"frequency\", ascending = False)\n",
        "display(counts.head())\n",
        "\n",
        "# plot it\n",
        "counts.plot(kind = \"bar\", figsize = (10,5), color = \"green\")\n",
        "_ = plt.xticks(rotation = 90)"
      ],
      "metadata": {
        "colab": {
          "base_uri": "https://localhost:8080/",
          "height": 638
        },
        "id": "gtYLK7lMy4Rt",
        "outputId": "80af9671-1c38-4d28-be85-bc3877197946"
      },
      "execution_count": null,
      "outputs": [
        {
          "output_type": "display_data",
          "data": {
            "text/plain": [
              "    aa  frequency\n",
              "0  ASP     0.0865\n",
              "1  VAL     0.0801\n",
              "2  ALA     0.0769\n",
              "3  THR     0.0769\n",
              "4  ARG     0.0705"
            ],
            "text/html": [
              "\n",
              "  <div id=\"df-f142aad3-f320-4326-9ad5-529a8b467773\" class=\"colab-df-container\">\n",
              "    <div>\n",
              "<style scoped>\n",
              "    .dataframe tbody tr th:only-of-type {\n",
              "        vertical-align: middle;\n",
              "    }\n",
              "\n",
              "    .dataframe tbody tr th {\n",
              "        vertical-align: top;\n",
              "    }\n",
              "\n",
              "    .dataframe thead th {\n",
              "        text-align: right;\n",
              "    }\n",
              "</style>\n",
              "<table border=\"1\" class=\"dataframe\">\n",
              "  <thead>\n",
              "    <tr style=\"text-align: right;\">\n",
              "      <th></th>\n",
              "      <th>aa</th>\n",
              "      <th>frequency</th>\n",
              "    </tr>\n",
              "  </thead>\n",
              "  <tbody>\n",
              "    <tr>\n",
              "      <th>0</th>\n",
              "      <td>ASP</td>\n",
              "      <td>0.0865</td>\n",
              "    </tr>\n",
              "    <tr>\n",
              "      <th>1</th>\n",
              "      <td>VAL</td>\n",
              "      <td>0.0801</td>\n",
              "    </tr>\n",
              "    <tr>\n",
              "      <th>2</th>\n",
              "      <td>ALA</td>\n",
              "      <td>0.0769</td>\n",
              "    </tr>\n",
              "    <tr>\n",
              "      <th>3</th>\n",
              "      <td>THR</td>\n",
              "      <td>0.0769</td>\n",
              "    </tr>\n",
              "    <tr>\n",
              "      <th>4</th>\n",
              "      <td>ARG</td>\n",
              "      <td>0.0705</td>\n",
              "    </tr>\n",
              "  </tbody>\n",
              "</table>\n",
              "</div>\n",
              "    <div class=\"colab-df-buttons\">\n",
              "\n",
              "  <div class=\"colab-df-container\">\n",
              "    <button class=\"colab-df-convert\" onclick=\"convertToInteractive('df-f142aad3-f320-4326-9ad5-529a8b467773')\"\n",
              "            title=\"Convert this dataframe to an interactive table.\"\n",
              "            style=\"display:none;\">\n",
              "\n",
              "  <svg xmlns=\"http://www.w3.org/2000/svg\" height=\"24px\" viewBox=\"0 -960 960 960\">\n",
              "    <path d=\"M120-120v-720h720v720H120Zm60-500h600v-160H180v160Zm220 220h160v-160H400v160Zm0 220h160v-160H400v160ZM180-400h160v-160H180v160Zm440 0h160v-160H620v160ZM180-180h160v-160H180v160Zm440 0h160v-160H620v160Z\"/>\n",
              "  </svg>\n",
              "    </button>\n",
              "\n",
              "  <style>\n",
              "    .colab-df-container {\n",
              "      display:flex;\n",
              "      gap: 12px;\n",
              "    }\n",
              "\n",
              "    .colab-df-convert {\n",
              "      background-color: #E8F0FE;\n",
              "      border: none;\n",
              "      border-radius: 50%;\n",
              "      cursor: pointer;\n",
              "      display: none;\n",
              "      fill: #1967D2;\n",
              "      height: 32px;\n",
              "      padding: 0 0 0 0;\n",
              "      width: 32px;\n",
              "    }\n",
              "\n",
              "    .colab-df-convert:hover {\n",
              "      background-color: #E2EBFA;\n",
              "      box-shadow: 0px 1px 2px rgba(60, 64, 67, 0.3), 0px 1px 3px 1px rgba(60, 64, 67, 0.15);\n",
              "      fill: #174EA6;\n",
              "    }\n",
              "\n",
              "    .colab-df-buttons div {\n",
              "      margin-bottom: 4px;\n",
              "    }\n",
              "\n",
              "    [theme=dark] .colab-df-convert {\n",
              "      background-color: #3B4455;\n",
              "      fill: #D2E3FC;\n",
              "    }\n",
              "\n",
              "    [theme=dark] .colab-df-convert:hover {\n",
              "      background-color: #434B5C;\n",
              "      box-shadow: 0px 1px 3px 1px rgba(0, 0, 0, 0.15);\n",
              "      filter: drop-shadow(0px 1px 2px rgba(0, 0, 0, 0.3));\n",
              "      fill: #FFFFFF;\n",
              "    }\n",
              "  </style>\n",
              "\n",
              "    <script>\n",
              "      const buttonEl =\n",
              "        document.querySelector('#df-f142aad3-f320-4326-9ad5-529a8b467773 button.colab-df-convert');\n",
              "      buttonEl.style.display =\n",
              "        google.colab.kernel.accessAllowed ? 'block' : 'none';\n",
              "\n",
              "      async function convertToInteractive(key) {\n",
              "        const element = document.querySelector('#df-f142aad3-f320-4326-9ad5-529a8b467773');\n",
              "        const dataTable =\n",
              "          await google.colab.kernel.invokeFunction('convertToInteractive',\n",
              "                                                    [key], {});\n",
              "        if (!dataTable) return;\n",
              "\n",
              "        const docLinkHtml = 'Like what you see? Visit the ' +\n",
              "          '<a target=\"_blank\" href=https://colab.research.google.com/notebooks/data_table.ipynb>data table notebook</a>'\n",
              "          + ' to learn more about interactive tables.';\n",
              "        element.innerHTML = '';\n",
              "        dataTable['output_type'] = 'display_data';\n",
              "        await google.colab.output.renderOutput(dataTable, element);\n",
              "        const docLink = document.createElement('div');\n",
              "        docLink.innerHTML = docLinkHtml;\n",
              "        element.appendChild(docLink);\n",
              "      }\n",
              "    </script>\n",
              "  </div>\n",
              "\n",
              "\n",
              "<div id=\"df-3f00642f-6b60-4f31-8a79-44ad35e2f60d\">\n",
              "  <button class=\"colab-df-quickchart\" onclick=\"quickchart('df-3f00642f-6b60-4f31-8a79-44ad35e2f60d')\"\n",
              "            title=\"Suggest charts\"\n",
              "            style=\"display:none;\">\n",
              "\n",
              "<svg xmlns=\"http://www.w3.org/2000/svg\" height=\"24px\"viewBox=\"0 0 24 24\"\n",
              "     width=\"24px\">\n",
              "    <g>\n",
              "        <path d=\"M19 3H5c-1.1 0-2 .9-2 2v14c0 1.1.9 2 2 2h14c1.1 0 2-.9 2-2V5c0-1.1-.9-2-2-2zM9 17H7v-7h2v7zm4 0h-2V7h2v10zm4 0h-2v-4h2v4z\"/>\n",
              "    </g>\n",
              "</svg>\n",
              "  </button>\n",
              "\n",
              "<style>\n",
              "  .colab-df-quickchart {\n",
              "      --bg-color: #E8F0FE;\n",
              "      --fill-color: #1967D2;\n",
              "      --hover-bg-color: #E2EBFA;\n",
              "      --hover-fill-color: #174EA6;\n",
              "      --disabled-fill-color: #AAA;\n",
              "      --disabled-bg-color: #DDD;\n",
              "  }\n",
              "\n",
              "  [theme=dark] .colab-df-quickchart {\n",
              "      --bg-color: #3B4455;\n",
              "      --fill-color: #D2E3FC;\n",
              "      --hover-bg-color: #434B5C;\n",
              "      --hover-fill-color: #FFFFFF;\n",
              "      --disabled-bg-color: #3B4455;\n",
              "      --disabled-fill-color: #666;\n",
              "  }\n",
              "\n",
              "  .colab-df-quickchart {\n",
              "    background-color: var(--bg-color);\n",
              "    border: none;\n",
              "    border-radius: 50%;\n",
              "    cursor: pointer;\n",
              "    display: none;\n",
              "    fill: var(--fill-color);\n",
              "    height: 32px;\n",
              "    padding: 0;\n",
              "    width: 32px;\n",
              "  }\n",
              "\n",
              "  .colab-df-quickchart:hover {\n",
              "    background-color: var(--hover-bg-color);\n",
              "    box-shadow: 0 1px 2px rgba(60, 64, 67, 0.3), 0 1px 3px 1px rgba(60, 64, 67, 0.15);\n",
              "    fill: var(--button-hover-fill-color);\n",
              "  }\n",
              "\n",
              "  .colab-df-quickchart-complete:disabled,\n",
              "  .colab-df-quickchart-complete:disabled:hover {\n",
              "    background-color: var(--disabled-bg-color);\n",
              "    fill: var(--disabled-fill-color);\n",
              "    box-shadow: none;\n",
              "  }\n",
              "\n",
              "  .colab-df-spinner {\n",
              "    border: 2px solid var(--fill-color);\n",
              "    border-color: transparent;\n",
              "    border-bottom-color: var(--fill-color);\n",
              "    animation:\n",
              "      spin 1s steps(1) infinite;\n",
              "  }\n",
              "\n",
              "  @keyframes spin {\n",
              "    0% {\n",
              "      border-color: transparent;\n",
              "      border-bottom-color: var(--fill-color);\n",
              "      border-left-color: var(--fill-color);\n",
              "    }\n",
              "    20% {\n",
              "      border-color: transparent;\n",
              "      border-left-color: var(--fill-color);\n",
              "      border-top-color: var(--fill-color);\n",
              "    }\n",
              "    30% {\n",
              "      border-color: transparent;\n",
              "      border-left-color: var(--fill-color);\n",
              "      border-top-color: var(--fill-color);\n",
              "      border-right-color: var(--fill-color);\n",
              "    }\n",
              "    40% {\n",
              "      border-color: transparent;\n",
              "      border-right-color: var(--fill-color);\n",
              "      border-top-color: var(--fill-color);\n",
              "    }\n",
              "    60% {\n",
              "      border-color: transparent;\n",
              "      border-right-color: var(--fill-color);\n",
              "    }\n",
              "    80% {\n",
              "      border-color: transparent;\n",
              "      border-right-color: var(--fill-color);\n",
              "      border-bottom-color: var(--fill-color);\n",
              "    }\n",
              "    90% {\n",
              "      border-color: transparent;\n",
              "      border-bottom-color: var(--fill-color);\n",
              "    }\n",
              "  }\n",
              "</style>\n",
              "\n",
              "  <script>\n",
              "    async function quickchart(key) {\n",
              "      const quickchartButtonEl =\n",
              "        document.querySelector('#' + key + ' button');\n",
              "      quickchartButtonEl.disabled = true;  // To prevent multiple clicks.\n",
              "      quickchartButtonEl.classList.add('colab-df-spinner');\n",
              "      try {\n",
              "        const charts = await google.colab.kernel.invokeFunction(\n",
              "            'suggestCharts', [key], {});\n",
              "      } catch (error) {\n",
              "        console.error('Error during call to suggestCharts:', error);\n",
              "      }\n",
              "      quickchartButtonEl.classList.remove('colab-df-spinner');\n",
              "      quickchartButtonEl.classList.add('colab-df-quickchart-complete');\n",
              "    }\n",
              "    (() => {\n",
              "      let quickchartButtonEl =\n",
              "        document.querySelector('#df-3f00642f-6b60-4f31-8a79-44ad35e2f60d button');\n",
              "      quickchartButtonEl.style.display =\n",
              "        google.colab.kernel.accessAllowed ? 'block' : 'none';\n",
              "    })();\n",
              "  </script>\n",
              "</div>\n",
              "\n",
              "    </div>\n",
              "  </div>\n"
            ],
            "application/vnd.google.colaboratory.intrinsic+json": {
              "type": "dataframe",
              "summary": "{\n  \"name\": \"_ = plt\",\n  \"rows\": 5,\n  \"fields\": [\n    {\n      \"column\": \"aa\",\n      \"properties\": {\n        \"dtype\": \"string\",\n        \"num_unique_values\": 5,\n        \"samples\": [\n          \"VAL\",\n          \"ARG\",\n          \"ALA\"\n        ],\n        \"semantic_type\": \"\",\n        \"description\": \"\"\n      }\n    },\n    {\n      \"column\": \"frequency\",\n      \"properties\": {\n        \"dtype\": \"number\",\n        \"std\": 0.005813088679867185,\n        \"min\": 0.0705,\n        \"max\": 0.0865,\n        \"num_unique_values\": 4,\n        \"samples\": [\n          0.0801,\n          0.0705,\n          0.0865\n        ],\n        \"semantic_type\": \"\",\n        \"description\": \"\"\n      }\n    }\n  ]\n}"
            }
          },
          "metadata": {}
        },
        {
          "output_type": "display_data",
          "data": {
            "text/plain": [
              "<Figure size 1000x500 with 1 Axes>"
            ],
            "image/png": "[encoded data removed]"
          },
          "metadata": {}
        }
      ]
    },
    {
      "cell_type": "markdown",
      "source": [
        "### exercise 🚧  Find Dipeptide composition (DC)"
      ],
      "metadata": {
        "id": "rcNUDTQ9_M5h"
      }
    },
    {
      "cell_type": "code",
      "source": [
        "from collections import Counter\n",
        "\n",
        "# Generate dipeptides (two consecutive amino acids)\n",
        "dipeptides = [sequence[i:i+2] for i in range(len(sequence)-1)]\n",
        "\n",
        "# Count dipeptide occurrences\n",
        "dipeptide_counts = Counter(dipeptides)\n",
        "\n",
        "# Normalize to get relative frequencies\n",
        "total_dipeptides = sum(dipeptide_counts.values())\n",
        "dipeptide_freq = {dp: count / total_dipeptides for dp, count in dipeptide_counts.items()}\n",
        "\n",
        "pd.DataFrame(dipeptide_freq.items(), columns = [\"dipeptide\", \"frequency\"]).sort_values(by = \"frequency\", ascending = False)"
      ],
      "metadata": {
        "colab": {
          "base_uri": "https://localhost:8080/",
          "height": 424
        },
        "id": "tk1GBT0J_QCp",
        "outputId": "8a2a409e-8ba4-480e-bb7d-5f2c89be4938"
      },
      "execution_count": null,
      "outputs": [
        {
          "output_type": "execute_result",
          "data": {
            "text/plain": [
              "    dipeptide  frequency\n",
              "128        TS   0.013029\n",
              "131        FR   0.013029\n",
              "89         AF   0.013029\n",
              "1          TT   0.013029\n",
              "37         VT   0.013029\n",
              "..        ...        ...\n",
              "78         WS   0.003257\n",
              "77         LW   0.003257\n",
              "74         VG   0.003257\n",
              "73         YV   0.003257\n",
              "199        IQ   0.003257\n",
              "\n",
              "[200 rows x 2 columns]"
            ],
            "text/html": [
              "\n",
              "  <div id=\"df-c4fcaaf2-0a9f-45cf-89a9-b63e976f8d36\" class=\"colab-df-container\">\n",
              "    <div>\n",
              "<style scoped>\n",
              "    .dataframe tbody tr th:only-of-type {\n",
              "        vertical-align: middle;\n",
              "    }\n",
              "\n",
              "    .dataframe tbody tr th {\n",
              "        vertical-align: top;\n",
              "    }\n",
              "\n",
              "    .dataframe thead th {\n",
              "        text-align: right;\n",
              "    }\n",
              "</style>\n",
              "<table border=\"1\" class=\"dataframe\">\n",
              "  <thead>\n",
              "    <tr style=\"text-align: right;\">\n",
              "      <th></th>\n",
              "      <th>dipeptide</th>\n",
              "      <th>frequency</th>\n",
              "    </tr>\n",
              "  </thead>\n",
              "  <tbody>\n",
              "    <tr>\n",
              "      <th>128</th>\n",
              "      <td>TS</td>\n",
              "      <td>0.013029</td>\n",
              "    </tr>\n",
              "    <tr>\n",
              "      <th>131</th>\n",
              "      <td>FR</td>\n",
              "      <td>0.013029</td>\n",
              "    </tr>\n",
              "    <tr>\n",
              "      <th>89</th>\n",
              "      <td>AF</td>\n",
              "      <td>0.013029</td>\n",
              "    </tr>\n",
              "    <tr>\n",
              "      <th>1</th>\n",
              "      <td>TT</td>\n",
              "      <td>0.013029</td>\n",
              "    </tr>\n",
              "    <tr>\n",
              "      <th>37</th>\n",
              "      <td>VT</td>\n",
              "      <td>0.013029</td>\n",
              "    </tr>\n",
              "    <tr>\n",
              "      <th>...</th>\n",
              "      <td>...</td>\n",
              "      <td>...</td>\n",
              "    </tr>\n",
              "    <tr>\n",
              "      <th>78</th>\n",
              "      <td>WS</td>\n",
              "      <td>0.003257</td>\n",
              "    </tr>\n",
              "    <tr>\n",
              "      <th>77</th>\n",
              "      <td>LW</td>\n",
              "      <td>0.003257</td>\n",
              "    </tr>\n",
              "    <tr>\n",
              "      <th>74</th>\n",
              "      <td>VG</td>\n",
              "      <td>0.003257</td>\n",
              "    </tr>\n",
              "    <tr>\n",
              "      <th>73</th>\n",
              "      <td>YV</td>\n",
              "      <td>0.003257</td>\n",
              "    </tr>\n",
              "    <tr>\n",
              "      <th>199</th>\n",
              "      <td>IQ</td>\n",
              "      <td>0.003257</td>\n",
              "    </tr>\n",
              "  </tbody>\n",
              "</table>\n",
              "<p>200 rows × 2 columns</p>\n",
              "</div>\n",
              "    <div class=\"colab-df-buttons\">\n",
              "\n",
              "  <div class=\"colab-df-container\">\n",
              "    <button class=\"colab-df-convert\" onclick=\"convertToInteractive('df-c4fcaaf2-0a9f-45cf-89a9-b63e976f8d36')\"\n",
              "            title=\"Convert this dataframe to an interactive table.\"\n",
              "            style=\"display:none;\">\n",
              "\n",
              "  <svg xmlns=\"http://www.w3.org/2000/svg\" height=\"24px\" viewBox=\"0 -960 960 960\">\n",
              "    <path d=\"M120-120v-720h720v720H120Zm60-500h600v-160H180v160Zm220 220h160v-160H400v160Zm0 220h160v-160H400v160ZM180-400h160v-160H180v160Zm440 0h160v-160H620v160ZM180-180h160v-160H180v160Zm440 0h160v-160H620v160Z\"/>\n",
              "  </svg>\n",
              "    </button>\n",
              "\n",
              "  <style>\n",
              "    .colab-df-container {\n",
              "      display:flex;\n",
              "      gap: 12px;\n",
              "    }\n",
              "\n",
              "    .colab-df-convert {\n",
              "      background-color: #E8F0FE;\n",
              "      border: none;\n",
              "      border-radius: 50%;\n",
              "      cursor: pointer;\n",
              "      display: none;\n",
              "      fill: #1967D2;\n",
              "      height: 32px;\n",
              "      padding: 0 0 0 0;\n",
              "      width: 32px;\n",
              "    }\n",
              "\n",
              "    .colab-df-convert:hover {\n",
              "      background-color: #E2EBFA;\n",
              "      box-shadow: 0px 1px 2px rgba(60, 64, 67, 0.3), 0px 1px 3px 1px rgba(60, 64, 67, 0.15);\n",
              "      fill: #174EA6;\n",
              "    }\n",
              "\n",
              "    .colab-df-buttons div {\n",
              "      margin-bottom: 4px;\n",
              "    }\n",
              "\n",
              "    [theme=dark] .colab-df-convert {\n",
              "      background-color: #3B4455;\n",
              "      fill: #D2E3FC;\n",
              "    }\n",
              "\n",
              "    [theme=dark] .colab-df-convert:hover {\n",
              "      background-color: #434B5C;\n",
              "      box-shadow: 0px 1px 3px 1px rgba(0, 0, 0, 0.15);\n",
              "      filter: drop-shadow(0px 1px 2px rgba(0, 0, 0, 0.3));\n",
              "      fill: #FFFFFF;\n",
              "    }\n",
              "  </style>\n",
              "\n",
              "    <script>\n",
              "      const buttonEl =\n",
              "        document.querySelector('#df-c4fcaaf2-0a9f-45cf-89a9-b63e976f8d36 button.colab-df-convert');\n",
              "      buttonEl.style.display =\n",
              "        google.colab.kernel.accessAllowed ? 'block' : 'none';\n",
              "\n",
              "      async function convertToInteractive(key) {\n",
              "        const element = document.querySelector('#df-c4fcaaf2-0a9f-45cf-89a9-b63e976f8d36');\n",
              "        const dataTable =\n",
              "          await google.colab.kernel.invokeFunction('convertToInteractive',\n",
              "                                                    [key], {});\n",
              "        if (!dataTable) return;\n",
              "\n",
              "        const docLinkHtml = 'Like what you see? Visit the ' +\n",
              "          '<a target=\"_blank\" href=https://colab.research.google.com/notebooks/data_table.ipynb>data table notebook</a>'\n",
              "          + ' to learn more about interactive tables.';\n",
              "        element.innerHTML = '';\n",
              "        dataTable['output_type'] = 'display_data';\n",
              "        await google.colab.output.renderOutput(dataTable, element);\n",
              "        const docLink = document.createElement('div');\n",
              "        docLink.innerHTML = docLinkHtml;\n",
              "        element.appendChild(docLink);\n",
              "      }\n",
              "    </script>\n",
              "  </div>\n",
              "\n",
              "\n",
              "<div id=\"df-bf302777-ba48-408b-9784-b6e1b08c87e2\">\n",
              "  <button class=\"colab-df-quickchart\" onclick=\"quickchart('df-bf302777-ba48-408b-9784-b6e1b08c87e2')\"\n",
              "            title=\"Suggest charts\"\n",
              "            style=\"display:none;\">\n",
              "\n",
              "<svg xmlns=\"http://www.w3.org/2000/svg\" height=\"24px\"viewBox=\"0 0 24 24\"\n",
              "     width=\"24px\">\n",
              "    <g>\n",
              "        <path d=\"M19 3H5c-1.1 0-2 .9-2 2v14c0 1.1.9 2 2 2h14c1.1 0 2-.9 2-2V5c0-1.1-.9-2-2-2zM9 17H7v-7h2v7zm4 0h-2V7h2v10zm4 0h-2v-4h2v4z\"/>\n",
              "    </g>\n",
              "</svg>\n",
              "  </button>\n",
              "\n",
              "<style>\n",
              "  .colab-df-quickchart {\n",
              "      --bg-color: #E8F0FE;\n",
              "      --fill-color: #1967D2;\n",
              "      --hover-bg-color: #E2EBFA;\n",
              "      --hover-fill-color: #174EA6;\n",
              "      --disabled-fill-color: #AAA;\n",
              "      --disabled-bg-color: #DDD;\n",
              "  }\n",
              "\n",
              "  [theme=dark] .colab-df-quickchart {\n",
              "      --bg-color: #3B4455;\n",
              "      --fill-color: #D2E3FC;\n",
              "      --hover-bg-color: #434B5C;\n",
              "      --hover-fill-color: #FFFFFF;\n",
              "      --disabled-bg-color: #3B4455;\n",
              "      --disabled-fill-color: #666;\n",
              "  }\n",
              "\n",
              "  .colab-df-quickchart {\n",
              "    background-color: var(--bg-color);\n",
              "    border: none;\n",
              "    border-radius: 50%;\n",
              "    cursor: pointer;\n",
              "    display: none;\n",
              "    fill: var(--fill-color);\n",
              "    height: 32px;\n",
              "    padding: 0;\n",
              "    width: 32px;\n",
              "  }\n",
              "\n",
              "  .colab-df-quickchart:hover {\n",
              "    background-color: var(--hover-bg-color);\n",
              "    box-shadow: 0 1px 2px rgba(60, 64, 67, 0.3), 0 1px 3px 1px rgba(60, 64, 67, 0.15);\n",
              "    fill: var(--button-hover-fill-color);\n",
              "  }\n",
              "\n",
              "  .colab-df-quickchart-complete:disabled,\n",
              "  .colab-df-quickchart-complete:disabled:hover {\n",
              "    background-color: var(--disabled-bg-color);\n",
              "    fill: var(--disabled-fill-color);\n",
              "    box-shadow: none;\n",
              "  }\n",
              "\n",
              "  .colab-df-spinner {\n",
              "    border: 2px solid var(--fill-color);\n",
              "    border-color: transparent;\n",
              "    border-bottom-color: var(--fill-color);\n",
              "    animation:\n",
              "      spin 1s steps(1) infinite;\n",
              "  }\n",
              "\n",
              "  @keyframes spin {\n",
              "    0% {\n",
              "      border-color: transparent;\n",
              "      border-bottom-color: var(--fill-color);\n",
              "      border-left-color: var(--fill-color);\n",
              "    }\n",
              "    20% {\n",
              "      border-color: transparent;\n",
              "      border-left-color: var(--fill-color);\n",
              "      border-top-color: var(--fill-color);\n",
              "    }\n",
              "    30% {\n",
              "      border-color: transparent;\n",
              "      border-left-color: var(--fill-color);\n",
              "      border-top-color: var(--fill-color);\n",
              "      border-right-color: var(--fill-color);\n",
              "    }\n",
              "    40% {\n",
              "      border-color: transparent;\n",
              "      border-right-color: var(--fill-color);\n",
              "      border-top-color: var(--fill-color);\n",
              "    }\n",
              "    60% {\n",
              "      border-color: transparent;\n",
              "      border-right-color: var(--fill-color);\n",
              "    }\n",
              "    80% {\n",
              "      border-color: transparent;\n",
              "      border-right-color: var(--fill-color);\n",
              "      border-bottom-color: var(--fill-color);\n",
              "    }\n",
              "    90% {\n",
              "      border-color: transparent;\n",
              "      border-bottom-color: var(--fill-color);\n",
              "    }\n",
              "  }\n",
              "</style>\n",
              "\n",
              "  <script>\n",
              "    async function quickchart(key) {\n",
              "      const quickchartButtonEl =\n",
              "        document.querySelector('#' + key + ' button');\n",
              "      quickchartButtonEl.disabled = true;  // To prevent multiple clicks.\n",
              "      quickchartButtonEl.classList.add('colab-df-spinner');\n",
              "      try {\n",
              "        const charts = await google.colab.kernel.invokeFunction(\n",
              "            'suggestCharts', [key], {});\n",
              "      } catch (error) {\n",
              "        console.error('Error during call to suggestCharts:', error);\n",
              "      }\n",
              "      quickchartButtonEl.classList.remove('colab-df-spinner');\n",
              "      quickchartButtonEl.classList.add('colab-df-quickchart-complete');\n",
              "    }\n",
              "    (() => {\n",
              "      let quickchartButtonEl =\n",
              "        document.querySelector('#df-bf302777-ba48-408b-9784-b6e1b08c87e2 button');\n",
              "      quickchartButtonEl.style.display =\n",
              "        google.colab.kernel.accessAllowed ? 'block' : 'none';\n",
              "    })();\n",
              "  </script>\n",
              "</div>\n",
              "\n",
              "    </div>\n",
              "  </div>\n"
            ],
            "application/vnd.google.colaboratory.intrinsic+json": {
              "type": "dataframe",
              "summary": "{\n  \"name\": \"pd\",\n  \"rows\": 200,\n  \"fields\": [\n    {\n      \"column\": \"dipeptide\",\n      \"properties\": {\n        \"dtype\": \"string\",\n        \"num_unique_values\": 200,\n        \"samples\": [\n          \"HP\",\n          \"SP\",\n          \"PI\"\n        ],\n        \"semantic_type\": \"\",\n        \"description\": \"\"\n      }\n    },\n    {\n      \"column\": \"frequency\",\n      \"properties\": {\n        \"dtype\": \"number\",\n        \"std\": 0.002650444038648682,\n        \"min\": 0.003257328990228013,\n        \"max\": 0.013029315960912053,\n        \"num_unique_values\": 4,\n        \"samples\": [\n          0.009771986970684038,\n          0.003257328990228013,\n          0.013029315960912053\n        ],\n        \"semantic_type\": \"\",\n        \"description\": \"\"\n      }\n    }\n  ]\n}"
            }
          },
          "metadata": {},
          "execution_count": 28
        }
      ]
    },
    {
      "cell_type": "markdown",
      "metadata": {
        "id": "C__Zaao8ifJd"
      },
      "source": [
        "# Protein Feature extraction\n",
        "\n",
        "**Other packages you could use to featurize proteins:**\n",
        "\n",
        "1. [propy](https://github.com/MartinThoma/propy3):\n",
        "\n",
        "- Computes AAC, DC, Pseudo-AAC\n",
        "- good for classical ML features\n",
        "\n",
        "2. [biovec](https://github.com/kyu999/biovec)\n",
        "-\tConverts protein sequences into word embeddings (like Word2Vec).\n",
        "-\tTrains on k-mers from protein sequences.\n",
        "-\tUseful for deep learning models\n",
        "\n",
        "3. [fair-esm](https://github.com/facebookresearch/esm)\n",
        "\n",
        "- evolutionary scale modeling\n",
        "- Extracts deep learning embeddings for proteins.\n",
        "- Uses pre-trained transformers\n",
        "- Great for deep learning tasks"
      ]
    },
    {
      "cell_type": "code",
      "execution_count": null,
      "metadata": {
        "id": "9O5gGIififJe"
      },
      "outputs": [],
      "source": [
        "import iFeatureOmegaCLI\n",
        "\n",
        "protein_features = iFeatureOmegaCLI.iProtein(fasta_location)"
      ]
    },
    {
      "cell_type": "code",
      "execution_count": null,
      "metadata": {
        "colab": {
          "base_uri": "https://localhost:8080/"
        },
        "collapsed": true,
        "id": "PpmNGMnMifJe",
        "outputId": "60ce5515-b3ee-48ee-818a-261fdc226e7c"
      },
      "outputs": [
        {
          "output_type": "stream",
          "name": "stdout",
          "text": [
            "Help on iProtein in module iFeatureOmegaCLI.iFeatureOmegaCLI object:\n",
            "\n",
            "class iProtein(Sequence)\n",
            " |  iProtein(file)\n",
            " |  \n",
            " |  # Running examples:\n",
            " |  # import iFeatureOmegaCLI\n",
            " |  >>> import iFeatureOmegaCLI\n",
            " |  \n",
            " |  # create a instance\n",
            " |  >>> protein = iFeatureOmegaCLI.iProtein(\"./data_examples/peptide_sequences.txt\")\n",
            " |  \n",
            " |  # display available feature descriptor methods\n",
            " |  >>> protein.display_feature_types()\n",
            " |  \n",
            " |  # import parameters for feature descriptors (optimal)\n",
            " |  >>> protein.import_parameters('parameters/Protein_parameters_setting.json')\n",
            " |  \n",
            " |  # calculate feature descriptors. Take \"AAC\" as an example.\n",
            " |  >>> protein.get_descriptor(\"AAC\")\n",
            " |  \n",
            " |  # display the feature descriptors\n",
            " |  >>> print(protein.encodings)\n",
            " |  \n",
            " |  # save feature descriptors\n",
            " |  >>> protein.to_csv(\"AAC.csv\", \"index=False\", header=False)\n",
            " |  \n",
            " |  Method resolution order:\n",
            " |      iProtein\n",
            " |      Sequence\n",
            " |      builtins.object\n",
            " |  \n",
            " |  Methods defined here:\n",
            " |  \n",
            " |  CalculateContent(self, myDistance, j, myLabelSets)\n",
            " |  \n",
            " |  CalculateDistance(self, sequence1, sequence2)\n",
            " |  \n",
            " |  CalculateKSCTriad(self, sequence, gap, features, AADict)\n",
            " |  \n",
            " |  Count(self, seq1, seq2)\n",
            " |  \n",
            " |  Count1(self, aaSet, sequence)\n",
            " |  \n",
            " |  Rvalue(self, aa1, aa2, AADict, Matrix)\n",
            " |  \n",
            " |  Sim(self, a, b)\n",
            " |  \n",
            " |  __init__(self, file)\n",
            " |      Initialize self.  See help(type(self)) for accurate signature.\n",
            " |  \n",
            " |  add_samples_label(self, file)\n",
            " |  \n",
            " |  display_feature_types(self)\n",
            " |  \n",
            " |  gapModel(self, fastas, myDict, gDict, gNames, ktuple, glValue, ttype)\n",
            " |  \n",
            " |  generateGroupPairs(self, groupKey)\n",
            " |  \n",
            " |  generatePropertyPairs(self, myPropertyName)\n",
            " |  \n",
            " |  get_descriptor(self, descriptor='AAC')\n",
            " |  \n",
            " |  import_parameters(self, file)\n",
            " |  \n",
            " |  lambdaModel(self, fastas, myDict, gDict, gNames, ktuple, glValue, ttype)\n",
            " |  \n",
            " |  to_arff(self, file='encode.arff')\n",
            " |  \n",
            " |  to_csv(self, file='encode.csv', index=False, header=False)\n",
            " |  \n",
            " |  to_svm(self, file='encode.svm')\n",
            " |  \n",
            " |  to_tsv(self, file='encode.tsv', index=False, header=False)\n",
            " |  \n",
            " |  ----------------------------------------------------------------------\n",
            " |  Methods inherited from Sequence:\n",
            " |  \n",
            " |  check_sequence_type(self)\n",
            " |      Specify sequence type (Protein, DNA or RNA)\n",
            " |      :return:\n",
            " |  \n",
            " |  read_fasta(self, file)\n",
            " |      read fasta sequence\n",
            " |      :param file:\n",
            " |      :return:\n",
            " |  \n",
            " |  sequence_with_equal_length(self)\n",
            " |      Check if fasta sequence is in equal length\n",
            " |      :return:\n",
            " |  \n",
            " |  ----------------------------------------------------------------------\n",
            " |  Data descriptors inherited from Sequence:\n",
            " |  \n",
            " |  __dict__\n",
            " |      dictionary for instance variables\n",
            " |  \n",
            " |  __weakref__\n",
            " |      list of weak references to the object\n",
            "\n"
          ]
        }
      ],
      "source": [
        "help(protein_features)"
      ]
    },
    {
      "cell_type": "code",
      "execution_count": null,
      "metadata": {
        "colab": {
          "base_uri": "https://localhost:8080/"
        },
        "collapsed": true,
        "id": "C55ep4pDifJe",
        "outputId": "370dc392-2640-4849-efd4-77bca98440a2"
      },
      "outputs": [
        {
          "output_type": "stream",
          "name": "stdout",
          "text": [
            "\n",
            "        ----- Available feature types ------        \n",
            "        \n",
            "        AAC                                                Amino acid composition\n",
            "        EAAC                                               Enhanced amino acid composition\n",
            "        CKSAAP type 1                                      Composition of k-spaced amino acid pairs type 1 - normalized\n",
            "        CKSAAP type 2                                      Composition of k-spaced amino acid pairs type 2 - raw count\n",
            "        DPC type 1                                         Dipeptide composition type 1 - normalized\n",
            "        DPC type 2                                         Dipeptide composition type 2 - raw count\n",
            "        TPC type 1                                         Tripeptide composition type 1 - normalized\n",
            "        TPC type 2                                         Tripeptide composition type 1 - raw count\n",
            "        CTDC                                               Composition\n",
            "        CTDT                                               Transition\n",
            "        CTDD                                               Distribution\n",
            "        CTriad                                             Conjoint triad\n",
            "        KSCTriad                                           Conjoint k-spaced triad\n",
            "        ASDC                                               Adaptive skip dipeptide composition\n",
            "        DistancePair                                       PseAAC of distance-pairs and reduced alphabe\n",
            "        GAAC                                               Grouped amino acid composition\n",
            "        EGAAC                                              Enhanced grouped amino acid composition\n",
            "        CKSAAGP type 1                                     Composition of k-spaced amino acid group pairs type 1- normalized\n",
            "        CKSAAGP type 2                                     Composition of k-spaced amino acid group pairs type 2- raw count\n",
            "        GDPC type 1                                        Grouped dipeptide composition type 1 - normalized\n",
            "        GDPC type 2                                        Grouped dipeptide composition type 2 - raw count\n",
            "        GTPC type 1                                        Grouped tripeptide composition type 1 - normalized\n",
            "        GTPC type 2                                        Grouped tripeptide composition type 1 - raw count\n",
            "        Moran                                              Moran\n",
            "        Geary                                              Geary\n",
            "        NMBroto                                            Normalized Moreau-Broto\n",
            "        AC                                                 Auto covariance\n",
            "        CC                                                 Cross covariance\n",
            "        ACC                                                Auto-cross covariance\n",
            "        SOCNumber                                          Sequence-order-coupling number\n",
            "        QSOrder                                            Quasi-sequence-order descriptors\n",
            "        PAAC                                               Pseudo-amino acid composition\n",
            "        APAAC                                              Amphiphilic PAAC\n",
            "        PseKRAAC type 1                                    Pseudo K-tuple reduced amino acids composition type 1\n",
            "        PseKRAAC type 2                                    Pseudo K-tuple reduced amino acids composition type 2\n",
            "        PseKRAAC type 3A                                   Pseudo K-tuple reduced amino acids composition type 3A\n",
            "        PseKRAAC type 3B                                   Pseudo K-tuple reduced amino acids composition type 3B\n",
            "        PseKRAAC type 4                                    Pseudo K-tuple reduced amino acids composition type 4\n",
            "        PseKRAAC type 5                                    Pseudo K-tuple reduced amino acids composition type 5\n",
            "        PseKRAAC type 6A                                   Pseudo K-tuple reduced amino acids composition type 6A\n",
            "        PseKRAAC type 6B                                   Pseudo K-tuple reduced amino acids composition type 6B\n",
            "        PseKRAAC type 6C                                   Pseudo K-tuple reduced amino acids composition type 6C\n",
            "        PseKRAAC type 7                                    Pseudo K-tuple reduced amino acids composition type 7\n",
            "        PseKRAAC type 8                                    Pseudo K-tuple reduced amino acids composition type 8\n",
            "        PseKRAAC type 9                                    Pseudo K-tuple reduced amino acids composition type 9\n",
            "        PseKRAAC type 10                                   Pseudo K-tuple reduced amino acids composition type 10\n",
            "        PseKRAAC type 11                                   Pseudo K-tuple reduced amino acids composition type 11\n",
            "        PseKRAAC type 12                                   Pseudo K-tuple reduced amino acids composition type 12\n",
            "        PseKRAAC type 13                                   Pseudo K-tuple reduced amino acids composition type 13\n",
            "        PseKRAAC type 14                                   Pseudo K-tuple reduced amino acids composition type 14\n",
            "        PseKRAAC type 15                                   Pseudo K-tuple reduced amino acids composition type 15\n",
            "        PseKRAAC type 16                                   Pseudo K-tuple reduced amino acids composition type 16\n",
            "        binary                                             Binary\n",
            "        binary_6bit                                        Binary\n",
            "        binary_5bit type 1                                 Binary\n",
            "        binary_5bit type 2                                 Binary\n",
            "        binary_3bit type 1                                 Binary\n",
            "        binary_3bit type 2                                 Binary\n",
            "        binary_3bit type 3                                 Binary\n",
            "        binary_3bit type 4                                 Binary\n",
            "        binary_3bit type 5                                 Binary\n",
            "        binary_3bit type 6                                 Binary\n",
            "        binary_3bit type 7                                 Binary\n",
            "        AESNN3                                             Learn from alignments\n",
            "        OPF_10bit                                          Overlapping property features - 10 bit\n",
            "        OPF_7bit type 1                                    Overlapping property features - 7 bit type 1\n",
            "        OPF_7bit type 2                                    Overlapping property features - 7 bit type 2\n",
            "        OPF_7bit type 3                                    Overlapping property features - 7 bit type 3\n",
            "        AAIndex                                            AAIndex\n",
            "        BLOSUM62                                           BLOSUM62\n",
            "        ZScale                                             Z-Scales index\n",
            "        KNN                                                K-nearest neighbor\n",
            "\n",
            "        Note: the first column is the names of availables feature types while the second column is description.  \n",
            "        \n",
            "        \n"
          ]
        }
      ],
      "source": [
        "protein_features.display_feature_types()"
      ]
    },
    {
      "cell_type": "code",
      "execution_count": null,
      "metadata": {
        "id": "81-3fbCnifJe"
      },
      "outputs": [],
      "source": [
        "descriptor_blocks = [\"AAC\", \"DistancePair\", \"BLOSUM62\"]\n",
        "protein_features = []\n",
        "protein_features_names = []\n",
        "\n",
        "PF = iFeatureOmegaCLI.iProtein(fasta_location)\n",
        "\n",
        "for current_descriptor_block in descriptor_blocks:\n",
        "    PF.get_descriptor(current_descriptor_block)\n",
        "    current_features_table = PF.encodings.reset_index(drop=True)\n",
        "    protein_features += current_features_table.values[0].tolist()\n",
        "    protein_features_names += current_features_table.columns.tolist()"
      ]
    },
    {
      "cell_type": "markdown",
      "metadata": {
        "id": "m3Pex-vIifJe"
      },
      "source": [
        "## Small molecules"
      ]
    },
    {
      "cell_type": "code",
      "source": [
        "%matplotlib inline\n",
        "\n",
        "energies = 'https://github.com/enveda/enzyme-ml/raw/refs/heads/main/workshop_data/cotb2_ml_data/lig_1_energy.txt'\n",
        "loaded_ligands = pd.read_csv(energies, header = None, sep=\" \")\n",
        "loaded_ligands.columns = [\"ligand\", \"energy\"]\n",
        "display(loaded_ligands.head(5), loaded_ligands.shape)\n",
        "loaded_ligands.energy.hist()"
      ],
      "metadata": {
        "colab": {
          "base_uri": "https://localhost:8080/",
          "height": 655
        },
        "id": "Vwf8UCXoI3Pb",
        "outputId": "ef90c50b-33c6-4509-8831-96cc7eeb5a43"
      },
      "execution_count": null,
      "outputs": [
        {
          "output_type": "display_data",
          "data": {
            "text/plain": [
              "                    ligand     energy\n",
              "0  lig_1_cotb2_100_100.pdb -21.457340\n",
              "1   lig_1_cotb2_100_10.pdb -44.423028\n",
              "2   lig_1_cotb2_100_11.pdb -29.692781\n",
              "3   lig_1_cotb2_100_12.pdb  -0.501767\n",
              "4   lig_1_cotb2_100_13.pdb -28.634483"
            ],
            "text/html": [
              "\n",
              "  <div id=\"df-db1b5978-eafb-4f7c-984f-61eb6e876861\" class=\"colab-df-container\">\n",
              "    <div>\n",
              "<style scoped>\n",
              "    .dataframe tbody tr th:only-of-type {\n",
              "        vertical-align: middle;\n",
              "    }\n",
              "\n",
              "    .dataframe tbody tr th {\n",
              "        vertical-align: top;\n",
              "    }\n",
              "\n",
              "    .dataframe thead th {\n",
              "        text-align: right;\n",
              "    }\n",
              "</style>\n",
              "<table border=\"1\" class=\"dataframe\">\n",
              "  <thead>\n",
              "    <tr style=\"text-align: right;\">\n",
              "      <th></th>\n",
              "      <th>ligand</th>\n",
              "      <th>energy</th>\n",
              "    </tr>\n",
              "  </thead>\n",
              "  <tbody>\n",
              "    <tr>\n",
              "      <th>0</th>\n",
              "      <td>lig_1_cotb2_100_100.pdb</td>\n",
              "      <td>-21.457340</td>\n",
              "    </tr>\n",
              "    <tr>\n",
              "      <th>1</th>\n",
              "      <td>lig_1_cotb2_100_10.pdb</td>\n",
              "      <td>-44.423028</td>\n",
              "    </tr>\n",
              "    <tr>\n",
              "      <th>2</th>\n",
              "      <td>lig_1_cotb2_100_11.pdb</td>\n",
              "      <td>-29.692781</td>\n",
              "    </tr>\n",
              "    <tr>\n",
              "      <th>3</th>\n",
              "      <td>lig_1_cotb2_100_12.pdb</td>\n",
              "      <td>-0.501767</td>\n",
              "    </tr>\n",
              "    <tr>\n",
              "      <th>4</th>\n",
              "      <td>lig_1_cotb2_100_13.pdb</td>\n",
              "      <td>-28.634483</td>\n",
              "    </tr>\n",
              "  </tbody>\n",
              "</table>\n",
              "</div>\n",
              "    <div class=\"colab-df-buttons\">\n",
              "\n",
              "  <div class=\"colab-df-container\">\n",
              "    <button class=\"colab-df-convert\" onclick=\"convertToInteractive('df-db1b5978-eafb-4f7c-984f-61eb6e876861')\"\n",
              "            title=\"Convert this dataframe to an interactive table.\"\n",
              "            style=\"display:none;\">\n",
              "\n",
              "  <svg xmlns=\"http://www.w3.org/2000/svg\" height=\"24px\" viewBox=\"0 -960 960 960\">\n",
              "    <path d=\"M120-120v-720h720v720H120Zm60-500h600v-160H180v160Zm220 220h160v-160H400v160Zm0 220h160v-160H400v160ZM180-400h160v-160H180v160Zm440 0h160v-160H620v160ZM180-180h160v-160H180v160Zm440 0h160v-160H620v160Z\"/>\n",
              "  </svg>\n",
              "    </button>\n",
              "\n",
              "  <style>\n",
              "    .colab-df-container {\n",
              "      display:flex;\n",
              "      gap: 12px;\n",
              "    }\n",
              "\n",
              "    .colab-df-convert {\n",
              "      background-color: #E8F0FE;\n",
              "      border: none;\n",
              "      border-radius: 50%;\n",
              "      cursor: pointer;\n",
              "      display: none;\n",
              "      fill: #1967D2;\n",
              "      height: 32px;\n",
              "      padding: 0 0 0 0;\n",
              "      width: 32px;\n",
              "    }\n",
              "\n",
              "    .colab-df-convert:hover {\n",
              "      background-color: #E2EBFA;\n",
              "      box-shadow: 0px 1px 2px rgba(60, 64, 67, 0.3), 0px 1px 3px 1px rgba(60, 64, 67, 0.15);\n",
              "      fill: #174EA6;\n",
              "    }\n",
              "\n",
              "    .colab-df-buttons div {\n",
              "      margin-bottom: 4px;\n",
              "    }\n",
              "\n",
              "    [theme=dark] .colab-df-convert {\n",
              "      background-color: #3B4455;\n",
              "      fill: #D2E3FC;\n",
              "    }\n",
              "\n",
              "    [theme=dark] .colab-df-convert:hover {\n",
              "      background-color: #434B5C;\n",
              "      box-shadow: 0px 1px 3px 1px rgba(0, 0, 0, 0.15);\n",
              "      filter: drop-shadow(0px 1px 2px rgba(0, 0, 0, 0.3));\n",
              "      fill: #FFFFFF;\n",
              "    }\n",
              "  </style>\n",
              "\n",
              "    <script>\n",
              "      const buttonEl =\n",
              "        document.querySelector('#df-db1b5978-eafb-4f7c-984f-61eb6e876861 button.colab-df-convert');\n",
              "      buttonEl.style.display =\n",
              "        google.colab.kernel.accessAllowed ? 'block' : 'none';\n",
              "\n",
              "      async function convertToInteractive(key) {\n",
              "        const element = document.querySelector('#df-db1b5978-eafb-4f7c-984f-61eb6e876861');\n",
              "        const dataTable =\n",
              "          await google.colab.kernel.invokeFunction('convertToInteractive',\n",
              "                                                    [key], {});\n",
              "        if (!dataTable) return;\n",
              "\n",
              "        const docLinkHtml = 'Like what you see? Visit the ' +\n",
              "          '<a target=\"_blank\" href=https://colab.research.google.com/notebooks/data_table.ipynb>data table notebook</a>'\n",
              "          + ' to learn more about interactive tables.';\n",
              "        element.innerHTML = '';\n",
              "        dataTable['output_type'] = 'display_data';\n",
              "        await google.colab.output.renderOutput(dataTable, element);\n",
              "        const docLink = document.createElement('div');\n",
              "        docLink.innerHTML = docLinkHtml;\n",
              "        element.appendChild(docLink);\n",
              "      }\n",
              "    </script>\n",
              "  </div>\n",
              "\n",
              "\n",
              "<div id=\"df-99133dc7-bef0-403e-9886-87c1021e726d\">\n",
              "  <button class=\"colab-df-quickchart\" onclick=\"quickchart('df-99133dc7-bef0-403e-9886-87c1021e726d')\"\n",
              "            title=\"Suggest charts\"\n",
              "            style=\"display:none;\">\n",
              "\n",
              "<svg xmlns=\"http://www.w3.org/2000/svg\" height=\"24px\"viewBox=\"0 0 24 24\"\n",
              "     width=\"24px\">\n",
              "    <g>\n",
              "        <path d=\"M19 3H5c-1.1 0-2 .9-2 2v14c0 1.1.9 2 2 2h14c1.1 0 2-.9 2-2V5c0-1.1-.9-2-2-2zM9 17H7v-7h2v7zm4 0h-2V7h2v10zm4 0h-2v-4h2v4z\"/>\n",
              "    </g>\n",
              "</svg>\n",
              "  </button>\n",
              "\n",
              "<style>\n",
              "  .colab-df-quickchart {\n",
              "      --bg-color: #E8F0FE;\n",
              "      --fill-color: #1967D2;\n",
              "      --hover-bg-color: #E2EBFA;\n",
              "      --hover-fill-color: #174EA6;\n",
              "      --disabled-fill-color: #AAA;\n",
              "      --disabled-bg-color: #DDD;\n",
              "  }\n",
              "\n",
              "  [theme=dark] .colab-df-quickchart {\n",
              "      --bg-color: #3B4455;\n",
              "      --fill-color: #D2E3FC;\n",
              "      --hover-bg-color: #434B5C;\n",
              "      --hover-fill-color: #FFFFFF;\n",
              "      --disabled-bg-color: #3B4455;\n",
              "      --disabled-fill-color: #666;\n",
              "  }\n",
              "\n",
              "  .colab-df-quickchart {\n",
              "    background-color: var(--bg-color);\n",
              "    border: none;\n",
              "    border-radius: 50%;\n",
              "    cursor: pointer;\n",
              "    display: none;\n",
              "    fill: var(--fill-color);\n",
              "    height: 32px;\n",
              "    padding: 0;\n",
              "    width: 32px;\n",
              "  }\n",
              "\n",
              "  .colab-df-quickchart:hover {\n",
              "    background-color: var(--hover-bg-color);\n",
              "    box-shadow: 0 1px 2px rgba(60, 64, 67, 0.3), 0 1px 3px 1px rgba(60, 64, 67, 0.15);\n",
              "    fill: var(--button-hover-fill-color);\n",
              "  }\n",
              "\n",
              "  .colab-df-quickchart-complete:disabled,\n",
              "  .colab-df-quickchart-complete:disabled:hover {\n",
              "    background-color: var(--disabled-bg-color);\n",
              "    fill: var(--disabled-fill-color);\n",
              "    box-shadow: none;\n",
              "  }\n",
              "\n",
              "  .colab-df-spinner {\n",
              "    border: 2px solid var(--fill-color);\n",
              "    border-color: transparent;\n",
              "    border-bottom-color: var(--fill-color);\n",
              "    animation:\n",
              "      spin 1s steps(1) infinite;\n",
              "  }\n",
              "\n",
              "  @keyframes spin {\n",
              "    0% {\n",
              "      border-color: transparent;\n",
              "      border-bottom-color: var(--fill-color);\n",
              "      border-left-color: var(--fill-color);\n",
              "    }\n",
              "    20% {\n",
              "      border-color: transparent;\n",
              "      border-left-color: var(--fill-color);\n",
              "      border-top-color: var(--fill-color);\n",
              "    }\n",
              "    30% {\n",
              "      border-color: transparent;\n",
              "      border-left-color: var(--fill-color);\n",
              "      border-top-color: var(--fill-color);\n",
              "      border-right-color: var(--fill-color);\n",
              "    }\n",
              "    40% {\n",
              "      border-color: transparent;\n",
              "      border-right-color: var(--fill-color);\n",
              "      border-top-color: var(--fill-color);\n",
              "    }\n",
              "    60% {\n",
              "      border-color: transparent;\n",
              "      border-right-color: var(--fill-color);\n",
              "    }\n",
              "    80% {\n",
              "      border-color: transparent;\n",
              "      border-right-color: var(--fill-color);\n",
              "      border-bottom-color: var(--fill-color);\n",
              "    }\n",
              "    90% {\n",
              "      border-color: transparent;\n",
              "      border-bottom-color: var(--fill-color);\n",
              "    }\n",
              "  }\n",
              "</style>\n",
              "\n",
              "  <script>\n",
              "    async function quickchart(key) {\n",
              "      const quickchartButtonEl =\n",
              "        document.querySelector('#' + key + ' button');\n",
              "      quickchartButtonEl.disabled = true;  // To prevent multiple clicks.\n",
              "      quickchartButtonEl.classList.add('colab-df-spinner');\n",
              "      try {\n",
              "        const charts = await google.colab.kernel.invokeFunction(\n",
              "            'suggestCharts', [key], {});\n",
              "      } catch (error) {\n",
              "        console.error('Error during call to suggestCharts:', error);\n",
              "      }\n",
              "      quickchartButtonEl.classList.remove('colab-df-spinner');\n",
              "      quickchartButtonEl.classList.add('colab-df-quickchart-complete');\n",
              "    }\n",
              "    (() => {\n",
              "      let quickchartButtonEl =\n",
              "        document.querySelector('#df-99133dc7-bef0-403e-9886-87c1021e726d button');\n",
              "      quickchartButtonEl.style.display =\n",
              "        google.colab.kernel.accessAllowed ? 'block' : 'none';\n",
              "    })();\n",
              "  </script>\n",
              "</div>\n",
              "\n",
              "    </div>\n",
              "  </div>\n"
            ],
            "application/vnd.google.colaboratory.intrinsic+json": {
              "type": "dataframe",
              "summary": "{\n  \"name\": \"loaded_ligands\",\n  \"rows\": 5,\n  \"fields\": [\n    {\n      \"column\": \"ligand\",\n      \"properties\": {\n        \"dtype\": \"string\",\n        \"num_unique_values\": 5,\n        \"samples\": [\n          \"lig_1_cotb2_100_10.pdb\",\n          \"lig_1_cotb2_100_13.pdb\",\n          \"lig_1_cotb2_100_11.pdb\"\n        ],\n        \"semantic_type\": \"\",\n        \"description\": \"\"\n      }\n    },\n    {\n      \"column\": \"energy\",\n      \"properties\": {\n        \"dtype\": \"number\",\n        \"std\": 16.009236956597984,\n        \"min\": -44.423028,\n        \"max\": -0.501766505,\n        \"num_unique_values\": 5,\n        \"samples\": [\n          -44.423028,\n          -28.6344827,\n          -29.6927815\n        ],\n        \"semantic_type\": \"\",\n        \"description\": \"\"\n      }\n    }\n  ]\n}"
            }
          },
          "metadata": {}
        },
        {
          "output_type": "display_data",
          "data": {
            "text/plain": [
              "(10000, 2)"
            ]
          },
          "metadata": {}
        },
        {
          "output_type": "execute_result",
          "data": {
            "text/plain": [
              "<AxesSubplot:>"
            ]
          },
          "metadata": {},
          "execution_count": 34
        },
        {
          "output_type": "display_data",
          "data": {
            "text/plain": [
              "<Figure size 640x480 with 1 Axes>"
            ],
            "image/png": "[encoded data removed]"
          },
          "metadata": {}
        }
      ]
    },
    {
      "cell_type": "code",
      "source": [
        "import os\n",
        "\n",
        "# get ligands\n",
        "!wget \"https://github.com/enveda/enzyme-ml/raw/refs/heads/main/workshop_data/cotb2_ml_data/lig_1_pdbs.tar\" -O /content/lig_1_pdbs.tar\n",
        "!mkdir -p ligands\n",
        "!tar -xf /content/lig_1_pdbs.tar -C ligands\n",
        "\n",
        "files = os.listdir(\"/content/ligands\")\n",
        "print(f\"Number of files: {len(files)}\")"
      ],
      "metadata": {
        "colab": {
          "base_uri": "https://localhost:8080/"
        },
        "id": "SrJEitVpRctI",
        "outputId": "99f427c1-61e9-431c-9e8f-5aaf86c75c56"
      },
      "execution_count": null,
      "outputs": [
        {
          "output_type": "stream",
          "name": "stdout",
          "text": [
            "--2025-03-11 16:19:26--  https://github.com/enveda/enzyme-ml/raw/refs/heads/main/workshop_data/cotb2_ml_data/lig_1_pdbs.tar\n",
            "Resolving github.com (github.com)... 140.82.113.4\n",
            "Connecting to github.com (github.com)|140.82.113.4|:443... connected.\n",
            "HTTP request sent, awaiting response... 302 Found\n",
            "Location: https://raw.githubusercontent.com/enveda/enzyme-ml/refs/heads/main/workshop_data/cotb2_ml_data/lig_1_pdbs.tar [following]\n",
            "--2025-03-11 16:19:27--  https://raw.githubusercontent.com/enveda/enzyme-ml/refs/heads/main/workshop_data/cotb2_ml_data/lig_1_pdbs.tar\n",
            "Resolving raw.githubusercontent.com (raw.githubusercontent.com)... 185.199.109.133, 185.199.108.133, 185.199.110.133, ...\n",
            "Connecting to raw.githubusercontent.com (raw.githubusercontent.com)|185.199.109.133|:443... connected.\n",
            "HTTP request sent, awaiting response... 200 OK\n",
            "Length: 51210240 (49M) [application/octet-stream]\n",
            "Saving to: ‘/content/lig_1_pdbs.tar’\n",
            "\n",
            "/content/lig_1_pdbs 100%[===================>]  48.84M   173MB/s    in 0.3s    \n",
            "\n",
            "2025-03-11 16:19:28 (173 MB/s) - ‘/content/lig_1_pdbs.tar’ saved [51210240/51210240]\n",
            "\n",
            "Number of files: 10000\n"
          ]
        }
      ]
    },
    {
      "cell_type": "code",
      "source": [
        "from rdkit import Chem\n",
        "from tqdm import tqdm\n",
        "\n",
        "for idx, row in tqdm(loaded_ligands.iterrows()):\n",
        "  file_name = row[\"ligand\"]\n",
        "  file_path = \"/content/ligands/\" + file_name\n",
        "\n",
        "  try:\n",
        "    mol = Chem.MolFromPDBFile(file_path, removeHs=True)\n",
        "    loaded_ligands.loc[idx, \"mol\"] = mol\n",
        "\n",
        "    descriptors = Chem.Descriptors3D.CalcMolDescriptors3D(mol)\n",
        "    for k,v in descriptors.items():\n",
        "      loaded_ligands.loc[idx, k] = v\n",
        "  except Exception as e:\n",
        "    loaded_ligands.loc[idx, \"mol\"] = None\n",
        "    continue"
      ],
      "metadata": {
        "colab": {
          "base_uri": "https://localhost:8080/"
        },
        "id": "ZL54XC9Dg_Pr",
        "outputId": "e3a06232-080a-4aaa-d32e-ea684fb1904f"
      },
      "execution_count": null,
      "outputs": [
        {
          "output_type": "stream",
          "name": "stderr",
          "text": [
            "10000it [00:45, 220.91it/s]\n"
          ]
        }
      ]
    },
    {
      "cell_type": "code",
      "source": [
        "loaded_ligands = loaded_ligands.dropna(subset = [\"mol\"])\n",
        "loaded_ligands[\"smiles\"] = loaded_ligands[\"mol\"].apply(lambda x: Chem.MolToSmiles(x))\n",
        "loaded_ligands.head(5)"
      ],
      "metadata": {
        "colab": {
          "base_uri": "https://localhost:8080/",
          "height": 400
        },
        "id": "TduXJJIKAgNr",
        "outputId": "3d06df22-b7d9-4cb6-ea67-8ba69de3a89f"
      },
      "execution_count": null,
      "outputs": [
        {
          "output_type": "execute_result",
          "data": {
            "text/plain": [
              "                    ligand     energy  \\\n",
              "0  lig_1_cotb2_100_100.pdb -21.457340   \n",
              "1   lig_1_cotb2_100_10.pdb -44.423028   \n",
              "2   lig_1_cotb2_100_11.pdb -29.692781   \n",
              "3   lig_1_cotb2_100_12.pdb  -0.501767   \n",
              "4   lig_1_cotb2_100_13.pdb -28.634483   \n",
              "\n",
              "                                                mol        PMI1         PMI2  \\\n",
              "0  <rdkit.Chem.rdchem.Mol object at 0x7f43275a97e0>  858.038436  1583.425000   \n",
              "1  <rdkit.Chem.rdchem.Mol object at 0x7f43275a98c0>  849.158235  1572.291482   \n",
              "2  <rdkit.Chem.rdchem.Mol object at 0x7f43275a9930>  790.542596  1615.008980   \n",
              "3  <rdkit.Chem.rdchem.Mol object at 0x7f43275a99a0>  882.532834  1438.458730   \n",
              "4  <rdkit.Chem.rdchem.Mol object at 0x7f43275a9a10>  776.232018  1621.679340   \n",
              "\n",
              "          PMI3      NPR1      NPR2  RadiusOfGyration  InertialShapeFactor  \\\n",
              "0  2184.329171  0.392816  0.724902          3.102941             0.000845   \n",
              "1  2074.488795  0.409334  0.757918          3.059078             0.000893   \n",
              "2  2102.130286  0.376067  0.768273          3.063071             0.000972   \n",
              "3  2037.900117  0.433060  0.705853          3.012094             0.000800   \n",
              "4  2083.545226  0.372553  0.778327          3.054148             0.001003   \n",
              "\n",
              "   Eccentricity  Asphericity  SpherocityIndex       PBF  \\\n",
              "0      0.919617     0.247343         0.166761  0.576983   \n",
              "1      0.912385     0.225252         0.231516  0.650322   \n",
              "2      0.926592     0.259586         0.201936  0.651273   \n",
              "3      0.901365     0.210870         0.194837  0.590767   \n",
              "4      0.928011     0.262621         0.210445  0.667377   \n",
              "\n",
              "                             smiles  \n",
              "0  CC1CCCC(C)CCC2(C)CCC(C(C)C)C2CC1  \n",
              "1  CC1CCCC(C)CCC2(C)CCC(C(C)C)C2CC1  \n",
              "2  CC1CCCC(C)CCC2(C)CCC(C(C)C)C2CC1  \n",
              "3  CC1CCCC(C)CCC2(C)CCC(C(C)C)C2CC1  \n",
              "4  CC1CCCC(C)CCC2(C)CCC(C(C)C)C2CC1  "
            ],
            "text/html": [
              "\n",
              "  <div id=\"df-008305b8-936b-4a85-ac1b-c3762bb92479\" class=\"colab-df-container\">\n",
              "    <div>\n",
              "<style scoped>\n",
              "    .dataframe tbody tr th:only-of-type {\n",
              "        vertical-align: middle;\n",
              "    }\n",
              "\n",
              "    .dataframe tbody tr th {\n",
              "        vertical-align: top;\n",
              "    }\n",
              "\n",
              "    .dataframe thead th {\n",
              "        text-align: right;\n",
              "    }\n",
              "</style>\n",
              "<table border=\"1\" class=\"dataframe\">\n",
              "  <thead>\n",
              "    <tr style=\"text-align: right;\">\n",
              "      <th></th>\n",
              "      <th>ligand</th>\n",
              "      <th>energy</th>\n",
              "      <th>mol</th>\n",
              "      <th>PMI1</th>\n",
              "      <th>PMI2</th>\n",
              "      <th>PMI3</th>\n",
              "      <th>NPR1</th>\n",
              "      <th>NPR2</th>\n",
              "      <th>RadiusOfGyration</th>\n",
              "      <th>InertialShapeFactor</th>\n",
              "      <th>Eccentricity</th>\n",
              "      <th>Asphericity</th>\n",
              "      <th>SpherocityIndex</th>\n",
              "      <th>PBF</th>\n",
              "      <th>smiles</th>\n",
              "    </tr>\n",
              "  </thead>\n",
              "  <tbody>\n",
              "    <tr>\n",
              "      <th>0</th>\n",
              "      <td>lig_1_cotb2_100_100.pdb</td>\n",
              "      <td>-21.457340</td>\n",
              "      <td>&lt;rdkit.Chem.rdchem.Mol object at 0x7f43275a97e0&gt;</td>\n",
              "      <td>858.038436</td>\n",
              "      <td>1583.425000</td>\n",
              "      <td>2184.329171</td>\n",
              "      <td>0.392816</td>\n",
              "      <td>0.724902</td>\n",
              "      <td>3.102941</td>\n",
              "      <td>0.000845</td>\n",
              "      <td>0.919617</td>\n",
              "      <td>0.247343</td>\n",
              "      <td>0.166761</td>\n",
              "      <td>0.576983</td>\n",
              "      <td>CC1CCCC(C)CCC2(C)CCC(C(C)C)C2CC1</td>\n",
              "    </tr>\n",
              "    <tr>\n",
              "      <th>1</th>\n",
              "      <td>lig_1_cotb2_100_10.pdb</td>\n",
              "      <td>-44.423028</td>\n",
              "      <td>&lt;rdkit.Chem.rdchem.Mol object at 0x7f43275a98c0&gt;</td>\n",
              "      <td>849.158235</td>\n",
              "      <td>1572.291482</td>\n",
              "      <td>2074.488795</td>\n",
              "      <td>0.409334</td>\n",
              "      <td>0.757918</td>\n",
              "      <td>3.059078</td>\n",
              "      <td>0.000893</td>\n",
              "      <td>0.912385</td>\n",
              "      <td>0.225252</td>\n",
              "      <td>0.231516</td>\n",
              "      <td>0.650322</td>\n",
              "      <td>CC1CCCC(C)CCC2(C)CCC(C(C)C)C2CC1</td>\n",
              "    </tr>\n",
              "    <tr>\n",
              "      <th>2</th>\n",
              "      <td>lig_1_cotb2_100_11.pdb</td>\n",
              "      <td>-29.692781</td>\n",
              "      <td>&lt;rdkit.Chem.rdchem.Mol object at 0x7f43275a9930&gt;</td>\n",
              "      <td>790.542596</td>\n",
              "      <td>1615.008980</td>\n",
              "      <td>2102.130286</td>\n",
              "      <td>0.376067</td>\n",
              "      <td>0.768273</td>\n",
              "      <td>3.063071</td>\n",
              "      <td>0.000972</td>\n",
              "      <td>0.926592</td>\n",
              "      <td>0.259586</td>\n",
              "      <td>0.201936</td>\n",
              "      <td>0.651273</td>\n",
              "      <td>CC1CCCC(C)CCC2(C)CCC(C(C)C)C2CC1</td>\n",
              "    </tr>\n",
              "    <tr>\n",
              "      <th>3</th>\n",
              "      <td>lig_1_cotb2_100_12.pdb</td>\n",
              "      <td>-0.501767</td>\n",
              "      <td>&lt;rdkit.Chem.rdchem.Mol object at 0x7f43275a99a0&gt;</td>\n",
              "      <td>882.532834</td>\n",
              "      <td>1438.458730</td>\n",
              "      <td>2037.900117</td>\n",
              "      <td>0.433060</td>\n",
              "      <td>0.705853</td>\n",
              "      <td>3.012094</td>\n",
              "      <td>0.000800</td>\n",
              "      <td>0.901365</td>\n",
              "      <td>0.210870</td>\n",
              "      <td>0.194837</td>\n",
              "      <td>0.590767</td>\n",
              "      <td>CC1CCCC(C)CCC2(C)CCC(C(C)C)C2CC1</td>\n",
              "    </tr>\n",
              "    <tr>\n",
              "      <th>4</th>\n",
              "      <td>lig_1_cotb2_100_13.pdb</td>\n",
              "      <td>-28.634483</td>\n",
              "      <td>&lt;rdkit.Chem.rdchem.Mol object at 0x7f43275a9a10&gt;</td>\n",
              "      <td>776.232018</td>\n",
              "      <td>1621.679340</td>\n",
              "      <td>2083.545226</td>\n",
              "      <td>0.372553</td>\n",
              "      <td>0.778327</td>\n",
              "      <td>3.054148</td>\n",
              "      <td>0.001003</td>\n",
              "      <td>0.928011</td>\n",
              "      <td>0.262621</td>\n",
              "      <td>0.210445</td>\n",
              "      <td>0.667377</td>\n",
              "      <td>CC1CCCC(C)CCC2(C)CCC(C(C)C)C2CC1</td>\n",
              "    </tr>\n",
              "  </tbody>\n",
              "</table>\n",
              "</div>\n",
              "    <div class=\"colab-df-buttons\">\n",
              "\n",
              "  <div class=\"colab-df-container\">\n",
              "    <button class=\"colab-df-convert\" onclick=\"convertToInteractive('df-008305b8-936b-4a85-ac1b-c3762bb92479')\"\n",
              "            title=\"Convert this dataframe to an interactive table.\"\n",
              "            style=\"display:none;\">\n",
              "\n",
              "  <svg xmlns=\"http://www.w3.org/2000/svg\" height=\"24px\" viewBox=\"0 -960 960 960\">\n",
              "    <path d=\"M120-120v-720h720v720H120Zm60-500h600v-160H180v160Zm220 220h160v-160H400v160Zm0 220h160v-160H400v160ZM180-400h160v-160H180v160Zm440 0h160v-160H620v160ZM180-180h160v-160H180v160Zm440 0h160v-160H620v160Z\"/>\n",
              "  </svg>\n",
              "    </button>\n",
              "\n",
              "  <style>\n",
              "    .colab-df-container {\n",
              "      display:flex;\n",
              "      gap: 12px;\n",
              "    }\n",
              "\n",
              "    .colab-df-convert {\n",
              "      background-color: #E8F0FE;\n",
              "      border: none;\n",
              "      border-radius: 50%;\n",
              "      cursor: pointer;\n",
              "      display: none;\n",
              "      fill: #1967D2;\n",
              "      height: 32px;\n",
              "      padding: 0 0 0 0;\n",
              "      width: 32px;\n",
              "    }\n",
              "\n",
              "    .colab-df-convert:hover {\n",
              "      background-color: #E2EBFA;\n",
              "      box-shadow: 0px 1px 2px rgba(60, 64, 67, 0.3), 0px 1px 3px 1px rgba(60, 64, 67, 0.15);\n",
              "      fill: #174EA6;\n",
              "    }\n",
              "\n",
              "    .colab-df-buttons div {\n",
              "      margin-bottom: 4px;\n",
              "    }\n",
              "\n",
              "    [theme=dark] .colab-df-convert {\n",
              "      background-color: #3B4455;\n",
              "      fill: #D2E3FC;\n",
              "    }\n",
              "\n",
              "    [theme=dark] .colab-df-convert:hover {\n",
              "      background-color: #434B5C;\n",
              "      box-shadow: 0px 1px 3px 1px rgba(0, 0, 0, 0.15);\n",
              "      filter: drop-shadow(0px 1px 2px rgba(0, 0, 0, 0.3));\n",
              "      fill: #FFFFFF;\n",
              "    }\n",
              "  </style>\n",
              "\n",
              "    <script>\n",
              "      const buttonEl =\n",
              "        document.querySelector('#df-008305b8-936b-4a85-ac1b-c3762bb92479 button.colab-df-convert');\n",
              "      buttonEl.style.display =\n",
              "        google.colab.kernel.accessAllowed ? 'block' : 'none';\n",
              "\n",
              "      async function convertToInteractive(key) {\n",
              "        const element = document.querySelector('#df-008305b8-936b-4a85-ac1b-c3762bb92479');\n",
              "        const dataTable =\n",
              "          await google.colab.kernel.invokeFunction('convertToInteractive',\n",
              "                                                    [key], {});\n",
              "        if (!dataTable) return;\n",
              "\n",
              "        const docLinkHtml = 'Like what you see? Visit the ' +\n",
              "          '<a target=\"_blank\" href=https://colab.research.google.com/notebooks/data_table.ipynb>data table notebook</a>'\n",
              "          + ' to learn more about interactive tables.';\n",
              "        element.innerHTML = '';\n",
              "        dataTable['output_type'] = 'display_data';\n",
              "        await google.colab.output.renderOutput(dataTable, element);\n",
              "        const docLink = document.createElement('div');\n",
              "        docLink.innerHTML = docLinkHtml;\n",
              "        element.appendChild(docLink);\n",
              "      }\n",
              "    </script>\n",
              "  </div>\n",
              "\n",
              "\n",
              "<div id=\"df-85224c09-16ca-40dc-9845-3a4130c611bf\">\n",
              "  <button class=\"colab-df-quickchart\" onclick=\"quickchart('df-85224c09-16ca-40dc-9845-3a4130c611bf')\"\n",
              "            title=\"Suggest charts\"\n",
              "            style=\"display:none;\">\n",
              "\n",
              "<svg xmlns=\"http://www.w3.org/2000/svg\" height=\"24px\"viewBox=\"0 0 24 24\"\n",
              "     width=\"24px\">\n",
              "    <g>\n",
              "        <path d=\"M19 3H5c-1.1 0-2 .9-2 2v14c0 1.1.9 2 2 2h14c1.1 0 2-.9 2-2V5c0-1.1-.9-2-2-2zM9 17H7v-7h2v7zm4 0h-2V7h2v10zm4 0h-2v-4h2v4z\"/>\n",
              "    </g>\n",
              "</svg>\n",
              "  </button>\n",
              "\n",
              "<style>\n",
              "  .colab-df-quickchart {\n",
              "      --bg-color: #E8F0FE;\n",
              "      --fill-color: #1967D2;\n",
              "      --hover-bg-color: #E2EBFA;\n",
              "      --hover-fill-color: #174EA6;\n",
              "      --disabled-fill-color: #AAA;\n",
              "      --disabled-bg-color: #DDD;\n",
              "  }\n",
              "\n",
              "  [theme=dark] .colab-df-quickchart {\n",
              "      --bg-color: #3B4455;\n",
              "      --fill-color: #D2E3FC;\n",
              "      --hover-bg-color: #434B5C;\n",
              "      --hover-fill-color: #FFFFFF;\n",
              "      --disabled-bg-color: #3B4455;\n",
              "      --disabled-fill-color: #666;\n",
              "  }\n",
              "\n",
              "  .colab-df-quickchart {\n",
              "    background-color: var(--bg-color);\n",
              "    border: none;\n",
              "    border-radius: 50%;\n",
              "    cursor: pointer;\n",
              "    display: none;\n",
              "    fill: var(--fill-color);\n",
              "    height: 32px;\n",
              "    padding: 0;\n",
              "    width: 32px;\n",
              "  }\n",
              "\n",
              "  .colab-df-quickchart:hover {\n",
              "    background-color: var(--hover-bg-color);\n",
              "    box-shadow: 0 1px 2px rgba(60, 64, 67, 0.3), 0 1px 3px 1px rgba(60, 64, 67, 0.15);\n",
              "    fill: var(--button-hover-fill-color);\n",
              "  }\n",
              "\n",
              "  .colab-df-quickchart-complete:disabled,\n",
              "  .colab-df-quickchart-complete:disabled:hover {\n",
              "    background-color: var(--disabled-bg-color);\n",
              "    fill: var(--disabled-fill-color);\n",
              "    box-shadow: none;\n",
              "  }\n",
              "\n",
              "  .colab-df-spinner {\n",
              "    border: 2px solid var(--fill-color);\n",
              "    border-color: transparent;\n",
              "    border-bottom-color: var(--fill-color);\n",
              "    animation:\n",
              "      spin 1s steps(1) infinite;\n",
              "  }\n",
              "\n",
              "  @keyframes spin {\n",
              "    0% {\n",
              "      border-color: transparent;\n",
              "      border-bottom-color: var(--fill-color);\n",
              "      border-left-color: var(--fill-color);\n",
              "    }\n",
              "    20% {\n",
              "      border-color: transparent;\n",
              "      border-left-color: var(--fill-color);\n",
              "      border-top-color: var(--fill-color);\n",
              "    }\n",
              "    30% {\n",
              "      border-color: transparent;\n",
              "      border-left-color: var(--fill-color);\n",
              "      border-top-color: var(--fill-color);\n",
              "      border-right-color: var(--fill-color);\n",
              "    }\n",
              "    40% {\n",
              "      border-color: transparent;\n",
              "      border-right-color: var(--fill-color);\n",
              "      border-top-color: var(--fill-color);\n",
              "    }\n",
              "    60% {\n",
              "      border-color: transparent;\n",
              "      border-right-color: var(--fill-color);\n",
              "    }\n",
              "    80% {\n",
              "      border-color: transparent;\n",
              "      border-right-color: var(--fill-color);\n",
              "      border-bottom-color: var(--fill-color);\n",
              "    }\n",
              "    90% {\n",
              "      border-color: transparent;\n",
              "      border-bottom-color: var(--fill-color);\n",
              "    }\n",
              "  }\n",
              "</style>\n",
              "\n",
              "  <script>\n",
              "    async function quickchart(key) {\n",
              "      const quickchartButtonEl =\n",
              "        document.querySelector('#' + key + ' button');\n",
              "      quickchartButtonEl.disabled = true;  // To prevent multiple clicks.\n",
              "      quickchartButtonEl.classList.add('colab-df-spinner');\n",
              "      try {\n",
              "        const charts = await google.colab.kernel.invokeFunction(\n",
              "            'suggestCharts', [key], {});\n",
              "      } catch (error) {\n",
              "        console.error('Error during call to suggestCharts:', error);\n",
              "      }\n",
              "      quickchartButtonEl.classList.remove('colab-df-spinner');\n",
              "      quickchartButtonEl.classList.add('colab-df-quickchart-complete');\n",
              "    }\n",
              "    (() => {\n",
              "      let quickchartButtonEl =\n",
              "        document.querySelector('#df-85224c09-16ca-40dc-9845-3a4130c611bf button');\n",
              "      quickchartButtonEl.style.display =\n",
              "        google.colab.kernel.accessAllowed ? 'block' : 'none';\n",
              "    })();\n",
              "  </script>\n",
              "</div>\n",
              "\n",
              "    </div>\n",
              "  </div>\n"
            ],
            "application/vnd.google.colaboratory.intrinsic+json": {
              "type": "dataframe",
              "variable_name": "loaded_ligands",
              "summary": "{\n  \"name\": \"loaded_ligands\",\n  \"rows\": 10000,\n  \"fields\": [\n    {\n      \"column\": \"ligand\",\n      \"properties\": {\n        \"dtype\": \"string\",\n        \"num_unique_values\": 10000,\n        \"samples\": [\n          \"lig_1_cotb2_65_99.pdb\",\n          \"lig_1_cotb2_51_79.pdb\",\n          \"lig_1_cotb2_24_8.pdb\"\n        ],\n        \"semantic_type\": \"\",\n        \"description\": \"\"\n      }\n    },\n    {\n      \"column\": \"energy\",\n      \"properties\": {\n        \"dtype\": \"number\",\n        \"std\": 16.413197508951615,\n        \"min\": -48.7248803,\n        \"max\": 38.8366852,\n        \"num_unique_values\": 9999,\n        \"samples\": [\n          3.37353718,\n          -44.257902,\n          -44.6658752\n        ],\n        \"semantic_type\": \"\",\n        \"description\": \"\"\n      }\n    },\n    {\n      \"column\": \"mol\",\n      \"properties\": {\n        \"dtype\": \"string\",\n        \"num_unique_values\": 10000,\n        \"samples\": [\n          \"<rdkit.Chem.rdchem.Mol object at 0x7f4326bda3b0>\",\n          \"<rdkit.Chem.rdchem.Mol object at 0x7f4326baaf80>\",\n          \"<rdkit.Chem.rdchem.Mol object at 0x7f4327559540>\"\n        ],\n        \"semantic_type\": \"\",\n        \"description\": \"\"\n      }\n    },\n    {\n      \"column\": \"PMI1\",\n      \"properties\": {\n        \"dtype\": \"number\",\n        \"std\": 33.01343681646542,\n        \"min\": 602.984581117089,\n        \"max\": 925.5166601621901,\n        \"num_unique_values\": 10000,\n        \"samples\": [\n          785.2499432646819,\n          791.7015353069522,\n          845.1246392858003\n        ],\n        \"semantic_type\": \"\",\n        \"description\": \"\"\n      }\n    },\n    {\n      \"column\": \"PMI2\",\n      \"properties\": {\n        \"dtype\": \"number\",\n        \"std\": 52.2606481021144,\n        \"min\": 1283.3780427796155,\n        \"max\": 1892.6129445010338,\n        \"num_unique_values\": 10000,\n        \"samples\": [\n          1603.0482629733567,\n          1606.737004594618,\n          1591.5249123903561\n        ],\n        \"semantic_type\": \"\",\n        \"description\": \"\"\n      }\n    },\n    {\n      \"column\": \"PMI3\",\n      \"properties\": {\n        \"dtype\": \"number\",\n        \"std\": 37.43343673581345,\n        \"min\": 1825.077394261196,\n        \"max\": 2302.6763492386235,\n        \"num_unique_values\": 10000,\n        \"samples\": [\n          2081.0672432215606,\n          2086.8809238776303,\n          2089.6416143006436\n        ],\n        \"semantic_type\": \"\",\n        \"description\": \"\"\n      }\n    },\n    {\n      \"column\": \"NPR1\",\n      \"properties\": {\n        \"dtype\": \"number\",\n        \"std\": 0.017879057328454174,\n        \"min\": 0.2745279688881437,\n        \"max\": 0.5071109110618542,\n        \"num_unique_values\": 10000,\n        \"samples\": [\n          0.37733040382159355,\n          0.37937072798379545,\n          0.40443520721549403\n        ],\n        \"semantic_type\": \"\",\n        \"description\": \"\"\n      }\n    },\n    {\n      \"column\": \"NPR2\",\n      \"properties\": {\n        \"dtype\": \"number\",\n        \"std\": 0.021688257648561585,\n        \"min\": 0.6965023791244437,\n        \"max\": 0.8616724271501488,\n        \"num_unique_values\": 10000,\n        \"samples\": [\n          0.7703010405813631,\n          0.7699227043626151,\n          0.7616257742469413\n        ],\n        \"semantic_type\": \"\",\n        \"description\": \"\"\n      }\n    },\n    {\n      \"column\": \"RadiusOfGyration\",\n      \"properties\": {\n        \"dtype\": \"number\",\n        \"std\": 0.023725154726091775,\n        \"min\": 2.8976562641210575,\n        \"max\": 3.168206141493954,\n        \"num_unique_values\": 10000,\n        \"samples\": [\n          3.050024686785338,\n          3.0554635785752713,\n          3.069387108202548\n        ],\n        \"semantic_type\": \"\",\n        \"description\": \"\"\n      }\n    },\n    {\n      \"column\": \"InertialShapeFactor\",\n      \"properties\": {\n        \"dtype\": \"number\",\n        \"std\": 5.873708408010746e-05,\n        \"min\": 0.0007597821355706759,\n        \"max\": 0.001429012373009298,\n        \"num_unique_values\": 10000,\n        \"samples\": [\n          0.0009809628732717016,\n          0.0009724911093725578,\n          0.0009011993484068547\n        ],\n        \"semantic_type\": \"\",\n        \"description\": \"\"\n      }\n    },\n    {\n      \"column\": \"Eccentricity\",\n      \"properties\": {\n        \"dtype\": \"number\",\n        \"std\": 0.007769995681821482,\n        \"min\": 0.8618808060758844,\n        \"max\": 0.9615791149448651,\n        \"num_unique_values\": 10000,\n        \"samples\": [\n          0.9260787041887062,\n          0.925244751808431,\n          0.9145666532104483\n        ],\n        \"semantic_type\": \"\",\n        \"description\": \"\"\n      }\n    },\n    {\n      \"column\": \"Asphericity\",\n      \"properties\": {\n        \"dtype\": \"number\",\n        \"std\": 0.017029845017568615,\n        \"min\": 0.1512588580257764,\n        \"max\": 0.39014425117663226,\n        \"num_unique_values\": 10000,\n        \"samples\": [\n          0.25796339084274117,\n          0.25572115041738097,\n          0.22980624786477347\n        ],\n        \"semantic_type\": \"\",\n        \"description\": \"\"\n      }\n    },\n    {\n      \"column\": \"SpherocityIndex\",\n      \"properties\": {\n        \"dtype\": \"number\",\n        \"std\": 0.022033267124770144,\n        \"min\": 0.1344982904790049,\n        \"max\": 0.3144399467505015,\n        \"num_unique_values\": 10000,\n        \"samples\": [\n          0.20622455233793424,\n          0.20838490003213497,\n          0.22999488410107183\n        ],\n        \"semantic_type\": \"\",\n        \"description\": \"\"\n      }\n    },\n    {\n      \"column\": \"PBF\",\n      \"properties\": {\n        \"dtype\": \"number\",\n        \"std\": 0.032004561429132855,\n        \"min\": 0.5063248595431068,\n        \"max\": 0.7369027064635558,\n        \"num_unique_values\": 10000,\n        \"samples\": [\n          0.6559701245199551,\n          0.6620538752899191,\n          0.6498990893395484\n        ],\n        \"semantic_type\": \"\",\n        \"description\": \"\"\n      }\n    },\n    {\n      \"column\": \"smiles\",\n      \"properties\": {\n        \"dtype\": \"category\",\n        \"num_unique_values\": 1,\n        \"samples\": [\n          \"CC1CCCC(C)CCC2(C)CCC(C(C)C)C2CC1\"\n        ],\n        \"semantic_type\": \"\",\n        \"description\": \"\"\n      }\n    }\n  ]\n}"
            }
          },
          "metadata": {},
          "execution_count": 39
        }
      ]
    },
    {
      "cell_type": "code",
      "source": [
        "loaded_ligands.smiles.value_counts()"
      ],
      "metadata": {
        "colab": {
          "base_uri": "https://localhost:8080/",
          "height": 147
        },
        "id": "ZRwqOh0dnQol",
        "outputId": "b9321680-dec0-43dc-a4ba-b71ff80fc320"
      },
      "execution_count": null,
      "outputs": [
        {
          "output_type": "execute_result",
          "data": {
            "text/plain": [
              "smiles\n",
              "CC1CCCC(C)CCC2(C)CCC(C(C)C)C2CC1    10000\n",
              "Name: count, dtype: int64"
            ],
            "text/html": [
              "<div>\n",
              "<style scoped>\n",
              "    .dataframe tbody tr th:only-of-type {\n",
              "        vertical-align: middle;\n",
              "    }\n",
              "\n",
              "    .dataframe tbody tr th {\n",
              "        vertical-align: top;\n",
              "    }\n",
              "\n",
              "    .dataframe thead th {\n",
              "        text-align: right;\n",
              "    }\n",
              "</style>\n",
              "<table border=\"1\" class=\"dataframe\">\n",
              "  <thead>\n",
              "    <tr style=\"text-align: right;\">\n",
              "      <th></th>\n",
              "      <th>count</th>\n",
              "    </tr>\n",
              "    <tr>\n",
              "      <th>smiles</th>\n",
              "      <th></th>\n",
              "    </tr>\n",
              "  </thead>\n",
              "  <tbody>\n",
              "    <tr>\n",
              "      <th>CC1CCCC(C)CCC2(C)CCC(C(C)C)C2CC1</th>\n",
              "      <td>10000</td>\n",
              "    </tr>\n",
              "  </tbody>\n",
              "</table>\n",
              "</div><br><label><b>dtype:</b> int64</label>"
            ]
          },
          "metadata": {},
          "execution_count": 40
        }
      ]
    },
    {
      "cell_type": "code",
      "source": [
        "%matplotlib inline\n",
        "\n",
        "for col in descriptors.keys():\n",
        "  loaded_ligands[col].hist()\n",
        "  plt.title(col)\n",
        "  plt.show()"
      ],
      "metadata": {
        "colab": {
          "base_uri": "https://localhost:8080/",
          "height": 1000
        },
        "id": "i1IVAMpHDRyy",
        "outputId": "d509760a-2d7a-4ff0-958e-2f82b39010c6"
      },
      "execution_count": null,
      "outputs": [
        {
          "output_type": "display_data",
          "data": {
            "text/plain": [
              "<Figure size 640x480 with 1 Axes>"
            ],
            "image/png": "[encoded data removed]"
          },
          "metadata": {}
        },
        {
          "output_type": "display_data",
          "data": {
            "text/plain": [
              "<Figure size 640x480 with 1 Axes>"
            ],
            "image/png": "[encoded data removed]"
          },
          "metadata": {}
        },
        {
          "output_type": "display_data",
          "data": {
            "text/plain": [
              "<Figure size 640x480 with 1 Axes>"
            ],
            "image/png": "[encoded data removed]"
          },
          "metadata": {}
        },
        {
          "output_type": "display_data",
          "data": {
            "text/plain": [
              "<Figure size 640x480 with 1 Axes>"
            ],
            "image/png": "[encoded data removed]"
          },
          "metadata": {}
        },
        {
          "output_type": "display_data",
          "data": {
            "text/plain": [
              "<Figure size 640x480 with 1 Axes>"
            ],
            "image/png": "[encoded data removed]"
          },
          "metadata": {}
        },
        {
          "output_type": "display_data",
          "data": {
            "text/plain": [
              "<Figure size 640x480 with 1 Axes>"
            ],
            "image/png": "[encoded data removed]"
          },
          "metadata": {}
        },
        {
          "output_type": "display_data",
          "data": {
            "text/plain": [
              "<Figure size 640x480 with 1 Axes>"
            ],
            "image/png": "[encoded data removed]"
          },
          "metadata": {}
        },
        {
          "output_type": "display_data",
          "data": {
            "text/plain": [
              "<Figure size 640x480 with 1 Axes>"
            ],
            "image/png": "[encoded data removed]"
          },
          "metadata": {}
        },
        {
          "output_type": "display_data",
          "data": {
            "text/plain": [
              "<Figure size 640x480 with 1 Axes>"
            ],
            "image/png": "[encoded data removed]"
          },
          "metadata": {}
        },
        {
          "output_type": "display_data",
          "data": {
            "text/plain": [
              "<Figure size 640x480 with 1 Axes>"
            ],
            "image/png": "[encoded data removed]"
          },
          "metadata": {}
        },
        {
          "output_type": "display_data",
          "data": {
            "text/plain": [
              "<Figure size 640x480 with 1 Axes>"
            ],
            "image/png": "[encoded data removed]"
          },
          "metadata": {}
        }
      ]
    },
    {
      "cell_type": "code",
      "source": [
        "# Concatenate the list of dataframes into a single dataframe\n",
        "ligand_features_names = list(descriptors.keys())\n",
        "spatial_descriptors_df = loaded_ligands[descriptors.keys()].reset_index(drop=True)\n",
        "spatial_descriptors_df"
      ],
      "metadata": {
        "colab": {
          "base_uri": "https://localhost:8080/",
          "height": 424
        },
        "id": "1EqMHoTZVtPQ",
        "outputId": "87448523-7457-44df-c2ff-9a723680dd15"
      },
      "execution_count": null,
      "outputs": [
        {
          "output_type": "execute_result",
          "data": {
            "text/plain": [
              "            PMI1         PMI2         PMI3      NPR1      NPR2  \\\n",
              "0     858.038436  1583.425000  2184.329171  0.392816  0.724902   \n",
              "1     849.158235  1572.291482  2074.488795  0.409334  0.757918   \n",
              "2     790.542596  1615.008980  2102.130286  0.376067  0.768273   \n",
              "3     882.532834  1438.458730  2037.900117  0.433060  0.705853   \n",
              "4     776.232018  1621.679340  2083.545226  0.372553  0.778327   \n",
              "...          ...          ...          ...       ...       ...   \n",
              "9995  842.435504  1600.320935  2097.355534  0.401666  0.763018   \n",
              "9996  827.165645  1521.637655  2058.190976  0.401890  0.739308   \n",
              "9997  846.382638  1586.999714  2086.963428  0.405557  0.760435   \n",
              "9998  843.493740  1600.698589  2096.000717  0.402430  0.763692   \n",
              "9999  849.974677  1577.649863  2081.863077  0.408276  0.757807   \n",
              "\n",
              "      RadiusOfGyration  InertialShapeFactor  Eccentricity  Asphericity  \\\n",
              "0             3.102941             0.000845      0.919617     0.247343   \n",
              "1             3.059078             0.000893      0.912385     0.225252   \n",
              "2             3.063071             0.000972      0.926592     0.259586   \n",
              "3             3.012094             0.000800      0.901365     0.210870   \n",
              "4             3.054148             0.001003      0.928011     0.262621   \n",
              "...                ...                  ...           ...          ...   \n",
              "9995          3.074070             0.000906      0.915786     0.232504   \n",
              "9996          3.028668             0.000894      0.915688     0.235367   \n",
              "9997          3.067371             0.000898      0.914070     0.228792   \n",
              "9998          3.074097             0.000905      0.915451     0.231642   \n",
              "9999          3.063684             0.000892      0.912859     0.226333   \n",
              "\n",
              "      SpherocityIndex       PBF  \n",
              "0            0.166761  0.576983  \n",
              "1            0.231516  0.650322  \n",
              "2            0.201936  0.651273  \n",
              "3            0.194837  0.590767  \n",
              "4            0.210445  0.667377  \n",
              "...               ...       ...  \n",
              "9995         0.228233  0.650097  \n",
              "9996         0.197830  0.605651  \n",
              "9997         0.229906  0.652647  \n",
              "9998         0.230073  0.651947  \n",
              "9999         0.230023  0.647834  \n",
              "\n",
              "[10000 rows x 11 columns]"
            ],
            "text/html": [
              "\n",
              "  <div id=\"df-bb880f61-588a-4a3d-9ad5-5b6c7b9708a2\" class=\"colab-df-container\">\n",
              "    <div>\n",
              "<style scoped>\n",
              "    .dataframe tbody tr th:only-of-type {\n",
              "        vertical-align: middle;\n",
              "    }\n",
              "\n",
              "    .dataframe tbody tr th {\n",
              "        vertical-align: top;\n",
              "    }\n",
              "\n",
              "    .dataframe thead th {\n",
              "        text-align: right;\n",
              "    }\n",
              "</style>\n",
              "<table border=\"1\" class=\"dataframe\">\n",
              "  <thead>\n",
              "    <tr style=\"text-align: right;\">\n",
              "      <th></th>\n",
              "      <th>PMI1</th>\n",
              "      <th>PMI2</th>\n",
              "      <th>PMI3</th>\n",
              "      <th>NPR1</th>\n",
              "      <th>NPR2</th>\n",
              "      <th>RadiusOfGyration</th>\n",
              "      <th>InertialShapeFactor</th>\n",
              "      <th>Eccentricity</th>\n",
              "      <th>Asphericity</th>\n",
              "      <th>SpherocityIndex</th>\n",
              "      <th>PBF</th>\n",
              "    </tr>\n",
              "  </thead>\n",
              "  <tbody>\n",
              "    <tr>\n",
              "      <th>0</th>\n",
              "      <td>858.038436</td>\n",
              "      <td>1583.425000</td>\n",
              "      <td>2184.329171</td>\n",
              "      <td>0.392816</td>\n",
              "      <td>0.724902</td>\n",
              "      <td>3.102941</td>\n",
              "      <td>0.000845</td>\n",
              "      <td>0.919617</td>\n",
              "      <td>0.247343</td>\n",
              "      <td>0.166761</td>\n",
              "      <td>0.576983</td>\n",
              "    </tr>\n",
              "    <tr>\n",
              "      <th>1</th>\n",
              "      <td>849.158235</td>\n",
              "      <td>1572.291482</td>\n",
              "      <td>2074.488795</td>\n",
              "      <td>0.409334</td>\n",
              "      <td>0.757918</td>\n",
              "      <td>3.059078</td>\n",
              "      <td>0.000893</td>\n",
              "      <td>0.912385</td>\n",
              "      <td>0.225252</td>\n",
              "      <td>0.231516</td>\n",
              "      <td>0.650322</td>\n",
              "    </tr>\n",
              "    <tr>\n",
              "      <th>2</th>\n",
              "      <td>790.542596</td>\n",
              "      <td>1615.008980</td>\n",
              "      <td>2102.130286</td>\n",
              "      <td>0.376067</td>\n",
              "      <td>0.768273</td>\n",
              "      <td>3.063071</td>\n",
              "      <td>0.000972</td>\n",
              "      <td>0.926592</td>\n",
              "      <td>0.259586</td>\n",
              "      <td>0.201936</td>\n",
              "      <td>0.651273</td>\n",
              "    </tr>\n",
              "    <tr>\n",
              "      <th>3</th>\n",
              "      <td>882.532834</td>\n",
              "      <td>1438.458730</td>\n",
              "      <td>2037.900117</td>\n",
              "      <td>0.433060</td>\n",
              "      <td>0.705853</td>\n",
              "      <td>3.012094</td>\n",
              "      <td>0.000800</td>\n",
              "      <td>0.901365</td>\n",
              "      <td>0.210870</td>\n",
              "      <td>0.194837</td>\n",
              "      <td>0.590767</td>\n",
              "    </tr>\n",
              "    <tr>\n",
              "      <th>4</th>\n",
              "      <td>776.232018</td>\n",
              "      <td>1621.679340</td>\n",
              "      <td>2083.545226</td>\n",
              "      <td>0.372553</td>\n",
              "      <td>0.778327</td>\n",
              "      <td>3.054148</td>\n",
              "      <td>0.001003</td>\n",
              "      <td>0.928011</td>\n",
              "      <td>0.262621</td>\n",
              "      <td>0.210445</td>\n",
              "      <td>0.667377</td>\n",
              "    </tr>\n",
              "    <tr>\n",
              "      <th>...</th>\n",
              "      <td>...</td>\n",
              "      <td>...</td>\n",
              "      <td>...</td>\n",
              "      <td>...</td>\n",
              "      <td>...</td>\n",
              "      <td>...</td>\n",
              "      <td>...</td>\n",
              "      <td>...</td>\n",
              "      <td>...</td>\n",
              "      <td>...</td>\n",
              "      <td>...</td>\n",
              "    </tr>\n",
              "    <tr>\n",
              "      <th>9995</th>\n",
              "      <td>842.435504</td>\n",
              "      <td>1600.320935</td>\n",
              "      <td>2097.355534</td>\n",
              "      <td>0.401666</td>\n",
              "      <td>0.763018</td>\n",
              "      <td>3.074070</td>\n",
              "      <td>0.000906</td>\n",
              "      <td>0.915786</td>\n",
              "      <td>0.232504</td>\n",
              "      <td>0.228233</td>\n",
              "      <td>0.650097</td>\n",
              "    </tr>\n",
              "    <tr>\n",
              "      <th>9996</th>\n",
              "      <td>827.165645</td>\n",
              "      <td>1521.637655</td>\n",
              "      <td>2058.190976</td>\n",
              "      <td>0.401890</td>\n",
              "      <td>0.739308</td>\n",
              "      <td>3.028668</td>\n",
              "      <td>0.000894</td>\n",
              "      <td>0.915688</td>\n",
              "      <td>0.235367</td>\n",
              "      <td>0.197830</td>\n",
              "      <td>0.605651</td>\n",
              "    </tr>\n",
              "    <tr>\n",
              "      <th>9997</th>\n",
              "      <td>846.382638</td>\n",
              "      <td>1586.999714</td>\n",
              "      <td>2086.963428</td>\n",
              "      <td>0.405557</td>\n",
              "      <td>0.760435</td>\n",
              "      <td>3.067371</td>\n",
              "      <td>0.000898</td>\n",
              "      <td>0.914070</td>\n",
              "      <td>0.228792</td>\n",
              "      <td>0.229906</td>\n",
              "      <td>0.652647</td>\n",
              "    </tr>\n",
              "    <tr>\n",
              "      <th>9998</th>\n",
              "      <td>843.493740</td>\n",
              "      <td>1600.698589</td>\n",
              "      <td>2096.000717</td>\n",
              "      <td>0.402430</td>\n",
              "      <td>0.763692</td>\n",
              "      <td>3.074097</td>\n",
              "      <td>0.000905</td>\n",
              "      <td>0.915451</td>\n",
              "      <td>0.231642</td>\n",
              "      <td>0.230073</td>\n",
              "      <td>0.651947</td>\n",
              "    </tr>\n",
              "    <tr>\n",
              "      <th>9999</th>\n",
              "      <td>849.974677</td>\n",
              "      <td>1577.649863</td>\n",
              "      <td>2081.863077</td>\n",
              "      <td>0.408276</td>\n",
              "      <td>0.757807</td>\n",
              "      <td>3.063684</td>\n",
              "      <td>0.000892</td>\n",
              "      <td>0.912859</td>\n",
              "      <td>0.226333</td>\n",
              "      <td>0.230023</td>\n",
              "      <td>0.647834</td>\n",
              "    </tr>\n",
              "  </tbody>\n",
              "</table>\n",
              "<p>10000 rows × 11 columns</p>\n",
              "</div>\n",
              "    <div class=\"colab-df-buttons\">\n",
              "\n",
              "  <div class=\"colab-df-container\">\n",
              "    <button class=\"colab-df-convert\" onclick=\"convertToInteractive('df-bb880f61-588a-4a3d-9ad5-5b6c7b9708a2')\"\n",
              "            title=\"Convert this dataframe to an interactive table.\"\n",
              "            style=\"display:none;\">\n",
              "\n",
              "  <svg xmlns=\"http://www.w3.org/2000/svg\" height=\"24px\" viewBox=\"0 -960 960 960\">\n",
              "    <path d=\"M120-120v-720h720v720H120Zm60-500h600v-160H180v160Zm220 220h160v-160H400v160Zm0 220h160v-160H400v160ZM180-400h160v-160H180v160Zm440 0h160v-160H620v160ZM180-180h160v-160H180v160Zm440 0h160v-160H620v160Z\"/>\n",
              "  </svg>\n",
              "    </button>\n",
              "\n",
              "  <style>\n",
              "    .colab-df-container {\n",
              "      display:flex;\n",
              "      gap: 12px;\n",
              "    }\n",
              "\n",
              "    .colab-df-convert {\n",
              "      background-color: #E8F0FE;\n",
              "      border: none;\n",
              "      border-radius: 50%;\n",
              "      cursor: pointer;\n",
              "      display: none;\n",
              "      fill: #1967D2;\n",
              "      height: 32px;\n",
              "      padding: 0 0 0 0;\n",
              "      width: 32px;\n",
              "    }\n",
              "\n",
              "    .colab-df-convert:hover {\n",
              "      background-color: #E2EBFA;\n",
              "      box-shadow: 0px 1px 2px rgba(60, 64, 67, 0.3), 0px 1px 3px 1px rgba(60, 64, 67, 0.15);\n",
              "      fill: #174EA6;\n",
              "    }\n",
              "\n",
              "    .colab-df-buttons div {\n",
              "      margin-bottom: 4px;\n",
              "    }\n",
              "\n",
              "    [theme=dark] .colab-df-convert {\n",
              "      background-color: #3B4455;\n",
              "      fill: #D2E3FC;\n",
              "    }\n",
              "\n",
              "    [theme=dark] .colab-df-convert:hover {\n",
              "      background-color: #434B5C;\n",
              "      box-shadow: 0px 1px 3px 1px rgba(0, 0, 0, 0.15);\n",
              "      filter: drop-shadow(0px 1px 2px rgba(0, 0, 0, 0.3));\n",
              "      fill: #FFFFFF;\n",
              "    }\n",
              "  </style>\n",
              "\n",
              "    <script>\n",
              "      const buttonEl =\n",
              "        document.querySelector('#df-bb880f61-588a-4a3d-9ad5-5b6c7b9708a2 button.colab-df-convert');\n",
              "      buttonEl.style.display =\n",
              "        google.colab.kernel.accessAllowed ? 'block' : 'none';\n",
              "\n",
              "      async function convertToInteractive(key) {\n",
              "        const element = document.querySelector('#df-bb880f61-588a-4a3d-9ad5-5b6c7b9708a2');\n",
              "        const dataTable =\n",
              "          await google.colab.kernel.invokeFunction('convertToInteractive',\n",
              "                                                    [key], {});\n",
              "        if (!dataTable) return;\n",
              "\n",
              "        const docLinkHtml = 'Like what you see? Visit the ' +\n",
              "          '<a target=\"_blank\" href=https://colab.research.google.com/notebooks/data_table.ipynb>data table notebook</a>'\n",
              "          + ' to learn more about interactive tables.';\n",
              "        element.innerHTML = '';\n",
              "        dataTable['output_type'] = 'display_data';\n",
              "        await google.colab.output.renderOutput(dataTable, element);\n",
              "        const docLink = document.createElement('div');\n",
              "        docLink.innerHTML = docLinkHtml;\n",
              "        element.appendChild(docLink);\n",
              "      }\n",
              "    </script>\n",
              "  </div>\n",
              "\n",
              "\n",
              "<div id=\"df-f62577fb-9d0b-4923-9a18-b300201b86b8\">\n",
              "  <button class=\"colab-df-quickchart\" onclick=\"quickchart('df-f62577fb-9d0b-4923-9a18-b300201b86b8')\"\n",
              "            title=\"Suggest charts\"\n",
              "            style=\"display:none;\">\n",
              "\n",
              "<svg xmlns=\"http://www.w3.org/2000/svg\" height=\"24px\"viewBox=\"0 0 24 24\"\n",
              "     width=\"24px\">\n",
              "    <g>\n",
              "        <path d=\"M19 3H5c-1.1 0-2 .9-2 2v14c0 1.1.9 2 2 2h14c1.1 0 2-.9 2-2V5c0-1.1-.9-2-2-2zM9 17H7v-7h2v7zm4 0h-2V7h2v10zm4 0h-2v-4h2v4z\"/>\n",
              "    </g>\n",
              "</svg>\n",
              "  </button>\n",
              "\n",
              "<style>\n",
              "  .colab-df-quickchart {\n",
              "      --bg-color: #E8F0FE;\n",
              "      --fill-color: #1967D2;\n",
              "      --hover-bg-color: #E2EBFA;\n",
              "      --hover-fill-color: #174EA6;\n",
              "      --disabled-fill-color: #AAA;\n",
              "      --disabled-bg-color: #DDD;\n",
              "  }\n",
              "\n",
              "  [theme=dark] .colab-df-quickchart {\n",
              "      --bg-color: #3B4455;\n",
              "      --fill-color: #D2E3FC;\n",
              "      --hover-bg-color: #434B5C;\n",
              "      --hover-fill-color: #FFFFFF;\n",
              "      --disabled-bg-color: #3B4455;\n",
              "      --disabled-fill-color: #666;\n",
              "  }\n",
              "\n",
              "  .colab-df-quickchart {\n",
              "    background-color: var(--bg-color);\n",
              "    border: none;\n",
              "    border-radius: 50%;\n",
              "    cursor: pointer;\n",
              "    display: none;\n",
              "    fill: var(--fill-color);\n",
              "    height: 32px;\n",
              "    padding: 0;\n",
              "    width: 32px;\n",
              "  }\n",
              "\n",
              "  .colab-df-quickchart:hover {\n",
              "    background-color: var(--hover-bg-color);\n",
              "    box-shadow: 0 1px 2px rgba(60, 64, 67, 0.3), 0 1px 3px 1px rgba(60, 64, 67, 0.15);\n",
              "    fill: var(--button-hover-fill-color);\n",
              "  }\n",
              "\n",
              "  .colab-df-quickchart-complete:disabled,\n",
              "  .colab-df-quickchart-complete:disabled:hover {\n",
              "    background-color: var(--disabled-bg-color);\n",
              "    fill: var(--disabled-fill-color);\n",
              "    box-shadow: none;\n",
              "  }\n",
              "\n",
              "  .colab-df-spinner {\n",
              "    border: 2px solid var(--fill-color);\n",
              "    border-color: transparent;\n",
              "    border-bottom-color: var(--fill-color);\n",
              "    animation:\n",
              "      spin 1s steps(1) infinite;\n",
              "  }\n",
              "\n",
              "  @keyframes spin {\n",
              "    0% {\n",
              "      border-color: transparent;\n",
              "      border-bottom-color: var(--fill-color);\n",
              "      border-left-color: var(--fill-color);\n",
              "    }\n",
              "    20% {\n",
              "      border-color: transparent;\n",
              "      border-left-color: var(--fill-color);\n",
              "      border-top-color: var(--fill-color);\n",
              "    }\n",
              "    30% {\n",
              "      border-color: transparent;\n",
              "      border-left-color: var(--fill-color);\n",
              "      border-top-color: var(--fill-color);\n",
              "      border-right-color: var(--fill-color);\n",
              "    }\n",
              "    40% {\n",
              "      border-color: transparent;\n",
              "      border-right-color: var(--fill-color);\n",
              "      border-top-color: var(--fill-color);\n",
              "    }\n",
              "    60% {\n",
              "      border-color: transparent;\n",
              "      border-right-color: var(--fill-color);\n",
              "    }\n",
              "    80% {\n",
              "      border-color: transparent;\n",
              "      border-right-color: var(--fill-color);\n",
              "      border-bottom-color: var(--fill-color);\n",
              "    }\n",
              "    90% {\n",
              "      border-color: transparent;\n",
              "      border-bottom-color: var(--fill-color);\n",
              "    }\n",
              "  }\n",
              "</style>\n",
              "\n",
              "  <script>\n",
              "    async function quickchart(key) {\n",
              "      const quickchartButtonEl =\n",
              "        document.querySelector('#' + key + ' button');\n",
              "      quickchartButtonEl.disabled = true;  // To prevent multiple clicks.\n",
              "      quickchartButtonEl.classList.add('colab-df-spinner');\n",
              "      try {\n",
              "        const charts = await google.colab.kernel.invokeFunction(\n",
              "            'suggestCharts', [key], {});\n",
              "      } catch (error) {\n",
              "        console.error('Error during call to suggestCharts:', error);\n",
              "      }\n",
              "      quickchartButtonEl.classList.remove('colab-df-spinner');\n",
              "      quickchartButtonEl.classList.add('colab-df-quickchart-complete');\n",
              "    }\n",
              "    (() => {\n",
              "      let quickchartButtonEl =\n",
              "        document.querySelector('#df-f62577fb-9d0b-4923-9a18-b300201b86b8 button');\n",
              "      quickchartButtonEl.style.display =\n",
              "        google.colab.kernel.accessAllowed ? 'block' : 'none';\n",
              "    })();\n",
              "  </script>\n",
              "</div>\n",
              "\n",
              "  <div id=\"id_419c91bf-1768-4a00-910f-312a5bd3f250\">\n",
              "    <style>\n",
              "      .colab-df-generate {\n",
              "        background-color: #E8F0FE;\n",
              "        border: none;\n",
              "        border-radius: 50%;\n",
              "        cursor: pointer;\n",
              "        display: none;\n",
              "        fill: #1967D2;\n",
              "        height: 32px;\n",
              "        padding: 0 0 0 0;\n",
              "        width: 32px;\n",
              "      }\n",
              "\n",
              "      .colab-df-generate:hover {\n",
              "        background-color: #E2EBFA;\n",
              "        box-shadow: 0px 1px 2px rgba(60, 64, 67, 0.3), 0px 1px 3px 1px rgba(60, 64, 67, 0.15);\n",
              "        fill: #174EA6;\n",
              "      }\n",
              "\n",
              "      [theme=dark] .colab-df-generate {\n",
              "        background-color: #3B4455;\n",
              "        fill: #D2E3FC;\n",
              "      }\n",
              "\n",
              "      [theme=dark] .colab-df-generate:hover {\n",
              "        background-color: #434B5C;\n",
              "        box-shadow: 0px 1px 3px 1px rgba(0, 0, 0, 0.15);\n",
              "        filter: drop-shadow(0px 1px 2px rgba(0, 0, 0, 0.3));\n",
              "        fill: #FFFFFF;\n",
              "      }\n",
              "    </style>\n",
              "    <button class=\"colab-df-generate\" onclick=\"generateWithVariable('spatial_descriptors_df')\"\n",
              "            title=\"Generate code using this dataframe.\"\n",
              "            style=\"display:none;\">\n",
              "\n",
              "  <svg xmlns=\"http://www.w3.org/2000/svg\" height=\"24px\"viewBox=\"0 0 24 24\"\n",
              "       width=\"24px\">\n",
              "    <path d=\"M7,19H8.4L18.45,9,17,7.55,7,17.6ZM5,21V16.75L18.45,3.32a2,2,0,0,1,2.83,0l1.4,1.43a1.91,1.91,0,0,1,.58,1.4,1.91,1.91,0,0,1-.58,1.4L9.25,21ZM18.45,9,17,7.55Zm-12,3A5.31,5.31,0,0,0,4.9,8.1,5.31,5.31,0,0,0,1,6.5,5.31,5.31,0,0,0,4.9,4.9,5.31,5.31,0,0,0,6.5,1,5.31,5.31,0,0,0,8.1,4.9,5.31,5.31,0,0,0,12,6.5,5.46,5.46,0,0,0,6.5,12Z\"/>\n",
              "  </svg>\n",
              "    </button>\n",
              "    <script>\n",
              "      (() => {\n",
              "      const buttonEl =\n",
              "        document.querySelector('#id_419c91bf-1768-4a00-910f-312a5bd3f250 button.colab-df-generate');\n",
              "      buttonEl.style.display =\n",
              "        google.colab.kernel.accessAllowed ? 'block' : 'none';\n",
              "\n",
              "      buttonEl.onclick = () => {\n",
              "        google.colab.notebook.generateWithVariable('spatial_descriptors_df');\n",
              "      }\n",
              "      })();\n",
              "    </script>\n",
              "  </div>\n",
              "\n",
              "    </div>\n",
              "  </div>\n"
            ],
            "application/vnd.google.colaboratory.intrinsic+json": {
              "type": "dataframe",
              "variable_name": "spatial_descriptors_df",
              "summary": "{\n  \"name\": \"spatial_descriptors_df\",\n  \"rows\": 10000,\n  \"fields\": [\n    {\n      \"column\": \"PMI1\",\n      \"properties\": {\n        \"dtype\": \"number\",\n        \"std\": 33.01343681646542,\n        \"min\": 602.984581117089,\n        \"max\": 925.5166601621901,\n        \"num_unique_values\": 10000,\n        \"samples\": [\n          785.2499432646819,\n          791.7015353069522,\n          845.1246392858003\n        ],\n        \"semantic_type\": \"\",\n        \"description\": \"\"\n      }\n    },\n    {\n      \"column\": \"PMI2\",\n      \"properties\": {\n        \"dtype\": \"number\",\n        \"std\": 52.2606481021144,\n        \"min\": 1283.3780427796155,\n        \"max\": 1892.6129445010338,\n        \"num_unique_values\": 10000,\n        \"samples\": [\n          1603.0482629733567,\n          1606.737004594618,\n          1591.5249123903561\n        ],\n        \"semantic_type\": \"\",\n        \"description\": \"\"\n      }\n    },\n    {\n      \"column\": \"PMI3\",\n      \"properties\": {\n        \"dtype\": \"number\",\n        \"std\": 37.43343673581345,\n        \"min\": 1825.077394261196,\n        \"max\": 2302.6763492386235,\n        \"num_unique_values\": 10000,\n        \"samples\": [\n          2081.0672432215606,\n          2086.8809238776303,\n          2089.6416143006436\n        ],\n        \"semantic_type\": \"\",\n        \"description\": \"\"\n      }\n    },\n    {\n      \"column\": \"NPR1\",\n      \"properties\": {\n        \"dtype\": \"number\",\n        \"std\": 0.017879057328454174,\n        \"min\": 0.2745279688881437,\n        \"max\": 0.5071109110618542,\n        \"num_unique_values\": 10000,\n        \"samples\": [\n          0.37733040382159355,\n          0.37937072798379545,\n          0.40443520721549403\n        ],\n        \"semantic_type\": \"\",\n        \"description\": \"\"\n      }\n    },\n    {\n      \"column\": \"NPR2\",\n      \"properties\": {\n        \"dtype\": \"number\",\n        \"std\": 0.021688257648561585,\n        \"min\": 0.6965023791244437,\n        \"max\": 0.8616724271501488,\n        \"num_unique_values\": 10000,\n        \"samples\": [\n          0.7703010405813631,\n          0.7699227043626151,\n          0.7616257742469413\n        ],\n        \"semantic_type\": \"\",\n        \"description\": \"\"\n      }\n    },\n    {\n      \"column\": \"RadiusOfGyration\",\n      \"properties\": {\n        \"dtype\": \"number\",\n        \"std\": 0.023725154726091775,\n        \"min\": 2.8976562641210575,\n        \"max\": 3.168206141493954,\n        \"num_unique_values\": 10000,\n        \"samples\": [\n          3.050024686785338,\n          3.0554635785752713,\n          3.069387108202548\n        ],\n        \"semantic_type\": \"\",\n        \"description\": \"\"\n      }\n    },\n    {\n      \"column\": \"InertialShapeFactor\",\n      \"properties\": {\n        \"dtype\": \"number\",\n        \"std\": 5.873708408010746e-05,\n        \"min\": 0.0007597821355706759,\n        \"max\": 0.001429012373009298,\n        \"num_unique_values\": 10000,\n        \"samples\": [\n          0.0009809628732717016,\n          0.0009724911093725578,\n          0.0009011993484068547\n        ],\n        \"semantic_type\": \"\",\n        \"description\": \"\"\n      }\n    },\n    {\n      \"column\": \"Eccentricity\",\n      \"properties\": {\n        \"dtype\": \"number\",\n        \"std\": 0.007769995681821482,\n        \"min\": 0.8618808060758844,\n        \"max\": 0.9615791149448651,\n        \"num_unique_values\": 10000,\n        \"samples\": [\n          0.9260787041887062,\n          0.925244751808431,\n          0.9145666532104483\n        ],\n        \"semantic_type\": \"\",\n        \"description\": \"\"\n      }\n    },\n    {\n      \"column\": \"Asphericity\",\n      \"properties\": {\n        \"dtype\": \"number\",\n        \"std\": 0.017029845017568615,\n        \"min\": 0.1512588580257764,\n        \"max\": 0.39014425117663226,\n        \"num_unique_values\": 10000,\n        \"samples\": [\n          0.25796339084274117,\n          0.25572115041738097,\n          0.22980624786477347\n        ],\n        \"semantic_type\": \"\",\n        \"description\": \"\"\n      }\n    },\n    {\n      \"column\": \"SpherocityIndex\",\n      \"properties\": {\n        \"dtype\": \"number\",\n        \"std\": 0.022033267124770144,\n        \"min\": 0.1344982904790049,\n        \"max\": 0.3144399467505015,\n        \"num_unique_values\": 10000,\n        \"samples\": [\n          0.20622455233793424,\n          0.20838490003213497,\n          0.22999488410107183\n        ],\n        \"semantic_type\": \"\",\n        \"description\": \"\"\n      }\n    },\n    {\n      \"column\": \"PBF\",\n      \"properties\": {\n        \"dtype\": \"number\",\n        \"std\": 0.032004561429132855,\n        \"min\": 0.5063248595431068,\n        \"max\": 0.7369027064635558,\n        \"num_unique_values\": 10000,\n        \"samples\": [\n          0.6559701245199551,\n          0.6620538752899191,\n          0.6498990893395484\n        ],\n        \"semantic_type\": \"\",\n        \"description\": \"\"\n      }\n    }\n  ]\n}"
            }
          },
          "metadata": {},
          "execution_count": 55
        }
      ]
    },
    {
      "cell_type": "markdown",
      "metadata": {
        "id": "sXqec8TSifJf"
      },
      "source": [
        "## Grab labels"
      ]
    },
    {
      "cell_type": "code",
      "execution_count": null,
      "metadata": {
        "id": "wopmy6F1ifJf",
        "outputId": "c7e7d3dd-2524-4298-ca5a-c1213a157522",
        "colab": {
          "base_uri": "https://localhost:8080/",
          "height": 256
        }
      },
      "outputs": [
        {
          "output_type": "execute_result",
          "data": {
            "text/plain": [
              "         PMI1         PMI2         PMI3      NPR1      NPR2  RadiusOfGyration  \\\n",
              "0  858.038436  1583.425000  2184.329171  0.392816  0.724902          3.102941   \n",
              "1  849.158235  1572.291482  2074.488795  0.409334  0.757918          3.059078   \n",
              "2  790.542596  1615.008980  2102.130286  0.376067  0.768273          3.063071   \n",
              "3  882.532834  1438.458730  2037.900117  0.433060  0.705853          3.012094   \n",
              "4  776.232018  1621.679340  2083.545226  0.372553  0.778327          3.054148   \n",
              "\n",
              "   InertialShapeFactor  Eccentricity  Asphericity  SpherocityIndex  ...  \\\n",
              "0             0.000845      0.919617     0.247343         0.166761  ...   \n",
              "1             0.000893      0.912385     0.225252         0.231516  ...   \n",
              "2             0.000972      0.926592     0.259586         0.201936  ...   \n",
              "3             0.000800      0.901365     0.210870         0.194837  ...   \n",
              "4             0.001003      0.928011     0.262621         0.210445  ...   \n",
              "\n",
              "   blosum62_6151  blosum62_6152  blosum62_6153  blosum62_6154  blosum62_6155  \\\n",
              "0           -1.0           -1.0           -1.0           -2.0           -1.0   \n",
              "1           -1.0           -1.0           -1.0           -2.0           -1.0   \n",
              "2           -1.0           -1.0           -1.0           -2.0           -1.0   \n",
              "3           -1.0           -1.0           -1.0           -2.0           -1.0   \n",
              "4           -1.0           -1.0           -1.0           -2.0           -1.0   \n",
              "\n",
              "   blosum62_6156  blosum62_6157  blosum62_6158  blosum62_6159  blosum62_6160  \n",
              "0            1.0            0.0           -3.0           -2.0            0.0  \n",
              "1            1.0            0.0           -3.0           -2.0            0.0  \n",
              "2            1.0            0.0           -3.0           -2.0            0.0  \n",
              "3            1.0            0.0           -3.0           -2.0            0.0  \n",
              "4            1.0            0.0           -3.0           -2.0            0.0  \n",
              "\n",
              "[5 rows x 6211 columns]"
            ],
            "text/html": [
              "\n",
              "  <div id=\"df-b5a6d7d3-f292-4784-bde2-d041b9ecdaa6\" class=\"colab-df-container\">\n",
              "    <div>\n",
              "<style scoped>\n",
              "    .dataframe tbody tr th:only-of-type {\n",
              "        vertical-align: middle;\n",
              "    }\n",
              "\n",
              "    .dataframe tbody tr th {\n",
              "        vertical-align: top;\n",
              "    }\n",
              "\n",
              "    .dataframe thead th {\n",
              "        text-align: right;\n",
              "    }\n",
              "</style>\n",
              "<table border=\"1\" class=\"dataframe\">\n",
              "  <thead>\n",
              "    <tr style=\"text-align: right;\">\n",
              "      <th></th>\n",
              "      <th>PMI1</th>\n",
              "      <th>PMI2</th>\n",
              "      <th>PMI3</th>\n",
              "      <th>NPR1</th>\n",
              "      <th>NPR2</th>\n",
              "      <th>RadiusOfGyration</th>\n",
              "      <th>InertialShapeFactor</th>\n",
              "      <th>Eccentricity</th>\n",
              "      <th>Asphericity</th>\n",
              "      <th>SpherocityIndex</th>\n",
              "      <th>...</th>\n",
              "      <th>blosum62_6151</th>\n",
              "      <th>blosum62_6152</th>\n",
              "      <th>blosum62_6153</th>\n",
              "      <th>blosum62_6154</th>\n",
              "      <th>blosum62_6155</th>\n",
              "      <th>blosum62_6156</th>\n",
              "      <th>blosum62_6157</th>\n",
              "      <th>blosum62_6158</th>\n",
              "      <th>blosum62_6159</th>\n",
              "      <th>blosum62_6160</th>\n",
              "    </tr>\n",
              "  </thead>\n",
              "  <tbody>\n",
              "    <tr>\n",
              "      <th>0</th>\n",
              "      <td>858.038436</td>\n",
              "      <td>1583.425000</td>\n",
              "      <td>2184.329171</td>\n",
              "      <td>0.392816</td>\n",
              "      <td>0.724902</td>\n",
              "      <td>3.102941</td>\n",
              "      <td>0.000845</td>\n",
              "      <td>0.919617</td>\n",
              "      <td>0.247343</td>\n",
              "      <td>0.166761</td>\n",
              "      <td>...</td>\n",
              "      <td>-1.0</td>\n",
              "      <td>-1.0</td>\n",
              "      <td>-1.0</td>\n",
              "      <td>-2.0</td>\n",
              "      <td>-1.0</td>\n",
              "      <td>1.0</td>\n",
              "      <td>0.0</td>\n",
              "      <td>-3.0</td>\n",
              "      <td>-2.0</td>\n",
              "      <td>0.0</td>\n",
              "    </tr>\n",
              "    <tr>\n",
              "      <th>1</th>\n",
              "      <td>849.158235</td>\n",
              "      <td>1572.291482</td>\n",
              "      <td>2074.488795</td>\n",
              "      <td>0.409334</td>\n",
              "      <td>0.757918</td>\n",
              "      <td>3.059078</td>\n",
              "      <td>0.000893</td>\n",
              "      <td>0.912385</td>\n",
              "      <td>0.225252</td>\n",
              "      <td>0.231516</td>\n",
              "      <td>...</td>\n",
              "      <td>-1.0</td>\n",
              "      <td>-1.0</td>\n",
              "      <td>-1.0</td>\n",
              "      <td>-2.0</td>\n",
              "      <td>-1.0</td>\n",
              "      <td>1.0</td>\n",
              "      <td>0.0</td>\n",
              "      <td>-3.0</td>\n",
              "      <td>-2.0</td>\n",
              "      <td>0.0</td>\n",
              "    </tr>\n",
              "    <tr>\n",
              "      <th>2</th>\n",
              "      <td>790.542596</td>\n",
              "      <td>1615.008980</td>\n",
              "      <td>2102.130286</td>\n",
              "      <td>0.376067</td>\n",
              "      <td>0.768273</td>\n",
              "      <td>3.063071</td>\n",
              "      <td>0.000972</td>\n",
              "      <td>0.926592</td>\n",
              "      <td>0.259586</td>\n",
              "      <td>0.201936</td>\n",
              "      <td>...</td>\n",
              "      <td>-1.0</td>\n",
              "      <td>-1.0</td>\n",
              "      <td>-1.0</td>\n",
              "      <td>-2.0</td>\n",
              "      <td>-1.0</td>\n",
              "      <td>1.0</td>\n",
              "      <td>0.0</td>\n",
              "      <td>-3.0</td>\n",
              "      <td>-2.0</td>\n",
              "      <td>0.0</td>\n",
              "    </tr>\n",
              "    <tr>\n",
              "      <th>3</th>\n",
              "      <td>882.532834</td>\n",
              "      <td>1438.458730</td>\n",
              "      <td>2037.900117</td>\n",
              "      <td>0.433060</td>\n",
              "      <td>0.705853</td>\n",
              "      <td>3.012094</td>\n",
              "      <td>0.000800</td>\n",
              "      <td>0.901365</td>\n",
              "      <td>0.210870</td>\n",
              "      <td>0.194837</td>\n",
              "      <td>...</td>\n",
              "      <td>-1.0</td>\n",
              "      <td>-1.0</td>\n",
              "      <td>-1.0</td>\n",
              "      <td>-2.0</td>\n",
              "      <td>-1.0</td>\n",
              "      <td>1.0</td>\n",
              "      <td>0.0</td>\n",
              "      <td>-3.0</td>\n",
              "      <td>-2.0</td>\n",
              "      <td>0.0</td>\n",
              "    </tr>\n",
              "    <tr>\n",
              "      <th>4</th>\n",
              "      <td>776.232018</td>\n",
              "      <td>1621.679340</td>\n",
              "      <td>2083.545226</td>\n",
              "      <td>0.372553</td>\n",
              "      <td>0.778327</td>\n",
              "      <td>3.054148</td>\n",
              "      <td>0.001003</td>\n",
              "      <td>0.928011</td>\n",
              "      <td>0.262621</td>\n",
              "      <td>0.210445</td>\n",
              "      <td>...</td>\n",
              "      <td>-1.0</td>\n",
              "      <td>-1.0</td>\n",
              "      <td>-1.0</td>\n",
              "      <td>-2.0</td>\n",
              "      <td>-1.0</td>\n",
              "      <td>1.0</td>\n",
              "      <td>0.0</td>\n",
              "      <td>-3.0</td>\n",
              "      <td>-2.0</td>\n",
              "      <td>0.0</td>\n",
              "    </tr>\n",
              "  </tbody>\n",
              "</table>\n",
              "<p>5 rows × 6211 columns</p>\n",
              "</div>\n",
              "    <div class=\"colab-df-buttons\">\n",
              "\n",
              "  <div class=\"colab-df-container\">\n",
              "    <button class=\"colab-df-convert\" onclick=\"convertToInteractive('df-b5a6d7d3-f292-4784-bde2-d041b9ecdaa6')\"\n",
              "            title=\"Convert this dataframe to an interactive table.\"\n",
              "            style=\"display:none;\">\n",
              "\n",
              "  <svg xmlns=\"http://www.w3.org/2000/svg\" height=\"24px\" viewBox=\"0 -960 960 960\">\n",
              "    <path d=\"M120-120v-720h720v720H120Zm60-500h600v-160H180v160Zm220 220h160v-160H400v160Zm0 220h160v-160H400v160ZM180-400h160v-160H180v160Zm440 0h160v-160H620v160ZM180-180h160v-160H180v160Zm440 0h160v-160H620v160Z\"/>\n",
              "  </svg>\n",
              "    </button>\n",
              "\n",
              "  <style>\n",
              "    .colab-df-container {\n",
              "      display:flex;\n",
              "      gap: 12px;\n",
              "    }\n",
              "\n",
              "    .colab-df-convert {\n",
              "      background-color: #E8F0FE;\n",
              "      border: none;\n",
              "      border-radius: 50%;\n",
              "      cursor: pointer;\n",
              "      display: none;\n",
              "      fill: #1967D2;\n",
              "      height: 32px;\n",
              "      padding: 0 0 0 0;\n",
              "      width: 32px;\n",
              "    }\n",
              "\n",
              "    .colab-df-convert:hover {\n",
              "      background-color: #E2EBFA;\n",
              "      box-shadow: 0px 1px 2px rgba(60, 64, 67, 0.3), 0px 1px 3px 1px rgba(60, 64, 67, 0.15);\n",
              "      fill: #174EA6;\n",
              "    }\n",
              "\n",
              "    .colab-df-buttons div {\n",
              "      margin-bottom: 4px;\n",
              "    }\n",
              "\n",
              "    [theme=dark] .colab-df-convert {\n",
              "      background-color: #3B4455;\n",
              "      fill: #D2E3FC;\n",
              "    }\n",
              "\n",
              "    [theme=dark] .colab-df-convert:hover {\n",
              "      background-color: #434B5C;\n",
              "      box-shadow: 0px 1px 3px 1px rgba(0, 0, 0, 0.15);\n",
              "      filter: drop-shadow(0px 1px 2px rgba(0, 0, 0, 0.3));\n",
              "      fill: #FFFFFF;\n",
              "    }\n",
              "  </style>\n",
              "\n",
              "    <script>\n",
              "      const buttonEl =\n",
              "        document.querySelector('#df-b5a6d7d3-f292-4784-bde2-d041b9ecdaa6 button.colab-df-convert');\n",
              "      buttonEl.style.display =\n",
              "        google.colab.kernel.accessAllowed ? 'block' : 'none';\n",
              "\n",
              "      async function convertToInteractive(key) {\n",
              "        const element = document.querySelector('#df-b5a6d7d3-f292-4784-bde2-d041b9ecdaa6');\n",
              "        const dataTable =\n",
              "          await google.colab.kernel.invokeFunction('convertToInteractive',\n",
              "                                                    [key], {});\n",
              "        if (!dataTable) return;\n",
              "\n",
              "        const docLinkHtml = 'Like what you see? Visit the ' +\n",
              "          '<a target=\"_blank\" href=https://colab.research.google.com/notebooks/data_table.ipynb>data table notebook</a>'\n",
              "          + ' to learn more about interactive tables.';\n",
              "        element.innerHTML = '';\n",
              "        dataTable['output_type'] = 'display_data';\n",
              "        await google.colab.output.renderOutput(dataTable, element);\n",
              "        const docLink = document.createElement('div');\n",
              "        docLink.innerHTML = docLinkHtml;\n",
              "        element.appendChild(docLink);\n",
              "      }\n",
              "    </script>\n",
              "  </div>\n",
              "\n",
              "\n",
              "<div id=\"df-6e4f0a41-e724-47fc-a84c-f9317af12134\">\n",
              "  <button class=\"colab-df-quickchart\" onclick=\"quickchart('df-6e4f0a41-e724-47fc-a84c-f9317af12134')\"\n",
              "            title=\"Suggest charts\"\n",
              "            style=\"display:none;\">\n",
              "\n",
              "<svg xmlns=\"http://www.w3.org/2000/svg\" height=\"24px\"viewBox=\"0 0 24 24\"\n",
              "     width=\"24px\">\n",
              "    <g>\n",
              "        <path d=\"M19 3H5c-1.1 0-2 .9-2 2v14c0 1.1.9 2 2 2h14c1.1 0 2-.9 2-2V5c0-1.1-.9-2-2-2zM9 17H7v-7h2v7zm4 0h-2V7h2v10zm4 0h-2v-4h2v4z\"/>\n",
              "    </g>\n",
              "</svg>\n",
              "  </button>\n",
              "\n",
              "<style>\n",
              "  .colab-df-quickchart {\n",
              "      --bg-color: #E8F0FE;\n",
              "      --fill-color: #1967D2;\n",
              "      --hover-bg-color: #E2EBFA;\n",
              "      --hover-fill-color: #174EA6;\n",
              "      --disabled-fill-color: #AAA;\n",
              "      --disabled-bg-color: #DDD;\n",
              "  }\n",
              "\n",
              "  [theme=dark] .colab-df-quickchart {\n",
              "      --bg-color: #3B4455;\n",
              "      --fill-color: #D2E3FC;\n",
              "      --hover-bg-color: #434B5C;\n",
              "      --hover-fill-color: #FFFFFF;\n",
              "      --disabled-bg-color: #3B4455;\n",
              "      --disabled-fill-color: #666;\n",
              "  }\n",
              "\n",
              "  .colab-df-quickchart {\n",
              "    background-color: var(--bg-color);\n",
              "    border: none;\n",
              "    border-radius: 50%;\n",
              "    cursor: pointer;\n",
              "    display: none;\n",
              "    fill: var(--fill-color);\n",
              "    height: 32px;\n",
              "    padding: 0;\n",
              "    width: 32px;\n",
              "  }\n",
              "\n",
              "  .colab-df-quickchart:hover {\n",
              "    background-color: var(--hover-bg-color);\n",
              "    box-shadow: 0 1px 2px rgba(60, 64, 67, 0.3), 0 1px 3px 1px rgba(60, 64, 67, 0.15);\n",
              "    fill: var(--button-hover-fill-color);\n",
              "  }\n",
              "\n",
              "  .colab-df-quickchart-complete:disabled,\n",
              "  .colab-df-quickchart-complete:disabled:hover {\n",
              "    background-color: var(--disabled-bg-color);\n",
              "    fill: var(--disabled-fill-color);\n",
              "    box-shadow: none;\n",
              "  }\n",
              "\n",
              "  .colab-df-spinner {\n",
              "    border: 2px solid var(--fill-color);\n",
              "    border-color: transparent;\n",
              "    border-bottom-color: var(--fill-color);\n",
              "    animation:\n",
              "      spin 1s steps(1) infinite;\n",
              "  }\n",
              "\n",
              "  @keyframes spin {\n",
              "    0% {\n",
              "      border-color: transparent;\n",
              "      border-bottom-color: var(--fill-color);\n",
              "      border-left-color: var(--fill-color);\n",
              "    }\n",
              "    20% {\n",
              "      border-color: transparent;\n",
              "      border-left-color: var(--fill-color);\n",
              "      border-top-color: var(--fill-color);\n",
              "    }\n",
              "    30% {\n",
              "      border-color: transparent;\n",
              "      border-left-color: var(--fill-color);\n",
              "      border-top-color: var(--fill-color);\n",
              "      border-right-color: var(--fill-color);\n",
              "    }\n",
              "    40% {\n",
              "      border-color: transparent;\n",
              "      border-right-color: var(--fill-color);\n",
              "      border-top-color: var(--fill-color);\n",
              "    }\n",
              "    60% {\n",
              "      border-color: transparent;\n",
              "      border-right-color: var(--fill-color);\n",
              "    }\n",
              "    80% {\n",
              "      border-color: transparent;\n",
              "      border-right-color: var(--fill-color);\n",
              "      border-bottom-color: var(--fill-color);\n",
              "    }\n",
              "    90% {\n",
              "      border-color: transparent;\n",
              "      border-bottom-color: var(--fill-color);\n",
              "    }\n",
              "  }\n",
              "</style>\n",
              "\n",
              "  <script>\n",
              "    async function quickchart(key) {\n",
              "      const quickchartButtonEl =\n",
              "        document.querySelector('#' + key + ' button');\n",
              "      quickchartButtonEl.disabled = true;  // To prevent multiple clicks.\n",
              "      quickchartButtonEl.classList.add('colab-df-spinner');\n",
              "      try {\n",
              "        const charts = await google.colab.kernel.invokeFunction(\n",
              "            'suggestCharts', [key], {});\n",
              "      } catch (error) {\n",
              "        console.error('Error during call to suggestCharts:', error);\n",
              "      }\n",
              "      quickchartButtonEl.classList.remove('colab-df-spinner');\n",
              "      quickchartButtonEl.classList.add('colab-df-quickchart-complete');\n",
              "    }\n",
              "    (() => {\n",
              "      let quickchartButtonEl =\n",
              "        document.querySelector('#df-6e4f0a41-e724-47fc-a84c-f9317af12134 button');\n",
              "      quickchartButtonEl.style.display =\n",
              "        google.colab.kernel.accessAllowed ? 'block' : 'none';\n",
              "    })();\n",
              "  </script>\n",
              "</div>\n",
              "\n",
              "    </div>\n",
              "  </div>\n"
            ],
            "application/vnd.google.colaboratory.intrinsic+json": {
              "type": "dataframe",
              "variable_name": "data_for_ML"
            }
          },
          "metadata": {},
          "execution_count": 56
        }
      ],
      "source": [
        "import numpy as np\n",
        "\n",
        "# Repeat the protein features on labelled ligands\n",
        "protein_features_df = pd.DataFrame(\n",
        "    np.repeat([protein_features], spatial_descriptors_df.shape[0], axis = 0),\n",
        "    columns = protein_features_names\n",
        ").reset_index(drop = True)\n",
        "data_for_ML = pd.concat(\n",
        "    [spatial_descriptors_df,\n",
        "     protein_features_df],\n",
        "    axis = 1\n",
        ")\n",
        "#data_for_ML.to_csv(MAIN_FOLDER + \"data_for_ML.csv\", index = False)\n",
        "data_for_ML.head(5)"
      ]
    },
    {
      "cell_type": "markdown",
      "metadata": {
        "id": "r06J6NRFifJf"
      },
      "source": [
        "## ML"
      ]
    },
    {
      "cell_type": "code",
      "source": [
        "from sklearn.model_selection import train_test_split\n",
        "from sklearn.metrics import mean_squared_error, r2_score, median_absolute_error\n",
        "from scipy.stats import pearsonr, spearmanr\n",
        "from sklearn.ensemble import ExtraTreesRegressor\n",
        "from sklearn.preprocessing import StandardScaler\n",
        "import random\n",
        "\n",
        "random.seed(42)\n",
        "np.random.seed(42)"
      ],
      "metadata": {
        "id": "IuyHvq5NGV6h"
      },
      "execution_count": null,
      "outputs": []
    },
    {
      "cell_type": "code",
      "execution_count": null,
      "metadata": {
        "id": "Dv5ARaS_ifJg"
      },
      "outputs": [],
      "source": [
        "features_names = protein_features_names + ligand_features_names"
      ]
    },
    {
      "cell_type": "code",
      "execution_count": null,
      "metadata": {
        "id": "rXooWZRfifJg",
        "outputId": "269efbc1-ec66-4c3a-8d07-c88338d6c5cc",
        "colab": {
          "base_uri": "https://localhost:8080/"
        }
      },
      "outputs": [
        {
          "output_type": "stream",
          "name": "stdout",
          "text": [
            "Before dropping features with variance 0: 6211 features\n"
          ]
        }
      ],
      "source": [
        "# Drop features with variance 0\n",
        "print(f\"Before dropping features with variance 0: {data_for_ML[features_names].shape[1]} features\")\n",
        "# Write a row with the variance of each feature\n",
        "variance = data_for_ML[features_names].var()\n",
        "# Drop features with variance 0\n",
        "features_to_drop = variance[variance == 0].index.tolist()"
      ]
    },
    {
      "cell_type": "code",
      "source": [
        "labels = loaded_ligands.reset_index(drop = True)[\"energy\"]\n",
        "# data_for_ML = data_for_ML.drop(columns = features_to_drop)\n",
        "features_names = data_for_ML.columns.tolist()"
      ],
      "metadata": {
        "id": "IYculhqYsAJW"
      },
      "execution_count": null,
      "outputs": []
    },
    {
      "cell_type": "code",
      "execution_count": null,
      "metadata": {
        "id": "YYG5lsRGifJg",
        "outputId": "d452347b-3597-4cfd-e3f4-fc11842239fb",
        "colab": {
          "base_uri": "https://localhost:8080/"
        }
      },
      "outputs": [
        {
          "output_type": "stream",
          "name": "stdout",
          "text": [
            "Mean Squared Error: 1.2994492197914325\n",
            "R-squared: 0.9950488293205808\n",
            "Median Absolute Error: 0.2439351239999965\n",
            "Pearson Correlation: 0.9975214265962451\n",
            "Spearman Correlation: 0.9701498035374507\n"
          ]
        }
      ],
      "source": [
        "# Split the data into training and testing sets\n",
        "train_data, test_data, train_labels, test_labels = train_test_split(\n",
        "    data_for_ML[features_names].fillna(0),\n",
        "    labels,\n",
        "    test_size=0.2,\n",
        "    random_state=42\n",
        ")\n",
        "\n",
        "# Standardize the features\n",
        "scaler = StandardScaler()\n",
        "train_data = scaler.fit_transform(train_data)\n",
        "test_data = scaler.transform(test_data)\n",
        "\n",
        "# Initialize the model\n",
        "model = ExtraTreesRegressor(n_estimators=100, random_state=42)\n",
        "#model = MLPRegressor(hidden_layer_sizes=(100, 100), max_iter=1000, random_state=42, verbose = True)\n",
        "\n",
        "# Train the model\n",
        "model.fit(train_data, train_labels)\n",
        "\n",
        "# Make predictions on the test set\n",
        "test_predictions = model.predict(test_data)\n",
        "\n",
        "# Calculate evaluation metrics\n",
        "mse = mean_squared_error(test_labels, test_predictions)\n",
        "r2 = r2_score(test_labels, test_predictions)\n",
        "mae = median_absolute_error(test_labels, test_predictions)\n",
        "pearson = pearsonr(test_labels, test_predictions)\n",
        "spearman = spearmanr(test_labels, test_predictions)\n",
        "\n",
        "# Print the evaluation metrics\n",
        "print(f\"Mean Squared Error: {mse}\")\n",
        "print(f\"R-squared: {r2}\")\n",
        "print(f\"Median Absolute Error: {mae}\")\n",
        "print(f\"Pearson Correlation: {pearson[0]}\")\n",
        "print(f\"Spearman Correlation: {spearman[0]}\")"
      ]
    },
    {
      "cell_type": "markdown",
      "metadata": {
        "id": "fFyKAjhhifJh"
      },
      "source": [
        "## Protein data digestion"
      ]
    },
    {
      "cell_type": "code",
      "execution_count": null,
      "metadata": {
        "id": "YmfBvH6UifJh"
      },
      "outputs": [],
      "source": [
        "pdb_file.df[\"ATOM\"]\n",
        "# make a df with the x, y and z coordinates as well as the one hot encoded atom name and residue name\n",
        "protein_coordinates_df = pdb_file.df[\"ATOM\"][[\"x_coord\", \"y_coord\", \"z_coord\", \"atom_name\", \"residue_name\"]]\n",
        "protein_coordinates_df = pd.get_dummies(protein_coordinates_df, columns = [\"atom_name\", \"residue_name\"]).astype(float)\n",
        "#protein_coordinates_df.to_csv(MAIN_FOLDER + \"protein_coordinates_df.csv\", index = False)"
      ]
    },
    {
      "cell_type": "code",
      "source": [
        "# Create list to store coordinates for each protein-ligand pair\n",
        "protein_coordinates_list = []\n",
        "ligand_coordinates_list = []\n",
        "energies = []\n",
        "\n",
        "# Process each ligand\n",
        "for idx, row in tqdm(loaded_ligands.iterrows(), total=len(loaded_ligands), desc=\"Processing pairs\"):\n",
        "    file_name = row[\"ligand\"]\n",
        "    file_path = \"/content/ligands/\" + file_name\n",
        "\n",
        "    #try:\n",
        "    # Read ligand PDB file\n",
        "    ligand_pdb = PandasPdb().read_pdb(file_path)\n",
        "    ligand_df = ligand_pdb.df['ATOM'][['x_coord', 'y_coord', 'z_coord', 'atom_name', 'element_symbol']]\n",
        "    atom_types = pd.get_dummies(ligand_df['element_symbol'])\n",
        "    ligand_features = pd.concat([\n",
        "        ligand_df[['x_coord', 'y_coord', 'z_coord']],\n",
        "        atom_types\n",
        "    ], axis=1).astype(float)\n",
        "\n",
        "    # Store the protein-ligand pair and corresponding energy\n",
        "    protein_coordinates_list.append(protein_coordinates_df)\n",
        "    ligand_coordinates_list.append(ligand_features)\n",
        "    energies.append(row['energy'])\n",
        "\n",
        "# Convert energies to numpy array\n",
        "energies = np.array(energies)\n",
        "\n",
        "print(f\"\\nProcessed {len(ligand_coordinates_list)} protein-ligand pairs\")\n",
        "# Pick N random numbers\n",
        "N = 150\n",
        "random_indices = np.random.choice(len(protein_coordinates_list), size=N, replace=False)\n",
        "protein_coordinates_list = [protein_coordinates_list[i] for i in random_indices]\n",
        "ligand_coordinates_list = [ligand_coordinates_list[i] for i in random_indices]\n",
        "energies = [energies[i] for i in random_indices]\n",
        "\n",
        "# Split the data\n",
        "X_train_protein, X_test_protein, X_train_ligand, X_test_ligand, y_train, y_test = train_test_split(\n",
        "    protein_coordinates_list[0:N],\n",
        "    ligand_coordinates_list[0:N],\n",
        "    energies[0:N],\n",
        "    test_size=0.4,\n",
        "    random_state=42\n",
        ")\n",
        "# split the test set into validation and test\n",
        "X_test_protein, X_val_protein, X_test_ligand, X_val_ligand, y_test, y_val = train_test_split(\n",
        "    X_test_protein,\n",
        "    X_test_ligand,\n",
        "    y_test,\n",
        "    test_size=0.5,\n",
        "    random_state=42)"
      ],
      "metadata": {
        "colab": {
          "base_uri": "https://localhost:8080/"
        },
        "id": "iTzaEOHByyD2",
        "outputId": "ccbc3ccb-333f-4896-adea-d75c5f61ebbe"
      },
      "execution_count": null,
      "outputs": [
        {
          "output_type": "stream",
          "name": "stderr",
          "text": [
            "Processing pairs: 100%|██████████| 10000/10000 [03:30<00:00, 47.56it/s]"
          ]
        },
        {
          "output_type": "stream",
          "name": "stdout",
          "text": [
            "\n",
            "Processed 10000 protein-ligand pairs\n"
          ]
        },
        {
          "output_type": "stream",
          "name": "stderr",
          "text": [
            "\n"
          ]
        }
      ]
    },
    {
      "cell_type": "code",
      "source": [
        "from torch.utils.data import Dataset, DataLoader\n",
        "import torch\n",
        "from torch import nn"
      ],
      "metadata": {
        "id": "oUY3nrBey05C"
      },
      "execution_count": null,
      "outputs": []
    },
    {
      "cell_type": "code",
      "source": [
        "class ProteinLigandDataset(Dataset):\n",
        "    def __init__(self, protein_coordinates_list, ligand_coordinates_list, labels):\n",
        "        \"\"\"\n",
        "        :param protein_coordinates_list: List of DataFrames containing protein coordinates\n",
        "        :param ligand_coordinates_list: List of DataFrames containing ligand coordinates\n",
        "        :param labels: Binding energy values\n",
        "        \"\"\"\n",
        "        # Identify the maximum number of atoms in the protein and ligand, this will be needed for padding\n",
        "        max_protein_atoms = max(df.shape[0] for df in protein_coordinates_list)\n",
        "        protein_features = protein_coordinates_list[0].shape[1]\n",
        "\n",
        "        # Reshape protein data to [batch, height, width]\n",
        "        # We'll treat each atom as a \"pixel\" and features as width\n",
        "        self.protein_features = torch.zeros((len(protein_coordinates_list), max_protein_atoms, protein_features))\n",
        "\n",
        "        # Fill in protein data\n",
        "        for i, protein_df in enumerate(protein_coordinates_list):\n",
        "            n_atoms = protein_df.shape[0]\n",
        "            protein_data = torch.FloatTensor(protein_df.values)\n",
        "            self.protein_features[i, :n_atoms, :] = protein_data\n",
        "\n",
        "        # Process ligand coordinates\n",
        "        max_ligand_atoms = max(df.shape[0] for df in ligand_coordinates_list)\n",
        "        ligand_features = ligand_coordinates_list[0].shape[1]\n",
        "\n",
        "        # Reshape ligand data similarly\n",
        "        self.ligand_features = torch.zeros((len(ligand_coordinates_list), max_ligand_atoms, ligand_features))\n",
        "\n",
        "        # Fill in ligand data\n",
        "        for i, ligand_df in enumerate(ligand_coordinates_list):\n",
        "            n_atoms = ligand_df.shape[0]\n",
        "            ligand_data = torch.FloatTensor(ligand_df.values)\n",
        "            self.ligand_features[i, :n_atoms, :] = ligand_data\n",
        "\n",
        "        self.labels = torch.FloatTensor(labels)\n",
        "\n",
        "        # Store dimensions for reference\n",
        "        self.max_protein_atoms = max_protein_atoms\n",
        "        self.max_ligand_atoms = max_ligand_atoms\n",
        "        self.protein_features_dim = protein_features\n",
        "        self.ligand_features_dim = ligand_features\n",
        "\n",
        "    def __len__(self):\n",
        "        return len(self.labels)\n",
        "\n",
        "    def __getitem__(self, idx):\n",
        "        # Add channel dimension for CNN\n",
        "        protein = self.protein_features[idx].unsqueeze(0)  # [1, H, W]\n",
        "        ligand = self.ligand_features[idx].unsqueeze(0)    # [1, H, W]\n",
        "        return protein, ligand, self.labels[idx]\n"
      ],
      "metadata": {
        "id": "YxsYmU2Oy2yR"
      },
      "execution_count": null,
      "outputs": []
    },
    {
      "cell_type": "code",
      "source": [
        "class MultimodalNet(nn.Module):\n",
        "    def __init__(self, protein_input_shape, ligand_input_shape):\n",
        "        super(MultimodalNet, self).__init__()\n",
        "\n",
        "        # Protein feature processing branch\n",
        "        self.protein_network = nn.Sequential(\n",
        "            # First conv block with smaller kernel and no pooling\n",
        "            nn.Conv2d(1, 32, kernel_size=1, padding=0),\n",
        "            nn.ReLU(),\n",
        "            nn.BatchNorm2d(32),\n",
        "\n",
        "            # Second conv block\n",
        "            nn.Conv2d(32, 64, kernel_size=1, padding=0),\n",
        "            nn.ReLU(),\n",
        "            nn.BatchNorm2d(64),\n",
        "\n",
        "            # Global pooling and flatten\n",
        "            nn.AdaptiveAvgPool2d((1, 1)),\n",
        "            nn.Flatten()\n",
        "        )\n",
        "\n",
        "        # Ligand feature processing branch\n",
        "        self.ligand_network = nn.Sequential(\n",
        "            # First conv block with smaller kernel and no pooling\n",
        "            nn.Conv2d(1, 32, kernel_size=1, padding=0),\n",
        "            nn.ReLU(),\n",
        "            nn.BatchNorm2d(32),\n",
        "\n",
        "            # Second conv block\n",
        "            nn.Conv2d(32, 64, kernel_size=1, padding=0),\n",
        "            nn.ReLU(),\n",
        "            nn.BatchNorm2d(64),\n",
        "\n",
        "            # Global pooling and flatten\n",
        "            nn.AdaptiveAvgPool2d((1, 1)),\n",
        "            nn.Flatten()\n",
        "        )\n",
        "\n",
        "        # Combined network\n",
        "        self.combined_network = nn.Sequential(\n",
        "            nn.Linear(128, 64),  # 64 + 64 from both branches\n",
        "            nn.ReLU(),\n",
        "            nn.Dropout(0.3),\n",
        "            nn.Linear(64, 32),\n",
        "            nn.ReLU(),\n",
        "            nn.Dropout(0.3),\n",
        "            nn.Linear(32, 1)\n",
        "        )\n",
        "\n",
        "    def forward(self, protein_x, ligand_x):\n",
        "\n",
        "        protein_features = self.protein_network(protein_x)\n",
        "        ligand_features = self.ligand_network(ligand_x)\n",
        "        combined = torch.cat((protein_features, ligand_features), dim=1)\n",
        "        return self.combined_network(combined)"
      ],
      "metadata": {
        "id": "FRh1Kfiiy4h2"
      },
      "execution_count": null,
      "outputs": []
    },
    {
      "cell_type": "code",
      "source": [
        "# Create datasets with debug output\n",
        "print(\"Creating training dataset...\")\n",
        "train_dataset = ProteinLigandDataset(X_train_protein, X_train_ligand, y_train)\n",
        "print(\"\\nCreating test dataset...\")\n",
        "test_dataset = ProteinLigandDataset(X_test_protein, X_test_ligand, y_test)\n",
        "print(\"\\nCreating validation dataset...\")\n",
        "val_dataset = ProteinLigandDataset(X_val_protein, X_val_ligand, y_val)\n",
        "# Create dataloaders with smaller batch size\n",
        "batch_size = 5\n",
        "train_loader = DataLoader(train_dataset, batch_size=batch_size, shuffle=True)\n",
        "test_loader = DataLoader(test_dataset, batch_size=batch_size, shuffle=False)\n",
        "val_loader = DataLoader(val_dataset, batch_size=batch_size, shuffle=False)\n",
        "# Initialize model with debug output\n",
        "model = MultimodalNet(\n",
        "    protein_input_shape=(train_dataset.max_protein_atoms, train_dataset.protein_features_dim),\n",
        "    ligand_input_shape=(train_dataset.max_ligand_atoms, train_dataset.ligand_features_dim)\n",
        ")"
      ],
      "metadata": {
        "colab": {
          "base_uri": "https://localhost:8080/"
        },
        "id": "l2VTqmGey6GG",
        "outputId": "b568dc70-505f-4f2c-9fe7-a95acc1ebf7b"
      },
      "execution_count": null,
      "outputs": [
        {
          "output_type": "stream",
          "name": "stdout",
          "text": [
            "Creating training dataset...\n",
            "\n",
            "Creating test dataset...\n",
            "\n",
            "Creating validation dataset...\n"
          ]
        }
      ]
    },
    {
      "cell_type": "code",
      "source": [
        "# Initialize model, criterion, and optimizer\n",
        "device = torch.device(\"cuda\" if torch.cuda.is_available() else \"cpu\")\n",
        "model = model.to(device)\n",
        "criterion = nn.MSELoss()\n",
        "optimizer = torch.optim.Adam(model.parameters(), lr=0.01)\n",
        "\n",
        "# Add learning rate scheduler for better training\n",
        "scheduler = torch.optim.lr_scheduler.ReduceLROnPlateau(\n",
        "    optimizer, mode='min', factor=0.5, patience=3, verbose=True\n",
        ")\n",
        "\n",
        "print(f\"Training on device: {device}\")\n",
        "print(f\"Number of training batches: {len(train_loader)}\")\n",
        "print(f\"Number of test batches: {len(test_loader)}\")\n",
        "print(f\"Number of validation batches: {len(val_loader)}\")\n",
        "# Train the model\n",
        "num_epochs = 25\n",
        "best_val_loss = float('inf')\n",
        "early_stopping_patience = 3\n",
        "early_stopping_counter = 0"
      ],
      "metadata": {
        "colab": {
          "base_uri": "https://localhost:8080/"
        },
        "id": "teWevcP2y7k_",
        "outputId": "6817edd5-3cbb-420f-c0a3-641ff6a2a525"
      },
      "execution_count": null,
      "outputs": [
        {
          "output_type": "stream",
          "name": "stdout",
          "text": [
            "Training on device: cpu\n",
            "Number of training batches: 18\n",
            "Number of test batches: 6\n",
            "Number of validation batches: 6\n"
          ]
        }
      ]
    },
    {
      "cell_type": "code",
      "source": [
        "for epoch in range(num_epochs):\n",
        "    # Training phase\n",
        "    model.train()\n",
        "    train_loss = 0\n",
        "\n",
        "    print(f\"\\nEpoch {epoch+1}/{num_epochs}\")\n",
        "    print(\"Training phase:\")\n",
        "    for batch_idx, (protein_batch, ligand_batch, labels_batch) in enumerate(tqdm(train_loader)):\n",
        "        protein_batch = protein_batch.to(device)\n",
        "        ligand_batch = ligand_batch.to(device)\n",
        "        labels_batch = labels_batch.to(device)\n",
        "\n",
        "        optimizer.zero_grad()\n",
        "        outputs = model(protein_batch, ligand_batch)\n",
        "        loss = criterion(outputs.squeeze(), labels_batch)\n",
        "        # Report loss\n",
        "        print(f\"Loss: {loss.item():.4f}\")\n",
        "        loss.backward()\n",
        "        optimizer.step()\n",
        "\n",
        "        train_loss += loss.item()\n",
        "\n",
        "    avg_train_loss = train_loss / len(train_loader)\n",
        "\n",
        "    # Validation phase\n",
        "    model.eval()\n",
        "    val_loss = 0\n",
        "    predictions = []\n",
        "    actuals = []\n",
        "\n",
        "    print(\"Validation phase:\")\n",
        "    with torch.no_grad():\n",
        "        for protein_batch, ligand_batch, labels_batch in tqdm(val_loader):\n",
        "            protein_batch = protein_batch.to(device)\n",
        "            ligand_batch = ligand_batch.to(device)\n",
        "            labels_batch = labels_batch.to(device)\n",
        "\n",
        "            outputs = model(protein_batch, ligand_batch)\n",
        "            loss = criterion(outputs.squeeze(), labels_batch)\n",
        "            val_loss += loss.item()\n",
        "\n",
        "            predictions.extend(outputs.cpu().squeeze().numpy())\n",
        "            actuals.extend(labels_batch.cpu().numpy())\n",
        "\n",
        "    avg_val_loss = val_loss / len(val_loader)\n",
        "\n",
        "    # Calculate metrics\n",
        "    predictions = np.array(predictions)\n",
        "    actuals = np.array(actuals)\n",
        "    r2 = r2_score(actuals, predictions)\n",
        "    pearson = pearsonr(actuals, predictions)[0]\n",
        "\n",
        "    print(f'Epoch [{epoch+1}/{num_epochs}]')\n",
        "    print(f'Training Loss: {avg_train_loss:.4f}')\n",
        "    print(f'Validation Loss: {avg_val_loss:.4f}')\n",
        "    print(f'R2 Score: {r2:.4f}')\n",
        "    print(f'Pearson Correlation: {pearson:.4f}')\n",
        "\n",
        "    # Learning rate scheduling\n",
        "    scheduler.step(avg_val_loss)\n",
        "\n",
        "    # Early stopping\n",
        "    if avg_val_loss < best_val_loss:\n",
        "        best_val_loss = avg_val_loss\n",
        "        early_stopping_counter = 0\n",
        "        # Save best model\n",
        "        torch.save(model.state_dict(), 'best_model.pth')\n",
        "        print(\"New best model saved!\")\n",
        "    else:\n",
        "        early_stopping_counter += 1\n",
        "        print(f\"No improvement for {early_stopping_counter} epochs\")\n",
        "\n",
        "        if early_stopping_counter >= early_stopping_patience:\n",
        "            print(\"Early stopping triggered!\")\n",
        "            break\n",
        "\n",
        "# Load best model and evaluate\n",
        "model.load_state_dict(torch.load('best_model.pth'))\n",
        "model.eval()\n",
        "\n"
      ],
      "metadata": {
        "colab": {
          "base_uri": "https://localhost:8080/"
        },
        "id": "X1IBXyJay9CO",
        "outputId": "2580d75f-b065-4e6a-ad76-21d57642ecc5"
      },
      "execution_count": null,
      "outputs": [
        {
          "metadata": {
            "tags": null
          },
          "name": "stdout",
          "output_type": "stream",
          "text": [
            "\n",
            "Epoch 1/25\n",
            "Training phase:\n"
          ]
        },
        {
          "metadata": {
            "tags": null
          },
          "name": "stderr",
          "output_type": "stream",
          "text": [
            "\r  0%|          | 0/18 [00:00<?, ?it/s]"
          ]
        },
        {
          "metadata": {
            "tags": null
          },
          "name": "stdout",
          "output_type": "stream",
          "text": [
            "Loss: 727.4978\n"
          ]
        },
        {
          "metadata": {
            "tags": null
          },
          "name": "stderr",
          "output_type": "stream",
          "text": [
            "\r  6%|▌         | 1/18 [00:09<02:44,  9.66s/it]"
          ]
        },
        {
          "metadata": {
            "tags": null
          },
          "name": "stdout",
          "output_type": "stream",
          "text": [
            "Loss: 1059.3013\n"
          ]
        },
        {
          "metadata": {
            "tags": null
          },
          "name": "stderr",
          "output_type": "stream",
          "text": [
            "\r 11%|█         | 2/18 [00:17<02:16,  8.54s/it]"
          ]
        },
        {
          "metadata": {
            "tags": null
          },
          "name": "stdout",
          "output_type": "stream",
          "text": [
            "Loss: 1144.2349\n"
          ]
        },
        {
          "metadata": {
            "tags": null
          },
          "name": "stderr",
          "output_type": "stream",
          "text": [
            "\r 17%|█▋        | 3/18 [00:25<02:02,  8.16s/it]"
          ]
        },
        {
          "metadata": {
            "tags": null
          },
          "name": "stdout",
          "output_type": "stream",
          "text": [
            "Loss: 1199.3879\n"
          ]
        },
        {
          "metadata": {
            "tags": null
          },
          "name": "stderr",
          "output_type": "stream",
          "text": [
            "\r 22%|██▏       | 4/18 [00:33<01:54,  8.14s/it]"
          ]
        },
        {
          "metadata": {
            "tags": null
          },
          "name": "stdout",
          "output_type": "stream",
          "text": [
            "Loss: 1013.8821\n"
          ]
        },
        {
          "metadata": {
            "tags": null
          },
          "name": "stderr",
          "output_type": "stream",
          "text": [
            "\r 28%|██▊       | 5/18 [00:40<01:41,  7.83s/it]"
          ]
        },
        {
          "metadata": {
            "tags": null
          },
          "name": "stdout",
          "output_type": "stream",
          "text": [
            "Loss: 1516.2356\n"
          ]
        },
        {
          "metadata": {
            "tags": null
          },
          "name": "stderr",
          "output_type": "stream",
          "text": [
            "\r 33%|███▎      | 6/18 [00:48<01:34,  7.89s/it]"
          ]
        },
        {
          "metadata": {
            "tags": null
          },
          "name": "stdout",
          "output_type": "stream",
          "text": [
            "Loss: 761.7559\n"
          ]
        },
        {
          "metadata": {
            "tags": null
          },
          "name": "stderr",
          "output_type": "stream",
          "text": [
            "\r 39%|███▉      | 7/18 [00:56<01:26,  7.91s/it]"
          ]
        },
        {
          "metadata": {
            "tags": null
          },
          "name": "stdout",
          "output_type": "stream",
          "text": [
            "Loss: 1644.0732\n"
          ]
        },
        {
          "metadata": {
            "tags": null
          },
          "name": "stderr",
          "output_type": "stream",
          "text": [
            "\r 44%|████▍     | 8/18 [01:04<01:18,  7.85s/it]"
          ]
        },
        {
          "metadata": {
            "tags": null
          },
          "name": "stdout",
          "output_type": "stream",
          "text": [
            "Loss: 1010.0662\n"
          ]
        },
        {
          "metadata": {
            "tags": null
          },
          "name": "stderr",
          "output_type": "stream",
          "text": [
            "\r 50%|█████     | 9/18 [01:19<01:32, 10.30s/it]"
          ]
        },
        {
          "metadata": {
            "tags": null
          },
          "name": "stdout",
          "output_type": "stream",
          "text": [
            "Loss: 1371.1721\n"
          ]
        },
        {
          "metadata": {
            "tags": null
          },
          "name": "stderr",
          "output_type": "stream",
          "text": [
            "\r 56%|█████▌    | 10/18 [01:42<01:51, 13.99s/it]"
          ]
        },
        {
          "metadata": {
            "tags": null
          },
          "name": "stdout",
          "output_type": "stream",
          "text": [
            "Loss: 1300.0529\n"
          ]
        },
        {
          "metadata": {
            "tags": null
          },
          "name": "stderr",
          "output_type": "stream",
          "text": [
            "\r 61%|██████    | 11/18 [01:50<01:25, 12.27s/it]"
          ]
        },
        {
          "metadata": {
            "tags": null
          },
          "name": "stdout",
          "output_type": "stream",
          "text": [
            "Loss: 1249.6426\n"
          ]
        },
        {
          "metadata": {
            "tags": null
          },
          "name": "stderr",
          "output_type": "stream",
          "text": [
            "\r 67%|██████▋   | 12/18 [01:58<01:05, 10.93s/it]"
          ]
        },
        {
          "metadata": {
            "tags": null
          },
          "name": "stdout",
          "output_type": "stream",
          "text": [
            "Loss: 907.2451\n"
          ]
        },
        {
          "metadata": {
            "tags": null
          },
          "name": "stderr",
          "output_type": "stream",
          "text": [
            "\r 72%|███████▏  | 13/18 [02:06<00:50, 10.14s/it]"
          ]
        },
        {
          "metadata": {
            "tags": null
          },
          "name": "stdout",
          "output_type": "stream",
          "text": [
            "Loss: 522.4183\n"
          ]
        },
        {
          "metadata": {
            "tags": null
          },
          "name": "stderr",
          "output_type": "stream",
          "text": [
            "\r 78%|███████▊  | 14/18 [02:14<00:37,  9.35s/it]"
          ]
        },
        {
          "metadata": {
            "tags": null
          },
          "name": "stdout",
          "output_type": "stream",
          "text": [
            "Loss: 567.1713\n"
          ]
        },
        {
          "metadata": {
            "tags": null
          },
          "name": "stderr",
          "output_type": "stream",
          "text": [
            "\r 83%|████████▎ | 15/18 [02:22<00:27,  9.07s/it]"
          ]
        },
        {
          "metadata": {
            "tags": null
          },
          "name": "stdout",
          "output_type": "stream",
          "text": [
            "Loss: 545.1880\n"
          ]
        },
        {
          "metadata": {
            "tags": null
          },
          "name": "stderr",
          "output_type": "stream",
          "text": [
            "\r 89%|████████▉ | 16/18 [02:31<00:17,  8.88s/it]"
          ]
        },
        {
          "metadata": {
            "tags": null
          },
          "name": "stdout",
          "output_type": "stream",
          "text": [
            "Loss: 404.9088\n"
          ]
        },
        {
          "metadata": {
            "tags": null
          },
          "name": "stderr",
          "output_type": "stream",
          "text": [
            "\r 94%|█████████▍| 17/18 [02:38<00:08,  8.45s/it]"
          ]
        },
        {
          "metadata": {
            "tags": null
          },
          "name": "stdout",
          "output_type": "stream",
          "text": [
            "Loss: 523.7948\n"
          ]
        },
        {
          "metadata": {
            "tags": null
          },
          "name": "stderr",
          "output_type": "stream",
          "text": [
            "100%|██████████| 18/18 [02:46<00:00,  9.26s/it]\n"
          ]
        },
        {
          "metadata": {
            "tags": null
          },
          "name": "stdout",
          "output_type": "stream",
          "text": [
            "Validation phase:\n"
          ]
        },
        {
          "metadata": {
            "tags": null
          },
          "name": "stderr",
          "output_type": "stream",
          "text": [
            "100%|██████████| 6/6 [00:21<00:00,  3.64s/it]\n"
          ]
        },
        {
          "metadata": {
            "tags": null
          },
          "name": "stdout",
          "output_type": "stream",
          "text": [
            "Epoch [1/25]\n",
            "Training Loss: 970.4460\n",
            "Validation Loss: 141.1974\n",
            "R2 Score: -0.3442\n",
            "Pearson Correlation: 0.9196\n",
            "New best model saved!\n",
            "\n",
            "Epoch 2/25\n",
            "Training phase:\n"
          ]
        },
        {
          "metadata": {
            "tags": null
          },
          "name": "stderr",
          "output_type": "stream",
          "text": [
            "\r  0%|          | 0/18 [00:00<?, ?it/s]"
          ]
        },
        {
          "metadata": {
            "tags": null
          },
          "name": "stdout",
          "output_type": "stream",
          "text": [
            "Loss: 139.6257\n"
          ]
        },
        {
          "metadata": {
            "tags": null
          },
          "name": "stderr",
          "output_type": "stream",
          "text": [
            "\r  6%|▌         | 1/18 [00:07<02:08,  7.56s/it]"
          ]
        },
        {
          "metadata": {
            "tags": null
          },
          "name": "stdout",
          "output_type": "stream",
          "text": [
            "Loss: 126.9216\n"
          ]
        },
        {
          "metadata": {
            "tags": null
          },
          "name": "stderr",
          "output_type": "stream",
          "text": [
            "\r 11%|█         | 2/18 [00:15<02:07,  7.96s/it]"
          ]
        },
        {
          "metadata": {
            "tags": null
          },
          "name": "stdout",
          "output_type": "stream",
          "text": [
            "Loss: 680.5931\n"
          ]
        },
        {
          "metadata": {
            "tags": null
          },
          "name": "stderr",
          "output_type": "stream",
          "text": [
            "\r 17%|█▋        | 3/18 [00:23<01:56,  7.74s/it]"
          ]
        },
        {
          "metadata": {
            "tags": null
          },
          "name": "stdout",
          "output_type": "stream",
          "text": [
            "Loss: 1006.0555\n"
          ]
        },
        {
          "metadata": {
            "tags": null
          },
          "name": "stderr",
          "output_type": "stream",
          "text": [
            "\r 22%|██▏       | 4/18 [00:31<01:51,  7.94s/it]"
          ]
        },
        {
          "metadata": {
            "tags": null
          },
          "name": "stdout",
          "output_type": "stream",
          "text": [
            "Loss: 163.2032\n"
          ]
        },
        {
          "metadata": {
            "tags": null
          },
          "name": "stderr",
          "output_type": "stream",
          "text": [
            "\r 28%|██▊       | 5/18 [00:39<01:45,  8.13s/it]"
          ]
        },
        {
          "metadata": {
            "tags": null
          },
          "name": "stdout",
          "output_type": "stream",
          "text": [
            "Loss: 58.0152\n"
          ]
        },
        {
          "metadata": {
            "tags": null
          },
          "name": "stderr",
          "output_type": "stream",
          "text": [
            "\r 33%|███▎      | 6/18 [00:47<01:35,  7.93s/it]"
          ]
        },
        {
          "metadata": {
            "tags": null
          },
          "name": "stdout",
          "output_type": "stream",
          "text": [
            "Loss: 392.2208\n"
          ]
        },
        {
          "metadata": {
            "tags": null
          },
          "name": "stderr",
          "output_type": "stream",
          "text": [
            "\r 39%|███▉      | 7/18 [00:55<01:28,  8.03s/it]"
          ]
        },
        {
          "metadata": {
            "tags": null
          },
          "name": "stdout",
          "output_type": "stream",
          "text": [
            "Loss: 423.0793\n"
          ]
        },
        {
          "metadata": {
            "tags": null
          },
          "name": "stderr",
          "output_type": "stream",
          "text": [
            "\r 44%|████▍     | 8/18 [01:03<01:20,  8.02s/it]"
          ]
        },
        {
          "metadata": {
            "tags": null
          },
          "name": "stdout",
          "output_type": "stream",
          "text": [
            "Loss: 132.7323\n"
          ]
        },
        {
          "metadata": {
            "tags": null
          },
          "name": "stderr",
          "output_type": "stream",
          "text": [
            "\r 50%|█████     | 9/18 [01:11<01:11,  7.93s/it]"
          ]
        },
        {
          "metadata": {
            "tags": null
          },
          "name": "stdout",
          "output_type": "stream",
          "text": [
            "Loss: 401.5329\n"
          ]
        },
        {
          "metadata": {
            "tags": null
          },
          "name": "stderr",
          "output_type": "stream",
          "text": [
            "\r 56%|█████▌    | 10/18 [01:19<01:04,  8.05s/it]"
          ]
        },
        {
          "metadata": {
            "tags": null
          },
          "name": "stdout",
          "output_type": "stream",
          "text": [
            "Loss: 251.1282\n"
          ]
        },
        {
          "metadata": {
            "tags": null
          },
          "name": "stderr",
          "output_type": "stream",
          "text": [
            "\r 61%|██████    | 11/18 [01:27<00:55,  7.88s/it]"
          ]
        },
        {
          "metadata": {
            "tags": null
          },
          "name": "stdout",
          "output_type": "stream",
          "text": [
            "Loss: 535.0704\n"
          ]
        },
        {
          "metadata": {
            "tags": null
          },
          "name": "stderr",
          "output_type": "stream",
          "text": [
            "\r 67%|██████▋   | 12/18 [01:35<00:47,  7.99s/it]"
          ]
        },
        {
          "metadata": {
            "tags": null
          },
          "name": "stdout",
          "output_type": "stream",
          "text": [
            "Loss: 138.6060\n"
          ]
        },
        {
          "metadata": {
            "tags": null
          },
          "name": "stderr",
          "output_type": "stream",
          "text": [
            "\r 72%|███████▏  | 13/18 [01:43<00:40,  8.11s/it]"
          ]
        },
        {
          "metadata": {
            "tags": null
          },
          "name": "stdout",
          "output_type": "stream",
          "text": [
            "Loss: 356.4849\n"
          ]
        },
        {
          "metadata": {
            "tags": null
          },
          "name": "stderr",
          "output_type": "stream",
          "text": [
            "\r 78%|███████▊  | 14/18 [01:51<00:31,  7.92s/it]"
          ]
        },
        {
          "metadata": {
            "tags": null
          },
          "name": "stdout",
          "output_type": "stream",
          "text": [
            "Loss: 269.5701\n"
          ]
        },
        {
          "metadata": {
            "tags": null
          },
          "name": "stderr",
          "output_type": "stream",
          "text": [
            "\r 83%|████████▎ | 15/18 [01:59<00:23,  7.99s/it]"
          ]
        },
        {
          "metadata": {
            "tags": null
          },
          "name": "stdout",
          "output_type": "stream",
          "text": [
            "Loss: 259.0728\n"
          ]
        },
        {
          "metadata": {
            "tags": null
          },
          "name": "stderr",
          "output_type": "stream",
          "text": [
            "\r 89%|████████▉ | 16/18 [02:07<00:15,  7.92s/it]"
          ]
        },
        {
          "metadata": {
            "tags": null
          },
          "name": "stdout",
          "output_type": "stream",
          "text": [
            "Loss: 367.1997\n"
          ]
        },
        {
          "metadata": {
            "tags": null
          },
          "name": "stderr",
          "output_type": "stream",
          "text": [
            "\r 94%|█████████▍| 17/18 [02:16<00:08,  8.28s/it]"
          ]
        },
        {
          "metadata": {
            "tags": null
          },
          "name": "stdout",
          "output_type": "stream",
          "text": [
            "Loss: 149.2753\n"
          ]
        },
        {
          "metadata": {
            "tags": null
          },
          "name": "stderr",
          "output_type": "stream",
          "text": [
            "100%|██████████| 18/18 [02:24<00:00,  8.04s/it]\n"
          ]
        },
        {
          "metadata": {
            "tags": null
          },
          "name": "stdout",
          "output_type": "stream",
          "text": [
            "Validation phase:\n"
          ]
        },
        {
          "metadata": {
            "tags": null
          },
          "name": "stderr",
          "output_type": "stream",
          "text": [
            "100%|██████████| 6/6 [00:18<00:00,  3.04s/it]\n"
          ]
        },
        {
          "metadata": {
            "tags": null
          },
          "name": "stdout",
          "output_type": "stream",
          "text": [
            "Epoch [2/25]\n",
            "Training Loss: 325.0215\n",
            "Validation Loss: 534.2213\n",
            "R2 Score: -4.0860\n",
            "Pearson Correlation: 0.8994\n",
            "No improvement for 1 epochs\n",
            "\n",
            "Epoch 3/25\n",
            "Training phase:\n"
          ]
        },
        {
          "metadata": {
            "tags": null
          },
          "name": "stderr",
          "output_type": "stream",
          "text": [
            "\r  0%|          | 0/18 [00:00<?, ?it/s]"
          ]
        },
        {
          "metadata": {
            "tags": null
          },
          "name": "stdout",
          "output_type": "stream",
          "text": [
            "Loss: 270.2527\n"
          ]
        },
        {
          "metadata": {
            "tags": null
          },
          "name": "stderr",
          "output_type": "stream",
          "text": [
            "\r  6%|▌         | 1/18 [00:08<02:20,  8.25s/it]"
          ]
        },
        {
          "metadata": {
            "tags": null
          },
          "name": "stdout",
          "output_type": "stream",
          "text": [
            "Loss: 287.0095\n"
          ]
        },
        {
          "metadata": {
            "tags": null
          },
          "name": "stderr",
          "output_type": "stream",
          "text": [
            "\r 11%|█         | 2/18 [00:15<02:06,  7.94s/it]"
          ]
        },
        {
          "metadata": {
            "tags": null
          },
          "name": "stdout",
          "output_type": "stream",
          "text": [
            "Loss: 248.0485\n"
          ]
        },
        {
          "metadata": {
            "tags": null
          },
          "name": "stderr",
          "output_type": "stream",
          "text": [
            "\r 17%|█▋        | 3/18 [00:23<01:59,  7.98s/it]"
          ]
        },
        {
          "metadata": {
            "tags": null
          },
          "name": "stdout",
          "output_type": "stream",
          "text": [
            "Loss: 118.6834\n"
          ]
        },
        {
          "metadata": {
            "tags": null
          },
          "name": "stderr",
          "output_type": "stream",
          "text": [
            "\r 22%|██▏       | 4/18 [00:32<01:53,  8.12s/it]"
          ]
        },
        {
          "metadata": {
            "tags": null
          },
          "name": "stdout",
          "output_type": "stream",
          "text": [
            "Loss: 168.5354\n"
          ]
        },
        {
          "metadata": {
            "tags": null
          },
          "name": "stderr",
          "output_type": "stream",
          "text": [
            "\r 28%|██▊       | 5/18 [00:39<01:42,  7.90s/it]"
          ]
        },
        {
          "metadata": {
            "tags": null
          },
          "name": "stdout",
          "output_type": "stream",
          "text": [
            "Loss: 146.2787\n"
          ]
        },
        {
          "metadata": {
            "tags": null
          },
          "name": "stderr",
          "output_type": "stream",
          "text": [
            "\r 33%|███▎      | 6/18 [00:48<01:36,  8.00s/it]"
          ]
        },
        {
          "metadata": {
            "tags": null
          },
          "name": "stdout",
          "output_type": "stream",
          "text": [
            "Loss: 121.0018\n"
          ]
        },
        {
          "metadata": {
            "tags": null
          },
          "name": "stderr",
          "output_type": "stream",
          "text": [
            "\r 39%|███▉      | 7/18 [00:58<01:36,  8.76s/it]"
          ]
        },
        {
          "metadata": {
            "tags": null
          },
          "name": "stdout",
          "output_type": "stream",
          "text": [
            "Loss: 84.7151\n"
          ]
        },
        {
          "metadata": {
            "tags": null
          },
          "name": "stderr",
          "output_type": "stream",
          "text": [
            "\r 44%|████▍     | 8/18 [01:06<01:26,  8.64s/it]"
          ]
        },
        {
          "metadata": {
            "tags": null
          },
          "name": "stdout",
          "output_type": "stream",
          "text": [
            "Loss: 109.1453\n"
          ]
        },
        {
          "metadata": {
            "tags": null
          },
          "name": "stderr",
          "output_type": "stream",
          "text": [
            "\r 50%|█████     | 9/18 [01:14<01:16,  8.51s/it]"
          ]
        },
        {
          "metadata": {
            "tags": null
          },
          "name": "stdout",
          "output_type": "stream",
          "text": [
            "Loss: 173.8960\n"
          ]
        },
        {
          "metadata": {
            "tags": null
          },
          "name": "stderr",
          "output_type": "stream",
          "text": [
            "\r 56%|█████▌    | 10/18 [01:23<01:07,  8.49s/it]"
          ]
        },
        {
          "metadata": {
            "tags": null
          },
          "name": "stdout",
          "output_type": "stream",
          "text": [
            "Loss: 920.2959\n"
          ]
        },
        {
          "metadata": {
            "tags": null
          },
          "name": "stderr",
          "output_type": "stream",
          "text": [
            "\r 61%|██████    | 11/18 [01:32<01:00,  8.67s/it]"
          ]
        },
        {
          "metadata": {
            "tags": null
          },
          "name": "stdout",
          "output_type": "stream",
          "text": [
            "Loss: 152.6134\n"
          ]
        },
        {
          "metadata": {
            "tags": null
          },
          "name": "stderr",
          "output_type": "stream",
          "text": [
            "\r 67%|██████▋   | 12/18 [01:40<00:51,  8.56s/it]"
          ]
        },
        {
          "metadata": {
            "tags": null
          },
          "name": "stdout",
          "output_type": "stream",
          "text": [
            "Loss: 100.2306\n"
          ]
        },
        {
          "metadata": {
            "tags": null
          },
          "name": "stderr",
          "output_type": "stream",
          "text": [
            "\r 72%|███████▏  | 13/18 [01:49<00:42,  8.53s/it]"
          ]
        },
        {
          "metadata": {
            "tags": null
          },
          "name": "stdout",
          "output_type": "stream",
          "text": [
            "Loss: 195.4984\n"
          ]
        },
        {
          "metadata": {
            "tags": null
          },
          "name": "stderr",
          "output_type": "stream",
          "text": [
            "\r 78%|███████▊  | 14/18 [01:56<00:33,  8.25s/it]"
          ]
        },
        {
          "metadata": {
            "tags": null
          },
          "name": "stdout",
          "output_type": "stream",
          "text": [
            "Loss: 231.0125\n"
          ]
        },
        {
          "metadata": {
            "tags": null
          },
          "name": "stderr",
          "output_type": "stream",
          "text": [
            "\r 83%|████████▎ | 15/18 [02:05<00:24,  8.26s/it]"
          ]
        },
        {
          "metadata": {
            "tags": null
          },
          "name": "stdout",
          "output_type": "stream",
          "text": [
            "Loss: 311.3683\n"
          ]
        },
        {
          "metadata": {
            "tags": null
          },
          "name": "stderr",
          "output_type": "stream",
          "text": [
            "\r 89%|████████▉ | 16/18 [02:13<00:16,  8.17s/it]"
          ]
        },
        {
          "metadata": {
            "tags": null
          },
          "name": "stdout",
          "output_type": "stream",
          "text": [
            "Loss: 154.7646\n"
          ]
        },
        {
          "metadata": {
            "tags": null
          },
          "name": "stderr",
          "output_type": "stream",
          "text": [
            "\r 94%|█████████▍| 17/18 [02:20<00:08,  8.08s/it]"
          ]
        },
        {
          "metadata": {
            "tags": null
          },
          "name": "stdout",
          "output_type": "stream",
          "text": [
            "Loss: 119.7994\n"
          ]
        },
        {
          "metadata": {
            "tags": null
          },
          "name": "stderr",
          "output_type": "stream",
          "text": [
            "100%|██████████| 18/18 [02:29<00:00,  8.29s/it]\n"
          ]
        },
        {
          "metadata": {
            "tags": null
          },
          "name": "stdout",
          "output_type": "stream",
          "text": [
            "Validation phase:\n"
          ]
        },
        {
          "metadata": {
            "tags": null
          },
          "name": "stderr",
          "output_type": "stream",
          "text": [
            "100%|██████████| 6/6 [00:18<00:00,  3.02s/it]\n"
          ]
        },
        {
          "metadata": {
            "tags": null
          },
          "name": "stdout",
          "output_type": "stream",
          "text": [
            "Epoch [3/25]\n",
            "Training Loss: 217.3972\n",
            "Validation Loss: 1134.5088\n",
            "R2 Score: -9.8009\n",
            "Pearson Correlation: 0.8381\n",
            "No improvement for 2 epochs\n",
            "\n",
            "Epoch 4/25\n",
            "Training phase:\n"
          ]
        },
        {
          "metadata": {
            "tags": null
          },
          "name": "stderr",
          "output_type": "stream",
          "text": [
            "\r  0%|          | 0/18 [00:00<?, ?it/s]"
          ]
        },
        {
          "metadata": {
            "tags": null
          },
          "name": "stdout",
          "output_type": "stream",
          "text": [
            "Loss: 79.4399\n"
          ]
        },
        {
          "metadata": {
            "tags": null
          },
          "name": "stderr",
          "output_type": "stream",
          "text": [
            "\r  6%|▌         | 1/18 [00:08<02:19,  8.20s/it]"
          ]
        },
        {
          "metadata": {
            "tags": null
          },
          "name": "stdout",
          "output_type": "stream",
          "text": [
            "Loss: 70.7857\n"
          ]
        },
        {
          "metadata": {
            "tags": null
          },
          "name": "stderr",
          "output_type": "stream",
          "text": [
            "\r 11%|█         | 2/18 [00:15<02:05,  7.83s/it]"
          ]
        },
        {
          "metadata": {
            "tags": null
          },
          "name": "stdout",
          "output_type": "stream",
          "text": [
            "Loss: 375.5352\n"
          ]
        },
        {
          "metadata": {
            "tags": null
          },
          "name": "stderr",
          "output_type": "stream",
          "text": [
            "\r 17%|█▋        | 3/18 [00:24<02:04,  8.28s/it]"
          ]
        },
        {
          "metadata": {
            "tags": null
          },
          "name": "stdout",
          "output_type": "stream",
          "text": [
            "Loss: 232.1968\n"
          ]
        },
        {
          "metadata": {
            "tags": null
          },
          "name": "stderr",
          "output_type": "stream",
          "text": [
            "\r 22%|██▏       | 4/18 [00:32<01:56,  8.32s/it]"
          ]
        },
        {
          "metadata": {
            "tags": null
          },
          "name": "stdout",
          "output_type": "stream",
          "text": [
            "Loss: 141.9537\n"
          ]
        },
        {
          "metadata": {
            "tags": null
          },
          "name": "stderr",
          "output_type": "stream",
          "text": [
            "\r 28%|██▊       | 5/18 [00:40<01:45,  8.08s/it]"
          ]
        },
        {
          "metadata": {
            "tags": null
          },
          "name": "stdout",
          "output_type": "stream",
          "text": [
            "Loss: 66.7747\n"
          ]
        },
        {
          "metadata": {
            "tags": null
          },
          "name": "stderr",
          "output_type": "stream",
          "text": [
            "\r 33%|███▎      | 6/18 [00:48<01:37,  8.17s/it]"
          ]
        },
        {
          "metadata": {
            "tags": null
          },
          "name": "stdout",
          "output_type": "stream",
          "text": [
            "Loss: 88.5243\n"
          ]
        },
        {
          "metadata": {
            "tags": null
          },
          "name": "stderr",
          "output_type": "stream",
          "text": [
            "\r 39%|███▉      | 7/18 [00:57<01:30,  8.27s/it]"
          ]
        },
        {
          "metadata": {
            "tags": null
          },
          "name": "stdout",
          "output_type": "stream",
          "text": [
            "Loss: 224.3584\n"
          ]
        },
        {
          "metadata": {
            "tags": null
          },
          "name": "stderr",
          "output_type": "stream",
          "text": [
            "\r 44%|████▍     | 8/18 [01:05<01:20,  8.09s/it]"
          ]
        },
        {
          "metadata": {
            "tags": null
          },
          "name": "stdout",
          "output_type": "stream",
          "text": [
            "Loss: 64.8507\n"
          ]
        },
        {
          "metadata": {
            "tags": null
          },
          "name": "stderr",
          "output_type": "stream",
          "text": [
            "\r 50%|█████     | 9/18 [01:13<01:13,  8.17s/it]"
          ]
        },
        {
          "metadata": {
            "tags": null
          },
          "name": "stdout",
          "output_type": "stream",
          "text": [
            "Loss: 132.1652\n"
          ]
        },
        {
          "metadata": {
            "tags": null
          },
          "name": "stderr",
          "output_type": "stream",
          "text": [
            "\r 56%|█████▌    | 10/18 [01:22<01:06,  8.30s/it]"
          ]
        },
        {
          "metadata": {
            "tags": null
          },
          "name": "stdout",
          "output_type": "stream",
          "text": [
            "Loss: 126.5739\n"
          ]
        },
        {
          "metadata": {
            "tags": null
          },
          "name": "stderr",
          "output_type": "stream",
          "text": [
            "\r 61%|██████    | 11/18 [01:29<00:56,  8.13s/it]"
          ]
        },
        {
          "metadata": {
            "tags": null
          },
          "name": "stdout",
          "output_type": "stream",
          "text": [
            "Loss: 201.2582\n"
          ]
        },
        {
          "metadata": {
            "tags": null
          },
          "name": "stderr",
          "output_type": "stream",
          "text": [
            "\r 67%|██████▋   | 12/18 [01:38<00:49,  8.18s/it]"
          ]
        },
        {
          "metadata": {
            "tags": null
          },
          "name": "stdout",
          "output_type": "stream",
          "text": [
            "Loss: 59.0875\n"
          ]
        },
        {
          "metadata": {
            "tags": null
          },
          "name": "stderr",
          "output_type": "stream",
          "text": [
            "\r 72%|███████▏  | 13/18 [01:46<00:41,  8.30s/it]"
          ]
        },
        {
          "metadata": {
            "tags": null
          },
          "name": "stdout",
          "output_type": "stream",
          "text": [
            "Loss: 260.1570\n"
          ]
        },
        {
          "metadata": {
            "tags": null
          },
          "name": "stderr",
          "output_type": "stream",
          "text": [
            "\r 78%|███████▊  | 14/18 [01:54<00:32,  8.16s/it]"
          ]
        },
        {
          "metadata": {
            "tags": null
          },
          "name": "stdout",
          "output_type": "stream",
          "text": [
            "Loss: 108.5439\n"
          ]
        },
        {
          "metadata": {
            "tags": null
          },
          "name": "stderr",
          "output_type": "stream",
          "text": [
            "\r 83%|████████▎ | 15/18 [02:02<00:24,  8.19s/it]"
          ]
        },
        {
          "metadata": {
            "tags": null
          },
          "name": "stdout",
          "output_type": "stream",
          "text": [
            "Loss: 215.4683\n"
          ]
        },
        {
          "output_type": "stream",
          "name": "stderr",
          "text": [
            "\r 89%|████████▉ | 16/18 [02:10<00:16,  8.19s/it]"
          ]
        },
        {
          "output_type": "stream",
          "name": "stdout",
          "text": [
            "Loss: 180.0006\n"
          ]
        },
        {
          "output_type": "stream",
          "name": "stderr",
          "text": [
            "\r 94%|█████████▍| 17/18 [02:18<00:08,  8.11s/it]"
          ]
        },
        {
          "output_type": "stream",
          "name": "stdout",
          "text": [
            "Loss: 67.4499\n"
          ]
        },
        {
          "output_type": "stream",
          "name": "stderr",
          "text": [
            "100%|██████████| 18/18 [02:27<00:00,  8.19s/it]\n"
          ]
        },
        {
          "output_type": "stream",
          "name": "stdout",
          "text": [
            "Validation phase:\n"
          ]
        },
        {
          "output_type": "stream",
          "name": "stderr",
          "text": [
            "100%|██████████| 6/6 [00:19<00:00,  3.21s/it]"
          ]
        },
        {
          "output_type": "stream",
          "name": "stdout",
          "text": [
            "Epoch [4/25]\n",
            "Training Loss: 149.7291\n",
            "Validation Loss: 344.1286\n",
            "R2 Score: -2.2762\n",
            "Pearson Correlation: 0.9117\n",
            "No improvement for 3 epochs\n",
            "Early stopping triggered!\n"
          ]
        },
        {
          "output_type": "stream",
          "name": "stderr",
          "text": [
            "\n",
            "<ipython-input-71-d39891dc6e9a>:78: FutureWarning: You are using `torch.load` with `weights_only=False` (the current default value), which uses the default pickle module implicitly. It is possible to construct malicious pickle data which will execute arbitrary code during unpickling (See https://github.com/pytorch/pytorch/blob/main/SECURITY.md#untrusted-models for more details). In a future release, the default value for `weights_only` will be flipped to `True`. This limits the functions that could be executed during unpickling. Arbitrary objects will no longer be allowed to be loaded via this mode unless they are explicitly allowlisted by the user via `torch.serialization.add_safe_globals`. We recommend you start setting `weights_only=True` for any use case where you don't have full control of the loaded file. Please open an issue on GitHub for any issues related to this experimental feature.\n",
            "  model.load_state_dict(torch.load('best_model.pth'))\n"
          ]
        },
        {
          "output_type": "execute_result",
          "data": {
            "text/plain": [
              "MultimodalNet(\n",
              "  (protein_network): Sequential(\n",
              "    (0): Conv2d(1, 32, kernel_size=(1, 1), stride=(1, 1))\n",
              "    (1): ReLU()\n",
              "    (2): BatchNorm2d(32, eps=1e-05, momentum=0.1, affine=True, track_running_stats=True)\n",
              "    (3): Conv2d(32, 64, kernel_size=(1, 1), stride=(1, 1))\n",
              "    (4): ReLU()\n",
              "    (5): BatchNorm2d(64, eps=1e-05, momentum=0.1, affine=True, track_running_stats=True)\n",
              "    (6): AdaptiveAvgPool2d(output_size=(1, 1))\n",
              "    (7): Flatten(start_dim=1, end_dim=-1)\n",
              "  )\n",
              "  (ligand_network): Sequential(\n",
              "    (0): Conv2d(1, 32, kernel_size=(1, 1), stride=(1, 1))\n",
              "    (1): ReLU()\n",
              "    (2): BatchNorm2d(32, eps=1e-05, momentum=0.1, affine=True, track_running_stats=True)\n",
              "    (3): Conv2d(32, 64, kernel_size=(1, 1), stride=(1, 1))\n",
              "    (4): ReLU()\n",
              "    (5): BatchNorm2d(64, eps=1e-05, momentum=0.1, affine=True, track_running_stats=True)\n",
              "    (6): AdaptiveAvgPool2d(output_size=(1, 1))\n",
              "    (7): Flatten(start_dim=1, end_dim=-1)\n",
              "  )\n",
              "  (combined_network): Sequential(\n",
              "    (0): Linear(in_features=128, out_features=64, bias=True)\n",
              "    (1): ReLU()\n",
              "    (2): Dropout(p=0.3, inplace=False)\n",
              "    (3): Linear(in_features=64, out_features=32, bias=True)\n",
              "    (4): ReLU()\n",
              "    (5): Dropout(p=0.3, inplace=False)\n",
              "    (6): Linear(in_features=32, out_features=1, bias=True)\n",
              "  )\n",
              ")"
            ]
          },
          "metadata": {},
          "execution_count": 71
        }
      ]
    },
    {
      "cell_type": "code",
      "source": [
        "# Final evaluation\n",
        "final_predictions = []\n",
        "final_actuals = []\n",
        "\n",
        "with torch.no_grad():\n",
        "    for protein_batch, ligand_batch, labels_batch in tqdm(test_loader):\n",
        "        protein_batch = protein_batch.to(device)\n",
        "        ligand_batch = ligand_batch.to(device)\n",
        "        outputs = model(protein_batch, ligand_batch)\n",
        "        try:\n",
        "            final_predictions.extend(outputs.cpu().squeeze().numpy())\n",
        "            final_actuals.extend(labels_batch.numpy())\n",
        "        except:\n",
        "            print(outputs)\n",
        "            print(labels_batch)\n",
        "            continue\n",
        "\n",
        "final_predictions = np.array(final_predictions)\n",
        "final_actuals = np.array(final_actuals)\n",
        "\n",
        "# Calculate final metrics\n",
        "mse = mean_squared_error(final_actuals, final_predictions)\n",
        "r2 = r2_score(final_actuals, final_predictions)\n",
        "mae = median_absolute_error(final_actuals, final_predictions)\n",
        "pearson = pearsonr(final_actuals, final_predictions)[0]\n",
        "spearman = spearmanr(final_actuals, final_predictions)[0]\n",
        "\n",
        "print(\"\\nFinal Model Performance:\")\n",
        "print(f\"Mean Squared Error: {mse:.4f}\")\n",
        "print(f\"R-squared: {r2:.4f}\")\n",
        "print(f\"Median Absolute Error: {mae:.4f}\")\n",
        "print(f\"Pearson Correlation: {pearson:.4f}\")\n",
        "print(f\"Spearman Correlation: {spearman:.4f}\")"
      ],
      "metadata": {
        "colab": {
          "base_uri": "https://localhost:8080/",
          "height": 216
        },
        "id": "YDs6vIwAy_o_",
        "outputId": "bdb052e4-403f-4219-b7f0-15663c248e9b"
      },
      "execution_count": null,
      "outputs": [
        {
          "output_type": "error",
          "ename": "NameError",
          "evalue": "name 'torch' is not defined",
          "traceback": [
            "\u001b[0;31m---------------------------------------------------------------------------\u001b[0m",
            "\u001b[0;31mNameError\u001b[0m                                 Traceback (most recent call last)",
            "\u001b[0;32m<ipython-input-1-2920fee05c8a>\u001b[0m in \u001b[0;36m<cell line: 0>\u001b[0;34m()\u001b[0m\n\u001b[1;32m      3\u001b[0m \u001b[0mfinal_actuals\u001b[0m \u001b[0;34m=\u001b[0m \u001b[0;34m[\u001b[0m\u001b[0;34m]\u001b[0m\u001b[0;34m\u001b[0m\u001b[0;34m\u001b[0m\u001b[0m\n\u001b[1;32m      4\u001b[0m \u001b[0;34m\u001b[0m\u001b[0m\n\u001b[0;32m----> 5\u001b[0;31m \u001b[0;32mwith\u001b[0m \u001b[0mtorch\u001b[0m\u001b[0;34m.\u001b[0m\u001b[0mno_grad\u001b[0m\u001b[0;34m(\u001b[0m\u001b[0;34m)\u001b[0m\u001b[0;34m:\u001b[0m\u001b[0;34m\u001b[0m\u001b[0;34m\u001b[0m\u001b[0m\n\u001b[0m\u001b[1;32m      6\u001b[0m     \u001b[0;32mfor\u001b[0m \u001b[0mprotein_batch\u001b[0m\u001b[0;34m,\u001b[0m \u001b[0mligand_batch\u001b[0m\u001b[0;34m,\u001b[0m \u001b[0mlabels_batch\u001b[0m \u001b[0;32min\u001b[0m \u001b[0mtqdm\u001b[0m\u001b[0;34m(\u001b[0m\u001b[0mtest_loader\u001b[0m\u001b[0;34m)\u001b[0m\u001b[0;34m:\u001b[0m\u001b[0;34m\u001b[0m\u001b[0;34m\u001b[0m\u001b[0m\n\u001b[1;32m      7\u001b[0m         \u001b[0mprotein_batch\u001b[0m \u001b[0;34m=\u001b[0m \u001b[0mprotein_batch\u001b[0m\u001b[0;34m.\u001b[0m\u001b[0mto\u001b[0m\u001b[0;34m(\u001b[0m\u001b[0mdevice\u001b[0m\u001b[0;34m)\u001b[0m\u001b[0;34m\u001b[0m\u001b[0;34m\u001b[0m\u001b[0m\n",
            "\u001b[0;31mNameError\u001b[0m: name 'torch' is not defined"
          ]
        }
      ]
    },
    {
      "cell_type": "code",
      "source": [
        "# Visualize results\n",
        "plt.figure(figsize=(10, 10))\n",
        "plt.scatter(final_actuals, final_predictions, alpha=0.5)\n",
        "plt.plot([min(final_actuals), max(final_actuals)], [min(final_actuals), max(final_actuals)], 'r--')\n",
        "plt.xlabel(\"Actual Values\")\n",
        "plt.ylabel(\"Predicted Values\")\n",
        "plt.title(\"Predicted vs Actual Values\")\n",
        "plt.show()\n",
        "\n",
        "# Plot residuals\n",
        "plt.figure(figsize=(10, 10))\n",
        "residuals = final_predictions - final_actuals\n",
        "plt.scatter(final_predictions, residuals, alpha=0.5)\n",
        "plt.axhline(y=0, color='r', linestyle='--')\n",
        "plt.xlabel(\"Predicted Values\")\n",
        "plt.ylabel(\"Residuals\")\n",
        "plt.title(\"Residual Plot\")\n",
        "plt.show()"
      ],
      "metadata": {
        "id": "tnZCs3vlzBD5"
      },
      "execution_count": null,
      "outputs": []
    },
    {
      "cell_type": "code",
      "source": [],
      "metadata": {
        "id": "2Wm_VNv-afbW"
      },
      "execution_count": null,
      "outputs": []
    }
  ],
  "metadata": {
    "kernelspec": {
      "display_name": ".venv",
      "language": "python",
      "name": "python3"
    },
    "language_info": {
      "codemirror_mode": {
        "name": "ipython",
        "version": 3
      },
      "file_extension": ".py",
      "mimetype": "text/x-python",
      "name": "python",
      "nbconvert_exporter": "python",
      "pygments_lexer": "ipython3",
      "version": "3.10.12"
    },
    "colab": {
      "provenance": []
    }
  },
  "nbformat": 4,
  "nbformat_minor": 0
}