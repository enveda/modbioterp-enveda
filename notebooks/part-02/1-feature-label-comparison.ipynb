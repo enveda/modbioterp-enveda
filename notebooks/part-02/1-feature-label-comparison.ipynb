{
  "cells": [
    {
      "cell_type": "code",
      "execution_count": 1,
      "metadata": {},
      "outputs": [],
      "source": [
        "#!pip install pandas scikit-learn"
      ]
    },
    {
      "cell_type": "code",
      "execution_count": 2,
      "metadata": {},
      "outputs": [],
      "source": [
        "import pandas as pd\n",
        "from sklearn.model_selection import train_test_split\n",
        "from sklearn.preprocessing import StandardScaler\n",
        "import numpy as np\n",
        "import random\n",
        "import seaborn as sns\n",
        "import matplotlib.pyplot as plt"
      ]
    },
    {
      "cell_type": "code",
      "execution_count": 3,
      "metadata": {},
      "outputs": [],
      "source": [
        "github_location = \"https://github.com/enveda/modbioterp-enveda/raw/refs/heads/main/\"\n",
        "#data_folder = \"content\"\n",
        "data_folder = \"/home/antonio.gomes/modbioterp-enveda/workshop_data\"\n",
        "PDB_FILE_LOCATION = f\"{github_location}/workshop_data/cotb2_pp_mg.pdb\"\n",
        "#!wget $PDB_FILE_LOCATION -O /content/cotb2_pp_mg.pdb\n",
        "RANDOM_SEED = 42\n",
        "random.seed(RANDOM_SEED)\n",
        "np.random.seed(RANDOM_SEED)"
      ]
    },
    {
      "cell_type": "code",
      "execution_count": 4,
      "metadata": {
        "colab": {
          "base_uri": "https://localhost:8080/",
          "height": 655
        },
        "id": "Vwf8UCXoI3Pb",
        "outputId": "ef90c50b-33c6-4509-8831-96cc7eeb5a43"
      },
      "outputs": [],
      "source": [
        "%matplotlib inline\n",
        "\n",
        "energies = f\"{github_location}/workshop_data/lig_1_energy.txt\"\n",
        "loaded_ligands = pd.read_csv(energies, header = None, sep=\" \")\n",
        "loaded_ligands.columns = [\"ligand\", \"energy\"]\n",
        "labels = loaded_ligands.energy"
      ]
    },
    {
      "cell_type": "code",
      "execution_count": 5,
      "metadata": {},
      "outputs": [
        {
          "data": {
            "text/html": [
              "<div>\n",
              "<style scoped>\n",
              "    .dataframe tbody tr th:only-of-type {\n",
              "        vertical-align: middle;\n",
              "    }\n",
              "\n",
              "    .dataframe tbody tr th {\n",
              "        vertical-align: top;\n",
              "    }\n",
              "\n",
              "    .dataframe thead th {\n",
              "        text-align: right;\n",
              "    }\n",
              "</style>\n",
              "<table border=\"1\" class=\"dataframe\">\n",
              "  <thead>\n",
              "    <tr style=\"text-align: right;\">\n",
              "      <th></th>\n",
              "      <th>PMI1</th>\n",
              "      <th>PMI2</th>\n",
              "      <th>PMI3</th>\n",
              "      <th>NPR1</th>\n",
              "      <th>NPR2</th>\n",
              "      <th>RadiusOfGyration</th>\n",
              "      <th>InertialShapeFactor</th>\n",
              "      <th>Eccentricity</th>\n",
              "      <th>Asphericity</th>\n",
              "      <th>SpherocityIndex</th>\n",
              "      <th>...</th>\n",
              "      <th>blosum62_6151</th>\n",
              "      <th>blosum62_6152</th>\n",
              "      <th>blosum62_6153</th>\n",
              "      <th>blosum62_6154</th>\n",
              "      <th>blosum62_6155</th>\n",
              "      <th>blosum62_6156</th>\n",
              "      <th>blosum62_6157</th>\n",
              "      <th>blosum62_6158</th>\n",
              "      <th>blosum62_6159</th>\n",
              "      <th>blosum62_6160</th>\n",
              "    </tr>\n",
              "  </thead>\n",
              "  <tbody>\n",
              "    <tr>\n",
              "      <th>0</th>\n",
              "      <td>858.038436</td>\n",
              "      <td>1583.425000</td>\n",
              "      <td>2184.329171</td>\n",
              "      <td>0.392816</td>\n",
              "      <td>0.724902</td>\n",
              "      <td>3.102941</td>\n",
              "      <td>0.000845</td>\n",
              "      <td>0.919617</td>\n",
              "      <td>0.247343</td>\n",
              "      <td>0.166761</td>\n",
              "      <td>...</td>\n",
              "      <td>-1.0</td>\n",
              "      <td>-1.0</td>\n",
              "      <td>-1.0</td>\n",
              "      <td>-2.0</td>\n",
              "      <td>-1.0</td>\n",
              "      <td>1.0</td>\n",
              "      <td>0.0</td>\n",
              "      <td>-3.0</td>\n",
              "      <td>-2.0</td>\n",
              "      <td>0.0</td>\n",
              "    </tr>\n",
              "    <tr>\n",
              "      <th>1</th>\n",
              "      <td>849.158235</td>\n",
              "      <td>1572.291482</td>\n",
              "      <td>2074.488795</td>\n",
              "      <td>0.409334</td>\n",
              "      <td>0.757918</td>\n",
              "      <td>3.059078</td>\n",
              "      <td>0.000893</td>\n",
              "      <td>0.912385</td>\n",
              "      <td>0.225252</td>\n",
              "      <td>0.231516</td>\n",
              "      <td>...</td>\n",
              "      <td>-1.0</td>\n",
              "      <td>-1.0</td>\n",
              "      <td>-1.0</td>\n",
              "      <td>-2.0</td>\n",
              "      <td>-1.0</td>\n",
              "      <td>1.0</td>\n",
              "      <td>0.0</td>\n",
              "      <td>-3.0</td>\n",
              "      <td>-2.0</td>\n",
              "      <td>0.0</td>\n",
              "    </tr>\n",
              "    <tr>\n",
              "      <th>2</th>\n",
              "      <td>790.542596</td>\n",
              "      <td>1615.008980</td>\n",
              "      <td>2102.130286</td>\n",
              "      <td>0.376067</td>\n",
              "      <td>0.768273</td>\n",
              "      <td>3.063071</td>\n",
              "      <td>0.000972</td>\n",
              "      <td>0.926592</td>\n",
              "      <td>0.259586</td>\n",
              "      <td>0.201936</td>\n",
              "      <td>...</td>\n",
              "      <td>-1.0</td>\n",
              "      <td>-1.0</td>\n",
              "      <td>-1.0</td>\n",
              "      <td>-2.0</td>\n",
              "      <td>-1.0</td>\n",
              "      <td>1.0</td>\n",
              "      <td>0.0</td>\n",
              "      <td>-3.0</td>\n",
              "      <td>-2.0</td>\n",
              "      <td>0.0</td>\n",
              "    </tr>\n",
              "    <tr>\n",
              "      <th>3</th>\n",
              "      <td>882.532834</td>\n",
              "      <td>1438.458730</td>\n",
              "      <td>2037.900117</td>\n",
              "      <td>0.433060</td>\n",
              "      <td>0.705853</td>\n",
              "      <td>3.012094</td>\n",
              "      <td>0.000800</td>\n",
              "      <td>0.901365</td>\n",
              "      <td>0.210870</td>\n",
              "      <td>0.194837</td>\n",
              "      <td>...</td>\n",
              "      <td>-1.0</td>\n",
              "      <td>-1.0</td>\n",
              "      <td>-1.0</td>\n",
              "      <td>-2.0</td>\n",
              "      <td>-1.0</td>\n",
              "      <td>1.0</td>\n",
              "      <td>0.0</td>\n",
              "      <td>-3.0</td>\n",
              "      <td>-2.0</td>\n",
              "      <td>0.0</td>\n",
              "    </tr>\n",
              "    <tr>\n",
              "      <th>4</th>\n",
              "      <td>776.232018</td>\n",
              "      <td>1621.679340</td>\n",
              "      <td>2083.545226</td>\n",
              "      <td>0.372553</td>\n",
              "      <td>0.778327</td>\n",
              "      <td>3.054148</td>\n",
              "      <td>0.001003</td>\n",
              "      <td>0.928011</td>\n",
              "      <td>0.262621</td>\n",
              "      <td>0.210445</td>\n",
              "      <td>...</td>\n",
              "      <td>-1.0</td>\n",
              "      <td>-1.0</td>\n",
              "      <td>-1.0</td>\n",
              "      <td>-2.0</td>\n",
              "      <td>-1.0</td>\n",
              "      <td>1.0</td>\n",
              "      <td>0.0</td>\n",
              "      <td>-3.0</td>\n",
              "      <td>-2.0</td>\n",
              "      <td>0.0</td>\n",
              "    </tr>\n",
              "  </tbody>\n",
              "</table>\n",
              "<p>5 rows × 6211 columns</p>\n",
              "</div>"
            ],
            "text/plain": [
              "         PMI1         PMI2         PMI3      NPR1      NPR2  RadiusOfGyration  \\\n",
              "0  858.038436  1583.425000  2184.329171  0.392816  0.724902          3.102941   \n",
              "1  849.158235  1572.291482  2074.488795  0.409334  0.757918          3.059078   \n",
              "2  790.542596  1615.008980  2102.130286  0.376067  0.768273          3.063071   \n",
              "3  882.532834  1438.458730  2037.900117  0.433060  0.705853          3.012094   \n",
              "4  776.232018  1621.679340  2083.545226  0.372553  0.778327          3.054148   \n",
              "\n",
              "   InertialShapeFactor  Eccentricity  Asphericity  SpherocityIndex  ...  \\\n",
              "0             0.000845      0.919617     0.247343         0.166761  ...   \n",
              "1             0.000893      0.912385     0.225252         0.231516  ...   \n",
              "2             0.000972      0.926592     0.259586         0.201936  ...   \n",
              "3             0.000800      0.901365     0.210870         0.194837  ...   \n",
              "4             0.001003      0.928011     0.262621         0.210445  ...   \n",
              "\n",
              "   blosum62_6151  blosum62_6152  blosum62_6153  blosum62_6154  blosum62_6155  \\\n",
              "0           -1.0           -1.0           -1.0           -2.0           -1.0   \n",
              "1           -1.0           -1.0           -1.0           -2.0           -1.0   \n",
              "2           -1.0           -1.0           -1.0           -2.0           -1.0   \n",
              "3           -1.0           -1.0           -1.0           -2.0           -1.0   \n",
              "4           -1.0           -1.0           -1.0           -2.0           -1.0   \n",
              "\n",
              "   blosum62_6156  blosum62_6157  blosum62_6158  blosum62_6159  blosum62_6160  \n",
              "0            1.0            0.0           -3.0           -2.0            0.0  \n",
              "1            1.0            0.0           -3.0           -2.0            0.0  \n",
              "2            1.0            0.0           -3.0           -2.0            0.0  \n",
              "3            1.0            0.0           -3.0           -2.0            0.0  \n",
              "4            1.0            0.0           -3.0           -2.0            0.0  \n",
              "\n",
              "[5 rows x 6211 columns]"
            ]
          },
          "execution_count": 5,
          "metadata": {},
          "output_type": "execute_result"
        }
      ],
      "source": [
        "data_for_ML = pd.read_parquet(f\"{data_folder}/data_for_ML.parquet\")\n",
        "data_for_ML.head(5)\n",
        "# Generate 3d descriptors using rdkit for all 10000 molecules"
      ]
    },
    {
      "cell_type": "code",
      "execution_count": 14,
      "metadata": {},
      "outputs": [
        {
          "name": "stderr",
          "output_type": "stream",
          "text": [
            "/home/antonio.gomes/enzyme-ml/.venv/lib/python3.10/site-packages/numpy/lib/function_base.py:2897: RuntimeWarning: invalid value encountered in divide\n",
            "  c /= stddev[:, None]\n",
            "/home/antonio.gomes/enzyme-ml/.venv/lib/python3.10/site-packages/numpy/lib/function_base.py:2898: RuntimeWarning: invalid value encountered in divide\n",
            "  c /= stddev[None, :]\n"
          ]
        }
      ],
      "source": [
        "correlations_list = []\n",
        "for x in data_for_ML.columns:\n",
        "    correlation = data_for_ML[x].corr(labels)\n",
        "    correlations_list.append({\"feature\": x, \"correlation\": correlation})\n",
        "correlations_df = pd.DataFrame(correlations_list)"
      ]
    },
    {
      "cell_type": "code",
      "execution_count": 24,
      "metadata": {},
      "outputs": [],
      "source": [
        "correlations_df.sort_values(by=\"correlation\", ascending=False, inplace=True)\n",
        "top_correlated_feature = correlations_df.head(1)"
      ]
    },
    {
      "cell_type": "code",
      "execution_count": 25,
      "metadata": {},
      "outputs": [
        {
          "data": {
            "text/plain": [
              "Text(0.5, 1.0, 'NPR1 vs energy\\nCorrelation: 0.21')"
            ]
          },
          "execution_count": 25,
          "metadata": {},
          "output_type": "execute_result"
        },
        {
          "data": {
            "image/png": "[encoded data removed]",
            "text/plain": [
              "<Figure size 500x500 with 1 Axes>"
            ]
          },
          "metadata": {},
          "output_type": "display_data"
        }
      ],
      "source": [
        "\n",
        "plt.figure(figsize=(5, 5))\n",
        "sns.scatterplot(x = data_for_ML[top_correlated_feature[\"feature\"].values[0]], y = labels)\n",
        "plt.title(f\"{top_correlated_feature['feature'].values[0]} vs energy\\nCorrelation: {top_correlated_feature['correlation'].values[0]:.2f}\")\n",
        "\n"
      ]
    }
  ],
  "metadata": {
    "colab": {
      "provenance": []
    },
    "kernelspec": {
      "display_name": ".venv",
      "language": "python",
      "name": "python3"
    },
    "language_info": {
      "codemirror_mode": {
        "name": "ipython",
        "version": 3
      },
      "file_extension": ".py",
      "mimetype": "text/x-python",
      "name": "python",
      "nbconvert_exporter": "python",
      "pygments_lexer": "ipython3",
      "version": "3.10.16"
    }
  },
  "nbformat": 4,
  "nbformat_minor": 0
}
