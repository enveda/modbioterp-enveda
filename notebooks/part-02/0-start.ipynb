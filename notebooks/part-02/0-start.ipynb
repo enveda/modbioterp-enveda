{
  "cells": [
    {
      "cell_type": "code",
      "execution_count": 1,
      "metadata": {},
      "outputs": [],
      "source": [
        "#!pip install pandas scikit-learn"
      ]
    },
    {
      "cell_type": "code",
      "execution_count": 2,
      "metadata": {},
      "outputs": [],
      "source": [
        "import pandas as pd"
      ]
    },
    {
      "cell_type": "code",
      "execution_count": 3,
      "metadata": {},
      "outputs": [],
      "source": [
        "github_location = \"https://github.com/enveda/modbioterp-enveda/raw/refs/heads/main/\"\n",
        "data_folder = \"content\"\n",
        "#data_folder = \"/home/antonio.gomes/modbioterp-enveda/workshop_data\"\n",
        "PDB_FILE_LOCATION = f\"{github_location}/workshop_data/cotb2_pp_mg.pdb\""
      ]
    },
    {
      "cell_type": "code",
      "execution_count": null,
      "metadata": {},
      "outputs": [],
      "source": [
        "energies = f\"{github_location}/workshop_data/lig_1_energy.txt\"\n",
        "loaded_ligands = pd.read_csv(energies, header = None, sep=\" \")\n",
        "loaded_ligands.columns = [\"ligand\", \"energy\"]\n",
        "labels = loaded_ligands.energy"
      ]
    },
    {
      "cell_type": "code",
      "execution_count": null,
      "metadata": {},
      "outputs": [],
      "source": [
        "data_for_ML = pd.read_parquet(f\"{github_location}/workshop_data/data_for_ML.parquet\")\n",
        "data_for_ML.head(5)"
      ]
    }
  ],
  "metadata": {
    "colab": {
      "provenance": []
    },
    "kernelspec": {
      "display_name": ".venv",
      "language": "python",
      "name": "python3"
    },
    "language_info": {
      "codemirror_mode": {
        "name": "ipython",
        "version": 3
      },
      "file_extension": ".py",
      "mimetype": "text/x-python",
      "name": "python",
      "nbconvert_exporter": "python",
      "pygments_lexer": "ipython3",
      "version": "3.10.16"
    }
  },
  "nbformat": 4,
  "nbformat_minor": 0
}
